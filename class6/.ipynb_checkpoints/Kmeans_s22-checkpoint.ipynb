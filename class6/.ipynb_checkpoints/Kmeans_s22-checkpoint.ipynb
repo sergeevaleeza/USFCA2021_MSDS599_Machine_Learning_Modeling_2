{
 "cells": [
  {
   "cell_type": "code",
   "execution_count": 1,
   "id": "valid-capture",
   "metadata": {},
   "outputs": [],
   "source": [
    "import pandas as pd\n",
    "import numpy as np\n",
    "import matplotlib.pyplot as plt"
   ]
  },
  {
   "cell_type": "markdown",
   "id": "efficient-conversation",
   "metadata": {},
   "source": [
    "###### Quick example of PCR... Principal Components Regression (principal components for feature engineering)"
   ]
  },
  {
   "cell_type": "markdown",
   "id": "standard-symbol",
   "metadata": {},
   "source": [
    "Last time: We saw PCA as an approach to dimensionality reduction and data exploration. We find a new coordinate system which can facilitate visualization (PC=2 or 3) or more economically encode much of the information in the data.  "
   ]
  },
  {
   "cell_type": "markdown",
   "id": "89b9e2c7",
   "metadata": {},
   "source": [
    "We can use PCA to potentially engineer features that mighyt help in modeling. The PCs have some nice properties:\n",
    "    \n",
    "    1. They are perpendicualr to one another so have no multicolinearity in them. (Recall that Ridge and Lasso help deal with colinearity)\n",
    "    2. They reduce the number of features (since we presumably only use some of the PCs). This can increase bias and reduce variance so help with a more generalizable model.\n",
    "    3. They accomplish 2 in (presumably) an information rich way. "
   ]
  },
  {
   "cell_type": "markdown",
   "id": "d3f6ae4b",
   "metadata": {},
   "source": [
    "Try out on the dataset of 1985 to 2018 NBA players. We have stats and salaries."
   ]
  },
  {
   "cell_type": "code",
   "execution_count": 2,
   "id": "behavioral-australian",
   "metadata": {},
   "outputs": [
    {
     "data": {
      "text/html": [
       "<div>\n",
       "<style scoped>\n",
       "    .dataframe tbody tr th:only-of-type {\n",
       "        vertical-align: middle;\n",
       "    }\n",
       "\n",
       "    .dataframe tbody tr th {\n",
       "        vertical-align: top;\n",
       "    }\n",
       "\n",
       "    .dataframe thead th {\n",
       "        text-align: right;\n",
       "    }\n",
       "</style>\n",
       "<table border=\"1\" class=\"dataframe\">\n",
       "  <thead>\n",
       "    <tr style=\"text-align: right;\">\n",
       "      <th></th>\n",
       "      <th>league</th>\n",
       "      <th>player_id</th>\n",
       "      <th>salary</th>\n",
       "      <th>season</th>\n",
       "      <th>season_end</th>\n",
       "      <th>season_start</th>\n",
       "      <th>team</th>\n",
       "    </tr>\n",
       "  </thead>\n",
       "  <tbody>\n",
       "    <tr>\n",
       "      <th>0</th>\n",
       "      <td>NBA</td>\n",
       "      <td>abdelal01</td>\n",
       "      <td>395000</td>\n",
       "      <td>1990-91</td>\n",
       "      <td>1991</td>\n",
       "      <td>1990</td>\n",
       "      <td>Portland Trail Blazers</td>\n",
       "    </tr>\n",
       "    <tr>\n",
       "      <th>1</th>\n",
       "      <td>NBA</td>\n",
       "      <td>abdelal01</td>\n",
       "      <td>494000</td>\n",
       "      <td>1991-92</td>\n",
       "      <td>1992</td>\n",
       "      <td>1991</td>\n",
       "      <td>Portland Trail Blazers</td>\n",
       "    </tr>\n",
       "    <tr>\n",
       "      <th>2</th>\n",
       "      <td>NBA</td>\n",
       "      <td>abdelal01</td>\n",
       "      <td>500000</td>\n",
       "      <td>1992-93</td>\n",
       "      <td>1993</td>\n",
       "      <td>1992</td>\n",
       "      <td>Boston Celtics</td>\n",
       "    </tr>\n",
       "    <tr>\n",
       "      <th>3</th>\n",
       "      <td>NBA</td>\n",
       "      <td>abdelal01</td>\n",
       "      <td>805000</td>\n",
       "      <td>1993-94</td>\n",
       "      <td>1994</td>\n",
       "      <td>1993</td>\n",
       "      <td>Boston Celtics</td>\n",
       "    </tr>\n",
       "    <tr>\n",
       "      <th>4</th>\n",
       "      <td>NBA</td>\n",
       "      <td>abdelal01</td>\n",
       "      <td>650000</td>\n",
       "      <td>1994-95</td>\n",
       "      <td>1995</td>\n",
       "      <td>1994</td>\n",
       "      <td>Sacramento Kings</td>\n",
       "    </tr>\n",
       "  </tbody>\n",
       "</table>\n",
       "</div>"
      ],
      "text/plain": [
       "  league  player_id  salary   season  season_end  season_start  \\\n",
       "0    NBA  abdelal01  395000  1990-91        1991          1990   \n",
       "1    NBA  abdelal01  494000  1991-92        1992          1991   \n",
       "2    NBA  abdelal01  500000  1992-93        1993          1992   \n",
       "3    NBA  abdelal01  805000  1993-94        1994          1993   \n",
       "4    NBA  abdelal01  650000  1994-95        1995          1994   \n",
       "\n",
       "                     team  \n",
       "0  Portland Trail Blazers  \n",
       "1  Portland Trail Blazers  \n",
       "2          Boston Celtics  \n",
       "3          Boston Celtics  \n",
       "4        Sacramento Kings  "
      ]
     },
     "execution_count": 2,
     "metadata": {},
     "output_type": "execute_result"
    }
   ],
   "source": [
    "sal=pd.read_csv('salaries_1985to2018.csv')\n",
    "sal.head()"
   ]
  },
  {
   "cell_type": "code",
   "execution_count": 3,
   "id": "d353cb45",
   "metadata": {},
   "outputs": [
    {
     "data": {
      "text/plain": [
       "2408"
      ]
     },
     "execution_count": 3,
     "metadata": {},
     "output_type": "execute_result"
    }
   ],
   "source": [
    "len(sal.groupby('player_id').count())"
   ]
  },
  {
   "cell_type": "markdown",
   "id": "e0132365",
   "metadata": {},
   "source": [
    "So we have 2408 unique players."
   ]
  },
  {
   "cell_type": "markdown",
   "id": "portable-record",
   "metadata": {},
   "source": [
    "Cleanup (again)... get average salary per player, average of years played."
   ]
  },
  {
   "cell_type": "code",
   "execution_count": 4,
   "id": "dangerous-guide",
   "metadata": {},
   "outputs": [
    {
     "data": {
      "text/html": [
       "<div>\n",
       "<style scoped>\n",
       "    .dataframe tbody tr th:only-of-type {\n",
       "        vertical-align: middle;\n",
       "    }\n",
       "\n",
       "    .dataframe tbody tr th {\n",
       "        vertical-align: top;\n",
       "    }\n",
       "\n",
       "    .dataframe thead th {\n",
       "        text-align: right;\n",
       "    }\n",
       "</style>\n",
       "<table border=\"1\" class=\"dataframe\">\n",
       "  <thead>\n",
       "    <tr style=\"text-align: right;\">\n",
       "      <th></th>\n",
       "      <th>player_id</th>\n",
       "      <th>salary</th>\n",
       "      <th>season_end</th>\n",
       "    </tr>\n",
       "  </thead>\n",
       "  <tbody>\n",
       "    <tr>\n",
       "      <th>0</th>\n",
       "      <td>abdelal01</td>\n",
       "      <td>5.688000e+05</td>\n",
       "      <td>1993.000000</td>\n",
       "    </tr>\n",
       "    <tr>\n",
       "      <th>1</th>\n",
       "      <td>abdulka01</td>\n",
       "      <td>2.140000e+06</td>\n",
       "      <td>1987.000000</td>\n",
       "    </tr>\n",
       "    <tr>\n",
       "      <th>2</th>\n",
       "      <td>abdulma02</td>\n",
       "      <td>2.205500e+06</td>\n",
       "      <td>1995.222222</td>\n",
       "    </tr>\n",
       "    <tr>\n",
       "      <th>3</th>\n",
       "      <td>abdulta01</td>\n",
       "      <td>3.798280e+06</td>\n",
       "      <td>2002.500000</td>\n",
       "    </tr>\n",
       "    <tr>\n",
       "      <th>4</th>\n",
       "      <td>abdursh01</td>\n",
       "      <td>8.715091e+06</td>\n",
       "      <td>2003.909091</td>\n",
       "    </tr>\n",
       "  </tbody>\n",
       "</table>\n",
       "</div>"
      ],
      "text/plain": [
       "   player_id        salary   season_end\n",
       "0  abdelal01  5.688000e+05  1993.000000\n",
       "1  abdulka01  2.140000e+06  1987.000000\n",
       "2  abdulma02  2.205500e+06  1995.222222\n",
       "3  abdulta01  3.798280e+06  2002.500000\n",
       "4  abdursh01  8.715091e+06  2003.909091"
      ]
     },
     "execution_count": 4,
     "metadata": {},
     "output_type": "execute_result"
    }
   ],
   "source": [
    "sal_avg=sal.groupby('player_id',as_index=False).mean()[['player_id','salary','season_end']]\n",
    "sal_avg.head()"
   ]
  },
  {
   "cell_type": "code",
   "execution_count": 5,
   "id": "288a4479",
   "metadata": {},
   "outputs": [
    {
     "data": {
      "text/plain": [
       "(2408, 3)"
      ]
     },
     "execution_count": 5,
     "metadata": {},
     "output_type": "execute_result"
    }
   ],
   "source": [
    "sal_avg.shape"
   ]
  },
  {
   "cell_type": "markdown",
   "id": "f0663c5b",
   "metadata": {},
   "source": [
    "Import the palyer stats:"
   ]
  },
  {
   "cell_type": "code",
   "execution_count": 6,
   "id": "parliamentary-opportunity",
   "metadata": {
    "scrolled": true
   },
   "outputs": [
    {
     "data": {
      "text/html": [
       "<div>\n",
       "<style scoped>\n",
       "    .dataframe tbody tr th:only-of-type {\n",
       "        vertical-align: middle;\n",
       "    }\n",
       "\n",
       "    .dataframe tbody tr th {\n",
       "        vertical-align: top;\n",
       "    }\n",
       "\n",
       "    .dataframe thead th {\n",
       "        text-align: right;\n",
       "    }\n",
       "</style>\n",
       "<table border=\"1\" class=\"dataframe\">\n",
       "  <thead>\n",
       "    <tr style=\"text-align: right;\">\n",
       "      <th></th>\n",
       "      <th>_id</th>\n",
       "      <th>birthDate</th>\n",
       "      <th>birthPlace</th>\n",
       "      <th>career_AST</th>\n",
       "      <th>career_FG%</th>\n",
       "      <th>career_FG3%</th>\n",
       "      <th>career_FT%</th>\n",
       "      <th>career_G</th>\n",
       "      <th>career_PER</th>\n",
       "      <th>career_PTS</th>\n",
       "      <th>...</th>\n",
       "      <th>draft_pick</th>\n",
       "      <th>draft_round</th>\n",
       "      <th>draft_team</th>\n",
       "      <th>draft_year</th>\n",
       "      <th>height</th>\n",
       "      <th>highSchool</th>\n",
       "      <th>name</th>\n",
       "      <th>position</th>\n",
       "      <th>shoots</th>\n",
       "      <th>weight</th>\n",
       "    </tr>\n",
       "  </thead>\n",
       "  <tbody>\n",
       "    <tr>\n",
       "      <th>0</th>\n",
       "      <td>abdelal01</td>\n",
       "      <td>June 24, 1968</td>\n",
       "      <td>Cairo, Egypt</td>\n",
       "      <td>0.3</td>\n",
       "      <td>50.2</td>\n",
       "      <td>0.0</td>\n",
       "      <td>70.1</td>\n",
       "      <td>256</td>\n",
       "      <td>13.0</td>\n",
       "      <td>5.7</td>\n",
       "      <td>...</td>\n",
       "      <td>25th overall</td>\n",
       "      <td>1st round</td>\n",
       "      <td>Portland Trail Blazers</td>\n",
       "      <td>1990</td>\n",
       "      <td>6-10</td>\n",
       "      <td>Bloomfield in Bloomfield, New Jersey</td>\n",
       "      <td>Alaa Abdelnaby</td>\n",
       "      <td>Power Forward</td>\n",
       "      <td>Right</td>\n",
       "      <td>240lb</td>\n",
       "    </tr>\n",
       "    <tr>\n",
       "      <th>1</th>\n",
       "      <td>abdulza01</td>\n",
       "      <td>April 7, 1946</td>\n",
       "      <td>Brooklyn, New York</td>\n",
       "      <td>1.2</td>\n",
       "      <td>42.8</td>\n",
       "      <td>NaN</td>\n",
       "      <td>72.8</td>\n",
       "      <td>505</td>\n",
       "      <td>15.1</td>\n",
       "      <td>9.0</td>\n",
       "      <td>...</td>\n",
       "      <td>5th overall</td>\n",
       "      <td>1st round</td>\n",
       "      <td>Cincinnati Royals</td>\n",
       "      <td>1968</td>\n",
       "      <td>6-9</td>\n",
       "      <td>John Jay in Brooklyn, New York</td>\n",
       "      <td>Zaid Abdul-Aziz</td>\n",
       "      <td>Power Forward and Center</td>\n",
       "      <td>Right</td>\n",
       "      <td>235lb</td>\n",
       "    </tr>\n",
       "    <tr>\n",
       "      <th>2</th>\n",
       "      <td>abdulka01</td>\n",
       "      <td>April 16, 1947</td>\n",
       "      <td>New York, New York</td>\n",
       "      <td>3.6</td>\n",
       "      <td>55.9</td>\n",
       "      <td>5.6</td>\n",
       "      <td>72.1</td>\n",
       "      <td>1560</td>\n",
       "      <td>24.6</td>\n",
       "      <td>24.6</td>\n",
       "      <td>...</td>\n",
       "      <td>1st overall</td>\n",
       "      <td>1st round</td>\n",
       "      <td>Milwaukee Bucks</td>\n",
       "      <td>1969</td>\n",
       "      <td>7-2</td>\n",
       "      <td>Power Memorial in New York, New York</td>\n",
       "      <td>Kareem Abdul-Jabbar</td>\n",
       "      <td>Center</td>\n",
       "      <td>Right</td>\n",
       "      <td>225lb</td>\n",
       "    </tr>\n",
       "    <tr>\n",
       "      <th>3</th>\n",
       "      <td>abdulma02</td>\n",
       "      <td>March 9, 1969</td>\n",
       "      <td>Gulfport, Mississippi</td>\n",
       "      <td>3.5</td>\n",
       "      <td>44.2</td>\n",
       "      <td>35.4</td>\n",
       "      <td>90.5</td>\n",
       "      <td>586</td>\n",
       "      <td>15.4</td>\n",
       "      <td>14.6</td>\n",
       "      <td>...</td>\n",
       "      <td>3rd overall</td>\n",
       "      <td>1st round</td>\n",
       "      <td>Denver Nuggets</td>\n",
       "      <td>1990</td>\n",
       "      <td>6-1</td>\n",
       "      <td>Gulfport in Gulfport, Mississippi</td>\n",
       "      <td>Mahmoud Abdul-Rauf</td>\n",
       "      <td>Point Guard</td>\n",
       "      <td>Right</td>\n",
       "      <td>162lb</td>\n",
       "    </tr>\n",
       "    <tr>\n",
       "      <th>4</th>\n",
       "      <td>abdulta01</td>\n",
       "      <td>November 3, 1974</td>\n",
       "      <td>Maisons Alfort, France</td>\n",
       "      <td>1.1</td>\n",
       "      <td>41.7</td>\n",
       "      <td>23.7</td>\n",
       "      <td>70.3</td>\n",
       "      <td>236</td>\n",
       "      <td>11.4</td>\n",
       "      <td>7.8</td>\n",
       "      <td>...</td>\n",
       "      <td>11th overall</td>\n",
       "      <td>1st round</td>\n",
       "      <td>Sacramento Kings</td>\n",
       "      <td>1997</td>\n",
       "      <td>6-6</td>\n",
       "      <td>Lycee Aristide Briand in Evreux, France</td>\n",
       "      <td>Tariq Abdul-Wahad</td>\n",
       "      <td>Shooting Guard</td>\n",
       "      <td>Right</td>\n",
       "      <td>223lb</td>\n",
       "    </tr>\n",
       "  </tbody>\n",
       "</table>\n",
       "<p>5 rows × 24 columns</p>\n",
       "</div>"
      ],
      "text/plain": [
       "         _id         birthDate              birthPlace  career_AST career_FG%  \\\n",
       "0  abdelal01     June 24, 1968            Cairo, Egypt         0.3       50.2   \n",
       "1  abdulza01     April 7, 1946      Brooklyn, New York         1.2       42.8   \n",
       "2  abdulka01    April 16, 1947      New York, New York         3.6       55.9   \n",
       "3  abdulma02     March 9, 1969   Gulfport, Mississippi         3.5       44.2   \n",
       "4  abdulta01  November 3, 1974  Maisons Alfort, France         1.1       41.7   \n",
       "\n",
       "  career_FG3% career_FT%  career_G career_PER  career_PTS  ...    draft_pick  \\\n",
       "0         0.0       70.1       256       13.0         5.7  ...  25th overall   \n",
       "1         NaN       72.8       505       15.1         9.0  ...   5th overall   \n",
       "2         5.6       72.1      1560       24.6        24.6  ...   1st overall   \n",
       "3        35.4       90.5       586       15.4        14.6  ...   3rd overall   \n",
       "4        23.7       70.3       236       11.4         7.8  ...  11th overall   \n",
       "\n",
       "  draft_round              draft_team draft_year height  \\\n",
       "0   1st round  Portland Trail Blazers       1990   6-10   \n",
       "1   1st round       Cincinnati Royals       1968    6-9   \n",
       "2   1st round         Milwaukee Bucks       1969    7-2   \n",
       "3   1st round          Denver Nuggets       1990    6-1   \n",
       "4   1st round        Sacramento Kings       1997    6-6   \n",
       "\n",
       "                                highSchool                 name  \\\n",
       "0     Bloomfield in Bloomfield, New Jersey       Alaa Abdelnaby   \n",
       "1           John Jay in Brooklyn, New York      Zaid Abdul-Aziz   \n",
       "2     Power Memorial in New York, New York  Kareem Abdul-Jabbar   \n",
       "3        Gulfport in Gulfport, Mississippi   Mahmoud Abdul-Rauf   \n",
       "4  Lycee Aristide Briand in Evreux, France    Tariq Abdul-Wahad   \n",
       "\n",
       "                   position shoots weight  \n",
       "0             Power Forward  Right  240lb  \n",
       "1  Power Forward and Center  Right  235lb  \n",
       "2                    Center  Right  225lb  \n",
       "3               Point Guard  Right  162lb  \n",
       "4            Shooting Guard  Right  223lb  \n",
       "\n",
       "[5 rows x 24 columns]"
      ]
     },
     "execution_count": 6,
     "metadata": {},
     "output_type": "execute_result"
    }
   ],
   "source": [
    "pl=pd.read_csv('players.csv')\n",
    "pl.head()"
   ]
  },
  {
   "cell_type": "code",
   "execution_count": 7,
   "id": "5e3f33ce",
   "metadata": {},
   "outputs": [
    {
     "data": {
      "text/plain": [
       "(4685, 23)"
      ]
     },
     "execution_count": 7,
     "metadata": {},
     "output_type": "execute_result"
    }
   ],
   "source": [
    "pl.groupby(\"_id\").count().shape"
   ]
  },
  {
   "cell_type": "markdown",
   "id": "321af8e2",
   "metadata": {},
   "source": [
    "Have more players than salaries."
   ]
  },
  {
   "cell_type": "markdown",
   "id": "adverse-identification",
   "metadata": {},
   "source": [
    "Merge stats and salaries."
   ]
  },
  {
   "cell_type": "code",
   "execution_count": 8,
   "id": "75907a72",
   "metadata": {},
   "outputs": [],
   "source": [
    "plsal=sal_avg.merge(pl,how='left',left_on='player_id',right_on='_id')"
   ]
  },
  {
   "cell_type": "code",
   "execution_count": 9,
   "id": "8245e058",
   "metadata": {},
   "outputs": [
    {
     "data": {
      "text/plain": [
       "(2408, 27)"
      ]
     },
     "execution_count": 9,
     "metadata": {},
     "output_type": "execute_result"
    }
   ],
   "source": [
    "plsal.shape"
   ]
  },
  {
   "cell_type": "code",
   "execution_count": 10,
   "id": "sitting-valley",
   "metadata": {},
   "outputs": [
    {
     "data": {
      "text/html": [
       "<div>\n",
       "<style scoped>\n",
       "    .dataframe tbody tr th:only-of-type {\n",
       "        vertical-align: middle;\n",
       "    }\n",
       "\n",
       "    .dataframe tbody tr th {\n",
       "        vertical-align: top;\n",
       "    }\n",
       "\n",
       "    .dataframe thead th {\n",
       "        text-align: right;\n",
       "    }\n",
       "</style>\n",
       "<table border=\"1\" class=\"dataframe\">\n",
       "  <thead>\n",
       "    <tr style=\"text-align: right;\">\n",
       "      <th></th>\n",
       "      <th>player_id</th>\n",
       "      <th>salary</th>\n",
       "      <th>season_end</th>\n",
       "      <th>_id</th>\n",
       "      <th>birthDate</th>\n",
       "      <th>birthPlace</th>\n",
       "      <th>career_AST</th>\n",
       "      <th>career_FG%</th>\n",
       "      <th>career_FG3%</th>\n",
       "      <th>career_FT%</th>\n",
       "      <th>...</th>\n",
       "      <th>draft_pick</th>\n",
       "      <th>draft_round</th>\n",
       "      <th>draft_team</th>\n",
       "      <th>draft_year</th>\n",
       "      <th>height</th>\n",
       "      <th>highSchool</th>\n",
       "      <th>name</th>\n",
       "      <th>position</th>\n",
       "      <th>shoots</th>\n",
       "      <th>weight</th>\n",
       "    </tr>\n",
       "  </thead>\n",
       "  <tbody>\n",
       "    <tr>\n",
       "      <th>0</th>\n",
       "      <td>abdelal01</td>\n",
       "      <td>5.688000e+05</td>\n",
       "      <td>1993.000000</td>\n",
       "      <td>abdelal01</td>\n",
       "      <td>June 24, 1968</td>\n",
       "      <td>Cairo, Egypt</td>\n",
       "      <td>0.3</td>\n",
       "      <td>50.2</td>\n",
       "      <td>0.0</td>\n",
       "      <td>70.1</td>\n",
       "      <td>...</td>\n",
       "      <td>25th overall</td>\n",
       "      <td>1st round</td>\n",
       "      <td>Portland Trail Blazers</td>\n",
       "      <td>1990</td>\n",
       "      <td>6-10</td>\n",
       "      <td>Bloomfield in Bloomfield, New Jersey</td>\n",
       "      <td>Alaa Abdelnaby</td>\n",
       "      <td>Power Forward</td>\n",
       "      <td>Right</td>\n",
       "      <td>240lb</td>\n",
       "    </tr>\n",
       "    <tr>\n",
       "      <th>1</th>\n",
       "      <td>abdulka01</td>\n",
       "      <td>2.140000e+06</td>\n",
       "      <td>1987.000000</td>\n",
       "      <td>abdulka01</td>\n",
       "      <td>April 16, 1947</td>\n",
       "      <td>New York, New York</td>\n",
       "      <td>3.6</td>\n",
       "      <td>55.9</td>\n",
       "      <td>5.6</td>\n",
       "      <td>72.1</td>\n",
       "      <td>...</td>\n",
       "      <td>1st overall</td>\n",
       "      <td>1st round</td>\n",
       "      <td>Milwaukee Bucks</td>\n",
       "      <td>1969</td>\n",
       "      <td>7-2</td>\n",
       "      <td>Power Memorial in New York, New York</td>\n",
       "      <td>Kareem Abdul-Jabbar</td>\n",
       "      <td>Center</td>\n",
       "      <td>Right</td>\n",
       "      <td>225lb</td>\n",
       "    </tr>\n",
       "    <tr>\n",
       "      <th>2</th>\n",
       "      <td>abdulma02</td>\n",
       "      <td>2.205500e+06</td>\n",
       "      <td>1995.222222</td>\n",
       "      <td>abdulma02</td>\n",
       "      <td>March 9, 1969</td>\n",
       "      <td>Gulfport, Mississippi</td>\n",
       "      <td>3.5</td>\n",
       "      <td>44.2</td>\n",
       "      <td>35.4</td>\n",
       "      <td>90.5</td>\n",
       "      <td>...</td>\n",
       "      <td>3rd overall</td>\n",
       "      <td>1st round</td>\n",
       "      <td>Denver Nuggets</td>\n",
       "      <td>1990</td>\n",
       "      <td>6-1</td>\n",
       "      <td>Gulfport in Gulfport, Mississippi</td>\n",
       "      <td>Mahmoud Abdul-Rauf</td>\n",
       "      <td>Point Guard</td>\n",
       "      <td>Right</td>\n",
       "      <td>162lb</td>\n",
       "    </tr>\n",
       "    <tr>\n",
       "      <th>3</th>\n",
       "      <td>abdulta01</td>\n",
       "      <td>3.798280e+06</td>\n",
       "      <td>2002.500000</td>\n",
       "      <td>abdulta01</td>\n",
       "      <td>November 3, 1974</td>\n",
       "      <td>Maisons Alfort, France</td>\n",
       "      <td>1.1</td>\n",
       "      <td>41.7</td>\n",
       "      <td>23.7</td>\n",
       "      <td>70.3</td>\n",
       "      <td>...</td>\n",
       "      <td>11th overall</td>\n",
       "      <td>1st round</td>\n",
       "      <td>Sacramento Kings</td>\n",
       "      <td>1997</td>\n",
       "      <td>6-6</td>\n",
       "      <td>Lycee Aristide Briand in Evreux, France</td>\n",
       "      <td>Tariq Abdul-Wahad</td>\n",
       "      <td>Shooting Guard</td>\n",
       "      <td>Right</td>\n",
       "      <td>223lb</td>\n",
       "    </tr>\n",
       "    <tr>\n",
       "      <th>4</th>\n",
       "      <td>abdursh01</td>\n",
       "      <td>8.715091e+06</td>\n",
       "      <td>2003.909091</td>\n",
       "      <td>abdursh01</td>\n",
       "      <td>December 11, 1976</td>\n",
       "      <td>Marietta, Georgia</td>\n",
       "      <td>2.5</td>\n",
       "      <td>47.2</td>\n",
       "      <td>29.7</td>\n",
       "      <td>81.0</td>\n",
       "      <td>...</td>\n",
       "      <td>3rd overall</td>\n",
       "      <td>1st round</td>\n",
       "      <td>Vancouver Grizzlies</td>\n",
       "      <td>1996</td>\n",
       "      <td>6-9</td>\n",
       "      <td>Wheeler in Marietta, Georgia</td>\n",
       "      <td>Shareef Abdur-Rahim</td>\n",
       "      <td>Center and Small Forward and Power Forward</td>\n",
       "      <td>Right</td>\n",
       "      <td>225lb</td>\n",
       "    </tr>\n",
       "  </tbody>\n",
       "</table>\n",
       "<p>5 rows × 27 columns</p>\n",
       "</div>"
      ],
      "text/plain": [
       "   player_id        salary   season_end        _id          birthDate  \\\n",
       "0  abdelal01  5.688000e+05  1993.000000  abdelal01      June 24, 1968   \n",
       "1  abdulka01  2.140000e+06  1987.000000  abdulka01     April 16, 1947   \n",
       "2  abdulma02  2.205500e+06  1995.222222  abdulma02      March 9, 1969   \n",
       "3  abdulta01  3.798280e+06  2002.500000  abdulta01   November 3, 1974   \n",
       "4  abdursh01  8.715091e+06  2003.909091  abdursh01  December 11, 1976   \n",
       "\n",
       "               birthPlace  career_AST career_FG% career_FG3% career_FT%  ...  \\\n",
       "0            Cairo, Egypt         0.3       50.2         0.0       70.1  ...   \n",
       "1      New York, New York         3.6       55.9         5.6       72.1  ...   \n",
       "2   Gulfport, Mississippi         3.5       44.2        35.4       90.5  ...   \n",
       "3  Maisons Alfort, France         1.1       41.7        23.7       70.3  ...   \n",
       "4       Marietta, Georgia         2.5       47.2        29.7       81.0  ...   \n",
       "\n",
       "     draft_pick draft_round              draft_team draft_year height  \\\n",
       "0  25th overall   1st round  Portland Trail Blazers       1990   6-10   \n",
       "1   1st overall   1st round         Milwaukee Bucks       1969    7-2   \n",
       "2   3rd overall   1st round          Denver Nuggets       1990    6-1   \n",
       "3  11th overall   1st round        Sacramento Kings       1997    6-6   \n",
       "4   3rd overall   1st round     Vancouver Grizzlies       1996    6-9   \n",
       "\n",
       "                                highSchool                 name  \\\n",
       "0     Bloomfield in Bloomfield, New Jersey       Alaa Abdelnaby   \n",
       "1     Power Memorial in New York, New York  Kareem Abdul-Jabbar   \n",
       "2        Gulfport in Gulfport, Mississippi   Mahmoud Abdul-Rauf   \n",
       "3  Lycee Aristide Briand in Evreux, France    Tariq Abdul-Wahad   \n",
       "4             Wheeler in Marietta, Georgia  Shareef Abdur-Rahim   \n",
       "\n",
       "                                     position shoots weight  \n",
       "0                               Power Forward  Right  240lb  \n",
       "1                                      Center  Right  225lb  \n",
       "2                                 Point Guard  Right  162lb  \n",
       "3                              Shooting Guard  Right  223lb  \n",
       "4  Center and Small Forward and Power Forward  Right  225lb  \n",
       "\n",
       "[5 rows x 27 columns]"
      ]
     },
     "execution_count": 10,
     "metadata": {},
     "output_type": "execute_result"
    }
   ],
   "source": [
    "plsal.head()"
   ]
  },
  {
   "cell_type": "code",
   "execution_count": 11,
   "id": "unlimited-australian",
   "metadata": {},
   "outputs": [
    {
     "data": {
      "text/plain": [
       "player_id        0\n",
       "salary           0\n",
       "season_end       0\n",
       "_id              0\n",
       "birthDate        0\n",
       "birthPlace       0\n",
       "career_AST       0\n",
       "career_FG%       0\n",
       "career_FG3%      0\n",
       "career_FT%       0\n",
       "career_G         0\n",
       "career_PER       0\n",
       "career_PTS       0\n",
       "career_TRB       0\n",
       "career_WS        0\n",
       "career_eFG%      0\n",
       "college        269\n",
       "draft_pick     524\n",
       "draft_round    524\n",
       "draft_team     524\n",
       "draft_year     524\n",
       "height           0\n",
       "highSchool     208\n",
       "name             0\n",
       "position         0\n",
       "shoots           0\n",
       "weight           0\n",
       "dtype: int64"
      ]
     },
     "execution_count": 11,
     "metadata": {},
     "output_type": "execute_result"
    }
   ],
   "source": [
    "plsal.isna().sum()"
   ]
  },
  {
   "cell_type": "code",
   "execution_count": 12,
   "id": "guided-refund",
   "metadata": {},
   "outputs": [
    {
     "data": {
      "text/plain": [
       "player_id       object\n",
       "salary         float64\n",
       "season_end     float64\n",
       "_id             object\n",
       "birthDate       object\n",
       "birthPlace      object\n",
       "career_AST     float64\n",
       "career_FG%      object\n",
       "career_FG3%     object\n",
       "career_FT%      object\n",
       "career_G         int64\n",
       "career_PER      object\n",
       "career_PTS     float64\n",
       "career_TRB      object\n",
       "career_WS       object\n",
       "career_eFG%     object\n",
       "college         object\n",
       "draft_pick      object\n",
       "draft_round     object\n",
       "draft_team      object\n",
       "draft_year      object\n",
       "height          object\n",
       "highSchool      object\n",
       "name            object\n",
       "position        object\n",
       "shoots          object\n",
       "weight          object\n",
       "dtype: object"
      ]
     },
     "execution_count": 12,
     "metadata": {},
     "output_type": "execute_result"
    }
   ],
   "source": [
    "plsal.dtypes"
   ]
  },
  {
   "cell_type": "markdown",
   "id": "furnished-perception",
   "metadata": {},
   "source": [
    "Lots of columns are encoded as object types rather than numerical which is an issue for ```sklearn```. We'll need to fix. Also, PCA needs EVERYTHING to be numeric. Also, Height and weight have issues..."
   ]
  },
  {
   "cell_type": "code",
   "execution_count": 13,
   "id": "pleased-cassette",
   "metadata": {},
   "outputs": [
    {
     "data": {
      "text/html": [
       "<div>\n",
       "<style scoped>\n",
       "    .dataframe tbody tr th:only-of-type {\n",
       "        vertical-align: middle;\n",
       "    }\n",
       "\n",
       "    .dataframe tbody tr th {\n",
       "        vertical-align: top;\n",
       "    }\n",
       "\n",
       "    .dataframe thead th {\n",
       "        text-align: right;\n",
       "    }\n",
       "</style>\n",
       "<table border=\"1\" class=\"dataframe\">\n",
       "  <thead>\n",
       "    <tr style=\"text-align: right;\">\n",
       "      <th></th>\n",
       "      <th>height</th>\n",
       "      <th>weight</th>\n",
       "    </tr>\n",
       "  </thead>\n",
       "  <tbody>\n",
       "    <tr>\n",
       "      <th>0</th>\n",
       "      <td>6-10</td>\n",
       "      <td>240lb</td>\n",
       "    </tr>\n",
       "    <tr>\n",
       "      <th>1</th>\n",
       "      <td>7-2</td>\n",
       "      <td>225lb</td>\n",
       "    </tr>\n",
       "    <tr>\n",
       "      <th>2</th>\n",
       "      <td>6-1</td>\n",
       "      <td>162lb</td>\n",
       "    </tr>\n",
       "    <tr>\n",
       "      <th>3</th>\n",
       "      <td>6-6</td>\n",
       "      <td>223lb</td>\n",
       "    </tr>\n",
       "    <tr>\n",
       "      <th>4</th>\n",
       "      <td>6-9</td>\n",
       "      <td>225lb</td>\n",
       "    </tr>\n",
       "  </tbody>\n",
       "</table>\n",
       "</div>"
      ],
      "text/plain": [
       "  height weight\n",
       "0   6-10  240lb\n",
       "1    7-2  225lb\n",
       "2    6-1  162lb\n",
       "3    6-6  223lb\n",
       "4    6-9  225lb"
      ]
     },
     "execution_count": 13,
     "metadata": {},
     "output_type": "execute_result"
    }
   ],
   "source": [
    "plsal[['height','weight']].head()"
   ]
  },
  {
   "cell_type": "markdown",
   "id": "sublime-accent",
   "metadata": {},
   "source": [
    "We need to make these numbers..."
   ]
  },
  {
   "cell_type": "code",
   "execution_count": 14,
   "id": "expired-database",
   "metadata": {},
   "outputs": [],
   "source": [
    "def num_ht(row):\n",
    "    return int(row['height'].split(\"-\")[0])*12+int(row['height'].split(\"-\")[1])\n",
    "def num_wt(row):\n",
    "    return int(row['weight'].split(\"lb\")[0])"
   ]
  },
  {
   "cell_type": "code",
   "execution_count": 15,
   "id": "romantic-revolution",
   "metadata": {},
   "outputs": [],
   "source": [
    "plsal['num_ht']=plsal.apply(num_ht,axis=1)\n",
    "plsal['num_wt']=plsal.apply(num_wt,axis=1)"
   ]
  },
  {
   "cell_type": "code",
   "execution_count": 16,
   "id": "applicable-motel",
   "metadata": {},
   "outputs": [
    {
     "data": {
      "text/html": [
       "<div>\n",
       "<style scoped>\n",
       "    .dataframe tbody tr th:only-of-type {\n",
       "        vertical-align: middle;\n",
       "    }\n",
       "\n",
       "    .dataframe tbody tr th {\n",
       "        vertical-align: top;\n",
       "    }\n",
       "\n",
       "    .dataframe thead th {\n",
       "        text-align: right;\n",
       "    }\n",
       "</style>\n",
       "<table border=\"1\" class=\"dataframe\">\n",
       "  <thead>\n",
       "    <tr style=\"text-align: right;\">\n",
       "      <th></th>\n",
       "      <th>num_ht</th>\n",
       "      <th>num_wt</th>\n",
       "    </tr>\n",
       "  </thead>\n",
       "  <tbody>\n",
       "    <tr>\n",
       "      <th>0</th>\n",
       "      <td>82</td>\n",
       "      <td>240</td>\n",
       "    </tr>\n",
       "    <tr>\n",
       "      <th>1</th>\n",
       "      <td>86</td>\n",
       "      <td>225</td>\n",
       "    </tr>\n",
       "    <tr>\n",
       "      <th>2</th>\n",
       "      <td>73</td>\n",
       "      <td>162</td>\n",
       "    </tr>\n",
       "    <tr>\n",
       "      <th>3</th>\n",
       "      <td>78</td>\n",
       "      <td>223</td>\n",
       "    </tr>\n",
       "    <tr>\n",
       "      <th>4</th>\n",
       "      <td>81</td>\n",
       "      <td>225</td>\n",
       "    </tr>\n",
       "  </tbody>\n",
       "</table>\n",
       "</div>"
      ],
      "text/plain": [
       "   num_ht  num_wt\n",
       "0      82     240\n",
       "1      86     225\n",
       "2      73     162\n",
       "3      78     223\n",
       "4      81     225"
      ]
     },
     "execution_count": 16,
     "metadata": {},
     "output_type": "execute_result"
    }
   ],
   "source": [
    "plsal[['num_ht','num_wt']].head()"
   ]
  },
  {
   "cell_type": "markdown",
   "id": "elementary-trading",
   "metadata": {},
   "source": [
    "Let's think about which columns we want to predict salary. Probably not high school, birthdate, etc."
   ]
  },
  {
   "cell_type": "code",
   "execution_count": 17,
   "id": "anticipated-mortgage",
   "metadata": {},
   "outputs": [
    {
     "data": {
      "text/plain": [
       "Index(['player_id', 'salary', 'season_end', '_id', 'birthDate', 'birthPlace',\n",
       "       'career_AST', 'career_FG%', 'career_FG3%', 'career_FT%', 'career_G',\n",
       "       'career_PER', 'career_PTS', 'career_TRB', 'career_WS', 'career_eFG%',\n",
       "       'college', 'draft_pick', 'draft_round', 'draft_team', 'draft_year',\n",
       "       'height', 'highSchool', 'name', 'position', 'shoots', 'weight',\n",
       "       'num_ht', 'num_wt'],\n",
       "      dtype='object')"
      ]
     },
     "execution_count": 17,
     "metadata": {},
     "output_type": "execute_result"
    }
   ],
   "source": [
    "plsal.columns"
   ]
  },
  {
   "cell_type": "markdown",
   "id": "honey-injection",
   "metadata": {},
   "source": [
    "Note: \n",
    "\n",
    "1. Position might be meaningful to salary. For example, are centers more valuable because there are fewer? But if we want to do PCA we need all numeric features so we have to drop it or think of a way to encode it. Drop for now.\n",
    "2. Draft pick seems very likely relevant top salary. It's currently a text field (e.g. \"3rd overall\") but we could certainly engineer a feature from that with some regex work. \n",
    "3. Draft year could also be relevant but is missing in many cases and is likely correlated with season_end."
   ]
  },
  {
   "cell_type": "code",
   "execution_count": 18,
   "id": "5fc62571",
   "metadata": {},
   "outputs": [],
   "source": [
    "cols=['player_id','name', 'salary', 'season_end',\n",
    "       'career_AST', 'career_FG%', 'career_FG3%', 'career_FT%', 'career_G',\n",
    "       'career_PER', 'career_PTS', 'career_TRB', 'career_WS', 'career_eFG%',\n",
    "       'num_ht', 'num_wt']"
   ]
  },
  {
   "cell_type": "code",
   "execution_count": 19,
   "id": "responsible-productivity",
   "metadata": {},
   "outputs": [],
   "source": [
    "df=plsal[cols].copy()"
   ]
  },
  {
   "cell_type": "code",
   "execution_count": 20,
   "id": "agricultural-conviction",
   "metadata": {},
   "outputs": [
    {
     "data": {
      "text/plain": [
       "player_id       object\n",
       "name            object\n",
       "salary         float64\n",
       "season_end     float64\n",
       "career_AST     float64\n",
       "career_FG%      object\n",
       "career_FG3%     object\n",
       "career_FT%      object\n",
       "career_G         int64\n",
       "career_PER      object\n",
       "career_PTS     float64\n",
       "career_TRB      object\n",
       "career_WS       object\n",
       "career_eFG%     object\n",
       "num_ht           int64\n",
       "num_wt           int64\n",
       "dtype: object"
      ]
     },
     "execution_count": 20,
     "metadata": {},
     "output_type": "execute_result"
    }
   ],
   "source": [
    "df.dtypes"
   ]
  },
  {
   "cell_type": "markdown",
   "id": "devoted-roulette",
   "metadata": {},
   "source": [
    "Force to numeric dtype. This can cause errors which will become NaN."
   ]
  },
  {
   "cell_type": "code",
   "execution_count": 21,
   "id": "included-material",
   "metadata": {},
   "outputs": [],
   "source": [
    "df[['career_FG%', 'career_FG3%', 'career_FT%','career_PER', 'career_TRB', 'career_WS', 'career_eFG%',]]=df[['career_FG%', 'career_FG3%', 'career_FT%','career_PER', 'career_TRB', 'career_WS', 'career_eFG%',]].apply(pd.to_numeric, errors='coerce')"
   ]
  },
  {
   "cell_type": "code",
   "execution_count": 22,
   "id": "nonprofit-price",
   "metadata": {},
   "outputs": [
    {
     "data": {
      "text/plain": [
       "player_id       object\n",
       "name            object\n",
       "salary         float64\n",
       "season_end     float64\n",
       "career_AST     float64\n",
       "career_FG%     float64\n",
       "career_FG3%    float64\n",
       "career_FT%     float64\n",
       "career_G         int64\n",
       "career_PER     float64\n",
       "career_PTS     float64\n",
       "career_TRB     float64\n",
       "career_WS      float64\n",
       "career_eFG%    float64\n",
       "num_ht           int64\n",
       "num_wt           int64\n",
       "dtype: object"
      ]
     },
     "execution_count": 22,
     "metadata": {},
     "output_type": "execute_result"
    }
   ],
   "source": [
    "df.dtypes"
   ]
  },
  {
   "cell_type": "code",
   "execution_count": 23,
   "id": "acting-smell",
   "metadata": {},
   "outputs": [
    {
     "data": {
      "text/plain": [
       "player_id        0\n",
       "name             0\n",
       "salary           0\n",
       "season_end       0\n",
       "career_AST       0\n",
       "career_FG%       9\n",
       "career_FG3%    219\n",
       "career_FT%      69\n",
       "career_G         0\n",
       "career_PER       2\n",
       "career_PTS       0\n",
       "career_TRB       0\n",
       "career_WS        0\n",
       "career_eFG%      9\n",
       "num_ht           0\n",
       "num_wt           0\n",
       "dtype: int64"
      ]
     },
     "execution_count": 23,
     "metadata": {},
     "output_type": "execute_result"
    }
   ],
   "source": [
    "df.isna().sum()"
   ]
  },
  {
   "cell_type": "markdown",
   "id": "fdb5177f",
   "metadata": {},
   "source": [
    "Probably some folks just never played much (FT% is undefined, i.e., never attempted a free throw. Or, never attempted 3s... possible those folks did play significantly, but were not outside shooters.)"
   ]
  },
  {
   "cell_type": "code",
   "execution_count": 24,
   "id": "d791be0f",
   "metadata": {},
   "outputs": [
    {
     "data": {
      "text/html": [
       "<div>\n",
       "<style scoped>\n",
       "    .dataframe tbody tr th:only-of-type {\n",
       "        vertical-align: middle;\n",
       "    }\n",
       "\n",
       "    .dataframe tbody tr th {\n",
       "        vertical-align: top;\n",
       "    }\n",
       "\n",
       "    .dataframe thead th {\n",
       "        text-align: right;\n",
       "    }\n",
       "</style>\n",
       "<table border=\"1\" class=\"dataframe\">\n",
       "  <thead>\n",
       "    <tr style=\"text-align: right;\">\n",
       "      <th></th>\n",
       "      <th>player_id</th>\n",
       "      <th>name</th>\n",
       "      <th>salary</th>\n",
       "      <th>season_end</th>\n",
       "      <th>career_AST</th>\n",
       "      <th>career_FG%</th>\n",
       "      <th>career_FG3%</th>\n",
       "      <th>career_FT%</th>\n",
       "      <th>career_G</th>\n",
       "      <th>career_PER</th>\n",
       "      <th>career_PTS</th>\n",
       "      <th>career_TRB</th>\n",
       "      <th>career_WS</th>\n",
       "      <th>career_eFG%</th>\n",
       "      <th>num_ht</th>\n",
       "      <th>num_wt</th>\n",
       "    </tr>\n",
       "  </thead>\n",
       "  <tbody>\n",
       "    <tr>\n",
       "      <th>23</th>\n",
       "      <td>akognjo01</td>\n",
       "      <td>Josh Akognon</td>\n",
       "      <td>788872.0</td>\n",
       "      <td>2014.0</td>\n",
       "      <td>0.3</td>\n",
       "      <td>50.0</td>\n",
       "      <td>50.0</td>\n",
       "      <td>NaN</td>\n",
       "      <td>3</td>\n",
       "      <td>15.3</td>\n",
       "      <td>1.7</td>\n",
       "      <td>0.3</td>\n",
       "      <td>0.0</td>\n",
       "      <td>62.5</td>\n",
       "      <td>71</td>\n",
       "      <td>185</td>\n",
       "    </tr>\n",
       "    <tr>\n",
       "      <th>29</th>\n",
       "      <td>alexacl01</td>\n",
       "      <td>Cliff Alexander</td>\n",
       "      <td>288271.0</td>\n",
       "      <td>2016.5</td>\n",
       "      <td>0.0</td>\n",
       "      <td>50.0</td>\n",
       "      <td>NaN</td>\n",
       "      <td>NaN</td>\n",
       "      <td>8</td>\n",
       "      <td>11.6</td>\n",
       "      <td>1.3</td>\n",
       "      <td>0.8</td>\n",
       "      <td>0.0</td>\n",
       "      <td>50.0</td>\n",
       "      <td>80</td>\n",
       "      <td>245</td>\n",
       "    </tr>\n",
       "    <tr>\n",
       "      <th>65</th>\n",
       "      <td>andrima01</td>\n",
       "      <td>Martynas Andriuskevicius</td>\n",
       "      <td>531485.5</td>\n",
       "      <td>2006.5</td>\n",
       "      <td>0.0</td>\n",
       "      <td>0.0</td>\n",
       "      <td>NaN</td>\n",
       "      <td>NaN</td>\n",
       "      <td>6</td>\n",
       "      <td>15.5</td>\n",
       "      <td>0.0</td>\n",
       "      <td>0.7</td>\n",
       "      <td>0.0</td>\n",
       "      <td>0.0</td>\n",
       "      <td>86</td>\n",
       "      <td>240</td>\n",
       "    </tr>\n",
       "    <tr>\n",
       "      <th>70</th>\n",
       "      <td>antetth01</td>\n",
       "      <td>Thanasis Antetokounmpo</td>\n",
       "      <td>105888.0</td>\n",
       "      <td>2016.0</td>\n",
       "      <td>0.0</td>\n",
       "      <td>75.0</td>\n",
       "      <td>0.0</td>\n",
       "      <td>NaN</td>\n",
       "      <td>2</td>\n",
       "      <td>32.9</td>\n",
       "      <td>3.0</td>\n",
       "      <td>0.5</td>\n",
       "      <td>0.0</td>\n",
       "      <td>75.0</td>\n",
       "      <td>79</td>\n",
       "      <td>205</td>\n",
       "    </tr>\n",
       "    <tr>\n",
       "      <th>100</th>\n",
       "      <td>babbch01</td>\n",
       "      <td>Chris Babb</td>\n",
       "      <td>48028.0</td>\n",
       "      <td>2015.0</td>\n",
       "      <td>0.2</td>\n",
       "      <td>26.7</td>\n",
       "      <td>22.2</td>\n",
       "      <td>NaN</td>\n",
       "      <td>14</td>\n",
       "      <td>3.7</td>\n",
       "      <td>1.6</td>\n",
       "      <td>1.2</td>\n",
       "      <td>0.0</td>\n",
       "      <td>36.7</td>\n",
       "      <td>77</td>\n",
       "      <td>225</td>\n",
       "    </tr>\n",
       "  </tbody>\n",
       "</table>\n",
       "</div>"
      ],
      "text/plain": [
       "     player_id                      name    salary  season_end  career_AST  \\\n",
       "23   akognjo01              Josh Akognon  788872.0      2014.0         0.3   \n",
       "29   alexacl01           Cliff Alexander  288271.0      2016.5         0.0   \n",
       "65   andrima01  Martynas Andriuskevicius  531485.5      2006.5         0.0   \n",
       "70   antetth01    Thanasis Antetokounmpo  105888.0      2016.0         0.0   \n",
       "100   babbch01                Chris Babb   48028.0      2015.0         0.2   \n",
       "\n",
       "     career_FG%  career_FG3%  career_FT%  career_G  career_PER  career_PTS  \\\n",
       "23         50.0         50.0         NaN         3        15.3         1.7   \n",
       "29         50.0          NaN         NaN         8        11.6         1.3   \n",
       "65          0.0          NaN         NaN         6        15.5         0.0   \n",
       "70         75.0          0.0         NaN         2        32.9         3.0   \n",
       "100        26.7         22.2         NaN        14         3.7         1.6   \n",
       "\n",
       "     career_TRB  career_WS  career_eFG%  num_ht  num_wt  \n",
       "23          0.3        0.0         62.5      71     185  \n",
       "29          0.8        0.0         50.0      80     245  \n",
       "65          0.7        0.0          0.0      86     240  \n",
       "70          0.5        0.0         75.0      79     205  \n",
       "100         1.2        0.0         36.7      77     225  "
      ]
     },
     "execution_count": 24,
     "metadata": {},
     "output_type": "execute_result"
    }
   ],
   "source": [
    "df[df['career_FT%'].isna()].head()"
   ]
  },
  {
   "cell_type": "code",
   "execution_count": 25,
   "id": "postal-belle",
   "metadata": {},
   "outputs": [
    {
     "data": {
      "text/html": [
       "<div>\n",
       "<style scoped>\n",
       "    .dataframe tbody tr th:only-of-type {\n",
       "        vertical-align: middle;\n",
       "    }\n",
       "\n",
       "    .dataframe tbody tr th {\n",
       "        vertical-align: top;\n",
       "    }\n",
       "\n",
       "    .dataframe thead th {\n",
       "        text-align: right;\n",
       "    }\n",
       "</style>\n",
       "<table border=\"1\" class=\"dataframe\">\n",
       "  <thead>\n",
       "    <tr style=\"text-align: right;\">\n",
       "      <th></th>\n",
       "      <th>player_id</th>\n",
       "      <th>name</th>\n",
       "      <th>salary</th>\n",
       "      <th>season_end</th>\n",
       "      <th>career_AST</th>\n",
       "      <th>career_FG%</th>\n",
       "      <th>career_FG3%</th>\n",
       "      <th>career_FT%</th>\n",
       "      <th>career_G</th>\n",
       "      <th>career_PER</th>\n",
       "      <th>career_PTS</th>\n",
       "      <th>career_TRB</th>\n",
       "      <th>career_WS</th>\n",
       "      <th>career_eFG%</th>\n",
       "      <th>num_ht</th>\n",
       "      <th>num_wt</th>\n",
       "    </tr>\n",
       "  </thead>\n",
       "  <tbody>\n",
       "    <tr>\n",
       "      <th>24</th>\n",
       "      <td>alabiso01</td>\n",
       "      <td>Solomon Alabi</td>\n",
       "      <td>8.000000e+05</td>\n",
       "      <td>2011.500000</td>\n",
       "      <td>0.2</td>\n",
       "      <td>31.4</td>\n",
       "      <td>NaN</td>\n",
       "      <td>70.0</td>\n",
       "      <td>26</td>\n",
       "      <td>10.3</td>\n",
       "      <td>1.5</td>\n",
       "      <td>2.3</td>\n",
       "      <td>0.0</td>\n",
       "      <td>31.4</td>\n",
       "      <td>85</td>\n",
       "      <td>251</td>\n",
       "    </tr>\n",
       "    <tr>\n",
       "      <th>27</th>\n",
       "      <td>aldrico01</td>\n",
       "      <td>Cole Aldrich</td>\n",
       "      <td>3.411952e+06</td>\n",
       "      <td>2014.571429</td>\n",
       "      <td>0.5</td>\n",
       "      <td>52.7</td>\n",
       "      <td>NaN</td>\n",
       "      <td>73.8</td>\n",
       "      <td>339</td>\n",
       "      <td>16.6</td>\n",
       "      <td>3.1</td>\n",
       "      <td>3.3</td>\n",
       "      <td>9.6</td>\n",
       "      <td>52.7</td>\n",
       "      <td>83</td>\n",
       "      <td>250</td>\n",
       "    </tr>\n",
       "    <tr>\n",
       "      <th>29</th>\n",
       "      <td>alexacl01</td>\n",
       "      <td>Cliff Alexander</td>\n",
       "      <td>2.882710e+05</td>\n",
       "      <td>2016.500000</td>\n",
       "      <td>0.0</td>\n",
       "      <td>50.0</td>\n",
       "      <td>NaN</td>\n",
       "      <td>NaN</td>\n",
       "      <td>8</td>\n",
       "      <td>11.6</td>\n",
       "      <td>1.3</td>\n",
       "      <td>0.8</td>\n",
       "      <td>0.0</td>\n",
       "      <td>50.0</td>\n",
       "      <td>80</td>\n",
       "      <td>245</td>\n",
       "    </tr>\n",
       "    <tr>\n",
       "      <th>32</th>\n",
       "      <td>alexaga01</td>\n",
       "      <td>Gary Alexander</td>\n",
       "      <td>1.500000e+05</td>\n",
       "      <td>1995.000000</td>\n",
       "      <td>0.2</td>\n",
       "      <td>57.1</td>\n",
       "      <td>NaN</td>\n",
       "      <td>33.3</td>\n",
       "      <td>11</td>\n",
       "      <td>8.6</td>\n",
       "      <td>1.7</td>\n",
       "      <td>1.4</td>\n",
       "      <td>0.0</td>\n",
       "      <td>57.1</td>\n",
       "      <td>79</td>\n",
       "      <td>240</td>\n",
       "    </tr>\n",
       "    <tr>\n",
       "      <th>65</th>\n",
       "      <td>andrima01</td>\n",
       "      <td>Martynas Andriuskevicius</td>\n",
       "      <td>5.314855e+05</td>\n",
       "      <td>2006.500000</td>\n",
       "      <td>0.0</td>\n",
       "      <td>0.0</td>\n",
       "      <td>NaN</td>\n",
       "      <td>NaN</td>\n",
       "      <td>6</td>\n",
       "      <td>15.5</td>\n",
       "      <td>0.0</td>\n",
       "      <td>0.7</td>\n",
       "      <td>0.0</td>\n",
       "      <td>0.0</td>\n",
       "      <td>86</td>\n",
       "      <td>240</td>\n",
       "    </tr>\n",
       "  </tbody>\n",
       "</table>\n",
       "</div>"
      ],
      "text/plain": [
       "    player_id                      name        salary   season_end  \\\n",
       "24  alabiso01             Solomon Alabi  8.000000e+05  2011.500000   \n",
       "27  aldrico01              Cole Aldrich  3.411952e+06  2014.571429   \n",
       "29  alexacl01           Cliff Alexander  2.882710e+05  2016.500000   \n",
       "32  alexaga01            Gary Alexander  1.500000e+05  1995.000000   \n",
       "65  andrima01  Martynas Andriuskevicius  5.314855e+05  2006.500000   \n",
       "\n",
       "    career_AST  career_FG%  career_FG3%  career_FT%  career_G  career_PER  \\\n",
       "24         0.2        31.4          NaN        70.0        26        10.3   \n",
       "27         0.5        52.7          NaN        73.8       339        16.6   \n",
       "29         0.0        50.0          NaN         NaN         8        11.6   \n",
       "32         0.2        57.1          NaN        33.3        11         8.6   \n",
       "65         0.0         0.0          NaN         NaN         6        15.5   \n",
       "\n",
       "    career_PTS  career_TRB  career_WS  career_eFG%  num_ht  num_wt  \n",
       "24         1.5         2.3        0.0         31.4      85     251  \n",
       "27         3.1         3.3        9.6         52.7      83     250  \n",
       "29         1.3         0.8        0.0         50.0      80     245  \n",
       "32         1.7         1.4        0.0         57.1      79     240  \n",
       "65         0.0         0.7        0.0          0.0      86     240  "
      ]
     },
     "execution_count": 25,
     "metadata": {},
     "output_type": "execute_result"
    }
   ],
   "source": [
    "df[df['career_FG3%'].isna()].head()"
   ]
  },
  {
   "cell_type": "markdown",
   "id": "addressed-stand",
   "metadata": {},
   "source": [
    "Many of these are players who didn't attempt any 3P shots. Options... convert to 0, drop from data, only use eFG%?"
   ]
  },
  {
   "cell_type": "markdown",
   "id": "8204131e",
   "metadata": {},
   "source": [
    "Also, it may make sense to filter on players having played at least some minimum number of games?"
   ]
  },
  {
   "cell_type": "code",
   "execution_count": 26,
   "id": "24616e35",
   "metadata": {},
   "outputs": [
    {
     "data": {
      "text/plain": [
       "count    2408.000000\n",
       "mean      367.612957\n",
       "std       341.375123\n",
       "min         1.000000\n",
       "25%        69.000000\n",
       "50%       255.000000\n",
       "75%       612.000000\n",
       "max      1611.000000\n",
       "Name: career_G, dtype: float64"
      ]
     },
     "execution_count": 26,
     "metadata": {},
     "output_type": "execute_result"
    }
   ],
   "source": [
    "df['career_G'].describe()"
   ]
  },
  {
   "cell_type": "code",
   "execution_count": 27,
   "id": "ad0a99b5",
   "metadata": {},
   "outputs": [],
   "source": [
    "#Questionable...\n",
    "df=df[df['career_G']>=50].copy()"
   ]
  },
  {
   "cell_type": "code",
   "execution_count": 28,
   "id": "advanced-veteran",
   "metadata": {},
   "outputs": [],
   "source": [
    "df['career_FG3%'].fillna(0,inplace=True)"
   ]
  },
  {
   "cell_type": "code",
   "execution_count": 29,
   "id": "dutch-testimony",
   "metadata": {},
   "outputs": [
    {
     "data": {
      "text/plain": [
       "player_id      0\n",
       "name           0\n",
       "salary         0\n",
       "season_end     0\n",
       "career_AST     0\n",
       "career_FG%     0\n",
       "career_FG3%    0\n",
       "career_FT%     0\n",
       "career_G       0\n",
       "career_PER     0\n",
       "career_PTS     0\n",
       "career_TRB     0\n",
       "career_WS      0\n",
       "career_eFG%    0\n",
       "num_ht         0\n",
       "num_wt         0\n",
       "dtype: int64"
      ]
     },
     "execution_count": 29,
     "metadata": {},
     "output_type": "execute_result"
    }
   ],
   "source": [
    "df.isna().sum()"
   ]
  },
  {
   "cell_type": "markdown",
   "id": "proper-virgin",
   "metadata": {},
   "source": [
    "These players played very few games in general. This suggests another issue with the data -- FG percentages and other stats like PER for small sample size players are highly unreliable. Probably more cleaning is in order to resolve this -- but we'll just move on for now."
   ]
  },
  {
   "cell_type": "code",
   "execution_count": 30,
   "id": "structured-mortality",
   "metadata": {},
   "outputs": [
    {
     "data": {
      "text/html": [
       "<div>\n",
       "<style scoped>\n",
       "    .dataframe tbody tr th:only-of-type {\n",
       "        vertical-align: middle;\n",
       "    }\n",
       "\n",
       "    .dataframe tbody tr th {\n",
       "        vertical-align: top;\n",
       "    }\n",
       "\n",
       "    .dataframe thead th {\n",
       "        text-align: right;\n",
       "    }\n",
       "</style>\n",
       "<table border=\"1\" class=\"dataframe\">\n",
       "  <thead>\n",
       "    <tr style=\"text-align: right;\">\n",
       "      <th></th>\n",
       "      <th>player_id</th>\n",
       "      <th>name</th>\n",
       "      <th>salary</th>\n",
       "      <th>season_end</th>\n",
       "      <th>career_AST</th>\n",
       "      <th>career_FG%</th>\n",
       "      <th>career_FG3%</th>\n",
       "      <th>career_FT%</th>\n",
       "      <th>career_G</th>\n",
       "      <th>career_PER</th>\n",
       "      <th>career_PTS</th>\n",
       "      <th>career_TRB</th>\n",
       "      <th>career_WS</th>\n",
       "      <th>career_eFG%</th>\n",
       "      <th>num_ht</th>\n",
       "      <th>num_wt</th>\n",
       "    </tr>\n",
       "  </thead>\n",
       "  <tbody>\n",
       "    <tr>\n",
       "      <th>0</th>\n",
       "      <td>abdelal01</td>\n",
       "      <td>Alaa Abdelnaby</td>\n",
       "      <td>5.688000e+05</td>\n",
       "      <td>1993.000000</td>\n",
       "      <td>0.3</td>\n",
       "      <td>50.2</td>\n",
       "      <td>0.0</td>\n",
       "      <td>70.1</td>\n",
       "      <td>256</td>\n",
       "      <td>13.0</td>\n",
       "      <td>5.7</td>\n",
       "      <td>3.3</td>\n",
       "      <td>4.8</td>\n",
       "      <td>50.2</td>\n",
       "      <td>82</td>\n",
       "      <td>240</td>\n",
       "    </tr>\n",
       "    <tr>\n",
       "      <th>1</th>\n",
       "      <td>abdulka01</td>\n",
       "      <td>Kareem Abdul-Jabbar</td>\n",
       "      <td>2.140000e+06</td>\n",
       "      <td>1987.000000</td>\n",
       "      <td>3.6</td>\n",
       "      <td>55.9</td>\n",
       "      <td>5.6</td>\n",
       "      <td>72.1</td>\n",
       "      <td>1560</td>\n",
       "      <td>24.6</td>\n",
       "      <td>24.6</td>\n",
       "      <td>11.2</td>\n",
       "      <td>273.4</td>\n",
       "      <td>55.9</td>\n",
       "      <td>86</td>\n",
       "      <td>225</td>\n",
       "    </tr>\n",
       "    <tr>\n",
       "      <th>2</th>\n",
       "      <td>abdulma02</td>\n",
       "      <td>Mahmoud Abdul-Rauf</td>\n",
       "      <td>2.205500e+06</td>\n",
       "      <td>1995.222222</td>\n",
       "      <td>3.5</td>\n",
       "      <td>44.2</td>\n",
       "      <td>35.4</td>\n",
       "      <td>90.5</td>\n",
       "      <td>586</td>\n",
       "      <td>15.4</td>\n",
       "      <td>14.6</td>\n",
       "      <td>1.9</td>\n",
       "      <td>25.2</td>\n",
       "      <td>47.2</td>\n",
       "      <td>73</td>\n",
       "      <td>162</td>\n",
       "    </tr>\n",
       "    <tr>\n",
       "      <th>3</th>\n",
       "      <td>abdulta01</td>\n",
       "      <td>Tariq Abdul-Wahad</td>\n",
       "      <td>3.798280e+06</td>\n",
       "      <td>2002.500000</td>\n",
       "      <td>1.1</td>\n",
       "      <td>41.7</td>\n",
       "      <td>23.7</td>\n",
       "      <td>70.3</td>\n",
       "      <td>236</td>\n",
       "      <td>11.4</td>\n",
       "      <td>7.8</td>\n",
       "      <td>3.3</td>\n",
       "      <td>3.5</td>\n",
       "      <td>42.2</td>\n",
       "      <td>78</td>\n",
       "      <td>223</td>\n",
       "    </tr>\n",
       "    <tr>\n",
       "      <th>4</th>\n",
       "      <td>abdursh01</td>\n",
       "      <td>Shareef Abdur-Rahim</td>\n",
       "      <td>8.715091e+06</td>\n",
       "      <td>2003.909091</td>\n",
       "      <td>2.5</td>\n",
       "      <td>47.2</td>\n",
       "      <td>29.7</td>\n",
       "      <td>81.0</td>\n",
       "      <td>830</td>\n",
       "      <td>19.0</td>\n",
       "      <td>18.1</td>\n",
       "      <td>7.5</td>\n",
       "      <td>71.2</td>\n",
       "      <td>47.9</td>\n",
       "      <td>81</td>\n",
       "      <td>225</td>\n",
       "    </tr>\n",
       "  </tbody>\n",
       "</table>\n",
       "</div>"
      ],
      "text/plain": [
       "   player_id                 name        salary   season_end  career_AST  \\\n",
       "0  abdelal01       Alaa Abdelnaby  5.688000e+05  1993.000000         0.3   \n",
       "1  abdulka01  Kareem Abdul-Jabbar  2.140000e+06  1987.000000         3.6   \n",
       "2  abdulma02   Mahmoud Abdul-Rauf  2.205500e+06  1995.222222         3.5   \n",
       "3  abdulta01    Tariq Abdul-Wahad  3.798280e+06  2002.500000         1.1   \n",
       "4  abdursh01  Shareef Abdur-Rahim  8.715091e+06  2003.909091         2.5   \n",
       "\n",
       "   career_FG%  career_FG3%  career_FT%  career_G  career_PER  career_PTS  \\\n",
       "0        50.2          0.0        70.1       256        13.0         5.7   \n",
       "1        55.9          5.6        72.1      1560        24.6        24.6   \n",
       "2        44.2         35.4        90.5       586        15.4        14.6   \n",
       "3        41.7         23.7        70.3       236        11.4         7.8   \n",
       "4        47.2         29.7        81.0       830        19.0        18.1   \n",
       "\n",
       "   career_TRB  career_WS  career_eFG%  num_ht  num_wt  \n",
       "0         3.3        4.8         50.2      82     240  \n",
       "1        11.2      273.4         55.9      86     225  \n",
       "2         1.9       25.2         47.2      73     162  \n",
       "3         3.3        3.5         42.2      78     223  \n",
       "4         7.5       71.2         47.9      81     225  "
      ]
     },
     "execution_count": 30,
     "metadata": {},
     "output_type": "execute_result"
    }
   ],
   "source": [
    "df.reset_index(inplace=True,drop=True)\n",
    "df.head()"
   ]
  },
  {
   "cell_type": "code",
   "execution_count": 31,
   "id": "abandoned-reply",
   "metadata": {},
   "outputs": [
    {
     "data": {
      "text/plain": [
       "(1928, 16)"
      ]
     },
     "execution_count": 31,
     "metadata": {},
     "output_type": "execute_result"
    }
   ],
   "source": [
    "df.shape"
   ]
  },
  {
   "cell_type": "markdown",
   "id": "marked-token",
   "metadata": {},
   "source": [
    "Ready to go! Let's separate out numerical and non-numerical colummns so we can do PCA."
   ]
  },
  {
   "cell_type": "code",
   "execution_count": 32,
   "id": "general-maine",
   "metadata": {},
   "outputs": [],
   "source": [
    "X=df.drop(['name','player_id','salary'],axis=1)\n",
    "names=df[['player_id','name']]\n",
    "y=df['salary']"
   ]
  },
  {
   "cell_type": "code",
   "execution_count": 33,
   "id": "offensive-complex",
   "metadata": {},
   "outputs": [
    {
     "data": {
      "text/plain": [
       "(1928, 13)"
      ]
     },
     "execution_count": 33,
     "metadata": {},
     "output_type": "execute_result"
    }
   ],
   "source": [
    "X.shape"
   ]
  },
  {
   "cell_type": "markdown",
   "id": "celtic-groove",
   "metadata": {},
   "source": [
    "The features have very different scales."
   ]
  },
  {
   "cell_type": "code",
   "execution_count": 34,
   "id": "identical-cowboy",
   "metadata": {},
   "outputs": [
    {
     "data": {
      "text/html": [
       "<div>\n",
       "<style scoped>\n",
       "    .dataframe tbody tr th:only-of-type {\n",
       "        vertical-align: middle;\n",
       "    }\n",
       "\n",
       "    .dataframe tbody tr th {\n",
       "        vertical-align: top;\n",
       "    }\n",
       "\n",
       "    .dataframe thead th {\n",
       "        text-align: right;\n",
       "    }\n",
       "</style>\n",
       "<table border=\"1\" class=\"dataframe\">\n",
       "  <thead>\n",
       "    <tr style=\"text-align: right;\">\n",
       "      <th></th>\n",
       "      <th>career_G</th>\n",
       "      <th>career_PTS</th>\n",
       "      <th>career_FG%</th>\n",
       "      <th>career_TRB</th>\n",
       "    </tr>\n",
       "  </thead>\n",
       "  <tbody>\n",
       "    <tr>\n",
       "      <th>0</th>\n",
       "      <td>256</td>\n",
       "      <td>5.7</td>\n",
       "      <td>50.2</td>\n",
       "      <td>3.3</td>\n",
       "    </tr>\n",
       "    <tr>\n",
       "      <th>1</th>\n",
       "      <td>1560</td>\n",
       "      <td>24.6</td>\n",
       "      <td>55.9</td>\n",
       "      <td>11.2</td>\n",
       "    </tr>\n",
       "    <tr>\n",
       "      <th>2</th>\n",
       "      <td>586</td>\n",
       "      <td>14.6</td>\n",
       "      <td>44.2</td>\n",
       "      <td>1.9</td>\n",
       "    </tr>\n",
       "    <tr>\n",
       "      <th>3</th>\n",
       "      <td>236</td>\n",
       "      <td>7.8</td>\n",
       "      <td>41.7</td>\n",
       "      <td>3.3</td>\n",
       "    </tr>\n",
       "    <tr>\n",
       "      <th>4</th>\n",
       "      <td>830</td>\n",
       "      <td>18.1</td>\n",
       "      <td>47.2</td>\n",
       "      <td>7.5</td>\n",
       "    </tr>\n",
       "  </tbody>\n",
       "</table>\n",
       "</div>"
      ],
      "text/plain": [
       "   career_G  career_PTS  career_FG%  career_TRB\n",
       "0       256         5.7        50.2         3.3\n",
       "1      1560        24.6        55.9        11.2\n",
       "2       586        14.6        44.2         1.9\n",
       "3       236         7.8        41.7         3.3\n",
       "4       830        18.1        47.2         7.5"
      ]
     },
     "execution_count": 34,
     "metadata": {},
     "output_type": "execute_result"
    }
   ],
   "source": [
    "df[['career_G','career_PTS','career_FG%','career_TRB']].head()"
   ]
  },
  {
   "cell_type": "code",
   "execution_count": 35,
   "id": "enhanced-password",
   "metadata": {},
   "outputs": [
    {
     "name": "stderr",
     "output_type": "stream",
     "text": [
      "<ipython-input-35-650684382ac9>:1: FutureWarning: Dropping of nuisance columns in DataFrame reductions (with 'numeric_only=None') is deprecated; in a future version this will raise TypeError.  Select only valid columns before calling the reduction.\n",
      "  np.round(df.mean(),3)\n"
     ]
    },
    {
     "data": {
      "text/plain": [
       "salary         2355281.208\n",
       "season_end        2003.162\n",
       "career_AST           1.806\n",
       "career_FG%          45.117\n",
       "career_FG3%         25.232\n",
       "career_FT%          72.772\n",
       "career_G           453.964\n",
       "career_PER          13.078\n",
       "career_PTS           8.157\n",
       "career_TRB           3.553\n",
       "career_WS           23.879\n",
       "career_eFG%         48.130\n",
       "num_ht              79.009\n",
       "num_wt             216.697\n",
       "dtype: float64"
      ]
     },
     "execution_count": 35,
     "metadata": {},
     "output_type": "execute_result"
    }
   ],
   "source": [
    "np.round(df.mean(),3)"
   ]
  },
  {
   "cell_type": "markdown",
   "id": "cd32f64a",
   "metadata": {},
   "source": [
    "Now, the plan is to \n",
    "\n",
    "1. first do PCA, then \n",
    "2. run regression (simple OLS) using the transformed data (coordinates in terms of the PCs) as features. \n",
    "\n",
    "Question: How many PCs should we use? How does the model perform on new data?"
   ]
  },
  {
   "cell_type": "markdown",
   "id": "9bbb6c37",
   "metadata": {},
   "source": [
    "These are familiar questions. We can cross validate to answer the first, but ultimately need a test set to see how our final model does on new data."
   ]
  },
  {
   "cell_type": "code",
   "execution_count": 36,
   "id": "modified-duncan",
   "metadata": {},
   "outputs": [],
   "source": [
    "from sklearn.model_selection import train_test_split\n",
    "from sklearn.preprocessing import StandardScaler\n",
    "from sklearn.linear_model import LinearRegression"
   ]
  },
  {
   "cell_type": "code",
   "execution_count": 37,
   "id": "70bb045a",
   "metadata": {},
   "outputs": [],
   "source": [
    "X_train, X_test, y_train, y_test = train_test_split(X,y,test_size=0.3, random_state=5)"
   ]
  },
  {
   "cell_type": "markdown",
   "id": "broadband-attribute",
   "metadata": {},
   "source": [
    "Initiate the scaler which will mean center (subtract off the column mean from each feature value) and standardize (divide by column st dev). "
   ]
  },
  {
   "cell_type": "markdown",
   "id": "hollow-rider",
   "metadata": {},
   "source": [
    "Then, transform the data into the new, scaled values. Now, each value can be interpreted as \"number of standard deviations from the mean\".  "
   ]
  },
  {
   "cell_type": "code",
   "execution_count": 38,
   "id": "pretty-scheduling",
   "metadata": {},
   "outputs": [],
   "source": [
    "X_train_scaled = StandardScaler().fit_transform(X_train)\n",
    "X_test_scaled = StandardScaler().fit_transform(X_test)"
   ]
  },
  {
   "cell_type": "markdown",
   "id": "distinguished-bangkok",
   "metadata": {},
   "source": [
    "Now, these are numpy arrays. Good for ```sklearn```, less good for human reading. Here's the first row..."
   ]
  },
  {
   "cell_type": "code",
   "execution_count": 39,
   "id": "conservative-soldier",
   "metadata": {},
   "outputs": [
    {
     "data": {
      "text/plain": [
       "array([ 0.35621591,  3.40578516, -0.84627811,  0.47992816, -0.14759223,\n",
       "        1.1588554 ,  1.32927935,  1.6492074 ,  0.11429578,  1.19769579,\n",
       "       -0.36648414, -1.11128422, -0.27664099])"
      ]
     },
     "execution_count": 39,
     "metadata": {},
     "output_type": "execute_result"
    }
   ],
   "source": [
    "X_train_scaled[0]"
   ]
  },
  {
   "cell_type": "code",
   "execution_count": 40,
   "id": "dimensional-petroleum",
   "metadata": {},
   "outputs": [
    {
     "data": {
      "text/plain": [
       "Index(['season_end', 'career_AST', 'career_FG%', 'career_FG3%', 'career_FT%',\n",
       "       'career_G', 'career_PER', 'career_PTS', 'career_TRB', 'career_WS',\n",
       "       'career_eFG%', 'num_ht', 'num_wt'],\n",
       "      dtype='object')"
      ]
     },
     "execution_count": 40,
     "metadata": {},
     "output_type": "execute_result"
    }
   ],
   "source": [
    "X.columns"
   ]
  },
  {
   "cell_type": "code",
   "execution_count": 41,
   "id": "revised-memphis",
   "metadata": {},
   "outputs": [],
   "source": [
    "from sklearn.decomposition import PCA"
   ]
  },
  {
   "cell_type": "code",
   "execution_count": 42,
   "id": "atlantic-sunglasses",
   "metadata": {},
   "outputs": [
    {
     "data": {
      "text/plain": [
       "(1349, 13)"
      ]
     },
     "execution_count": 42,
     "metadata": {},
     "output_type": "execute_result"
    }
   ],
   "source": [
    "X_train_scaled.shape"
   ]
  },
  {
   "cell_type": "markdown",
   "id": "extreme-bracket",
   "metadata": {},
   "source": [
    "There are 13 features so we'll use < 13 principal components."
   ]
  },
  {
   "cell_type": "markdown",
   "id": "flexible-flour",
   "metadata": {},
   "source": [
    "First find the principal components. This is unsupervised -- just looks at the features and finds the directions that explain the most vaiance (subject to orthogonality). "
   ]
  },
  {
   "cell_type": "code",
   "execution_count": 43,
   "id": "analyzed-waterproof",
   "metadata": {},
   "outputs": [],
   "source": [
    "pca = PCA(13).fit(X_train_scaled)"
   ]
  },
  {
   "cell_type": "markdown",
   "id": "fifteen-entity",
   "metadata": {},
   "source": [
    "Next, transform the data -- that means project the data onto the principal components, and get new cooridinates (in terms of the PCs)."
   ]
  },
  {
   "cell_type": "code",
   "execution_count": 44,
   "id": "noticed-eight",
   "metadata": {},
   "outputs": [],
   "source": [
    "pca_tr = pca.transform(X_train_scaled)"
   ]
  },
  {
   "cell_type": "markdown",
   "id": "dependent-neighborhood",
   "metadata": {},
   "source": [
    "Note: If you didn't care about the actual principal components, and wanted to go directly to the transformed (projected) data, you can use: ```PCA(13).fit_transform(X_train)```"
   ]
  },
  {
   "cell_type": "markdown",
   "id": "judicial-stations",
   "metadata": {},
   "source": [
    "TO see how much of the variance in the original data we have in the PCs:"
   ]
  },
  {
   "cell_type": "code",
   "execution_count": 45,
   "id": "desperate-detroit",
   "metadata": {},
   "outputs": [
    {
     "data": {
      "text/plain": [
       "array([0.35810857, 0.26299464, 0.10680034, 0.07222535, 0.05112732,\n",
       "       0.04178288, 0.03364786, 0.02008972, 0.01414841, 0.01325624,\n",
       "       0.01113153, 0.00923813, 0.00544903])"
      ]
     },
     "execution_count": 45,
     "metadata": {},
     "output_type": "execute_result"
    }
   ],
   "source": [
    "pca.explained_variance_ratio_"
   ]
  },
  {
   "cell_type": "markdown",
   "id": "geological-proxy",
   "metadata": {},
   "source": [
    "so for the first 3:"
   ]
  },
  {
   "cell_type": "code",
   "execution_count": 46,
   "id": "operating-standard",
   "metadata": {},
   "outputs": [
    {
     "data": {
      "text/plain": [
       "0.7279035495117723"
      ]
     },
     "execution_count": 46,
     "metadata": {},
     "output_type": "execute_result"
    }
   ],
   "source": [
    "pca.explained_variance_ratio_[0:3].sum()"
   ]
  },
  {
   "cell_type": "markdown",
   "id": "cognitive-delhi",
   "metadata": {},
   "source": [
    "The projected training data is here:"
   ]
  },
  {
   "cell_type": "code",
   "execution_count": 47,
   "id": "suburban-might",
   "metadata": {},
   "outputs": [
    {
     "data": {
      "text/plain": [
       "(1349, 13)"
      ]
     },
     "execution_count": 47,
     "metadata": {},
     "output_type": "execute_result"
    }
   ],
   "source": [
    "pca_tr.shape"
   ]
  },
  {
   "cell_type": "code",
   "execution_count": 48,
   "id": "drawn-heating",
   "metadata": {},
   "outputs": [],
   "source": [
    "from sklearn.model_selection import cross_validate"
   ]
  },
  {
   "cell_type": "markdown",
   "id": "lesbian-treasure",
   "metadata": {},
   "source": [
    "Cross validate the number of PCs in a linear regression model. I'm using $r^2$ on the test-fold as the scoring metric. "
   ]
  },
  {
   "cell_type": "code",
   "execution_count": 49,
   "id": "banner-newspaper",
   "metadata": {},
   "outputs": [],
   "source": [
    "cvres=[]\n",
    "num_pcs=[1,2,3,4,5,6,7,8,9,10]\n",
    "for a in num_pcs:\n",
    "    reg = LinearRegression()\n",
    "    cvreg = cross_validate(reg, pca_tr[:,0:a], y_train, cv=5, scoring='r2')\n",
    "    cvres.append(cvreg['test_score'].mean())"
   ]
  },
  {
   "cell_type": "code",
   "execution_count": 50,
   "id": "wired-sudan",
   "metadata": {},
   "outputs": [
    {
     "data": {
      "text/plain": [
       "[0.37557031379081113,\n",
       " 0.3750005500771382,\n",
       " 0.4635108122467161,\n",
       " 0.5695157121384666,\n",
       " 0.6255565771773139,\n",
       " 0.6256110626841541,\n",
       " 0.6339382611219071,\n",
       " 0.6327003624156845,\n",
       " 0.6368583012360739,\n",
       " 0.6362316584992292]"
      ]
     },
     "execution_count": 50,
     "metadata": {},
     "output_type": "execute_result"
    }
   ],
   "source": [
    "cvres"
   ]
  },
  {
   "cell_type": "code",
   "execution_count": 51,
   "id": "differential-output",
   "metadata": {},
   "outputs": [
    {
     "data": {
      "text/plain": [
       "8"
      ]
     },
     "execution_count": 51,
     "metadata": {},
     "output_type": "execute_result"
    }
   ],
   "source": [
    "np.argmax(cvres)"
   ]
  },
  {
   "cell_type": "code",
   "execution_count": 52,
   "id": "angry-delhi",
   "metadata": {},
   "outputs": [
    {
     "data": {
      "text/plain": [
       "[<matplotlib.lines.Line2D at 0x7fa3e2cf9f70>]"
      ]
     },
     "execution_count": 52,
     "metadata": {},
     "output_type": "execute_result"
    },
    {
     "data": {
      "image/png": "[encoded data removed]",
      "text/plain": [
       "<Figure size 432x288 with 1 Axes>"
      ]
     },
     "metadata": {
      "needs_background": "light"
     },
     "output_type": "display_data"
    }
   ],
   "source": [
    "plt.plot(range(1,11),cvres)"
   ]
  },
  {
   "cell_type": "markdown",
   "id": "accurate-praise",
   "metadata": {},
   "source": [
    "From this, while the $r^2$ technically keeps increasing, it definitely seems like there's very little gained after 5 principal components. "
   ]
  },
  {
   "cell_type": "markdown",
   "id": "smart-utilization",
   "metadata": {},
   "source": [
    "So, one could build a regression model on the full training set using the first 5 or 6 PCs. We might want to explore those PCs and see if we learn anything. "
   ]
  },
  {
   "cell_type": "code",
   "execution_count": 53,
   "id": "through-aberdeen",
   "metadata": {},
   "outputs": [
    {
     "name": "stdout",
     "output_type": "stream",
     "text": [
      "season_end : -0.004462617965938898\n",
      "career_AST : 0.22717854800849546\n",
      "career_FG% : 0.2851542679852081\n",
      "career_FG3% : 0.037829070326986305\n",
      "career_FT% : 0.12738034280563118\n",
      "career_G : 0.36116458592167944\n",
      "career_PER : 0.42165834694686966\n",
      "career_PTS : 0.3957043683751111\n",
      "career_TRB : 0.3567128972492171\n",
      "career_WS : 0.40236427248326584\n",
      "career_eFG% : 0.29305372892374604\n",
      "num_ht : 0.07614965028246932\n",
      "num_wt : 0.061337774544850024\n"
     ]
    }
   ],
   "source": [
    "for col,val in zip(X.columns,pca.components_[0]):\n",
    "    print(col,\":\",val)"
   ]
  },
  {
   "cell_type": "code",
   "execution_count": 54,
   "id": "charged-circular",
   "metadata": {},
   "outputs": [
    {
     "name": "stdout",
     "output_type": "stream",
     "text": [
      "season_end : -0.036837943861482036\n",
      "career_AST : 0.36701724978803507\n",
      "career_FG% : -0.30043669437201725\n",
      "career_FG3% : 0.3339946425641056\n",
      "career_FT% : 0.3536803525563963\n",
      "career_G : 0.0992211388463472\n",
      "career_PER : 0.011611742507883313\n",
      "career_PTS : 0.15120883164807353\n",
      "career_TRB : -0.23061476761870933\n",
      "career_WS : 0.0787061034767953\n",
      "career_eFG% : -0.14387390458427313\n",
      "num_ht : -0.4642647198431468\n",
      "num_wt : -0.45669886563561607\n"
     ]
    }
   ],
   "source": [
    "for col,val in zip(X.columns,pca.components_[1]):\n",
    "    print(col,\":\",val)"
   ]
  },
  {
   "cell_type": "markdown",
   "id": "empty-computer",
   "metadata": {},
   "source": [
    "PCR helps address overfitting by reducing the number of features (building a less flexible model) and multicolinearity (the principal components are orthogonal so uncorrelated). In this way it is a competitor to Ridge or Lasso regression (similar aims). The downside is interpretability of the model. "
   ]
  },
  {
   "cell_type": "markdown",
   "id": "loving-biodiversity",
   "metadata": {},
   "source": [
    "# K-means clustering "
   ]
  },
  {
   "cell_type": "markdown",
   "id": "alleged-dispatch",
   "metadata": {},
   "source": [
    "Another task of unsupervised learning is clustering."
   ]
  },
  {
   "cell_type": "markdown",
   "id": "foster-netscape",
   "metadata": {},
   "source": [
    "Do the data naturally form clusters or groups? Feels a bit like classification except unsupervised means no labels, so no ground truth!"
   ]
  },
  {
   "cell_type": "markdown",
   "id": "closing-sweden",
   "metadata": {},
   "source": [
    "$K$ means is one of the most common (and simplest) methods for clustering (unlabeled) points. Like $K$ nearest neighbors, we have to provide the $K$ which may be entirely unclear (and maybe even inappropriate) in an unsupervised setting. Unlike $KNN$ there's no way to validate the best $K$ since the points are unlabeled."
   ]
  },
  {
   "cell_type": "markdown",
   "id": "medium-contractor",
   "metadata": {},
   "source": [
    "Also like $knn$, $K$-means uses the geometry of feature space to find clusters. "
   ]
  },
  {
   "cell_type": "markdown",
   "id": "meaningful-qatar",
   "metadata": {},
   "source": [
    "Inputs: \n",
    "1. A set of points \n",
    "2. $K=$ the number of clusters we want to find."
   ]
  },
  {
   "cell_type": "markdown",
   "id": "objective-display",
   "metadata": {},
   "source": [
    "The inputs need to be numerical and usually should be scaled (more on that later, but we are using *distance* in feature space)."
   ]
  },
  {
   "cell_type": "code",
   "execution_count": 55,
   "id": "nuclear-public",
   "metadata": {},
   "outputs": [],
   "source": [
    "from sklearn import datasets"
   ]
  },
  {
   "cell_type": "markdown",
   "id": "expanded-visibility",
   "metadata": {},
   "source": [
    "Let's generate a small toy data set with 3 clusters,"
   ]
  },
  {
   "cell_type": "code",
   "execution_count": 56,
   "id": "single-frederick",
   "metadata": {},
   "outputs": [],
   "source": [
    "X,y=datasets.make_blobs(n_samples=100, centers=3, n_features=2,random_state=0)"
   ]
  },
  {
   "cell_type": "code",
   "execution_count": 57,
   "id": "neither-gabriel",
   "metadata": {},
   "outputs": [
    {
     "data": {
      "image/png": "[encoded data removed]",
      "text/plain": [
       "<Figure size 576x432 with 1 Axes>"
      ]
     },
     "metadata": {
      "needs_background": "light"
     },
     "output_type": "display_data"
    }
   ],
   "source": [
    "plt.figure(figsize=(8,6))\n",
    "plt.scatter(X[:,0],X[:,1],c=y,cmap='rainbow')\n",
    "plt.show()"
   ]
  },
  {
   "cell_type": "markdown",
   "id": "skilled-jonathan",
   "metadata": {},
   "source": [
    "Let's import $K$-means and ask it to find 3 clusters."
   ]
  },
  {
   "cell_type": "code",
   "execution_count": 58,
   "id": "supposed-poster",
   "metadata": {},
   "outputs": [],
   "source": [
    "from sklearn.cluster import KMeans"
   ]
  },
  {
   "cell_type": "code",
   "execution_count": 59,
   "id": "north-compatibility",
   "metadata": {},
   "outputs": [],
   "source": [
    "kmeans = KMeans(n_clusters=3, random_state=0).fit(X)"
   ]
  },
  {
   "cell_type": "code",
   "execution_count": 60,
   "id": "passive-chair",
   "metadata": {},
   "outputs": [
    {
     "data": {
      "image/png": "[encoded data removed]",
      "text/plain": [
       "<Figure size 576x432 with 1 Axes>"
      ]
     },
     "metadata": {
      "needs_background": "light"
     },
     "output_type": "display_data"
    }
   ],
   "source": [
    "plt.figure(figsize=(8,6))\n",
    "plt.scatter(X[:,0],X[:,1],c=kmeans.labels_,cmap='viridis')\n",
    "plt.show()"
   ]
  },
  {
   "cell_type": "markdown",
   "id": "radical-evidence",
   "metadata": {},
   "source": [
    "Not bad! Remember, $K$-means had no idea what the true labels were. It was entirely **unsupervised**."
   ]
  },
  {
   "cell_type": "code",
   "execution_count": 61,
   "id": "strange-giving",
   "metadata": {},
   "outputs": [
    {
     "data": {
      "text/html": [
       "<div>\n",
       "<style scoped>\n",
       "    .dataframe tbody tr th:only-of-type {\n",
       "        vertical-align: middle;\n",
       "    }\n",
       "\n",
       "    .dataframe tbody tr th {\n",
       "        vertical-align: top;\n",
       "    }\n",
       "\n",
       "    .dataframe thead th {\n",
       "        text-align: right;\n",
       "    }\n",
       "</style>\n",
       "<table border=\"1\" class=\"dataframe\">\n",
       "  <thead>\n",
       "    <tr style=\"text-align: right;\">\n",
       "      <th>K-means</th>\n",
       "      <th>0</th>\n",
       "      <th>1</th>\n",
       "      <th>2</th>\n",
       "    </tr>\n",
       "    <tr>\n",
       "      <th>row_0</th>\n",
       "      <th></th>\n",
       "      <th></th>\n",
       "      <th></th>\n",
       "    </tr>\n",
       "  </thead>\n",
       "  <tbody>\n",
       "    <tr>\n",
       "      <th>0</th>\n",
       "      <td>5</td>\n",
       "      <td>1</td>\n",
       "      <td>28</td>\n",
       "    </tr>\n",
       "    <tr>\n",
       "      <th>1</th>\n",
       "      <td>0</td>\n",
       "      <td>31</td>\n",
       "      <td>2</td>\n",
       "    </tr>\n",
       "    <tr>\n",
       "      <th>2</th>\n",
       "      <td>31</td>\n",
       "      <td>0</td>\n",
       "      <td>2</td>\n",
       "    </tr>\n",
       "  </tbody>\n",
       "</table>\n",
       "</div>"
      ],
      "text/plain": [
       "K-means   0   1   2\n",
       "row_0              \n",
       "0         5   1  28\n",
       "1         0  31   2\n",
       "2        31   0   2"
      ]
     },
     "execution_count": 61,
     "metadata": {},
     "output_type": "execute_result"
    }
   ],
   "source": [
    "pd.crosstab(y,kmeans.labels_,colnames=[\"K-means\"])"
   ]
  },
  {
   "cell_type": "markdown",
   "id": "contemporary-token",
   "metadata": {},
   "source": [
    "Labels are meaningless but the \"accuracy\" is:"
   ]
  },
  {
   "cell_type": "code",
   "execution_count": 62,
   "id": "preliminary-court",
   "metadata": {},
   "outputs": [
    {
     "data": {
      "text/plain": [
       "0.9"
      ]
     },
     "execution_count": 62,
     "metadata": {},
     "output_type": "execute_result"
    }
   ],
   "source": [
    "(31+31+28)/(31+31+28+10)"
   ]
  },
  {
   "cell_type": "markdown",
   "id": "unlimited-gravity",
   "metadata": {},
   "source": [
    "How does it work?"
   ]
  },
  {
   "cell_type": "markdown",
   "id": "oriented-ranking",
   "metadata": {},
   "source": [
    "Algo:"
   ]
  },
  {
   "cell_type": "markdown",
   "id": "sharing-thesis",
   "metadata": {},
   "source": [
    "1. Randomly assign each point to one of $K$ clusters."
   ]
  },
  {
   "cell_type": "markdown",
   "id": "sustained-alfred",
   "metadata": {},
   "source": [
    "Then... Repeat until clusters stop changing:"
   ]
  },
  {
   "cell_type": "markdown",
   "id": "golden-eleven",
   "metadata": {},
   "source": [
    "2. Compute the centroid of each cluster. (Average each feature over all points in the cluster.)\n",
    "3. Re-assign each point to the cluster with the nearest centroid. "
   ]
  },
  {
   "cell_type": "markdown",
   "id": "missing-leather",
   "metadata": {},
   "source": [
    "Note: Final clusters can and will depend on the random initialization! By default ```sklearn``` will do 10 random starting distributions and return the best: smallest variance within the clusters. We can (and usually should) increase the number of initializations using ```n_init=```."
   ]
  },
  {
   "cell_type": "markdown",
   "id": "permanent-therapist",
   "metadata": {},
   "source": [
    "Let's plot the K-means decision boundary along with the true class labels."
   ]
  },
  {
   "cell_type": "code",
   "execution_count": 63,
   "id": "driving-passion",
   "metadata": {},
   "outputs": [],
   "source": [
    "xx, yy = np.meshgrid(np.linspace(-3.5, 4.5, 500), np.linspace(-1, 6.5, 500))\n",
    "X_grid = np.c_[xx.ravel(), yy.ravel()]"
   ]
  },
  {
   "cell_type": "code",
   "execution_count": 64,
   "id": "middle-trinity",
   "metadata": {},
   "outputs": [],
   "source": [
    "df=pd.DataFrame(X,columns=['feat1','feat2'])\n",
    "df['Class']=y"
   ]
  },
  {
   "cell_type": "code",
   "execution_count": 65,
   "id": "chemical-alliance",
   "metadata": {},
   "outputs": [],
   "source": [
    "import seaborn as sns"
   ]
  },
  {
   "cell_type": "code",
   "execution_count": 66,
   "id": "focal-diving",
   "metadata": {},
   "outputs": [
    {
     "data": {
      "image/png": "[encoded data removed]",
      "text/plain": [
       "<Figure size 576x504 with 1 Axes>"
      ]
     },
     "metadata": {
      "needs_background": "light"
     },
     "output_type": "display_data"
    }
   ],
   "source": [
    "zz_km = kmeans.predict(np.c_[xx.ravel(), yy.ravel()]).reshape(xx.shape)\n",
    "f, ax = plt.subplots(figsize=(8, 7))\n",
    "sns.scatterplot(x='feat1',y='feat2',hue='Class',style='Class',data=df)\n",
    "plt.contourf(xx, yy, zz_km,3,cmap='rainbow',alpha=0.2)\n",
    "plt.show()"
   ]
  },
  {
   "cell_type": "markdown",
   "id": "representative-subdivision",
   "metadata": {},
   "source": [
    "K means can be quite useful and is very common. The regions determined by the k means clusters are convex (roughly round ball-shaped). That means for some problems the clusters will not be what you want or expect."
   ]
  },
  {
   "cell_type": "markdown",
   "id": "consolidated-saver",
   "metadata": {},
   "source": [
    "Example: Our classic moons dataset..."
   ]
  },
  {
   "cell_type": "code",
   "execution_count": 67,
   "id": "young-password",
   "metadata": {},
   "outputs": [
    {
     "data": {
      "text/html": [
       "<div>\n",
       "<style scoped>\n",
       "    .dataframe tbody tr th:only-of-type {\n",
       "        vertical-align: middle;\n",
       "    }\n",
       "\n",
       "    .dataframe tbody tr th {\n",
       "        vertical-align: top;\n",
       "    }\n",
       "\n",
       "    .dataframe thead th {\n",
       "        text-align: right;\n",
       "    }\n",
       "</style>\n",
       "<table border=\"1\" class=\"dataframe\">\n",
       "  <thead>\n",
       "    <tr style=\"text-align: right;\">\n",
       "      <th></th>\n",
       "      <th>feat1</th>\n",
       "      <th>feat2</th>\n",
       "      <th>Class</th>\n",
       "    </tr>\n",
       "  </thead>\n",
       "  <tbody>\n",
       "    <tr>\n",
       "      <th>0</th>\n",
       "      <td>0.456512</td>\n",
       "      <td>0.071161</td>\n",
       "      <td>1</td>\n",
       "    </tr>\n",
       "    <tr>\n",
       "      <th>1</th>\n",
       "      <td>0.984704</td>\n",
       "      <td>-0.593088</td>\n",
       "      <td>1</td>\n",
       "    </tr>\n",
       "    <tr>\n",
       "      <th>2</th>\n",
       "      <td>0.935407</td>\n",
       "      <td>0.578138</td>\n",
       "      <td>0</td>\n",
       "    </tr>\n",
       "    <tr>\n",
       "      <th>3</th>\n",
       "      <td>0.393591</td>\n",
       "      <td>0.463981</td>\n",
       "      <td>0</td>\n",
       "    </tr>\n",
       "    <tr>\n",
       "      <th>4</th>\n",
       "      <td>2.144325</td>\n",
       "      <td>-0.029013</td>\n",
       "      <td>1</td>\n",
       "    </tr>\n",
       "  </tbody>\n",
       "</table>\n",
       "</div>"
      ],
      "text/plain": [
       "      feat1     feat2  Class\n",
       "0  0.456512  0.071161      1\n",
       "1  0.984704 -0.593088      1\n",
       "2  0.935407  0.578138      0\n",
       "3  0.393591  0.463981      0\n",
       "4  2.144325 -0.029013      1"
      ]
     },
     "execution_count": 67,
     "metadata": {},
     "output_type": "execute_result"
    }
   ],
   "source": [
    "np.random.seed(1)\n",
    "mX,my = datasets.make_moons(n_samples=500,noise=.25)\n",
    "mdf=pd.DataFrame(mX,columns=['feat1','feat2'])\n",
    "mdf['Class']=my\n",
    "mdf.head()"
   ]
  },
  {
   "cell_type": "code",
   "execution_count": 68,
   "id": "conservative-energy",
   "metadata": {},
   "outputs": [
    {
     "data": {
      "image/png": "[encoded data removed]",
      "text/plain": [
       "<Figure size 576x432 with 1 Axes>"
      ]
     },
     "metadata": {
      "needs_background": "light"
     },
     "output_type": "display_data"
    }
   ],
   "source": [
    "plt.figure(figsize=(8,6))\n",
    "sns.scatterplot(x='feat1',y='feat2',hue='Class',style='Class',data=mdf)\n",
    "plt.show()"
   ]
  },
  {
   "cell_type": "code",
   "execution_count": 69,
   "id": "fluid-amateur",
   "metadata": {},
   "outputs": [],
   "source": [
    "kmeans = KMeans(n_clusters=2, random_state=0).fit(mX)"
   ]
  },
  {
   "cell_type": "code",
   "execution_count": 70,
   "id": "fancy-progressive",
   "metadata": {},
   "outputs": [
    {
     "data": {
      "image/png": "[encoded data removed]",
      "text/plain": [
       "<Figure size 576x432 with 1 Axes>"
      ]
     },
     "metadata": {
      "needs_background": "light"
     },
     "output_type": "display_data"
    }
   ],
   "source": [
    "plt.figure(figsize=(8,6))\n",
    "plt.scatter(mX[:,0],mX[:,1],c=kmeans.labels_,cmap='viridis')\n",
    "plt.show()"
   ]
  },
  {
   "cell_type": "markdown",
   "id": "intellectual-review",
   "metadata": {},
   "source": [
    "Makes sense given the kmeans algo but not necessarily what we wanted. (Also, if we aren't in a nice simple, easy to visualize 2-D feature space we probably have no idea what we want! )"
   ]
  },
  {
   "cell_type": "markdown",
   "id": "fe48ccbd",
   "metadata": {},
   "source": [
    "Non-convexity of the natural underlying clusters is a problem for K-Means."
   ]
  },
  {
   "cell_type": "code",
   "execution_count": 71,
   "id": "toxic-chapter",
   "metadata": {},
   "outputs": [
    {
     "data": {
      "text/plain": [
       "array([[ 1.2297513 , -0.04529791],\n",
       "       [-0.21798388,  0.55379735]])"
      ]
     },
     "execution_count": 71,
     "metadata": {},
     "output_type": "execute_result"
    }
   ],
   "source": [
    "kmeans.cluster_centers_"
   ]
  },
  {
   "cell_type": "code",
   "execution_count": 72,
   "id": "incoming-horizontal",
   "metadata": {},
   "outputs": [
    {
     "data": {
      "text/plain": [
       "array([ 1.2297513 , -0.04529791])"
      ]
     },
     "execution_count": 72,
     "metadata": {},
     "output_type": "execute_result"
    }
   ],
   "source": [
    "kmeans.cluster_centers_[0]"
   ]
  },
  {
   "cell_type": "code",
   "execution_count": 73,
   "id": "according-terrorist",
   "metadata": {},
   "outputs": [
    {
     "data": {
      "image/png": "[encoded data removed]",
      "text/plain": [
       "<Figure size 576x432 with 1 Axes>"
      ]
     },
     "metadata": {
      "needs_background": "light"
     },
     "output_type": "display_data"
    }
   ],
   "source": [
    "plt.figure(figsize=(8,6))\n",
    "plt.scatter(mX[:,0],mX[:,1],c=kmeans.labels_,cmap='viridis')\n",
    "plt.plot(kmeans.cluster_centers_[0],kmeans.cluster_centers_[1],\"ro\",markersize=10) \n",
    "plt.show()"
   ]
  },
  {
   "cell_type": "markdown",
   "id": "guided-annual",
   "metadata": {},
   "source": [
    "Remember, we had to provide $K$. If we thought there werer 3 clusters..."
   ]
  },
  {
   "cell_type": "code",
   "execution_count": 74,
   "id": "twelve-rates",
   "metadata": {},
   "outputs": [],
   "source": [
    "kmeans3 = KMeans(n_clusters=3, random_state=0).fit(mX)"
   ]
  },
  {
   "cell_type": "code",
   "execution_count": 75,
   "id": "sudden-diving",
   "metadata": {},
   "outputs": [
    {
     "data": {
      "image/png": "[encoded data removed]",
      "text/plain": [
       "<Figure size 576x432 with 1 Axes>"
      ]
     },
     "metadata": {
      "needs_background": "light"
     },
     "output_type": "display_data"
    }
   ],
   "source": [
    "plt.figure(figsize=(8,6))\n",
    "plt.scatter(mX[:,0],mX[:,1],c=kmeans3.labels_,cmap='viridis')\n",
    "plt.show()"
   ]
  },
  {
   "cell_type": "code",
   "execution_count": 76,
   "id": "c2a6085b",
   "metadata": {},
   "outputs": [
    {
     "data": {
      "text/plain": [
       "array([-0.44267152,  1.65087873,  0.60456206])"
      ]
     },
     "execution_count": 76,
     "metadata": {},
     "output_type": "execute_result"
    }
   ],
   "source": [
    "kmeans3.cluster_centers_[:,0]"
   ]
  },
  {
   "cell_type": "code",
   "execution_count": 77,
   "id": "crucial-parliament",
   "metadata": {},
   "outputs": [],
   "source": [
    "#x-coordinates of cluster centers\n",
    "cx=kmeans3.cluster_centers_[:,0]\n",
    "#y-coordinates of cluster centers\n",
    "cy=kmeans3.cluster_centers_[:,1]"
   ]
  },
  {
   "cell_type": "code",
   "execution_count": 78,
   "id": "continuous-henry",
   "metadata": {},
   "outputs": [
    {
     "data": {
      "image/png": "[encoded data removed]",
      "text/plain": [
       "<Figure size 576x432 with 1 Axes>"
      ]
     },
     "metadata": {
      "needs_background": "light"
     },
     "output_type": "display_data"
    }
   ],
   "source": [
    "plt.figure(figsize=(8,6))\n",
    "plt.scatter(mX[:,0],mX[:,1],c=kmeans3.labels_,cmap='viridis')\n",
    "plt.scatter(cx,cy,marker=\"^\",c='r',s=200,edgecolor='w')\n",
    "plt.show()"
   ]
  },
  {
   "cell_type": "code",
   "execution_count": 79,
   "id": "turkish-exclusive",
   "metadata": {},
   "outputs": [
    {
     "data": {
      "text/plain": [
       "array([[-0.44267152,  0.64407721],\n",
       "       [ 1.65087873, -0.13202208],\n",
       "       [ 0.60456206,  0.15692262]])"
      ]
     },
     "execution_count": 79,
     "metadata": {},
     "output_type": "execute_result"
    }
   ],
   "source": [
    "kmeans3.cluster_centers_"
   ]
  },
  {
   "cell_type": "markdown",
   "id": "silent-brush",
   "metadata": {},
   "source": [
    "### Choosing K"
   ]
  },
  {
   "cell_type": "markdown",
   "id": "resident-lucas",
   "metadata": {},
   "source": [
    "Sometimes there is a \"more correct\" value for $K$ and we might be able to uncover it."
   ]
  },
  {
   "cell_type": "code",
   "execution_count": 80,
   "id": "gentle-letter",
   "metadata": {},
   "outputs": [],
   "source": [
    "X,y=datasets.make_blobs(n_samples=300, centers=4, n_features=2,cluster_std=0.75,random_state=0)"
   ]
  },
  {
   "cell_type": "markdown",
   "id": "d0849d35",
   "metadata": {},
   "source": [
    "Here there are 4 clusters with noise."
   ]
  },
  {
   "cell_type": "code",
   "execution_count": 81,
   "id": "weird-seller",
   "metadata": {},
   "outputs": [
    {
     "data": {
      "image/png": "[encoded data removed]",
      "text/plain": [
       "<Figure size 576x432 with 1 Axes>"
      ]
     },
     "metadata": {
      "needs_background": "light"
     },
     "output_type": "display_data"
    }
   ],
   "source": [
    "plt.figure(figsize=(8,6))\n",
    "plt.scatter(X[:,0],X[:,1])\n",
    "plt.show()"
   ]
  },
  {
   "cell_type": "markdown",
   "id": "thousand-precipitation",
   "metadata": {},
   "source": [
    "Idea: \n",
    "\n",
    "For a given value of $k$, compute the (squared) distance between each point and it's cluster center. Find the mean of all those squared distances. Increase $k$ and repeat. As the number of cluster centers increases, the MSE should decrease.  "
   ]
  },
  {
   "cell_type": "markdown",
   "id": "reported-gospel",
   "metadata": {},
   "source": [
    "The decrease in MSE should be significant as $k$ increases from 1 and approaches an optimal value. Once we pass the \"optimal\" value of $k$, the MSE decrease should level off and larger values of $K$ won't help much. Thus, we look for the ***elbow*** in the graph of MSE. "
   ]
  },
  {
   "cell_type": "markdown",
   "id": "07b42606",
   "metadata": {},
   "source": [
    "Here's a function to find the MSE for a user-defined range of $k$-values."
   ]
  },
  {
   "cell_type": "markdown",
   "id": "69036a35",
   "metadata": {},
   "source": [
    "Input: The points and max $k$.\n",
    "\n",
    "Output: MSE for $k=1,2,\\ldots$ max $k$.  "
   ]
  },
  {
   "cell_type": "code",
   "execution_count": 82,
   "id": "humanitarian-helena",
   "metadata": {},
   "outputs": [],
   "source": [
    "def km_mse(inputs,k):\n",
    "    mse=[]\n",
    "    for i in range(1,k):\n",
    "        errors=[]\n",
    "        kmeans = KMeans(n_clusters=i, n_init=50,random_state=0).fit(inputs)\n",
    "        for pt,lab in zip(inputs,kmeans.labels_):\n",
    "            errors.append(np.linalg.norm(pt-kmeans.cluster_centers_[lab])**2)\n",
    "        mse.append(np.mean(errors))\n",
    "    return mse"
   ]
  },
  {
   "cell_type": "code",
   "execution_count": 83,
   "id": "charitable-spyware",
   "metadata": {},
   "outputs": [],
   "source": [
    "out=km_mse(X,10)"
   ]
  },
  {
   "cell_type": "code",
   "execution_count": 84,
   "id": "timely-nightmare",
   "metadata": {},
   "outputs": [
    {
     "data": {
      "image/png": "[encoded data removed]",
      "text/plain": [
       "<Figure size 576x432 with 1 Axes>"
      ]
     },
     "metadata": {
      "needs_background": "light"
     },
     "output_type": "display_data"
    }
   ],
   "source": [
    "plt.figure(figsize=(8,6))\n",
    "plt.plot(list(range(1,10)),out)\n",
    "plt.show()"
   ]
  },
  {
   "cell_type": "markdown",
   "id": "amino-sustainability",
   "metadata": {},
   "source": [
    "This identifies $k=4$ (which is correct)."
   ]
  },
  {
   "cell_type": "markdown",
   "id": "83a9a0f3",
   "metadata": {},
   "source": [
    "MSE will always decrease so we're looking for the point of diminishing returns."
   ]
  },
  {
   "cell_type": "code",
   "execution_count": 85,
   "id": "consolidated-index",
   "metadata": {},
   "outputs": [],
   "source": [
    "kmeans = KMeans(n_clusters=4,random_state=0).fit(X)"
   ]
  },
  {
   "cell_type": "code",
   "execution_count": 86,
   "id": "disabled-worst",
   "metadata": {},
   "outputs": [
    {
     "data": {
      "image/png": "[encoded data removed]",
      "text/plain": [
       "<Figure size 576x432 with 1 Axes>"
      ]
     },
     "metadata": {
      "needs_background": "light"
     },
     "output_type": "display_data"
    }
   ],
   "source": [
    "plt.figure(figsize=(8,6))\n",
    "plt.scatter(X[:,0],X[:,1],c=kmeans.labels_,cmap='viridis')\n",
    "plt.scatter(kmeans.cluster_centers_[:,0],kmeans.cluster_centers_[:,1],marker=\"^\",edgecolors='b',c='r',s=200) \n",
    "plt.show()"
   ]
  },
  {
   "cell_type": "markdown",
   "id": "varied-activation",
   "metadata": {},
   "source": [
    "Try determing K on (2022 season) of nba data? For instance, are there 5 natural \"positions\" into which players cluster?"
   ]
  },
  {
   "cell_type": "code",
   "execution_count": 87,
   "id": "tropical-blast",
   "metadata": {},
   "outputs": [
    {
     "ename": "UnicodeDecodeError",
     "evalue": "'utf-8' codec can't decode byte 0x97 in position 43870: invalid start byte",
     "output_type": "error",
     "traceback": [
      "\u001b[0;31m---------------------------------------------------------------------------\u001b[0m",
      "\u001b[0;31mUnicodeDecodeError\u001b[0m                        Traceback (most recent call last)",
      "\u001b[0;32m<ipython-input-87-5c2bd3718050>\u001b[0m in \u001b[0;36m<module>\u001b[0;34m\u001b[0m\n\u001b[0;32m----> 1\u001b[0;31m \u001b[0mnba\u001b[0m\u001b[0;34m=\u001b[0m\u001b[0mpd\u001b[0m\u001b[0;34m.\u001b[0m\u001b[0mread_csv\u001b[0m\u001b[0;34m(\u001b[0m\u001b[0;34m'nba2022_per100poss.csv'\u001b[0m\u001b[0;34m)\u001b[0m\u001b[0;34m\u001b[0m\u001b[0;34m\u001b[0m\u001b[0m\n\u001b[0m",
      "\u001b[0;32m~/miniconda3/lib/python3.9/site-packages/pandas/util/_decorators.py\u001b[0m in \u001b[0;36mwrapper\u001b[0;34m(*args, **kwargs)\u001b[0m\n\u001b[1;32m    309\u001b[0m                     \u001b[0mstacklevel\u001b[0m\u001b[0;34m=\u001b[0m\u001b[0mstacklevel\u001b[0m\u001b[0;34m,\u001b[0m\u001b[0;34m\u001b[0m\u001b[0;34m\u001b[0m\u001b[0m\n\u001b[1;32m    310\u001b[0m                 )\n\u001b[0;32m--> 311\u001b[0;31m             \u001b[0;32mreturn\u001b[0m \u001b[0mfunc\u001b[0m\u001b[0;34m(\u001b[0m\u001b[0;34m*\u001b[0m\u001b[0margs\u001b[0m\u001b[0;34m,\u001b[0m \u001b[0;34m**\u001b[0m\u001b[0mkwargs\u001b[0m\u001b[0;34m)\u001b[0m\u001b[0;34m\u001b[0m\u001b[0;34m\u001b[0m\u001b[0m\n\u001b[0m\u001b[1;32m    312\u001b[0m \u001b[0;34m\u001b[0m\u001b[0m\n\u001b[1;32m    313\u001b[0m         \u001b[0;32mreturn\u001b[0m \u001b[0mwrapper\u001b[0m\u001b[0;34m\u001b[0m\u001b[0;34m\u001b[0m\u001b[0m\n",
      "\u001b[0;32m~/miniconda3/lib/python3.9/site-packages/pandas/io/parsers/readers.py\u001b[0m in \u001b[0;36mread_csv\u001b[0;34m(filepath_or_buffer, sep, delimiter, header, names, index_col, usecols, squeeze, prefix, mangle_dupe_cols, dtype, engine, converters, true_values, false_values, skipinitialspace, skiprows, skipfooter, nrows, na_values, keep_default_na, na_filter, verbose, skip_blank_lines, parse_dates, infer_datetime_format, keep_date_col, date_parser, dayfirst, cache_dates, iterator, chunksize, compression, thousands, decimal, lineterminator, quotechar, quoting, doublequote, escapechar, comment, encoding, encoding_errors, dialect, error_bad_lines, warn_bad_lines, on_bad_lines, delim_whitespace, low_memory, memory_map, float_precision, storage_options)\u001b[0m\n\u001b[1;32m    584\u001b[0m     \u001b[0mkwds\u001b[0m\u001b[0;34m.\u001b[0m\u001b[0mupdate\u001b[0m\u001b[0;34m(\u001b[0m\u001b[0mkwds_defaults\u001b[0m\u001b[0;34m)\u001b[0m\u001b[0;34m\u001b[0m\u001b[0;34m\u001b[0m\u001b[0m\n\u001b[1;32m    585\u001b[0m \u001b[0;34m\u001b[0m\u001b[0m\n\u001b[0;32m--> 586\u001b[0;31m     \u001b[0;32mreturn\u001b[0m \u001b[0m_read\u001b[0m\u001b[0;34m(\u001b[0m\u001b[0mfilepath_or_buffer\u001b[0m\u001b[0;34m,\u001b[0m \u001b[0mkwds\u001b[0m\u001b[0;34m)\u001b[0m\u001b[0;34m\u001b[0m\u001b[0;34m\u001b[0m\u001b[0m\n\u001b[0m\u001b[1;32m    587\u001b[0m \u001b[0;34m\u001b[0m\u001b[0m\n\u001b[1;32m    588\u001b[0m \u001b[0;34m\u001b[0m\u001b[0m\n",
      "\u001b[0;32m~/miniconda3/lib/python3.9/site-packages/pandas/io/parsers/readers.py\u001b[0m in \u001b[0;36m_read\u001b[0;34m(filepath_or_buffer, kwds)\u001b[0m\n\u001b[1;32m    480\u001b[0m \u001b[0;34m\u001b[0m\u001b[0m\n\u001b[1;32m    481\u001b[0m     \u001b[0;31m# Create the parser.\u001b[0m\u001b[0;34m\u001b[0m\u001b[0;34m\u001b[0m\u001b[0;34m\u001b[0m\u001b[0m\n\u001b[0;32m--> 482\u001b[0;31m     \u001b[0mparser\u001b[0m \u001b[0;34m=\u001b[0m \u001b[0mTextFileReader\u001b[0m\u001b[0;34m(\u001b[0m\u001b[0mfilepath_or_buffer\u001b[0m\u001b[0;34m,\u001b[0m \u001b[0;34m**\u001b[0m\u001b[0mkwds\u001b[0m\u001b[0;34m)\u001b[0m\u001b[0;34m\u001b[0m\u001b[0;34m\u001b[0m\u001b[0m\n\u001b[0m\u001b[1;32m    483\u001b[0m \u001b[0;34m\u001b[0m\u001b[0m\n\u001b[1;32m    484\u001b[0m     \u001b[0;32mif\u001b[0m \u001b[0mchunksize\u001b[0m \u001b[0;32mor\u001b[0m \u001b[0miterator\u001b[0m\u001b[0;34m:\u001b[0m\u001b[0;34m\u001b[0m\u001b[0;34m\u001b[0m\u001b[0m\n",
      "\u001b[0;32m~/miniconda3/lib/python3.9/site-packages/pandas/io/parsers/readers.py\u001b[0m in \u001b[0;36m__init__\u001b[0;34m(self, f, engine, **kwds)\u001b[0m\n\u001b[1;32m    809\u001b[0m             \u001b[0mself\u001b[0m\u001b[0;34m.\u001b[0m\u001b[0moptions\u001b[0m\u001b[0;34m[\u001b[0m\u001b[0;34m\"has_index_names\"\u001b[0m\u001b[0;34m]\u001b[0m \u001b[0;34m=\u001b[0m \u001b[0mkwds\u001b[0m\u001b[0;34m[\u001b[0m\u001b[0;34m\"has_index_names\"\u001b[0m\u001b[0;34m]\u001b[0m\u001b[0;34m\u001b[0m\u001b[0;34m\u001b[0m\u001b[0m\n\u001b[1;32m    810\u001b[0m \u001b[0;34m\u001b[0m\u001b[0m\n\u001b[0;32m--> 811\u001b[0;31m         \u001b[0mself\u001b[0m\u001b[0;34m.\u001b[0m\u001b[0m_engine\u001b[0m \u001b[0;34m=\u001b[0m \u001b[0mself\u001b[0m\u001b[0;34m.\u001b[0m\u001b[0m_make_engine\u001b[0m\u001b[0;34m(\u001b[0m\u001b[0mself\u001b[0m\u001b[0;34m.\u001b[0m\u001b[0mengine\u001b[0m\u001b[0;34m)\u001b[0m\u001b[0;34m\u001b[0m\u001b[0;34m\u001b[0m\u001b[0m\n\u001b[0m\u001b[1;32m    812\u001b[0m \u001b[0;34m\u001b[0m\u001b[0m\n\u001b[1;32m    813\u001b[0m     \u001b[0;32mdef\u001b[0m \u001b[0mclose\u001b[0m\u001b[0;34m(\u001b[0m\u001b[0mself\u001b[0m\u001b[0;34m)\u001b[0m\u001b[0;34m:\u001b[0m\u001b[0;34m\u001b[0m\u001b[0;34m\u001b[0m\u001b[0m\n",
      "\u001b[0;32m~/miniconda3/lib/python3.9/site-packages/pandas/io/parsers/readers.py\u001b[0m in \u001b[0;36m_make_engine\u001b[0;34m(self, engine)\u001b[0m\n\u001b[1;32m   1038\u001b[0m             )\n\u001b[1;32m   1039\u001b[0m         \u001b[0;31m# error: Too many arguments for \"ParserBase\"\u001b[0m\u001b[0;34m\u001b[0m\u001b[0;34m\u001b[0m\u001b[0;34m\u001b[0m\u001b[0m\n\u001b[0;32m-> 1040\u001b[0;31m         \u001b[0;32mreturn\u001b[0m \u001b[0mmapping\u001b[0m\u001b[0;34m[\u001b[0m\u001b[0mengine\u001b[0m\u001b[0;34m]\u001b[0m\u001b[0;34m(\u001b[0m\u001b[0mself\u001b[0m\u001b[0;34m.\u001b[0m\u001b[0mf\u001b[0m\u001b[0;34m,\u001b[0m \u001b[0;34m**\u001b[0m\u001b[0mself\u001b[0m\u001b[0;34m.\u001b[0m\u001b[0moptions\u001b[0m\u001b[0;34m)\u001b[0m  \u001b[0;31m# type: ignore[call-arg]\u001b[0m\u001b[0;34m\u001b[0m\u001b[0;34m\u001b[0m\u001b[0m\n\u001b[0m\u001b[1;32m   1041\u001b[0m \u001b[0;34m\u001b[0m\u001b[0m\n\u001b[1;32m   1042\u001b[0m     \u001b[0;32mdef\u001b[0m \u001b[0m_failover_to_python\u001b[0m\u001b[0;34m(\u001b[0m\u001b[0mself\u001b[0m\u001b[0;34m)\u001b[0m\u001b[0;34m:\u001b[0m\u001b[0;34m\u001b[0m\u001b[0;34m\u001b[0m\u001b[0m\n",
      "\u001b[0;32m~/miniconda3/lib/python3.9/site-packages/pandas/io/parsers/c_parser_wrapper.py\u001b[0m in \u001b[0;36m__init__\u001b[0;34m(self, src, **kwds)\u001b[0m\n\u001b[1;32m     67\u001b[0m         \u001b[0mkwds\u001b[0m\u001b[0;34m[\u001b[0m\u001b[0;34m\"dtype\"\u001b[0m\u001b[0;34m]\u001b[0m \u001b[0;34m=\u001b[0m \u001b[0mensure_dtype_objs\u001b[0m\u001b[0;34m(\u001b[0m\u001b[0mkwds\u001b[0m\u001b[0;34m.\u001b[0m\u001b[0mget\u001b[0m\u001b[0;34m(\u001b[0m\u001b[0;34m\"dtype\"\u001b[0m\u001b[0;34m,\u001b[0m \u001b[0;32mNone\u001b[0m\u001b[0;34m)\u001b[0m\u001b[0;34m)\u001b[0m\u001b[0;34m\u001b[0m\u001b[0;34m\u001b[0m\u001b[0m\n\u001b[1;32m     68\u001b[0m         \u001b[0;32mtry\u001b[0m\u001b[0;34m:\u001b[0m\u001b[0;34m\u001b[0m\u001b[0;34m\u001b[0m\u001b[0m\n\u001b[0;32m---> 69\u001b[0;31m             \u001b[0mself\u001b[0m\u001b[0;34m.\u001b[0m\u001b[0m_reader\u001b[0m \u001b[0;34m=\u001b[0m \u001b[0mparsers\u001b[0m\u001b[0;34m.\u001b[0m\u001b[0mTextReader\u001b[0m\u001b[0;34m(\u001b[0m\u001b[0mself\u001b[0m\u001b[0;34m.\u001b[0m\u001b[0mhandles\u001b[0m\u001b[0;34m.\u001b[0m\u001b[0mhandle\u001b[0m\u001b[0;34m,\u001b[0m \u001b[0;34m**\u001b[0m\u001b[0mkwds\u001b[0m\u001b[0;34m)\u001b[0m\u001b[0;34m\u001b[0m\u001b[0;34m\u001b[0m\u001b[0m\n\u001b[0m\u001b[1;32m     70\u001b[0m         \u001b[0;32mexcept\u001b[0m \u001b[0mException\u001b[0m\u001b[0;34m:\u001b[0m\u001b[0;34m\u001b[0m\u001b[0;34m\u001b[0m\u001b[0m\n\u001b[1;32m     71\u001b[0m             \u001b[0mself\u001b[0m\u001b[0;34m.\u001b[0m\u001b[0mhandles\u001b[0m\u001b[0;34m.\u001b[0m\u001b[0mclose\u001b[0m\u001b[0;34m(\u001b[0m\u001b[0;34m)\u001b[0m\u001b[0;34m\u001b[0m\u001b[0;34m\u001b[0m\u001b[0m\n",
      "\u001b[0;32m~/miniconda3/lib/python3.9/site-packages/pandas/_libs/parsers.pyx\u001b[0m in \u001b[0;36mpandas._libs.parsers.TextReader.__cinit__\u001b[0;34m()\u001b[0m\n",
      "\u001b[0;32m~/miniconda3/lib/python3.9/site-packages/pandas/_libs/parsers.pyx\u001b[0m in \u001b[0;36mpandas._libs.parsers.TextReader._get_header\u001b[0;34m()\u001b[0m\n",
      "\u001b[0;32m~/miniconda3/lib/python3.9/site-packages/pandas/_libs/parsers.pyx\u001b[0m in \u001b[0;36mpandas._libs.parsers.TextReader._tokenize_rows\u001b[0;34m()\u001b[0m\n",
      "\u001b[0;32m~/miniconda3/lib/python3.9/site-packages/pandas/_libs/parsers.pyx\u001b[0m in \u001b[0;36mpandas._libs.parsers.raise_parser_error\u001b[0;34m()\u001b[0m\n",
      "\u001b[0;31mUnicodeDecodeError\u001b[0m: 'utf-8' codec can't decode byte 0x97 in position 43870: invalid start byte"
     ]
    }
   ],
   "source": [
    "nba=pd.read_csv('nba2022_per100poss.csv')"
   ]
  },
  {
   "cell_type": "code",
   "execution_count": null,
   "id": "bronze-beast",
   "metadata": {},
   "outputs": [],
   "source": [
    "nba.head()"
   ]
  },
  {
   "cell_type": "code",
   "execution_count": null,
   "id": "eight-surprise",
   "metadata": {},
   "outputs": [],
   "source": [
    "nba=nba.drop([\"Rk\",\"Unnamed: 29\"],axis=1)"
   ]
  },
  {
   "cell_type": "code",
   "execution_count": null,
   "id": "substantial-gathering",
   "metadata": {},
   "outputs": [],
   "source": [
    "nba.isna().sum()"
   ]
  },
  {
   "cell_type": "code",
   "execution_count": null,
   "id": "driving-egyptian",
   "metadata": {},
   "outputs": [],
   "source": [
    "nba22=nba.dropna().copy()\n",
    "#nba.fillna(0,inplace=True)"
   ]
  },
  {
   "cell_type": "code",
   "execution_count": null,
   "id": "respective-basic",
   "metadata": {},
   "outputs": [],
   "source": [
    "nba22.isna().sum()"
   ]
  },
  {
   "cell_type": "markdown",
   "id": "serious-store",
   "metadata": {},
   "source": [
    "Fix player names which have an ID tag along with the name."
   ]
  },
  {
   "cell_type": "code",
   "execution_count": null,
   "id": "flexible-injury",
   "metadata": {},
   "outputs": [],
   "source": [
    "def name(row):\n",
    "    return row['Player'].split(\"\\\\\")[0]"
   ]
  },
  {
   "cell_type": "code",
   "execution_count": null,
   "id": "ancient-graphics",
   "metadata": {},
   "outputs": [],
   "source": [
    "nba22['Name']=nba22.apply(name,axis=1)"
   ]
  },
  {
   "cell_type": "code",
   "execution_count": null,
   "id": "green-affect",
   "metadata": {},
   "outputs": [],
   "source": [
    "nba22[['Name','Player']].head()"
   ]
  },
  {
   "cell_type": "code",
   "execution_count": null,
   "id": "c8de6e87",
   "metadata": {},
   "outputs": [],
   "source": [
    "nba.MP.describe()"
   ]
  },
  {
   "cell_type": "markdown",
   "id": "211c6afa",
   "metadata": {},
   "source": [
    "Filter on 100 MP"
   ]
  },
  {
   "cell_type": "code",
   "execution_count": null,
   "id": "0ec976dd",
   "metadata": {},
   "outputs": [],
   "source": [
    "nba100=nba22[nba22['MP']>=100].copy()"
   ]
  },
  {
   "cell_type": "code",
   "execution_count": null,
   "id": "80ea8ec0",
   "metadata": {},
   "outputs": [],
   "source": [
    "nba100.shape"
   ]
  },
  {
   "cell_type": "code",
   "execution_count": null,
   "id": "silent-delivery",
   "metadata": {},
   "outputs": [],
   "source": [
    "X_tmp100=nba100.drop(['Name','Pos','Tm','Player'],axis=1)\n",
    "y100=nba100[['Name','Pos','Tm']]"
   ]
  },
  {
   "cell_type": "code",
   "execution_count": null,
   "id": "oriented-kinase",
   "metadata": {},
   "outputs": [],
   "source": [
    "X_tmp100.columns"
   ]
  },
  {
   "cell_type": "markdown",
   "id": "emerging-cylinder",
   "metadata": {},
   "source": [
    "If we're thinking about positions, maybe some columns matter more than others-- for instance, whether or not you're good (FG%) may not matter as much as how many shots you take. Maybe we shouldn't filter on MP... riding the bench is kind of a position. Or not... but this is EDA."
   ]
  },
  {
   "cell_type": "markdown",
   "id": "intermediate-attention",
   "metadata": {},
   "source": [
    "And again scales are very different. Not good for an algorithm that uses distance."
   ]
  },
  {
   "cell_type": "code",
   "execution_count": null,
   "id": "generous-appearance",
   "metadata": {},
   "outputs": [],
   "source": [
    "X_tmp100.mean()"
   ]
  },
  {
   "cell_type": "code",
   "execution_count": null,
   "id": "a31c949a",
   "metadata": {},
   "outputs": [],
   "source": [
    "from sklearn.preprocessing import StandardScaler "
   ]
  },
  {
   "cell_type": "code",
   "execution_count": null,
   "id": "collect-crisis",
   "metadata": {},
   "outputs": [],
   "source": [
    "scaler = StandardScaler().fit(X_tmp100)\n",
    "X_scaled=scaler.transform(X_tmp100)"
   ]
  },
  {
   "cell_type": "code",
   "execution_count": null,
   "id": "monetary-incentive",
   "metadata": {},
   "outputs": [],
   "source": [
    "X_scaled.shape"
   ]
  },
  {
   "cell_type": "code",
   "execution_count": null,
   "id": "opening-privacy",
   "metadata": {},
   "outputs": [],
   "source": [
    "nba_out=km_mse(X_scaled,25)"
   ]
  },
  {
   "cell_type": "code",
   "execution_count": null,
   "id": "olympic-program",
   "metadata": {},
   "outputs": [],
   "source": [
    "plt.figure(figsize=(8,6))\n",
    "plt.plot(list(range(1,25)),nba_out)\n",
    "plt.show()"
   ]
  },
  {
   "cell_type": "markdown",
   "id": "44a99373",
   "metadata": {},
   "source": [
    "Where is the elbow? :("
   ]
  },
  {
   "cell_type": "code",
   "execution_count": null,
   "id": "61d5471f",
   "metadata": {},
   "outputs": [],
   "source": [
    "nba_out"
   ]
  },
  {
   "cell_type": "markdown",
   "id": "olive-scott",
   "metadata": {},
   "source": [
    "No clear answer here, unfortunately. Also no indication that the correct number is 5. Also not clear that 15 positions would be particularly useful-- could inclde very small clusters."
   ]
  },
  {
   "cell_type": "markdown",
   "id": "educated-history",
   "metadata": {},
   "source": [
    "Let's look at $K=8$..."
   ]
  },
  {
   "cell_type": "code",
   "execution_count": null,
   "id": "retired-executive",
   "metadata": {},
   "outputs": [],
   "source": [
    "nba_kmeans8 = KMeans(n_clusters=8,n_init=20,random_state=0).fit(X_scaled)"
   ]
  },
  {
   "cell_type": "code",
   "execution_count": null,
   "id": "silver-framework",
   "metadata": {},
   "outputs": [],
   "source": [
    "for i in range(8):\n",
    "    print(i+1,\":\",(nba_kmeans8.labels_==i).sum())"
   ]
  },
  {
   "cell_type": "markdown",
   "id": "executed-smith",
   "metadata": {},
   "source": [
    "Only 37 folks in the 3rd cluster."
   ]
  },
  {
   "cell_type": "code",
   "execution_count": null,
   "id": "stable-promotion",
   "metadata": {},
   "outputs": [],
   "source": [
    "nba_kmeans10 = KMeans(n_clusters=10,n_init=30,random_state=0).fit(X_scaled)\n",
    "for i in range(10):\n",
    "    print(i+1,\":\",(nba_kmeans10.labels_==i).sum())"
   ]
  },
  {
   "cell_type": "code",
   "execution_count": null,
   "id": "restricted-thread",
   "metadata": {},
   "outputs": [],
   "source": [
    "nba_kmeans6 = KMeans(n_clusters=6,n_init=30,random_state=0).fit(X_scaled)\n",
    "for i in range(6):\n",
    "    print(i+1,\":\",(nba_kmeans6.labels_==i).sum())"
   ]
  },
  {
   "cell_type": "code",
   "execution_count": null,
   "id": "surrounded-indiana",
   "metadata": {},
   "outputs": [],
   "source": [
    "nba_kmeans7 = KMeans(n_clusters=7,n_init=30,random_state=0).fit(X_scaled)\n",
    "for i in range(7):\n",
    "    print(i+1,\":\",(nba_kmeans7.labels_==i).sum())"
   ]
  },
  {
   "cell_type": "code",
   "execution_count": null,
   "id": "manual-hydrogen",
   "metadata": {},
   "outputs": [],
   "source": [
    "nba_kmeans5 = KMeans(n_clusters=5,n_init=30,random_state=0).fit(X_scaled)\n",
    "for i in range(5):\n",
    "    print(i+1,\":\",(nba_kmeans5.labels_==i).sum())"
   ]
  },
  {
   "cell_type": "code",
   "execution_count": null,
   "id": "separated-leadership",
   "metadata": {},
   "outputs": [],
   "source": [
    "nba_kmeans3 = KMeans(n_clusters=3,n_init=30,random_state=0).fit(X_scaled)\n",
    "for i in range(3):\n",
    "    print(i+1,\":\",(nba_kmeans3.labels_==i).sum())"
   ]
  },
  {
   "cell_type": "code",
   "execution_count": null,
   "id": "urban-manitoba",
   "metadata": {},
   "outputs": [],
   "source": [
    "for col,val in zip(X_tmp100.columns,nba_kmeans6.cluster_centers_[0]):\n",
    "    print(col,\":\",np.round(val,3))"
   ]
  },
  {
   "cell_type": "code",
   "execution_count": null,
   "id": "tender-healing",
   "metadata": {},
   "outputs": [],
   "source": [
    "for col,val in zip(X_tmp100.columns,nba_kmeans6.cluster_centers_[3]):\n",
    "    print(col,\":\",np.round(val,3))"
   ]
  },
  {
   "cell_type": "code",
   "execution_count": null,
   "id": "comic-platform",
   "metadata": {},
   "outputs": [],
   "source": [
    "for col,val in zip(X_tmp100.columns,nba_kmeans6.cluster_centers_[5]):\n",
    "    print(col,\":\",np.round(val,3))"
   ]
  },
  {
   "cell_type": "markdown",
   "id": "soviet-fireplace",
   "metadata": {},
   "source": [
    "Could spin a story around these cluster centers. Cluster 3 = ?"
   ]
  },
  {
   "cell_type": "code",
   "execution_count": null,
   "id": "copyrighted-following",
   "metadata": {},
   "outputs": [],
   "source": [
    "y100[(nba_kmeans.labels_== 3)].head(20)"
   ]
  },
  {
   "cell_type": "markdown",
   "id": "innovative-algorithm",
   "metadata": {},
   "source": [
    "Another application..."
   ]
  },
  {
   "cell_type": "markdown",
   "id": "outstanding-reputation",
   "metadata": {},
   "source": [
    "### Vector quantization"
   ]
  },
  {
   "cell_type": "code",
   "execution_count": null,
   "id": "stunning-bearing",
   "metadata": {},
   "outputs": [],
   "source": [
    "import matplotlib.image as mpimg"
   ]
  },
  {
   "cell_type": "code",
   "execution_count": null,
   "id": "protected-crowd",
   "metadata": {},
   "outputs": [],
   "source": [
    "img=mpimg.imread('K_fish.png')"
   ]
  },
  {
   "cell_type": "code",
   "execution_count": null,
   "id": "colored-anger",
   "metadata": {},
   "outputs": [],
   "source": [
    "plt.figure(figsize=(8,6))\n",
    "plt.imshow(img)\n",
    "plt.show()"
   ]
  },
  {
   "cell_type": "code",
   "execution_count": null,
   "id": "solar-fundamentals",
   "metadata": {},
   "outputs": [],
   "source": [
    "img.shape"
   ]
  },
  {
   "cell_type": "markdown",
   "id": "blocked-kitchen",
   "metadata": {},
   "source": [
    "So, this image is 640 (rows) by 480 (columns) by 4. Each pixel in row $i$ and column $j$ has 4 values:"
   ]
  },
  {
   "cell_type": "code",
   "execution_count": null,
   "id": "incomplete-sculpture",
   "metadata": {},
   "outputs": [],
   "source": [
    "#rows\n",
    "img[:,0,0].shape"
   ]
  },
  {
   "cell_type": "code",
   "execution_count": null,
   "id": "private-designer",
   "metadata": {},
   "outputs": [],
   "source": [
    "#columns\n",
    "img[0,:,0].shape"
   ]
  },
  {
   "cell_type": "code",
   "execution_count": null,
   "id": "compound-apollo",
   "metadata": {},
   "outputs": [],
   "source": [
    "#pixel\n",
    "img[0,0,:].shape"
   ]
  },
  {
   "cell_type": "markdown",
   "id": "forced-equality",
   "metadata": {},
   "source": [
    "Here's the (0,0) pixel:"
   ]
  },
  {
   "cell_type": "code",
   "execution_count": null,
   "id": "optical-federation",
   "metadata": {},
   "outputs": [],
   "source": [
    "img[0][0]"
   ]
  },
  {
   "cell_type": "markdown",
   "id": "potential-revision",
   "metadata": {},
   "source": [
    "The first three values are r,g,b intensities. The fourth value is about transparency so let's drop it."
   ]
  },
  {
   "cell_type": "code",
   "execution_count": null,
   "id": "animated-cooking",
   "metadata": {},
   "outputs": [],
   "source": [
    "img=img[:,:,0:3]"
   ]
  },
  {
   "cell_type": "code",
   "execution_count": null,
   "id": "answering-garden",
   "metadata": {},
   "outputs": [],
   "source": [
    "img.shape"
   ]
  },
  {
   "cell_type": "markdown",
   "id": "alike-fitness",
   "metadata": {},
   "source": [
    "Should look the same..."
   ]
  },
  {
   "cell_type": "code",
   "execution_count": null,
   "id": "herbal-package",
   "metadata": {},
   "outputs": [],
   "source": [
    "plt.figure(figsize=(8,6))\n",
    "plt.imshow(img)\n",
    "plt.show()"
   ]
  },
  {
   "cell_type": "markdown",
   "id": "fatal-riverside",
   "metadata": {},
   "source": [
    "Each pixel has an r,g,b value that gives the pixel its color. Suppose we need to reproduce the image but we can only use 5 total colors. This could be a job for $K$-means. Find the five cluster centers in rgb space and use the closest one to the pixel value for each pixel. "
   ]
  },
  {
   "cell_type": "code",
   "execution_count": null,
   "id": "choice-artwork",
   "metadata": {},
   "outputs": [],
   "source": [
    "img.shape"
   ]
  },
  {
   "cell_type": "markdown",
   "id": "genetic-diary",
   "metadata": {},
   "source": [
    "Let's flatten this 3D array into a 2D array where each row is a pixel, and the columns represent the r,g,b values of that pixel."
   ]
  },
  {
   "cell_type": "code",
   "execution_count": null,
   "id": "behind-charge",
   "metadata": {},
   "outputs": [],
   "source": [
    "X_img = img.reshape(640*480,3)"
   ]
  },
  {
   "cell_type": "code",
   "execution_count": null,
   "id": "virgin-sperm",
   "metadata": {},
   "outputs": [],
   "source": [
    "X_img.shape"
   ]
  },
  {
   "cell_type": "code",
   "execution_count": null,
   "id": "regulation-barrier",
   "metadata": {},
   "outputs": [],
   "source": [
    "X_img[0] == img[0,0]"
   ]
  },
  {
   "cell_type": "markdown",
   "id": "subtle-worthy",
   "metadata": {},
   "source": [
    "So the first row of X_img is the same as the first pixel in the image. Good. The 480th row should be first pixel in row 2 (python counting row 1) of the original. "
   ]
  },
  {
   "cell_type": "code",
   "execution_count": null,
   "id": "looking-dividend",
   "metadata": {},
   "outputs": [],
   "source": [
    "img[1,0]==X_img[480]"
   ]
  },
  {
   "cell_type": "markdown",
   "id": "unlimited-routine",
   "metadata": {},
   "source": [
    "Perfect. Let's cluster into 5 clusters."
   ]
  },
  {
   "cell_type": "code",
   "execution_count": null,
   "id": "false-reminder",
   "metadata": {},
   "outputs": [],
   "source": [
    "fish_km=KMeans(n_clusters=5,n_init=20,random_state=0).fit(X_img)"
   ]
  },
  {
   "cell_type": "code",
   "execution_count": null,
   "id": "thousand-prince",
   "metadata": {},
   "outputs": [],
   "source": [
    "fish_km.cluster_centers_"
   ]
  },
  {
   "cell_type": "markdown",
   "id": "civilian-divorce",
   "metadata": {},
   "source": [
    "Each pixel (row) has a label which is the closest centroid:"
   ]
  },
  {
   "cell_type": "code",
   "execution_count": null,
   "id": "split-hygiene",
   "metadata": {},
   "outputs": [],
   "source": [
    "fish_km.labels_.shape"
   ]
  },
  {
   "cell_type": "markdown",
   "id": "confirmed-consumer",
   "metadata": {},
   "source": [
    "For example, pixels 300 through 350:"
   ]
  },
  {
   "cell_type": "code",
   "execution_count": null,
   "id": "agreed-affair",
   "metadata": {},
   "outputs": [],
   "source": [
    "fish_km.labels_[300:350]"
   ]
  },
  {
   "cell_type": "markdown",
   "id": "systematic-organic",
   "metadata": {},
   "source": [
    "Did we use all 5 colors?"
   ]
  },
  {
   "cell_type": "code",
   "execution_count": null,
   "id": "developing-league",
   "metadata": {},
   "outputs": [],
   "source": [
    "for i in range(5):\n",
    "    print(i,\":\",((fish_km.labels_==i).sum()/307200).round(3))"
   ]
  },
  {
   "cell_type": "markdown",
   "id": "manual-sending",
   "metadata": {},
   "source": [
    "Yep. OK now, let's assign each pixel to have color equal to its closest centroid color. Take the cluster center values (rgb coords) of the closest centroid for every pixel."
   ]
  },
  {
   "cell_type": "code",
   "execution_count": null,
   "id": "approximate-panama",
   "metadata": {},
   "outputs": [],
   "source": [
    "new_img=[fish_km.cluster_centers_[lab] for lab in fish_km.labels_]"
   ]
  },
  {
   "cell_type": "markdown",
   "id": "velvet-filing",
   "metadata": {},
   "source": [
    "Then reshape back into the original array size: 640 by 480 by 3."
   ]
  },
  {
   "cell_type": "code",
   "execution_count": null,
   "id": "unexpected-sheet",
   "metadata": {},
   "outputs": [],
   "source": [
    "new_img=np.array(new_img).reshape((640,480,3))"
   ]
  },
  {
   "cell_type": "code",
   "execution_count": null,
   "id": "effective-check",
   "metadata": {},
   "outputs": [],
   "source": [
    "plt.figure(figsize=(8,6))\n",
    "plt.imshow(new_img)\n",
    "plt.show()"
   ]
  },
  {
   "cell_type": "code",
   "execution_count": null,
   "id": "5e167323",
   "metadata": {},
   "outputs": [],
   "source": [
    "images=[new_img,img]"
   ]
  },
  {
   "cell_type": "code",
   "execution_count": null,
   "id": "6b20ceab",
   "metadata": {},
   "outputs": [],
   "source": [
    "fig, axes = plt.subplots(nrows=1, ncols=2, figsize=(10, 9))\n",
    "for ax, image in zip(axes, images):\n",
    "    ax.set_axis_off()\n",
    "    ax.imshow(image)"
   ]
  },
  {
   "cell_type": "markdown",
   "id": "unusual-packing",
   "metadata": {},
   "source": [
    "## Agglomerative (Heierarchical) Clustering"
   ]
  },
  {
   "cell_type": "markdown",
   "id": "69bd6bc3",
   "metadata": {},
   "source": [
    "Another (and pretty different) approach to clustering"
   ]
  },
  {
   "cell_type": "markdown",
   "id": "considered-darkness",
   "metadata": {},
   "source": [
    "Basic idea is start with every point in its own cluster and then merge clusters together based on some notion of distance."
   ]
  },
  {
   "cell_type": "code",
   "execution_count": null,
   "id": "initial-island",
   "metadata": {},
   "outputs": [],
   "source": [
    "X,y=datasets.make_blobs(n_samples=12, centers=4, n_features=2,cluster_std=0.75,random_state=0)\n",
    "labs=list(range(12))"
   ]
  },
  {
   "cell_type": "code",
   "execution_count": null,
   "id": "cardiac-semester",
   "metadata": {},
   "outputs": [],
   "source": [
    "labs"
   ]
  },
  {
   "cell_type": "code",
   "execution_count": null,
   "id": "prompt-orbit",
   "metadata": {},
   "outputs": [],
   "source": [
    "fig, ax = plt.subplots(figsize=(8,7))\n",
    "xx=X[:,0]\n",
    "yy=X[:,1]\n",
    "ax.scatter(xx,yy)\n",
    "for i,txt in enumerate(labs):\n",
    "    ax.annotate(txt, (xx[i], yy[i]))\n",
    "plt.show()"
   ]
  },
  {
   "cell_type": "markdown",
   "id": "amended-speaker",
   "metadata": {},
   "source": [
    "So, you might start by deciding that points 6 and 8 are close togteher and belong in the same cluster. "
   ]
  },
  {
   "cell_type": "markdown",
   "id": "5761076a",
   "metadata": {},
   "source": [
    "Then join 1--9. Then what? Well, then maybe 3 should join the cluster with 1 and 9. Then join 0--4, Etc. "
   ]
  },
  {
   "cell_type": "markdown",
   "id": "9eefb7e2",
   "metadata": {},
   "source": [
    "Important question: we need to decide what the distance is between a point and a cluster (or between two clusters). "
   ]
  },
  {
   "cell_type": "markdown",
   "id": "26b1a335",
   "metadata": {},
   "source": [
    "There are lots of options like: *max distance between any 2 points in the cluster*. Once we have a distance we can draw a picture of the joining process using a ***dendrogram***. Unfortunately, ```sklearn``` doesn't have a dendrogram draw-er but ```scipy``` does: "
   ]
  },
  {
   "cell_type": "code",
   "execution_count": null,
   "id": "abstract-benefit",
   "metadata": {},
   "outputs": [],
   "source": [
    "from scipy.cluster.hierarchy import linkage,dendrogram,ward \n",
    "from sklearn.cluster import AgglomerativeClustering"
   ]
  },
  {
   "cell_type": "markdown",
   "id": "cognitive-egypt",
   "metadata": {},
   "source": [
    "We'll use something called ward distance -- more soon."
   ]
  },
  {
   "cell_type": "code",
   "execution_count": null,
   "id": "alone-observation",
   "metadata": {},
   "outputs": [],
   "source": [
    "linkage_array = ward(X)"
   ]
  },
  {
   "cell_type": "code",
   "execution_count": null,
   "id": "broke-senator",
   "metadata": {},
   "outputs": [],
   "source": [
    "plt.figure(figsize=(8,6))\n",
    "dn = dendrogram(linkage_array)\n",
    "plt.show()"
   ]
  },
  {
   "cell_type": "markdown",
   "id": "collaborative-monte",
   "metadata": {},
   "source": [
    "Here's the original cluster labels (from the data generation)..."
   ]
  },
  {
   "cell_type": "code",
   "execution_count": null,
   "id": "honest-crazy",
   "metadata": {},
   "outputs": [],
   "source": [
    "fig, ax = plt.subplots(figsize=(8,7))\n",
    "ax.scatter(X[:,0],X[:,1],c=y,cmap='viridis')\n",
    "for i,txt in enumerate(labs):\n",
    "    ax.annotate(txt, (xx[i], yy[i]))\n",
    "plt.show()"
   ]
  },
  {
   "cell_type": "markdown",
   "id": "hollywood-holocaust",
   "metadata": {},
   "source": [
    "If you cut the dendrogram around 5 to get 4 clusters, then the hierarchical clustering algorithm got it correct. Note that joining 5 to the 7--10 cluster happened last b/c they were \"furthest\" apart."
   ]
  },
  {
   "cell_type": "code",
   "execution_count": null,
   "id": "micro-protection",
   "metadata": {},
   "outputs": [],
   "source": [
    "X,y=datasets.make_blobs(n_samples=30, centers=4, n_features=2,cluster_std=0.75,random_state=0)\n",
    "labs=list(range(30))"
   ]
  },
  {
   "cell_type": "code",
   "execution_count": null,
   "id": "sapphire-auckland",
   "metadata": {},
   "outputs": [],
   "source": [
    "fig, ax = plt.subplots(figsize=(8,7))\n",
    "xx=X[:,0]\n",
    "yy=X[:,1]\n",
    "ax.scatter(xx,yy,c=y,cmap='viridis')\n",
    "for i,txt in enumerate(labs):\n",
    "    ax.annotate(txt, (xx[i], yy[i]))\n",
    "plt.show()"
   ]
  },
  {
   "cell_type": "code",
   "execution_count": null,
   "id": "precious-establishment",
   "metadata": {},
   "outputs": [],
   "source": [
    "linkage_array=ward(X)"
   ]
  },
  {
   "cell_type": "code",
   "execution_count": null,
   "id": "better-response",
   "metadata": {},
   "outputs": [],
   "source": [
    "plt.figure(figsize=(8,7))\n",
    "dn = dendrogram(linkage_array)\n",
    "plt.show()"
   ]
  },
  {
   "cell_type": "markdown",
   "id": "5c010eef",
   "metadata": {},
   "source": [
    "Here's how to cluster and then access the clusters:"
   ]
  },
  {
   "cell_type": "code",
   "execution_count": null,
   "id": "a330be20",
   "metadata": {},
   "outputs": [],
   "source": [
    "hierarchical_clustering_example = AgglomerativeClustering(4).fit(X)"
   ]
  },
  {
   "cell_type": "code",
   "execution_count": null,
   "id": "07b7b68f",
   "metadata": {},
   "outputs": [],
   "source": [
    "hierarchical_clustering_example.labels_[0:10]"
   ]
  },
  {
   "cell_type": "markdown",
   "id": "1a424b45",
   "metadata": {},
   "source": [
    "Can put everything together in a dataframe:"
   ]
  },
  {
   "cell_type": "code",
   "execution_count": null,
   "id": "dbeb60b7",
   "metadata": {},
   "outputs": [],
   "source": [
    "hc_results=pd.DataFrame(X,columns=['feat1','feat2'])\n",
    "hc_results['Cluster_Assignment']=hierarchical_clustering_example.labels_"
   ]
  },
  {
   "cell_type": "code",
   "execution_count": null,
   "id": "a5df13b6",
   "metadata": {},
   "outputs": [],
   "source": [
    "hc_results[hc_results['Cluster_Assignment']==3]"
   ]
  },
  {
   "cell_type": "markdown",
   "id": "weighted-strike",
   "metadata": {},
   "source": [
    "Different notions of distance give different dendrograms and potentially different clusters."
   ]
  },
  {
   "cell_type": "code",
   "execution_count": null,
   "id": "dominant-minneapolis",
   "metadata": {},
   "outputs": [],
   "source": [
    "Z = linkage(X, 'complete')"
   ]
  },
  {
   "cell_type": "code",
   "execution_count": null,
   "id": "related-dependence",
   "metadata": {},
   "outputs": [],
   "source": [
    "plt.figure(figsize=(8,7))\n",
    "dn = dendrogram(Z)\n",
    "plt.show()"
   ]
  },
  {
   "cell_type": "markdown",
   "id": "modern-badge",
   "metadata": {},
   "source": [
    "### Distances:"
   ]
  },
  {
   "cell_type": "markdown",
   "id": "novel-parameter",
   "metadata": {},
   "source": [
    "1. Average: Mean of all pairwise distances between points in the respective clusters.\n",
    "2. Single: Minimum of all pairwise distances between points in the respective clusters.  \n",
    "3. Centroid: Distance between existing cluster centroids. \n",
    "4. Complete: Maximum of all pairwise distances between points in the respective clusters.\n",
    "5. Ward: Merges the two clusters for which the variance within all clusters increases the least."
   ]
  },
  {
   "cell_type": "markdown",
   "id": "gentle-character",
   "metadata": {},
   "source": [
    "Ward is default in ```sklearn```. Complete and average are commonly used. Single can be used to create \"strings\" of points.."
   ]
  },
  {
   "cell_type": "code",
   "execution_count": null,
   "id": "fiscal-cherry",
   "metadata": {},
   "outputs": [],
   "source": [
    "plt.figure(figsize=(8,7))\n",
    "plt.scatter(mX[:,0],mX[:,1],c=my)\n",
    "plt.show()"
   ]
  },
  {
   "cell_type": "code",
   "execution_count": null,
   "id": "ancient-colleague",
   "metadata": {},
   "outputs": [],
   "source": [
    "hclust = AgglomerativeClustering(2).fit(mX)"
   ]
  },
  {
   "cell_type": "code",
   "execution_count": null,
   "id": "exempt-chase",
   "metadata": {},
   "outputs": [],
   "source": [
    "hclust.labels_[0:10]"
   ]
  },
  {
   "cell_type": "code",
   "execution_count": null,
   "id": "rational-boating",
   "metadata": {},
   "outputs": [],
   "source": [
    "plt.figure(figsize=(8,7))\n",
    "plt.scatter(mX[:,0],mX[:,1],c=hclust.labels_,cmap='rainbow')\n",
    "plt.show()"
   ]
  },
  {
   "cell_type": "code",
   "execution_count": null,
   "id": "regional-promise",
   "metadata": {},
   "outputs": [],
   "source": [
    "np.random.seed(1)\n",
    "nmX,nmy = datasets.make_moons(n_samples=500,noise=.1)\n",
    "nmdf=pd.DataFrame(nmX,columns=['feat1','feat2'])\n",
    "nmdf['Class']=nmy\n",
    "nmdf.head()"
   ]
  },
  {
   "cell_type": "code",
   "execution_count": null,
   "id": "scientific-batman",
   "metadata": {},
   "outputs": [],
   "source": [
    "plt.figure(figsize=(8,7))\n",
    "plt.scatter(nmX[:,0],nmX[:,1],c=nmy)\n",
    "plt.show()"
   ]
  },
  {
   "cell_type": "code",
   "execution_count": null,
   "id": "arranged-remedy",
   "metadata": {},
   "outputs": [],
   "source": [
    "hclust = AgglomerativeClustering(2).fit(nmX)"
   ]
  },
  {
   "cell_type": "code",
   "execution_count": null,
   "id": "general-logic",
   "metadata": {},
   "outputs": [],
   "source": [
    "plt.figure(figsize=(8,7))\n",
    "plt.scatter(nmX[:,0],nmX[:,1],c=hclust.labels_,cmap='rainbow')\n",
    "plt.show()"
   ]
  },
  {
   "cell_type": "code",
   "execution_count": null,
   "id": "german-rochester",
   "metadata": {},
   "outputs": [],
   "source": [
    "from sklearn.metrics.cluster import adjusted_rand_score"
   ]
  },
  {
   "cell_type": "code",
   "execution_count": null,
   "id": "attached-report",
   "metadata": {},
   "outputs": [],
   "source": [
    "adjusted_rand_score(nmy,hclust.labels_)"
   ]
  },
  {
   "cell_type": "code",
   "execution_count": null,
   "id": "increasing-universe",
   "metadata": {},
   "outputs": [],
   "source": [
    "mkm=KMeans(2,n_init=20,random_state=0).fit(nmX)"
   ]
  },
  {
   "cell_type": "code",
   "execution_count": null,
   "id": "protecting-directive",
   "metadata": {},
   "outputs": [],
   "source": [
    "adjusted_rand_score(nmy,mkm.labels_)"
   ]
  },
  {
   "cell_type": "markdown",
   "id": "rational-marathon",
   "metadata": {},
   "source": [
    "ARS is like accuracy without fixing labels (so 00110 = 11001) and where adjusted means it penalizes slightly for what you'd be expected to get by random guessing. "
   ]
  },
  {
   "cell_type": "code",
   "execution_count": null,
   "id": "direct-geneva",
   "metadata": {},
   "outputs": [],
   "source": [
    "adjusted_rand_score(nmy,np.random.randint(2,size=len(nmy)))"
   ]
  },
  {
   "cell_type": "code",
   "execution_count": null,
   "id": "ready-stock",
   "metadata": {},
   "outputs": [],
   "source": [
    "shclust = AgglomerativeClustering(2,linkage='single').fit(nmX)"
   ]
  },
  {
   "cell_type": "code",
   "execution_count": null,
   "id": "municipal-decline",
   "metadata": {},
   "outputs": [],
   "source": [
    "plt.figure(figsize=(8,6))\n",
    "plt.scatter(nmX[:,0],nmX[:,1],c=shclust.labels_)\n",
    "plt.show()"
   ]
  },
  {
   "cell_type": "code",
   "execution_count": null,
   "id": "wound-disney",
   "metadata": {},
   "outputs": [],
   "source": [
    "adjusted_rand_score(nmy,shclust.labels_)"
   ]
  },
  {
   "cell_type": "code",
   "execution_count": null,
   "id": "norwegian-saint",
   "metadata": {},
   "outputs": [],
   "source": [
    "chclust = AgglomerativeClustering(2,linkage='average').fit(nmX)"
   ]
  },
  {
   "cell_type": "code",
   "execution_count": null,
   "id": "honest-handy",
   "metadata": {},
   "outputs": [],
   "source": [
    "plt.figure(figsize=(8,6))\n",
    "plt.scatter(nmX[:,0],nmX[:,1],c=chclust.labels_)\n",
    "plt.show()"
   ]
  },
  {
   "cell_type": "markdown",
   "id": "hundred-tactics",
   "metadata": {},
   "source": [
    "#### Sandbox"
   ]
  },
  {
   "cell_type": "markdown",
   "id": "maritime-papua",
   "metadata": {},
   "source": [
    "Play around with Unsupervised methods on the nba data above. For example, compare the K-means clusters. How do they agree / disagree ?"
   ]
  },
  {
   "cell_type": "markdown",
   "id": "gorgeous-hardwood",
   "metadata": {},
   "source": [
    "Or run the PCR model using the PCs we found above."
   ]
  },
  {
   "cell_type": "markdown",
   "id": "premium-cornwall",
   "metadata": {},
   "source": [
    "Or, make clusters of the face data set and try vector quantization on them. \n",
    "Or try clustering the countries data set from the HW."
   ]
  },
  {
   "cell_type": "code",
   "execution_count": null,
   "id": "median-tourist",
   "metadata": {},
   "outputs": [],
   "source": [
    "cntry=pd.read_csv('Country-data.csv')"
   ]
  },
  {
   "cell_type": "code",
   "execution_count": null,
   "id": "amateur-accordance",
   "metadata": {},
   "outputs": [],
   "source": [
    "cntry.head()"
   ]
  },
  {
   "cell_type": "code",
   "execution_count": null,
   "id": "diagnostic-level",
   "metadata": {},
   "outputs": [],
   "source": [
    "Xc=cntry.drop('country',axis=1)"
   ]
  },
  {
   "cell_type": "code",
   "execution_count": null,
   "id": "polar-voltage",
   "metadata": {},
   "outputs": [],
   "source": [
    "X_scaled = StandardScaler().fit_transform(Xc)"
   ]
  },
  {
   "cell_type": "code",
   "execution_count": null,
   "id": "industrial-batch",
   "metadata": {},
   "outputs": [],
   "source": [
    "X_scaled[0]"
   ]
  },
  {
   "cell_type": "code",
   "execution_count": null,
   "id": "whole-blast",
   "metadata": {},
   "outputs": [],
   "source": [
    "cntry_out=km_mse(X_scaled,15)"
   ]
  },
  {
   "cell_type": "code",
   "execution_count": null,
   "id": "reliable-sunset",
   "metadata": {},
   "outputs": [],
   "source": [
    "plt.plot(list(range(1,15)),cntry_out)"
   ]
  },
  {
   "cell_type": "code",
   "execution_count": null,
   "id": "dressed-panic",
   "metadata": {},
   "outputs": [],
   "source": [
    "ckm=KMeans(3,n_init=20,random_state=0).fit(X_scaled)"
   ]
  },
  {
   "cell_type": "code",
   "execution_count": null,
   "id": "respective-investor",
   "metadata": {},
   "outputs": [],
   "source": [
    "(ckm.labels_==2).sum()"
   ]
  },
  {
   "cell_type": "code",
   "execution_count": null,
   "id": "distinct-leave",
   "metadata": {},
   "outputs": [],
   "source": [
    "cntry[(ckm.labels_==2)]"
   ]
  },
  {
   "cell_type": "code",
   "execution_count": null,
   "id": "european-allen",
   "metadata": {},
   "outputs": [],
   "source": [
    "dists=ckm.transform(X_scaled)"
   ]
  },
  {
   "cell_type": "code",
   "execution_count": null,
   "id": "russian-cartoon",
   "metadata": {},
   "outputs": [],
   "source": [
    "dists.min(axis=1)"
   ]
  },
  {
   "cell_type": "code",
   "execution_count": null,
   "id": "attractive-bandwidth",
   "metadata": {},
   "outputs": [],
   "source": [
    "cntry['dist_to_centroid']=dists.min(axis=1)"
   ]
  },
  {
   "cell_type": "code",
   "execution_count": null,
   "id": "adjacent-prairie",
   "metadata": {},
   "outputs": [],
   "source": [
    "cntry.head()"
   ]
  },
  {
   "cell_type": "code",
   "execution_count": null,
   "id": "ordinary-blank",
   "metadata": {},
   "outputs": [],
   "source": [
    "cntry.sort_values(by='dist_to_centroid',ascending=False).head(30)"
   ]
  },
  {
   "cell_type": "code",
   "execution_count": null,
   "id": "honey-omaha",
   "metadata": {},
   "outputs": [],
   "source": [
    "cntry.sort_values(by='dist_to_centroid',ascending=False).tail(30)"
   ]
  },
  {
   "cell_type": "code",
   "execution_count": null,
   "id": "tribal-zimbabwe",
   "metadata": {},
   "outputs": [],
   "source": [
    "cntry['cluster']=ckm.labels_"
   ]
  },
  {
   "cell_type": "code",
   "execution_count": null,
   "id": "legal-import",
   "metadata": {},
   "outputs": [],
   "source": [
    "cntry.head(30)"
   ]
  },
  {
   "cell_type": "code",
   "execution_count": null,
   "id": "injured-matter",
   "metadata": {},
   "outputs": [],
   "source": [
    "cntry[cntry['cluster']==2].sort_values(by='dist_to_centroid',ascending=False).head(30)"
   ]
  },
  {
   "cell_type": "code",
   "execution_count": null,
   "id": "individual-algebra",
   "metadata": {},
   "outputs": [],
   "source": [
    "cntry[cntry['cluster']==2].sort_values(by='dist_to_centroid',ascending=False).tail(30)"
   ]
  },
  {
   "cell_type": "code",
   "execution_count": null,
   "id": "played-attraction",
   "metadata": {},
   "outputs": [],
   "source": [
    "cntry[cntry['cluster']==0].sort_values(by='dist_to_centroid',ascending=False).head(30)"
   ]
  },
  {
   "cell_type": "code",
   "execution_count": null,
   "id": "overhead-witness",
   "metadata": {},
   "outputs": [],
   "source": [
    "cntry[cntry['cluster']==0].sort_values(by='dist_to_centroid',ascending=False).tail(30)"
   ]
  },
  {
   "cell_type": "code",
   "execution_count": null,
   "id": "canadian-scene",
   "metadata": {},
   "outputs": [],
   "source": [
    "cntry[cntry['cluster']==1].sort_values(by='dist_to_centroid',ascending=False).head(30)"
   ]
  },
  {
   "cell_type": "code",
   "execution_count": null,
   "id": "incoming-solomon",
   "metadata": {},
   "outputs": [],
   "source": [
    "cntry[cntry['cluster']==1].sort_values(by='dist_to_centroid',ascending=False).tail(30)"
   ]
  },
  {
   "cell_type": "code",
   "execution_count": null,
   "id": "insured-immigration",
   "metadata": {},
   "outputs": [],
   "source": [
    "linkage_array=ward(X_scaled)\n",
    "plt.figure(figsize=(8,6))\n",
    "dn = dendrogram(linkage_array)\n",
    "plt.show()"
   ]
  },
  {
   "cell_type": "code",
   "execution_count": null,
   "id": "novel-interface",
   "metadata": {},
   "outputs": [],
   "source": [
    "Z=linkage(X_scaled,'centroid')\n",
    "plt.figure(figsize=(8,6))\n",
    "dn = dendrogram(Z)\n",
    "plt.show()"
   ]
  },
  {
   "cell_type": "code",
   "execution_count": null,
   "id": "interim-citizen",
   "metadata": {},
   "outputs": [],
   "source": [
    "ctryclust = AgglomerativeClustering(3).fit(X_scaled)"
   ]
  },
  {
   "cell_type": "code",
   "execution_count": null,
   "id": "alpine-jimmy",
   "metadata": {},
   "outputs": [],
   "source": [
    "pd.crosstab(ctryclust.labels_,ckm.labels_)"
   ]
  },
  {
   "cell_type": "code",
   "execution_count": null,
   "id": "traditional-secretariat",
   "metadata": {},
   "outputs": [],
   "source": [
    "ctryclust = AgglomerativeClustering(2).fit(X_scaled)"
   ]
  },
  {
   "cell_type": "code",
   "execution_count": null,
   "id": "romance-burke",
   "metadata": {},
   "outputs": [],
   "source": [
    "ckm=KMeans(3,n_init=20,random_state=0).fit(X_scaled)"
   ]
  },
  {
   "cell_type": "code",
   "execution_count": null,
   "id": "pointed-irrigation",
   "metadata": {},
   "outputs": [],
   "source": [
    "pd.crosstab(ctryclust.labels_,ckm.labels_)"
   ]
  },
  {
   "cell_type": "code",
   "execution_count": null,
   "id": "frequent-convert",
   "metadata": {},
   "outputs": [],
   "source": [
    "cntry[(ckm.labels_==0)].tail(30)"
   ]
  },
  {
   "cell_type": "code",
   "execution_count": null,
   "id": "equipped-guarantee",
   "metadata": {},
   "outputs": [],
   "source": [
    "cntry[cntry['cluster']==0].sort_values(by='dist_to_centroid',ascending=False).tail(30)"
   ]
  },
  {
   "cell_type": "code",
   "execution_count": null,
   "id": "widespread-trader",
   "metadata": {},
   "outputs": [],
   "source": [
    "cntry[(ckm.labels_==1)].head(30)"
   ]
  },
  {
   "cell_type": "code",
   "execution_count": null,
   "id": "assured-clerk",
   "metadata": {},
   "outputs": [],
   "source": [
    "ckm.cluster_centers_"
   ]
  },
  {
   "cell_type": "code",
   "execution_count": null,
   "id": "graphic-acrylic",
   "metadata": {},
   "outputs": [],
   "source": [
    "cntry.columns"
   ]
  },
  {
   "cell_type": "code",
   "execution_count": null,
   "id": "forty-respect",
   "metadata": {},
   "outputs": [],
   "source": []
  }
 ],
 "metadata": {
  "kernelspec": {
   "display_name": "Python 3",
   "language": "python",
   "name": "python3"
  },
  "language_info": {
   "codemirror_mode": {
    "name": "ipython",
    "version": 3
   },
   "file_extension": ".py",
   "mimetype": "text/x-python",
   "name": "python",
   "nbconvert_exporter": "python",
   "pygments_lexer": "ipython3",
   "version": "3.9.5"
  }
 },
 "nbformat": 4,
 "nbformat_minor": 5
}
