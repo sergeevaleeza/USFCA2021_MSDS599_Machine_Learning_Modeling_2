{
 "cells": [
  {
   "cell_type": "code",
   "execution_count": 1,
   "id": "phantom-newport",
   "metadata": {},
   "outputs": [],
   "source": [
    "import pandas as pd\n",
    "import numpy as np\n",
    "import matplotlib.pyplot as plt\n",
    "import seaborn as sns"
   ]
  },
  {
   "cell_type": "code",
   "execution_count": 2,
   "id": "falling-western",
   "metadata": {},
   "outputs": [],
   "source": [
    "from sklearn.model_selection import cross_validate\n",
    "from sklearn.model_selection import train_test_split\n",
    "from sklearn.metrics import mean_squared_error\n",
    "from sklearn import datasets\n",
    "from sklearn.metrics import accuracy_score"
   ]
  },
  {
   "cell_type": "code",
   "execution_count": 3,
   "id": "numeric-algeria",
   "metadata": {},
   "outputs": [],
   "source": [
    "from sklearn import tree\n",
    "from sklearn.tree import DecisionTreeRegressor\n",
    "from sklearn.tree import DecisionTreeClassifier\n",
    "from sklearn.tree import export_text"
   ]
  },
  {
   "cell_type": "markdown",
   "id": "4f7ee950",
   "metadata": {},
   "source": [
    "Let's review last time and run through a few of the methods we've discussed so far:"
   ]
  },
  {
   "cell_type": "markdown",
   "id": "arranged-rebate",
   "metadata": {},
   "source": [
    "We built decision trees for regression last time. That meant we partition feature space by repeatedly choosing a cut point for the variable that gives the maximal reduction in RSS."
   ]
  },
  {
   "cell_type": "markdown",
   "id": "korean-attempt",
   "metadata": {},
   "source": [
    "<img src=\"TreePic.png\">"
   ]
  },
  {
   "cell_type": "markdown",
   "id": "flush-investigator",
   "metadata": {},
   "source": [
    "Terminal nodes in the tree become increasingly pure (all values in a node are close to the average)."
   ]
  },
  {
   "cell_type": "markdown",
   "id": "opened-hopkins",
   "metadata": {},
   "source": [
    "Growing deep trees lead to low bias (might have enough nodes so that training error is 0) but high variance and poor generalizablity to test data."
   ]
  },
  {
   "cell_type": "markdown",
   "id": "royal-advocate",
   "metadata": {},
   "source": [
    "In order to reduce variance and improve performance on new data we introduced the idea of cost complexity pruning..."
   ]
  },
  {
   "cell_type": "markdown",
   "id": "impressive-facing",
   "metadata": {},
   "source": [
    "Grow a deep tree and prune it back by removing nodes that provide the least benefit in RSS. Did this by minimizing RSS plus a penalty on the tree depth (complexity). "
   ]
  },
  {
   "cell_type": "markdown",
   "id": "durable-extra",
   "metadata": {},
   "source": [
    "This is very much like Ridge regression. Optimize the penalty parameter $\\alpha$ using cross validation."
   ]
  },
  {
   "cell_type": "markdown",
   "id": "horizontal-diversity",
   "metadata": {},
   "source": [
    "#### Example"
   ]
  },
  {
   "cell_type": "markdown",
   "id": "exact-indicator",
   "metadata": {},
   "source": [
    "We were using NBA player salary data."
   ]
  },
  {
   "cell_type": "code",
   "execution_count": 4,
   "id": "cardiac-calendar",
   "metadata": {},
   "outputs": [],
   "source": [
    "pl=pd.read_csv('players.csv')\n",
    "sal=pd.read_csv('salaries_1985to2018.csv')"
   ]
  },
  {
   "cell_type": "code",
   "execution_count": 5,
   "id": "durable-stanley",
   "metadata": {},
   "outputs": [],
   "source": [
    "gp_sal=sal[['player_id','salary','season_end']].groupby('player_id',as_index=False).mean()\n",
    "players=pl.merge(gp_sal,how='left',left_on='_id',right_on='player_id')\n",
    "players=players[players['salary'].notnull()]"
   ]
  },
  {
   "cell_type": "code",
   "execution_count": 6,
   "id": "worst-behavior",
   "metadata": {},
   "outputs": [
    {
     "data": {
      "text/plain": [
       "Index(['_id', 'birthDate', 'birthPlace', 'career_AST', 'career_FG%',\n",
       "       'career_FG3%', 'career_FT%', 'career_G', 'career_PER', 'career_PTS',\n",
       "       'career_TRB', 'career_WS', 'career_eFG%', 'college', 'draft_pick',\n",
       "       'draft_round', 'draft_team', 'draft_year', 'height', 'highSchool',\n",
       "       'name', 'position', 'shoots', 'weight', 'player_id', 'salary',\n",
       "       'season_end'],\n",
       "      dtype='object')"
      ]
     },
     "execution_count": 6,
     "metadata": {},
     "output_type": "execute_result"
    }
   ],
   "source": [
    "players.columns"
   ]
  },
  {
   "cell_type": "code",
   "execution_count": 7,
   "id": "spanish-benjamin",
   "metadata": {},
   "outputs": [],
   "source": [
    "players['logsalary']=np.log(players['salary'])\n",
    "players['logG'] =np.log(players['career_G'])\n",
    "pdf=players[['career_AST', 'career_FG%','career_FG3%', 'career_FT%', 'career_G', 'career_PER', 'career_PTS','career_TRB', 'career_WS', 'career_eFG%',\n",
    "       'logsalary', 'logG','season_end']].copy()"
   ]
  },
  {
   "cell_type": "code",
   "execution_count": 8,
   "id": "pharmaceutical-punishment",
   "metadata": {},
   "outputs": [
    {
     "data": {
      "text/html": [
       "<div>\n",
       "<style scoped>\n",
       "    .dataframe tbody tr th:only-of-type {\n",
       "        vertical-align: middle;\n",
       "    }\n",
       "\n",
       "    .dataframe tbody tr th {\n",
       "        vertical-align: top;\n",
       "    }\n",
       "\n",
       "    .dataframe thead th {\n",
       "        text-align: right;\n",
       "    }\n",
       "</style>\n",
       "<table border=\"1\" class=\"dataframe\">\n",
       "  <thead>\n",
       "    <tr style=\"text-align: right;\">\n",
       "      <th></th>\n",
       "      <th>career_AST</th>\n",
       "      <th>career_FG%</th>\n",
       "      <th>career_FG3%</th>\n",
       "      <th>career_FT%</th>\n",
       "      <th>career_G</th>\n",
       "      <th>career_PER</th>\n",
       "      <th>career_PTS</th>\n",
       "      <th>career_TRB</th>\n",
       "      <th>career_WS</th>\n",
       "      <th>career_eFG%</th>\n",
       "      <th>logsalary</th>\n",
       "      <th>logG</th>\n",
       "      <th>season_end</th>\n",
       "    </tr>\n",
       "  </thead>\n",
       "  <tbody>\n",
       "    <tr>\n",
       "      <th>0</th>\n",
       "      <td>0.3</td>\n",
       "      <td>50.2</td>\n",
       "      <td>0.0</td>\n",
       "      <td>70.1</td>\n",
       "      <td>256</td>\n",
       "      <td>13.0</td>\n",
       "      <td>5.7</td>\n",
       "      <td>3.3</td>\n",
       "      <td>4.8</td>\n",
       "      <td>50.2</td>\n",
       "      <td>13.251284</td>\n",
       "      <td>5.545177</td>\n",
       "      <td>1993.000000</td>\n",
       "    </tr>\n",
       "    <tr>\n",
       "      <th>2</th>\n",
       "      <td>3.6</td>\n",
       "      <td>55.9</td>\n",
       "      <td>5.6</td>\n",
       "      <td>72.1</td>\n",
       "      <td>1560</td>\n",
       "      <td>24.6</td>\n",
       "      <td>24.6</td>\n",
       "      <td>11.2</td>\n",
       "      <td>273.4</td>\n",
       "      <td>55.9</td>\n",
       "      <td>14.576316</td>\n",
       "      <td>7.352441</td>\n",
       "      <td>1987.000000</td>\n",
       "    </tr>\n",
       "    <tr>\n",
       "      <th>3</th>\n",
       "      <td>3.5</td>\n",
       "      <td>44.2</td>\n",
       "      <td>35.4</td>\n",
       "      <td>90.5</td>\n",
       "      <td>586</td>\n",
       "      <td>15.4</td>\n",
       "      <td>14.6</td>\n",
       "      <td>1.9</td>\n",
       "      <td>25.2</td>\n",
       "      <td>47.2</td>\n",
       "      <td>14.606465</td>\n",
       "      <td>6.373320</td>\n",
       "      <td>1995.222222</td>\n",
       "    </tr>\n",
       "    <tr>\n",
       "      <th>4</th>\n",
       "      <td>1.1</td>\n",
       "      <td>41.7</td>\n",
       "      <td>23.7</td>\n",
       "      <td>70.3</td>\n",
       "      <td>236</td>\n",
       "      <td>11.4</td>\n",
       "      <td>7.8</td>\n",
       "      <td>3.3</td>\n",
       "      <td>3.5</td>\n",
       "      <td>42.2</td>\n",
       "      <td>15.150059</td>\n",
       "      <td>5.463832</td>\n",
       "      <td>2002.500000</td>\n",
       "    </tr>\n",
       "    <tr>\n",
       "      <th>5</th>\n",
       "      <td>2.5</td>\n",
       "      <td>47.2</td>\n",
       "      <td>29.7</td>\n",
       "      <td>81.0</td>\n",
       "      <td>830</td>\n",
       "      <td>19.0</td>\n",
       "      <td>18.1</td>\n",
       "      <td>7.5</td>\n",
       "      <td>71.2</td>\n",
       "      <td>47.9</td>\n",
       "      <td>15.980567</td>\n",
       "      <td>6.721426</td>\n",
       "      <td>2003.909091</td>\n",
       "    </tr>\n",
       "  </tbody>\n",
       "</table>\n",
       "</div>"
      ],
      "text/plain": [
       "   career_AST career_FG% career_FG3% career_FT%  career_G career_PER  \\\n",
       "0         0.3       50.2         0.0       70.1       256       13.0   \n",
       "2         3.6       55.9         5.6       72.1      1560       24.6   \n",
       "3         3.5       44.2        35.4       90.5       586       15.4   \n",
       "4         1.1       41.7        23.7       70.3       236       11.4   \n",
       "5         2.5       47.2        29.7       81.0       830       19.0   \n",
       "\n",
       "   career_PTS career_TRB career_WS career_eFG%  logsalary      logG  \\\n",
       "0         5.7        3.3       4.8        50.2  13.251284  5.545177   \n",
       "2        24.6       11.2     273.4        55.9  14.576316  7.352441   \n",
       "3        14.6        1.9      25.2        47.2  14.606465  6.373320   \n",
       "4         7.8        3.3       3.5        42.2  15.150059  5.463832   \n",
       "5        18.1        7.5      71.2        47.9  15.980567  6.721426   \n",
       "\n",
       "    season_end  \n",
       "0  1993.000000  \n",
       "2  1987.000000  \n",
       "3  1995.222222  \n",
       "4  2002.500000  \n",
       "5  2003.909091  "
      ]
     },
     "execution_count": 8,
     "metadata": {},
     "output_type": "execute_result"
    }
   ],
   "source": [
    "pdf.head()"
   ]
  },
  {
   "cell_type": "code",
   "execution_count": 9,
   "id": "robust-reverse",
   "metadata": {},
   "outputs": [],
   "source": [
    "pdf['career_FG%']=pd.to_numeric(pdf['career_FG%'],errors='coerce')\n",
    "pdf['career_FG3%']=pd.to_numeric(pdf['career_FG3%'],errors='coerce')\n",
    "pdf['career_FT%']=pd.to_numeric(pdf['career_FT%'],errors='coerce')\n",
    "pdf['career_PER']=pd.to_numeric(pdf['career_PER'],errors='coerce')\n",
    "pdf['career_TRB']=pd.to_numeric(pdf['career_TRB'],errors='coerce')\n",
    "pdf['career_WS']=pd.to_numeric(pdf['career_WS'],errors='coerce')\n",
    "pdf['career_eFG%']=pd.to_numeric(pdf['career_eFG%'],errors='coerce')"
   ]
  },
  {
   "cell_type": "code",
   "execution_count": 10,
   "id": "formed-neighbor",
   "metadata": {},
   "outputs": [],
   "source": [
    "pdf=pdf.dropna()"
   ]
  },
  {
   "cell_type": "code",
   "execution_count": 11,
   "id": "impaired-hotel",
   "metadata": {},
   "outputs": [
    {
     "data": {
      "text/html": [
       "<div>\n",
       "<style scoped>\n",
       "    .dataframe tbody tr th:only-of-type {\n",
       "        vertical-align: middle;\n",
       "    }\n",
       "\n",
       "    .dataframe tbody tr th {\n",
       "        vertical-align: top;\n",
       "    }\n",
       "\n",
       "    .dataframe thead th {\n",
       "        text-align: right;\n",
       "    }\n",
       "</style>\n",
       "<table border=\"1\" class=\"dataframe\">\n",
       "  <thead>\n",
       "    <tr style=\"text-align: right;\">\n",
       "      <th></th>\n",
       "      <th>career_AST</th>\n",
       "      <th>career_FG%</th>\n",
       "      <th>career_FG3%</th>\n",
       "      <th>career_FT%</th>\n",
       "      <th>career_G</th>\n",
       "      <th>career_PER</th>\n",
       "      <th>career_PTS</th>\n",
       "      <th>career_TRB</th>\n",
       "      <th>career_WS</th>\n",
       "      <th>career_eFG%</th>\n",
       "      <th>logsalary</th>\n",
       "      <th>logG</th>\n",
       "      <th>season_end</th>\n",
       "    </tr>\n",
       "  </thead>\n",
       "  <tbody>\n",
       "    <tr>\n",
       "      <th>0</th>\n",
       "      <td>0.3</td>\n",
       "      <td>50.2</td>\n",
       "      <td>0.0</td>\n",
       "      <td>70.1</td>\n",
       "      <td>256</td>\n",
       "      <td>13.0</td>\n",
       "      <td>5.7</td>\n",
       "      <td>3.3</td>\n",
       "      <td>4.8</td>\n",
       "      <td>50.2</td>\n",
       "      <td>13.251284</td>\n",
       "      <td>5.545177</td>\n",
       "      <td>1993.000000</td>\n",
       "    </tr>\n",
       "    <tr>\n",
       "      <th>2</th>\n",
       "      <td>3.6</td>\n",
       "      <td>55.9</td>\n",
       "      <td>5.6</td>\n",
       "      <td>72.1</td>\n",
       "      <td>1560</td>\n",
       "      <td>24.6</td>\n",
       "      <td>24.6</td>\n",
       "      <td>11.2</td>\n",
       "      <td>273.4</td>\n",
       "      <td>55.9</td>\n",
       "      <td>14.576316</td>\n",
       "      <td>7.352441</td>\n",
       "      <td>1987.000000</td>\n",
       "    </tr>\n",
       "    <tr>\n",
       "      <th>3</th>\n",
       "      <td>3.5</td>\n",
       "      <td>44.2</td>\n",
       "      <td>35.4</td>\n",
       "      <td>90.5</td>\n",
       "      <td>586</td>\n",
       "      <td>15.4</td>\n",
       "      <td>14.6</td>\n",
       "      <td>1.9</td>\n",
       "      <td>25.2</td>\n",
       "      <td>47.2</td>\n",
       "      <td>14.606465</td>\n",
       "      <td>6.373320</td>\n",
       "      <td>1995.222222</td>\n",
       "    </tr>\n",
       "    <tr>\n",
       "      <th>4</th>\n",
       "      <td>1.1</td>\n",
       "      <td>41.7</td>\n",
       "      <td>23.7</td>\n",
       "      <td>70.3</td>\n",
       "      <td>236</td>\n",
       "      <td>11.4</td>\n",
       "      <td>7.8</td>\n",
       "      <td>3.3</td>\n",
       "      <td>3.5</td>\n",
       "      <td>42.2</td>\n",
       "      <td>15.150059</td>\n",
       "      <td>5.463832</td>\n",
       "      <td>2002.500000</td>\n",
       "    </tr>\n",
       "    <tr>\n",
       "      <th>5</th>\n",
       "      <td>2.5</td>\n",
       "      <td>47.2</td>\n",
       "      <td>29.7</td>\n",
       "      <td>81.0</td>\n",
       "      <td>830</td>\n",
       "      <td>19.0</td>\n",
       "      <td>18.1</td>\n",
       "      <td>7.5</td>\n",
       "      <td>71.2</td>\n",
       "      <td>47.9</td>\n",
       "      <td>15.980567</td>\n",
       "      <td>6.721426</td>\n",
       "      <td>2003.909091</td>\n",
       "    </tr>\n",
       "  </tbody>\n",
       "</table>\n",
       "</div>"
      ],
      "text/plain": [
       "   career_AST  career_FG%  career_FG3%  career_FT%  career_G  career_PER  \\\n",
       "0         0.3        50.2          0.0        70.1       256        13.0   \n",
       "2         3.6        55.9          5.6        72.1      1560        24.6   \n",
       "3         3.5        44.2         35.4        90.5       586        15.4   \n",
       "4         1.1        41.7         23.7        70.3       236        11.4   \n",
       "5         2.5        47.2         29.7        81.0       830        19.0   \n",
       "\n",
       "   career_PTS  career_TRB  career_WS  career_eFG%  logsalary      logG  \\\n",
       "0         5.7         3.3        4.8         50.2  13.251284  5.545177   \n",
       "2        24.6        11.2      273.4         55.9  14.576316  7.352441   \n",
       "3        14.6         1.9       25.2         47.2  14.606465  6.373320   \n",
       "4         7.8         3.3        3.5         42.2  15.150059  5.463832   \n",
       "5        18.1         7.5       71.2         47.9  15.980567  6.721426   \n",
       "\n",
       "    season_end  \n",
       "0  1993.000000  \n",
       "2  1987.000000  \n",
       "3  1995.222222  \n",
       "4  2002.500000  \n",
       "5  2003.909091  "
      ]
     },
     "execution_count": 11,
     "metadata": {},
     "output_type": "execute_result"
    }
   ],
   "source": [
    "pdf.head()"
   ]
  },
  {
   "cell_type": "code",
   "execution_count": 12,
   "id": "brief-chorus",
   "metadata": {},
   "outputs": [],
   "source": [
    "X=pdf.drop('logsalary',axis=1)\n",
    "y=pdf['logsalary']"
   ]
  },
  {
   "cell_type": "code",
   "execution_count": 13,
   "id": "referenced-division",
   "metadata": {},
   "outputs": [],
   "source": [
    "X_train, X_test, y_train, y_test = train_test_split(X,y,test_size=0.3, random_state=5)"
   ]
  },
  {
   "cell_type": "code",
   "execution_count": 14,
   "id": "peripheral-submission",
   "metadata": {},
   "outputs": [],
   "source": [
    "full_tree = DecisionTreeRegressor(random_state=2).fit(X_train,y_train)"
   ]
  },
  {
   "cell_type": "code",
   "execution_count": 15,
   "id": "marine-lending",
   "metadata": {},
   "outputs": [
    {
     "data": {
      "text/plain": [
       "6.260800835087395e-33"
      ]
     },
     "execution_count": 15,
     "metadata": {},
     "output_type": "execute_result"
    }
   ],
   "source": [
    "mean_squared_error(full_tree.predict(X_train), y_train)"
   ]
  },
  {
   "cell_type": "code",
   "execution_count": 16,
   "id": "6ce1a787",
   "metadata": {},
   "outputs": [
    {
     "data": {
      "text/plain": [
       "24"
      ]
     },
     "execution_count": 16,
     "metadata": {},
     "output_type": "execute_result"
    }
   ],
   "source": [
    "full_tree.get_depth()"
   ]
  },
  {
   "cell_type": "code",
   "execution_count": 17,
   "id": "pharmaceutical-criminal",
   "metadata": {},
   "outputs": [
    {
     "data": {
      "text/plain": [
       "0.59"
      ]
     },
     "execution_count": 17,
     "metadata": {},
     "output_type": "execute_result"
    }
   ],
   "source": [
    "np.round(mean_squared_error(full_tree.predict(X_test), y_test),3)"
   ]
  },
  {
   "cell_type": "code",
   "execution_count": 18,
   "id": "acting-belle",
   "metadata": {},
   "outputs": [
    {
     "data": {
      "text/plain": [
       "0.6436513823076471"
      ]
     },
     "execution_count": 18,
     "metadata": {},
     "output_type": "execute_result"
    }
   ],
   "source": [
    "full_tree.score(X_test,y_test)"
   ]
  },
  {
   "cell_type": "code",
   "execution_count": 19,
   "id": "employed-batch",
   "metadata": {},
   "outputs": [
    {
     "data": {
      "image/png": "[encoded data removed]",
      "text/plain": [
       "<Figure size 576x432 with 1 Axes>"
      ]
     },
     "metadata": {
      "needs_background": "light"
     },
     "output_type": "display_data"
    }
   ],
   "source": [
    "plt.figure(figsize=(8,6))\n",
    "nfeat=X.shape[1]\n",
    "plt.barh(np.arange(nfeat),full_tree.feature_importances_,align='center')\n",
    "plt.yticks(np.arange(nfeat),list(X.columns))\n",
    "plt.ylim(-1,nfeat)\n",
    "plt.show()"
   ]
  },
  {
   "cell_type": "markdown",
   "id": "bbf90467",
   "metadata": {},
   "source": [
    "Last time we didn't include season_end... but it's an important feature and adds considerably to the model."
   ]
  },
  {
   "cell_type": "markdown",
   "id": "d095eb30",
   "metadata": {},
   "source": [
    "Now, we know tyhat the full tree overfits, so we use cost complexity pruning to improve prediction:"
   ]
  },
  {
   "cell_type": "code",
   "execution_count": 20,
   "id": "30c1f5c9",
   "metadata": {},
   "outputs": [],
   "source": [
    "path = full_tree.cost_complexity_pruning_path(X_train, y_train)\n",
    "ccp_alphas, impurities = path.ccp_alphas, path.impurities"
   ]
  },
  {
   "cell_type": "code",
   "execution_count": 21,
   "id": "naughty-connectivity",
   "metadata": {},
   "outputs": [
    {
     "data": {
      "image/png": "[encoded data removed]",
      "text/plain": [
       "<Figure size 576x432 with 1 Axes>"
      ]
     },
     "metadata": {
      "needs_background": "light"
     },
     "output_type": "display_data"
    }
   ],
   "source": [
    "fig, ax = plt.subplots(figsize=(8,6))\n",
    "ax.plot(ccp_alphas, impurities, marker='o', drawstyle=\"steps-post\")\n",
    "ax.set_xlabel(\"effective alpha\")\n",
    "ax.set_ylabel(\"total MSE of leaves\")\n",
    "ax.set_title(\"Total MSE vs effective alpha for training set\")\n",
    "plt.show()"
   ]
  },
  {
   "cell_type": "markdown",
   "id": "01e44c90",
   "metadata": {},
   "source": [
    "See that as we prune back the tree (make it shorter), the bias increases: nodes become less pure, and MSE increases. The hope is that this decreases overfitting and variance and leads to better generalizability."
   ]
  },
  {
   "cell_type": "code",
   "execution_count": 22,
   "id": "12f6aeff",
   "metadata": {},
   "outputs": [
    {
     "data": {
      "text/plain": [
       "1409"
      ]
     },
     "execution_count": 22,
     "metadata": {},
     "output_type": "execute_result"
    }
   ],
   "source": [
    "len(ccp_alphas)"
   ]
  },
  {
   "cell_type": "code",
   "execution_count": 23,
   "id": "composed-depression",
   "metadata": {},
   "outputs": [
    {
     "name": "stdout",
     "output_type": "stream",
     "text": [
      "Number of nodes in the last tree is: 3 with ccp_alpha: 0.5623797016621641\n"
     ]
    }
   ],
   "source": [
    "regs = []\n",
    "for ccp_alpha in ccp_alphas:\n",
    "    reg = DecisionTreeRegressor(random_state=0, ccp_alpha=ccp_alpha)\n",
    "    reg.fit(X_train, y_train)\n",
    "    regs.append(reg)\n",
    "print(\"Number of nodes in the last tree is: {} with ccp_alpha: {}\".format(\n",
    "      regs[-1].tree_.node_count, ccp_alphas[-1]))"
   ]
  },
  {
   "cell_type": "markdown",
   "id": "592a7e16",
   "metadata": {},
   "source": [
    "The last tree with the largest value of alpha penalizes deep trees so much that we have depth 3."
   ]
  },
  {
   "cell_type": "code",
   "execution_count": 24,
   "id": "governing-mandate",
   "metadata": {},
   "outputs": [],
   "source": [
    "regs = regs[:-1]\n",
    "ccp_alphas = ccp_alphas[:-1]"
   ]
  },
  {
   "cell_type": "code",
   "execution_count": 25,
   "id": "broken-defeat",
   "metadata": {},
   "outputs": [],
   "source": [
    "node_counts = [reg.tree_.node_count for reg in regs]"
   ]
  },
  {
   "cell_type": "code",
   "execution_count": 26,
   "id": "saved-canberra",
   "metadata": {},
   "outputs": [
    {
     "data": {
      "image/png": "[encoded data removed]",
      "text/plain": [
       "<Figure size 576x432 with 2 Axes>"
      ]
     },
     "metadata": {
      "needs_background": "light"
     },
     "output_type": "display_data"
    }
   ],
   "source": [
    "node_counts = [reg.tree_.node_count for reg in regs]\n",
    "depth = [reg.tree_.max_depth for reg in regs]\n",
    "fig, ax = plt.subplots(2, 1,figsize=(8,6))\n",
    "ax[0].plot(ccp_alphas, node_counts, marker='o', drawstyle=\"steps-post\")\n",
    "ax[0].set_xlabel(\"alpha\")\n",
    "ax[0].set_ylabel(\"number of nodes\")\n",
    "ax[0].set_title(\"Number of nodes vs alpha\")\n",
    "ax[1].plot(ccp_alphas, depth, marker='o', drawstyle=\"steps-post\",color='g')\n",
    "ax[1].set_xlabel(\"alpha\")\n",
    "ax[1].set_ylabel(\"depth of tree\")\n",
    "ax[1].set_title(\"Depth vs alpha\")\n",
    "fig.tight_layout()\n",
    "plt.show()"
   ]
  },
  {
   "cell_type": "code",
   "execution_count": 27,
   "id": "competitive-bhutan",
   "metadata": {},
   "outputs": [
    {
     "data": {
      "image/png": "[encoded data removed]",
      "text/plain": [
       "<Figure size 576x432 with 1 Axes>"
      ]
     },
     "metadata": {
      "needs_background": "light"
     },
     "output_type": "display_data"
    }
   ],
   "source": [
    "train_scores = [reg.score(X_train, y_train) for reg in regs]\n",
    "test_scores = [reg.score(X_test, y_test) for reg in regs]\n",
    "\n",
    "fig, ax = plt.subplots(figsize=(8,6))\n",
    "ax.set_xlabel(\"alpha\")\n",
    "ax.set_ylabel(\"R^2\")\n",
    "ax.set_title(\"R^2 vs alpha for training and testing sets\")\n",
    "ax.plot(ccp_alphas, train_scores, marker='o', label=\"train\",\n",
    "        drawstyle=\"steps-post\")\n",
    "ax.plot(ccp_alphas, test_scores, marker='o', label=\"test\",\n",
    "        drawstyle=\"steps-post\")\n",
    "ax.legend()\n",
    "plt.show()"
   ]
  },
  {
   "cell_type": "code",
   "execution_count": 28,
   "id": "forced-jewel",
   "metadata": {},
   "outputs": [
    {
     "data": {
      "image/png": "[encoded data removed]",
      "text/plain": [
       "<Figure size 576x432 with 1 Axes>"
      ]
     },
     "metadata": {
      "needs_background": "light"
     },
     "output_type": "display_data"
    }
   ],
   "source": [
    "train_scores = [mean_squared_error(reg.predict(X_train), y_train) for reg in regs]\n",
    "test_scores = [mean_squared_error(reg.predict(X_test),y_test) for reg in regs]\n",
    "\n",
    "fig, ax = plt.subplots(figsize=(8,6))\n",
    "ax.set_xlabel(\"alpha\")\n",
    "ax.set_ylabel(\"MSE\")\n",
    "ax.set_title(\"MSE vs alpha for training and testing sets\")\n",
    "ax.plot(ccp_alphas, train_scores, marker='o', label=\"train\",\n",
    "        drawstyle=\"steps-post\")\n",
    "ax.plot(ccp_alphas, test_scores, marker='o', label=\"test\",\n",
    "        drawstyle=\"steps-post\")\n",
    "ax.legend()\n",
    "plt.show()"
   ]
  },
  {
   "cell_type": "markdown",
   "id": "70e3908f",
   "metadata": {},
   "source": [
    "These are useful pictures to understand what is happening, but we're cheating by using the test set to get a sense of where the optimal alpha lives (note: between 0 and 0.05). "
   ]
  },
  {
   "cell_type": "markdown",
   "id": "9745e2e6",
   "metadata": {},
   "source": [
    "The right way to find the optimal alpha is cross validation. This is computationally expensive: for each possible value of alpha we build the decision tree regressor on 4 training folds and validate on the hold-out test fold. We repeat 5 times using each fold as the test fold once. Keep track of the average CV error. But number of models we're building here is the length of the list of alphas (1400) times 5."
   ]
  },
  {
   "cell_type": "markdown",
   "id": "continued-marshall",
   "metadata": {},
   "source": [
    "** WARNING ** the cell below is slow to run on the full list of alphas."
   ]
  },
  {
   "cell_type": "code",
   "execution_count": 29,
   "id": "defined-commander",
   "metadata": {},
   "outputs": [],
   "source": [
    "cvres=[]\n",
    "for a in ccp_alphas:\n",
    "    reg = DecisionTreeRegressor(random_state=0, ccp_alpha= a)\n",
    "    cvreg = cross_validate(reg, X_train, y_train, cv=5, scoring='neg_mean_squared_error')\n",
    "    cvres.append(cvreg['test_score'].mean())"
   ]
  },
  {
   "cell_type": "code",
   "execution_count": 30,
   "id": "satellite-football",
   "metadata": {},
   "outputs": [
    {
     "data": {
      "text/plain": [
       "1392"
      ]
     },
     "execution_count": 30,
     "metadata": {},
     "output_type": "execute_result"
    }
   ],
   "source": [
    "np.argmax(cvres)"
   ]
  },
  {
   "cell_type": "code",
   "execution_count": 31,
   "id": "726b7f69",
   "metadata": {},
   "outputs": [
    {
     "data": {
      "text/plain": [
       "0.00717800581053344"
      ]
     },
     "execution_count": 31,
     "metadata": {},
     "output_type": "execute_result"
    }
   ],
   "source": [
    "ccp_alphas[1392]"
   ]
  },
  {
   "cell_type": "code",
   "execution_count": 32,
   "id": "still-preserve",
   "metadata": {},
   "outputs": [
    {
     "data": {
      "text/plain": [
       "0.00717800581053344"
      ]
     },
     "execution_count": 32,
     "metadata": {},
     "output_type": "execute_result"
    }
   ],
   "source": [
    "optalp=ccp_alphas[np.argmax(cvres)]\n",
    "optalp"
   ]
  },
  {
   "cell_type": "markdown",
   "id": "daf3b237",
   "metadata": {},
   "source": [
    "Note: this alpha--obtained via cross validation--agrees with what we expected from the pictires above on the test set. "
   ]
  },
  {
   "cell_type": "markdown",
   "id": "204553c7",
   "metadata": {},
   "source": [
    "Now re-fit with ```optalp``` on the full training set."
   ]
  },
  {
   "cell_type": "code",
   "execution_count": 33,
   "id": "german-treat",
   "metadata": {},
   "outputs": [],
   "source": [
    "regO = DecisionTreeRegressor(random_state=0, ccp_alpha=optalp).fit(X_train,y_train)"
   ]
  },
  {
   "cell_type": "markdown",
   "id": "0103783b",
   "metadata": {},
   "source": [
    "How deep is this tree? How does it compare to the full tree?"
   ]
  },
  {
   "cell_type": "code",
   "execution_count": 34,
   "id": "enhanced-trouble",
   "metadata": {},
   "outputs": [
    {
     "name": "stdout",
     "output_type": "stream",
     "text": [
      "6 : 24\n"
     ]
    }
   ],
   "source": [
    "print(regO.get_depth(),':',full_tree.get_depth())"
   ]
  },
  {
   "cell_type": "markdown",
   "id": "c1f502a0",
   "metadata": {},
   "source": [
    "Compare\n",
    "metrics:"
   ]
  },
  {
   "cell_type": "code",
   "execution_count": 35,
   "id": "functioning-plaintiff",
   "metadata": {},
   "outputs": [
    {
     "name": "stdout",
     "output_type": "stream",
     "text": [
      "The pruned tree has R-squared score 0.7011602638299941 while the full tree has R-squared 0.6436513823076471\n"
     ]
    }
   ],
   "source": [
    "print(\"The pruned tree has R-squared score {} while the full tree has R-squared {}\".format(regO.score(X_test,y_test),full_tree.score(X_test,y_test)))"
   ]
  },
  {
   "cell_type": "code",
   "execution_count": 36,
   "id": "discrete-waste",
   "metadata": {},
   "outputs": [
    {
     "name": "stdout",
     "output_type": "stream",
     "text": [
      "The pruned tree has mean-squared-error score 0.4951354602857112 while the full tree has mean-squared-error 0.5904195978238492\n"
     ]
    }
   ],
   "source": [
    "print(\"The pruned tree has mean-squared-error score {} while the full tree has mean-squared-error {}\".format(mean_squared_error(regO.predict(X_test),y_test),mean_squared_error(full_tree.predict(X_test),y_test)))"
   ]
  },
  {
   "cell_type": "markdown",
   "id": "64db8954",
   "metadata": {},
   "source": [
    "The pruned tree is significantly better on both metrics. "
   ]
  },
  {
   "cell_type": "code",
   "execution_count": 37,
   "id": "atmospheric-robinson",
   "metadata": {},
   "outputs": [
    {
     "data": {
      "image/png": "[encoded data removed]",
      "text/plain": [
       "<Figure size 576x432 with 1 Axes>"
      ]
     },
     "metadata": {
      "needs_background": "light"
     },
     "output_type": "display_data"
    }
   ],
   "source": [
    "plt.figure(figsize = (8,6))\n",
    "plt.scatter(y_test,regO.predict(X_test))\n",
    "plt.xlabel(\"acutal log-salary\")\n",
    "plt.ylabel(\"predicted log-salary\")\n",
    "plt.show()"
   ]
  },
  {
   "cell_type": "markdown",
   "id": "generic-circle",
   "metadata": {},
   "source": [
    "We've been working with trees, but is it worth it? Are we doing better than plain old linear regression?"
   ]
  },
  {
   "cell_type": "code",
   "execution_count": 38,
   "id": "peripheral-frost",
   "metadata": {},
   "outputs": [],
   "source": [
    "from sklearn.linear_model import LinearRegression"
   ]
  },
  {
   "cell_type": "code",
   "execution_count": 39,
   "id": "acquired-animal",
   "metadata": {},
   "outputs": [
    {
     "data": {
      "text/plain": [
       "0.4366046371477958"
      ]
     },
     "execution_count": 39,
     "metadata": {},
     "output_type": "execute_result"
    }
   ],
   "source": [
    "ols=LinearRegression().fit(X_train,y_train)\n",
    "mean_squared_error(ols.predict(X_test),y_test)"
   ]
  },
  {
   "cell_type": "code",
   "execution_count": 40,
   "id": "selected-paragraph",
   "metadata": {},
   "outputs": [
    {
     "data": {
      "text/plain": [
       "0.7364866283247826"
      ]
     },
     "execution_count": 40,
     "metadata": {},
     "output_type": "execute_result"
    }
   ],
   "source": [
    "ols.score(X_test,y_test)"
   ]
  },
  {
   "cell_type": "markdown",
   "id": "sharing-newsletter",
   "metadata": {},
   "source": [
    "Alas, still not better than OLS regression! Maybe Ridge regression is better?"
   ]
  },
  {
   "cell_type": "code",
   "execution_count": 41,
   "id": "fresh-projection",
   "metadata": {},
   "outputs": [],
   "source": [
    "from sklearn.linear_model import Ridge\n",
    "from sklearn.linear_model import RidgeCV"
   ]
  },
  {
   "cell_type": "code",
   "execution_count": 42,
   "id": "broken-validation",
   "metadata": {},
   "outputs": [],
   "source": [
    "alphas = 10**np.linspace(5,-3,100)"
   ]
  },
  {
   "cell_type": "code",
   "execution_count": 43,
   "id": "interpreted-mills",
   "metadata": {},
   "outputs": [
    {
     "name": "stderr",
     "output_type": "stream",
     "text": [
      "/home/hamstersnail/miniconda3/lib/python3.9/site-packages/sklearn/linear_model/_base.py:141: FutureWarning: 'normalize' was deprecated in version 1.0 and will be removed in 1.2.\n",
      "If you wish to scale the data, use Pipeline with a StandardScaler in a preprocessing stage. To reproduce the previous behavior:\n",
      "\n",
      "from sklearn.pipeline import make_pipeline\n",
      "\n",
      "model = make_pipeline(StandardScaler(with_mean=False), _RidgeGCV())\n",
      "\n",
      "If you wish to pass a sample_weight parameter, you need to pass it as a fit parameter to each step of the pipeline as follows:\n",
      "\n",
      "kwargs = {s[0] + '__sample_weight': sample_weight for s in model.steps}\n",
      "model.fit(X, y, **kwargs)\n",
      "\n",
      "\n",
      "  warnings.warn(\n"
     ]
    },
    {
     "data": {
      "text/plain": [
       "0.004430621457583878"
      ]
     },
     "execution_count": 43,
     "metadata": {},
     "output_type": "execute_result"
    }
   ],
   "source": [
    "ridgecv = RidgeCV(alphas = alphas, scoring = 'neg_mean_squared_error', normalize = True)\n",
    "ridgecv.fit(X_train, y_train)\n",
    "ridgecv.alpha_"
   ]
  },
  {
   "cell_type": "code",
   "execution_count": 44,
   "id": "rubber-biography",
   "metadata": {},
   "outputs": [
    {
     "name": "stderr",
     "output_type": "stream",
     "text": [
      "/home/hamstersnail/miniconda3/lib/python3.9/site-packages/sklearn/linear_model/_base.py:141: FutureWarning: 'normalize' was deprecated in version 1.0 and will be removed in 1.2.\n",
      "If you wish to scale the data, use Pipeline with a StandardScaler in a preprocessing stage. To reproduce the previous behavior:\n",
      "\n",
      "from sklearn.pipeline import make_pipeline\n",
      "\n",
      "model = make_pipeline(StandardScaler(with_mean=False), Ridge())\n",
      "\n",
      "If you wish to pass a sample_weight parameter, you need to pass it as a fit parameter to each step of the pipeline as follows:\n",
      "\n",
      "kwargs = {s[0] + '__sample_weight': sample_weight for s in model.steps}\n",
      "model.fit(X, y, **kwargs)\n",
      "\n",
      "Set parameter alpha to: original_alpha * n_samples. \n",
      "  warnings.warn(\n"
     ]
    },
    {
     "data": {
      "text/plain": [
       "Ridge(alpha=0.004430621457583878, normalize=True)"
      ]
     },
     "execution_count": 44,
     "metadata": {},
     "output_type": "execute_result"
    }
   ],
   "source": [
    "ridgemod = Ridge(alpha = ridgecv.alpha_, normalize = True)\n",
    "ridgemod.fit(X_train, y_train)"
   ]
  },
  {
   "cell_type": "code",
   "execution_count": 45,
   "id": "adverse-sport",
   "metadata": {},
   "outputs": [
    {
     "data": {
      "text/plain": [
       "0.43591660349203437"
      ]
     },
     "execution_count": 45,
     "metadata": {},
     "output_type": "execute_result"
    }
   ],
   "source": [
    "y_pred=ridgemod.predict(X_test)\n",
    "mean_squared_error(y_test, y_pred)"
   ]
  },
  {
   "cell_type": "code",
   "execution_count": 46,
   "id": "textile-publicity",
   "metadata": {},
   "outputs": [
    {
     "data": {
      "text/plain": [
       "0.7369018920508854"
      ]
     },
     "execution_count": 46,
     "metadata": {},
     "output_type": "execute_result"
    }
   ],
   "source": [
    "ridgemod.score(X_test,y_test)"
   ]
  },
  {
   "cell_type": "markdown",
   "id": "inclusive-boards",
   "metadata": {},
   "source": [
    "Virtually no improvement using Ridge Regression here."
   ]
  },
  {
   "cell_type": "markdown",
   "id": "a7c32d02",
   "metadata": {},
   "source": [
    "Maybe ***knn*** regression?"
   ]
  },
  {
   "cell_type": "code",
   "execution_count": 47,
   "id": "51b845a6",
   "metadata": {},
   "outputs": [],
   "source": [
    "from sklearn.neighbors import KNeighborsRegressor"
   ]
  },
  {
   "cell_type": "code",
   "execution_count": 48,
   "id": "11f0cf85",
   "metadata": {},
   "outputs": [],
   "source": [
    "knn_cv_results=[]\n",
    "for k in range(1,50):\n",
    "    knn_regressor = KNeighborsRegressor(n_neighbors=k)\n",
    "    cv_nn = cross_validate(knn_regressor, X_train, y_train, cv=5, scoring='neg_mean_squared_error')\n",
    "    knn_cv_results.append(cv_nn['test_score'].mean())"
   ]
  },
  {
   "cell_type": "code",
   "execution_count": 49,
   "id": "63bec7df",
   "metadata": {},
   "outputs": [
    {
     "data": {
      "text/plain": [
       "6"
      ]
     },
     "execution_count": 49,
     "metadata": {},
     "output_type": "execute_result"
    }
   ],
   "source": [
    "np.argmax(knn_cv_results)"
   ]
  },
  {
   "cell_type": "code",
   "execution_count": 50,
   "id": "1471d768",
   "metadata": {},
   "outputs": [],
   "source": [
    "knn_reg_model=KNeighborsRegressor(n_neighbors=7).fit(X_train, y_train)"
   ]
  },
  {
   "cell_type": "code",
   "execution_count": 51,
   "id": "277ca8ba",
   "metadata": {},
   "outputs": [
    {
     "data": {
      "text/plain": [
       "0.6640272568462179"
      ]
     },
     "execution_count": 51,
     "metadata": {},
     "output_type": "execute_result"
    }
   ],
   "source": [
    "knn_reg_model.score(X_test,y_test)"
   ]
  },
  {
   "cell_type": "markdown",
   "id": "5c698ec9",
   "metadata": {},
   "source": [
    "Worse! Let's see if we can improve our tree regressor. "
   ]
  },
  {
   "cell_type": "markdown",
   "id": "06915cbf",
   "metadata": {},
   "source": [
    "WARNING: Comparing different models' performances on the test set in order to choose the best one is *also* cheating. We really need a trianing set, a validation set, and a test set."
   ]
  },
  {
   "cell_type": "markdown",
   "id": "855d8383",
   "metadata": {},
   "source": [
    "First idea:"
   ]
  },
  {
   "cell_type": "markdown",
   "id": "hearing-surname",
   "metadata": {},
   "source": [
    "#### Bagging"
   ]
  },
  {
   "cell_type": "markdown",
   "id": "accepted-arctic",
   "metadata": {},
   "source": [
    "Idea: Create many decision trees (grown deep: no pruning). We know they will overfit-- i.e, will have high variance."
   ]
  },
  {
   "cell_type": "markdown",
   "id": "relative-moderator",
   "metadata": {},
   "source": [
    "Reduce variance by *averaging*. People's heights will have much more variation then average heights of groups of 10 people. If we had many trees, and averaged their results, we might get a lower bias model with reduced variance."
   ]
  },
  {
   "cell_type": "markdown",
   "id": "b3808a97",
   "metadata": {},
   "source": [
    "Indeed, if a random variable $X$ has variance $\\sigma^2$ then the distribution of the sample mean $\\overline{X}$ has variance $\\frac{\\sigma^2}{\\sqrt{n}}$ where $n$ is sample size."
   ]
  },
  {
   "cell_type": "markdown",
   "id": "49e1beb4",
   "metadata": {},
   "source": [
    "Problem: there's only one training set-- so how do we fit different trees to average? "
   ]
  },
  {
   "cell_type": "markdown",
   "id": "c5bb6615",
   "metadata": {},
   "source": [
    "The bootstrap."
   ]
  },
  {
   "cell_type": "markdown",
   "id": "554559e5",
   "metadata": {},
   "source": [
    "### A short digression on bootstrapping"
   ]
  },
  {
   "cell_type": "markdown",
   "id": "800a11fa",
   "metadata": {},
   "source": [
    "Back to Boston marathon, 2017. Let's look at the distribution of runners' paces (in minutes per mile):"
   ]
  },
  {
   "cell_type": "code",
   "execution_count": 52,
   "id": "b5072e92",
   "metadata": {},
   "outputs": [],
   "source": [
    "mar=pd.read_csv('marathon_results_2017.csv')"
   ]
  },
  {
   "cell_type": "code",
   "execution_count": 53,
   "id": "ef49ab68",
   "metadata": {},
   "outputs": [],
   "source": [
    "def to_minutes(row):\n",
    "    x= row['Official Time'].split(\":\")\n",
    "    return (int(x[0])*3600+int(x[1])*60+int(x[2]))/(60*26.2)\n",
    "mar['Pace']=mar.apply(to_minutes,axis=1)"
   ]
  },
  {
   "cell_type": "code",
   "execution_count": 54,
   "id": "69c87a66",
   "metadata": {},
   "outputs": [
    {
     "data": {
      "text/plain": [
       "<AxesSubplot:>"
      ]
     },
     "execution_count": 54,
     "metadata": {},
     "output_type": "execute_result"
    },
    {
     "data": {
      "image/png": "[encoded data removed]",
      "text/plain": [
       "<Figure size 432x288 with 1 Axes>"
      ]
     },
     "metadata": {
      "needs_background": "light"
     },
     "output_type": "display_data"
    }
   ],
   "source": [
    "mar['Pace'].hist(bins=30)"
   ]
  },
  {
   "cell_type": "markdown",
   "id": "de7dd398",
   "metadata": {},
   "source": [
    "We actually know the true populaiton mean/median paces: This is ***everyone***, not a sample."
   ]
  },
  {
   "cell_type": "code",
   "execution_count": 55,
   "id": "17d83fe4",
   "metadata": {},
   "outputs": [
    {
     "name": "stdout",
     "output_type": "stream",
     "text": [
      "Mean time: 9.086 Median Time: 8.842\n"
     ]
    }
   ],
   "source": [
    "print(\"Mean time: {}\".format(np.round(mar['Pace'].mean(),3)), \"Median Time: {}\".format(np.round(mar['Pace'].median(),3)))"
   ]
  },
  {
   "cell_type": "markdown",
   "id": "88d4720d",
   "metadata": {},
   "source": [
    "But what if we did only have a sample? Say of 100 results?"
   ]
  },
  {
   "cell_type": "code",
   "execution_count": 56,
   "id": "1d540993",
   "metadata": {},
   "outputs": [],
   "source": [
    "samp=mar.sample(n=100,random_state=10)"
   ]
  },
  {
   "cell_type": "markdown",
   "id": "6e347dbc",
   "metadata": {},
   "source": [
    "Sample mean and median:"
   ]
  },
  {
   "cell_type": "code",
   "execution_count": 57,
   "id": "a3089de5",
   "metadata": {},
   "outputs": [
    {
     "name": "stdout",
     "output_type": "stream",
     "text": [
      "9.283 : 8.912\n"
     ]
    }
   ],
   "source": [
    "print(np.round(samp['Pace'].mean(),3),\":\",np.round(samp['Pace'].median(),3))"
   ]
  },
  {
   "cell_type": "markdown",
   "id": "fb19a29a",
   "metadata": {},
   "source": [
    "A typical problem in statistics is to use the sample data to give a 95% confidence interval for the mean: an interval which captures the true (fixed) population mean witrh probability 0.95."
   ]
  },
  {
   "cell_type": "code",
   "execution_count": 58,
   "id": "62d9f0d8",
   "metadata": {},
   "outputs": [
    {
     "data": {
      "text/plain": [
       "1.8033609476886534"
      ]
     },
     "execution_count": 58,
     "metadata": {},
     "output_type": "execute_result"
    }
   ],
   "source": [
    "samp['Pace'].std()"
   ]
  },
  {
   "cell_type": "code",
   "execution_count": 59,
   "id": "001fd0ca",
   "metadata": {},
   "outputs": [],
   "source": [
    "from scipy import stats"
   ]
  },
  {
   "cell_type": "code",
   "execution_count": 60,
   "id": "30055268",
   "metadata": {},
   "outputs": [
    {
     "data": {
      "text/plain": [
       "1.9842169515086827"
      ]
     },
     "execution_count": 60,
     "metadata": {},
     "output_type": "execute_result"
    }
   ],
   "source": [
    "t_crit = np.abs(stats.t.ppf((1-.95)/2,99)) \n",
    "t_crit"
   ]
  },
  {
   "cell_type": "markdown",
   "id": "fa03661b",
   "metadata": {},
   "source": [
    "Slightly bigger than the ```z_crit``` of 1.96"
   ]
  },
  {
   "cell_type": "markdown",
   "id": "ca0a4aae",
   "metadata": {},
   "source": [
    "$$\n",
    "\\overline{x} \\pm t_{.95,df}\\cdot\\frac{s}{\\sqrt{n}}\n",
    "$$"
   ]
  },
  {
   "cell_type": "code",
   "execution_count": 61,
   "id": "f0f60224",
   "metadata": {},
   "outputs": [
    {
     "name": "stdout",
     "output_type": "stream",
     "text": [
      "( 8.924839458192775 , 9.640491330611294 )\n"
     ]
    }
   ],
   "source": [
    "print(\"(\",samp['Pace'].mean()-t_crit*samp['Pace'].std()/np.sqrt(100),\",\",\n",
    "samp['Pace'].mean()+t_crit*samp['Pace'].std()/np.sqrt(100),\")\")"
   ]
  },
  {
   "cell_type": "markdown",
   "id": "87a35bf8",
   "metadata": {},
   "source": [
    "^^ Does catch the true mean pace:"
   ]
  },
  {
   "cell_type": "code",
   "execution_count": 62,
   "id": "a7176325",
   "metadata": {},
   "outputs": [
    {
     "data": {
      "text/plain": [
       "9.08623114365077"
      ]
     },
     "execution_count": 62,
     "metadata": {},
     "output_type": "execute_result"
    }
   ],
   "source": [
    "mar['Pace'].mean()"
   ]
  },
  {
   "cell_type": "markdown",
   "id": "35284a8a",
   "metadata": {},
   "source": [
    "Note: this relies an assumption of normality of underlying population (which looks false here) or an invocation of the CLT since sample size is large, and interpreting our confidence intervals as *approximate*."
   ]
  },
  {
   "cell_type": "markdown",
   "id": "8fdd44f0",
   "metadata": {},
   "source": [
    "What if we wanted a confidence interval for the median? Doesn't have such a familiar normal theory that gives CIs. Or what if our population distribution is highly non-normal and sample size is small?"
   ]
  },
  {
   "cell_type": "markdown",
   "id": "bfda3f72",
   "metadata": {},
   "source": [
    "### Bootstrap"
   ]
  },
  {
   "cell_type": "markdown",
   "id": "afa1d392",
   "metadata": {},
   "source": [
    "Treat the sample like the populaiton and sample, repeatedly, with replacement,."
   ]
  },
  {
   "cell_type": "code",
   "execution_count": 63,
   "id": "81245d36",
   "metadata": {},
   "outputs": [],
   "source": [
    "bstrap_mean=[]\n",
    "bstrap_median=[]\n",
    "xbar=samp['Pace'].mean()\n",
    "mbar=samp['Pace'].median()\n",
    "for i in range(10000):\n",
    "    newdf=samp.sample(frac=1,replace=True)\n",
    "    xstar=newdf['Pace'].mean()\n",
    "    mstar=newdf['Pace'].median()\n",
    "    bstrap_mean.append(xstar)\n",
    "    bstrap_median.append(mstar)"
   ]
  },
  {
   "cell_type": "code",
   "execution_count": 64,
   "id": "00d95563",
   "metadata": {},
   "outputs": [
    {
     "data": {
      "image/png": "[encoded data removed]",
      "text/plain": [
       "<Figure size 576x432 with 1 Axes>"
      ]
     },
     "metadata": {
      "needs_background": "light"
     },
     "output_type": "display_data"
    }
   ],
   "source": [
    "fig, ax = plt.subplots(figsize=(8,6))  # make one subplot (ax) on the figure\n",
    "ax.hist(bstrap_mean,bins=30)\n",
    "plt.show()"
   ]
  },
  {
   "cell_type": "code",
   "execution_count": 65,
   "id": "034ceac9",
   "metadata": {},
   "outputs": [
    {
     "data": {
      "image/png": "[encoded data removed]",
      "text/plain": [
       "<Figure size 576x432 with 1 Axes>"
      ]
     },
     "metadata": {
      "needs_background": "light"
     },
     "output_type": "display_data"
    }
   ],
   "source": [
    "fig, ax = plt.subplots(figsize=(8,6))  # make one subplot (ax) on the figure\n",
    "ax.hist(bstrap_median,bins=30)\n",
    "plt.show()"
   ]
  },
  {
   "cell_type": "code",
   "execution_count": 66,
   "id": "401470d6",
   "metadata": {},
   "outputs": [
    {
     "data": {
      "text/plain": [
       "9.280799627226463"
      ]
     },
     "execution_count": 66,
     "metadata": {},
     "output_type": "execute_result"
    }
   ],
   "source": [
    "np.mean(bstrap_mean)"
   ]
  },
  {
   "cell_type": "code",
   "execution_count": 67,
   "id": "cc8d249f",
   "metadata": {},
   "outputs": [
    {
     "data": {
      "text/plain": [
       "8.86660248091603"
      ]
     },
     "execution_count": 67,
     "metadata": {},
     "output_type": "execute_result"
    }
   ],
   "source": [
    "np.mean(bstrap_median)"
   ]
  },
  {
   "cell_type": "markdown",
   "id": "152cc089",
   "metadata": {},
   "source": [
    "Take the 2.5 and 97.5 percentiles:"
   ]
  },
  {
   "cell_type": "code",
   "execution_count": 68,
   "id": "1103e2fb",
   "metadata": {},
   "outputs": [
    {
     "data": {
      "text/plain": [
       "(8.933930025445292, 9.644142811704834)"
      ]
     },
     "execution_count": 68,
     "metadata": {},
     "output_type": "execute_result"
    }
   ],
   "source": [
    "np.quantile(bstrap_mean,0.025),np.quantile(bstrap_mean,0.975)"
   ]
  },
  {
   "cell_type": "markdown",
   "id": "fa602161",
   "metadata": {},
   "source": [
    "compare with theoretical CI: ( 8.622 , 9.314 ), and true mean of 9.086"
   ]
  },
  {
   "cell_type": "code",
   "execution_count": 69,
   "id": "5797be72",
   "metadata": {},
   "outputs": [
    {
     "data": {
      "text/plain": [
       "(8.540712468193384, 9.129770992366412)"
      ]
     },
     "execution_count": 69,
     "metadata": {},
     "output_type": "execute_result"
    }
   ],
   "source": [
    "np.quantile(bstrap_median,0.025),np.quantile(bstrap_median,0.975)"
   ]
  },
  {
   "cell_type": "markdown",
   "id": "c3dfc37a",
   "metadata": {},
   "source": [
    "^^ Also catches the true median of 8.842 "
   ]
  },
  {
   "cell_type": "code",
   "execution_count": 70,
   "id": "9afc3769",
   "metadata": {},
   "outputs": [
    {
     "data": {
      "text/plain": [
       "8.841921119592875"
      ]
     },
     "execution_count": 70,
     "metadata": {},
     "output_type": "execute_result"
    }
   ],
   "source": [
    "mar['Pace'].median()"
   ]
  },
  {
   "cell_type": "markdown",
   "id": "a7f815ed",
   "metadata": {},
   "source": [
    "Bootstrap principle: The sample is to the data as the bootstrap sample is to the sample."
   ]
  },
  {
   "cell_type": "code",
   "execution_count": 71,
   "id": "58ac691d",
   "metadata": {},
   "outputs": [],
   "source": [
    "samp2=mar.sample(n=100,random_state=5)\n",
    "bstrap_mean2=[]\n",
    "bstrap_median2=[]\n",
    "xbar2=samp2['Pace'].mean()\n",
    "mbar2=samp2['Pace'].median()\n",
    "for i in range(10000):\n",
    "    newdf2=samp2.sample(frac=1,replace=True)\n",
    "    xstar2=newdf2['Pace'].mean()\n",
    "    mstar2=newdf2['Pace'].median()\n",
    "    bstrap_mean2.append(xstar2)\n",
    "    bstrap_median2.append(mstar2)"
   ]
  },
  {
   "cell_type": "code",
   "execution_count": 72,
   "id": "e7078055",
   "metadata": {},
   "outputs": [
    {
     "name": "stdout",
     "output_type": "stream",
     "text": [
      "samples: 8.709 8.413\n",
      "bootstraps: 8.793 8.604\n",
      "population: 9.086 8.842\n"
     ]
    }
   ],
   "source": [
    "print(\"samples:\",np.round(xbar2,3),np.round(mbar2,3))\n",
    "print(\"bootstraps:\",np.round(xstar2,3),np.round(mstar2,3))\n",
    "print(\"population:\",np.round(mar['Pace'].mean(),3),np.round(mar['Pace'].median(),3))"
   ]
  },
  {
   "cell_type": "code",
   "execution_count": 73,
   "id": "e79da6a0",
   "metadata": {},
   "outputs": [
    {
     "data": {
      "text/plain": [
       "(8.421912849872774, 9.010905057251907)"
      ]
     },
     "execution_count": 73,
     "metadata": {},
     "output_type": "execute_result"
    }
   ],
   "source": [
    "np.quantile(bstrap_mean2,0.025),np.quantile(bstrap_mean2,0.975)"
   ]
  },
  {
   "cell_type": "code",
   "execution_count": 74,
   "id": "4bb0f958",
   "metadata": {},
   "outputs": [
    {
     "data": {
      "text/plain": [
       "(8.077290076335878, 8.794529262086513)"
      ]
     },
     "execution_count": 74,
     "metadata": {},
     "output_type": "execute_result"
    }
   ],
   "source": [
    "np.quantile(bstrap_median2,0.025),np.quantile(bstrap_median2,0.975)"
   ]
  },
  {
   "cell_type": "markdown",
   "id": "3a3959f1",
   "metadata": {},
   "source": [
    "Note we missed both here! Got a \"bad\" sample."
   ]
  },
  {
   "cell_type": "markdown",
   "id": "221fe6e5",
   "metadata": {},
   "source": [
    "Back to building trees: We wanted to average lots of trees to prevent variance"
   ]
  },
  {
   "cell_type": "markdown",
   "id": "e3d3d58f",
   "metadata": {},
   "source": [
    "### Bagging"
   ]
  },
  {
   "cell_type": "markdown",
   "id": "improved-owner",
   "metadata": {},
   "source": [
    "Sample the training observations (same number) with replacement and fit a decision tree on the resampled data. Each tree only looks at some of the observations."
   ]
  },
  {
   "cell_type": "markdown",
   "id": "raised-gibraltar",
   "metadata": {},
   "source": [
    "If the bootstrapped samples are labeled:\n",
    "$$\n",
    "1,2,3,\\ldots, B,\n",
    "$$\n",
    "and the corresponding (deep) trees are \n",
    "$$\n",
    "f^*_1,f^*_2,\\ldots,f^*_B,\n",
    "$$\n",
    "then for a test observation $x$ we predict:\n",
    "$$\n",
    "f^{\\text{avg}}(x)=\\frac{1}{B}\\sum_{i=1}^Bf^*_i(x)\n",
    "$$\n",
    "and where the * reminds us that each tree is fit on a bootstrap sample of the original training data set."
   ]
  },
  {
   "cell_type": "code",
   "execution_count": 75,
   "id": "governing-canvas",
   "metadata": {},
   "outputs": [],
   "source": [
    "from sklearn.ensemble import BaggingRegressor"
   ]
  },
  {
   "cell_type": "code",
   "execution_count": 76,
   "id": "sixth-interest",
   "metadata": {},
   "outputs": [],
   "source": [
    "regr = BaggingRegressor(base_estimator=DecisionTreeRegressor(),n_estimators=100,oob_score=True,random_state=0).fit(X_train, y_train)"
   ]
  },
  {
   "cell_type": "code",
   "execution_count": 77,
   "id": "norwegian-difference",
   "metadata": {},
   "outputs": [
    {
     "name": "stdout",
     "output_type": "stream",
     "text": [
      "R^2 is 0.7942815623053261 : : MSE is 0.3408465508725515\n"
     ]
    }
   ],
   "source": [
    "print(\"R^2 is {}\".format(regr.score(X_test,y_test)),\":\",\":\", \"MSE is {}\".format(mean_squared_error(regr.predict(X_test),y_test)))"
   ]
  },
  {
   "cell_type": "markdown",
   "id": "conventional-mumbai",
   "metadata": {},
   "source": [
    "Improvement! OLS $R^2$ was 0.745."
   ]
  },
  {
   "cell_type": "markdown",
   "id": "interpreted-wrist",
   "metadata": {},
   "source": [
    "Added Bonus: The bootstrap gives us a way to estimate test-set error without the actual test set. Since the bootstrap samples the training data for each tree, some observations won't be used in the building of the $i$-th tree. "
   ]
  },
  {
   "cell_type": "markdown",
   "id": "respective-jimmy",
   "metadata": {},
   "source": [
    "These observations are called *out-of-bag* observations (OOB) and we can use them as de facto test observations for that tree. In practice, for an observation $x$ we can average the prediction over all trees that leave $x$ OOB. "
   ]
  },
  {
   "cell_type": "markdown",
   "id": "corporate-utilization",
   "metadata": {},
   "source": [
    "***Warning: We still need to use a test set.*** But, this could be useful, say, to determine the optimal number of trees to use."
   ]
  },
  {
   "cell_type": "code",
   "execution_count": 78,
   "id": "alpine-sussex",
   "metadata": {},
   "outputs": [
    {
     "data": {
      "text/plain": [
       "0.8004440655744886"
      ]
     },
     "execution_count": 78,
     "metadata": {},
     "output_type": "execute_result"
    }
   ],
   "source": [
    "regr.oob_score_"
   ]
  },
  {
   "cell_type": "code",
   "execution_count": 79,
   "id": "prepared-attempt",
   "metadata": {},
   "outputs": [],
   "source": [
    "num_trees=np.linspace(50,500,10)"
   ]
  },
  {
   "cell_type": "markdown",
   "id": "5890281e",
   "metadata": {},
   "source": [
    "More trees is generally better (but more expensive) so it's usually a question of diminishing returns."
   ]
  },
  {
   "cell_type": "code",
   "execution_count": 80,
   "id": "contained-europe",
   "metadata": {},
   "outputs": [],
   "source": [
    "oob_res=[]\n",
    "for trs in num_trees:\n",
    "    res = BaggingRegressor(base_estimator=DecisionTreeRegressor(),n_estimators=int(trs),oob_score=True,random_state=0).fit(X_train, y_train)\n",
    "    oob_res.append(res.oob_score_)"
   ]
  },
  {
   "cell_type": "code",
   "execution_count": 81,
   "id": "loved-congress",
   "metadata": {},
   "outputs": [
    {
     "data": {
      "text/plain": [
       "[<matplotlib.lines.Line2D at 0x7f72e3c0fd00>]"
      ]
     },
     "execution_count": 81,
     "metadata": {},
     "output_type": "execute_result"
    },
    {
     "data": {
      "image/png": "[encoded data removed]",
      "text/plain": [
       "<Figure size 432x288 with 1 Axes>"
      ]
     },
     "metadata": {
      "needs_background": "light"
     },
     "output_type": "display_data"
    }
   ],
   "source": [
    "plt.plot(num_trees,oob_res)"
   ]
  },
  {
   "cell_type": "markdown",
   "id": "stable-banking",
   "metadata": {},
   "source": [
    "Looks like we peak around 400 trees (though only very slightly better than 100 trees)."
   ]
  },
  {
   "cell_type": "code",
   "execution_count": 82,
   "id": "1c39d055",
   "metadata": {},
   "outputs": [
    {
     "data": {
      "text/plain": [
       "400.0"
      ]
     },
     "execution_count": 82,
     "metadata": {},
     "output_type": "execute_result"
    }
   ],
   "source": [
    "num_trees[np.argmax(oob_res)]"
   ]
  },
  {
   "cell_type": "code",
   "execution_count": 83,
   "id": "705f8fe5",
   "metadata": {},
   "outputs": [],
   "source": [
    "opt_trs=int(num_trees[np.argmax(oob_res)])"
   ]
  },
  {
   "cell_type": "code",
   "execution_count": 84,
   "id": "welsh-greek",
   "metadata": {},
   "outputs": [],
   "source": [
    "regr = BaggingRegressor(base_estimator=DecisionTreeRegressor(),n_estimators=opt_trs,random_state=0).fit(X_train, y_train)"
   ]
  },
  {
   "cell_type": "code",
   "execution_count": 85,
   "id": "nervous-webmaster",
   "metadata": {},
   "outputs": [
    {
     "data": {
      "text/plain": [
       "0.795"
      ]
     },
     "execution_count": 85,
     "metadata": {},
     "output_type": "execute_result"
    }
   ],
   "source": [
    "np.round(regr.score(X_test,y_test),3)"
   ]
  },
  {
   "cell_type": "markdown",
   "id": "pending-fisher",
   "metadata": {},
   "source": [
    "Test $R^2$ only slightly lower than the OOB score above."
   ]
  },
  {
   "cell_type": "markdown",
   "id": "major-antarctica",
   "metadata": {},
   "source": [
    "## Random Forests:"
   ]
  },
  {
   "cell_type": "markdown",
   "id": "fifth-sperm",
   "metadata": {},
   "source": [
    "Another approach to aggregating trees built on bootstrap samples of the data (like bagging), but with a small tweak. "
   ]
  },
  {
   "cell_type": "markdown",
   "id": "contained-digest",
   "metadata": {},
   "source": [
    "Each time we make a split in a tree, we do so using a random sample of the available features. If we have $p$ features, we usually choose $\\approx \\sqrt{p}$ features."
   ]
  },
  {
   "cell_type": "markdown",
   "id": "about-secret",
   "metadata": {},
   "source": [
    "Why? Decorrelate the trees and allow weaker signals through. The same features won't dominate ***all*** the trees."
   ]
  },
  {
   "cell_type": "markdown",
   "id": "valued-hungary",
   "metadata": {},
   "source": [
    "Not guaranteed to improve over bagging but can be a big help if we have many correlated features."
   ]
  },
  {
   "cell_type": "code",
   "execution_count": 86,
   "id": "initial-isolation",
   "metadata": {},
   "outputs": [],
   "source": [
    "from sklearn.ensemble import RandomForestRegressor"
   ]
  },
  {
   "cell_type": "code",
   "execution_count": 87,
   "id": "recreational-train",
   "metadata": {},
   "outputs": [],
   "source": [
    "rf = RandomForestRegressor(n_estimators=400,max_features='sqrt',random_state=0).fit(X_train,y_train)"
   ]
  },
  {
   "cell_type": "code",
   "execution_count": 88,
   "id": "allied-senate",
   "metadata": {},
   "outputs": [
    {
     "data": {
      "text/plain": [
       "0.7923380854592477"
      ]
     },
     "execution_count": 88,
     "metadata": {},
     "output_type": "execute_result"
    }
   ],
   "source": [
    "rf.score(X_test,y_test)"
   ]
  },
  {
   "cell_type": "markdown",
   "id": "employed-dayton",
   "metadata": {},
   "source": [
    "Very similar to straight bagging here (more examples below). "
   ]
  },
  {
   "cell_type": "markdown",
   "id": "00eab0df",
   "metadata": {},
   "source": [
    "We might want to look at feature importances though bagging (and RFs) are not easily interpreted (like a single tree is)."
   ]
  },
  {
   "cell_type": "code",
   "execution_count": 89,
   "id": "coordinated-flesh",
   "metadata": {},
   "outputs": [
    {
     "data": {
      "image/png": "[encoded data removed]",
      "text/plain": [
       "<Figure size 576x432 with 1 Axes>"
      ]
     },
     "metadata": {
      "needs_background": "light"
     },
     "output_type": "display_data"
    }
   ],
   "source": [
    "plt.figure(figsize=(8,6))\n",
    "nfeat=X.shape[1]\n",
    "plt.barh(np.arange(nfeat),rf.feature_importances_,align='center')\n",
    "plt.yticks(np.arange(nfeat),list(X.columns))\n",
    "plt.ylim(-1,nfeat)\n",
    "plt.show()"
   ]
  },
  {
   "cell_type": "markdown",
   "id": "5333f746",
   "metadata": {},
   "source": [
    "### Random Forest Classifier"
   ]
  },
  {
   "cell_type": "markdown",
   "id": "68cd5e53",
   "metadata": {},
   "source": [
    "We have decision tree classifier too, so we can easily build a random forest classifier as well."
   ]
  },
  {
   "cell_type": "markdown",
   "id": "e818fa42",
   "metadata": {},
   "source": [
    "Last time we tried *knn* classifier on the breast cancer dataset."
   ]
  },
  {
   "cell_type": "code",
   "execution_count": 90,
   "id": "cc7303cd",
   "metadata": {},
   "outputs": [],
   "source": [
    "bcd = datasets.load_breast_cancer()\n",
    "df = pd.DataFrame(bcd['data'], columns=bcd['feature_names'])\n",
    "df['target'] = bcd['target']"
   ]
  },
  {
   "cell_type": "code",
   "execution_count": 91,
   "id": "91a928c5",
   "metadata": {},
   "outputs": [],
   "source": [
    "X=df.drop('target',axis=1)\n",
    "y=df['target']\n",
    "X_train, X_test, y_train, y_test = train_test_split(X,y,test_size=0.3, random_state=5)"
   ]
  },
  {
   "cell_type": "code",
   "execution_count": 92,
   "id": "09f7ca06",
   "metadata": {},
   "outputs": [],
   "source": [
    "X=df.drop('target',axis=1)\n",
    "y=df['target']"
   ]
  },
  {
   "cell_type": "code",
   "execution_count": 93,
   "id": "4e0b0b77",
   "metadata": {},
   "outputs": [],
   "source": [
    "from sklearn.preprocessing import StandardScaler\n",
    "scaler=StandardScaler()\n",
    "X_train_scaled=scaler.fit_transform(X_train)\n",
    "X_test_scaled=scaler.fit_transform(X_test)"
   ]
  },
  {
   "cell_type": "markdown",
   "id": "7a7b0aab",
   "metadata": {},
   "source": [
    "For *knn*, recall that cross validation gave optimal $k=5$ "
   ]
  },
  {
   "cell_type": "code",
   "execution_count": 94,
   "id": "e53c2b0d",
   "metadata": {},
   "outputs": [],
   "source": [
    "from sklearn.neighbors import KNeighborsClassifier"
   ]
  },
  {
   "cell_type": "code",
   "execution_count": 95,
   "id": "0daa6847",
   "metadata": {},
   "outputs": [],
   "source": [
    "mod = KNeighborsClassifier(n_neighbors=5)\n",
    "nb5=mod.fit(X_train_scaled,y_train)"
   ]
  },
  {
   "cell_type": "code",
   "execution_count": 96,
   "id": "fdbda295",
   "metadata": {},
   "outputs": [
    {
     "data": {
      "text/plain": [
       "0.9590643274853801"
      ]
     },
     "execution_count": 96,
     "metadata": {},
     "output_type": "execute_result"
    }
   ],
   "source": [
    "accuracy_score(nb5.predict(X_test_scaled),y_test)"
   ]
  },
  {
   "cell_type": "markdown",
   "id": "b93783ff",
   "metadata": {},
   "source": [
    "Let's compare with a RF classifier."
   ]
  },
  {
   "cell_type": "code",
   "execution_count": 97,
   "id": "46afe2c8",
   "metadata": {},
   "outputs": [],
   "source": [
    "from sklearn.ensemble import RandomForestClassifier"
   ]
  },
  {
   "cell_type": "markdown",
   "id": "55f35794",
   "metadata": {},
   "source": [
    "Because of how the decision tree algorithm works we don't need scaling, and can use a mix of categorical and quantitative variables."
   ]
  },
  {
   "cell_type": "code",
   "execution_count": 98,
   "id": "b8efcd71",
   "metadata": {},
   "outputs": [],
   "source": [
    "rfc = RandomForestClassifier(n_estimators=100,max_features='sqrt',random_state=0).fit(X_train,y_train)"
   ]
  },
  {
   "cell_type": "code",
   "execution_count": 99,
   "id": "704f59d8",
   "metadata": {},
   "outputs": [
    {
     "data": {
      "text/plain": [
       "0.9707602339181286"
      ]
     },
     "execution_count": 99,
     "metadata": {},
     "output_type": "execute_result"
    }
   ],
   "source": [
    "accuracy_score(rfc.predict(X_test),y_test)"
   ]
  },
  {
   "cell_type": "markdown",
   "id": "3d53d83b",
   "metadata": {},
   "source": [
    "Wow, we did better right off the shelf. We didn't even tune the number of trees so maybe could do even a bit better."
   ]
  },
  {
   "cell_type": "code",
   "execution_count": 100,
   "id": "c461a361",
   "metadata": {},
   "outputs": [
    {
     "data": {
      "image/png": "[encoded data removed]",
      "text/plain": [
       "<Figure size 576x432 with 1 Axes>"
      ]
     },
     "metadata": {
      "needs_background": "light"
     },
     "output_type": "display_data"
    }
   ],
   "source": [
    "plt.figure(figsize=(8,6))\n",
    "nfeat=X.shape[1]\n",
    "plt.barh(np.arange(nfeat),rfc.feature_importances_,align='center')\n",
    "plt.yticks(np.arange(nfeat),list(X.columns))\n",
    "plt.ylim(-1,nfeat)\n",
    "plt.show()"
   ]
  },
  {
   "cell_type": "markdown",
   "id": "d3c0fd0b",
   "metadata": {},
   "source": [
    "Nice advantages of a Random Forest:\n",
    "1. Easy to use \"off the shelf\".\n",
    "2. Can handle quantitative predictors, categorical predictors, or a mix.\n",
    "3. Does not require much in the way of parameter tuning.\n",
    "4. Decouples the trees to handle feature colinearity and allow weaker signals through (by chosing a subset of features at each split ).\n",
    "5. Generally performs very well (and very similar to bagging if the features are not particularly correlated).\n",
    "6. Prevents overfitting through averaging (of deep trees)."
   ]
  },
  {
   "cell_type": "markdown",
   "id": "5e64b3ee",
   "metadata": {},
   "source": [
    "BUT... we lose interpretability/simplicity of a single tree."
   ]
  },
  {
   "cell_type": "markdown",
   "id": "naked-currency",
   "metadata": {},
   "source": [
    "#### Next: Boosting"
   ]
  },
  {
   "cell_type": "markdown",
   "id": "concrete-penetration",
   "metadata": {},
   "source": [
    "Again -- use multiple trees to attack the problem. BUT, trees are grown sequentially and are kept small (to prevent overfitting)."
   ]
  },
  {
   "cell_type": "markdown",
   "id": "subsequent-underground",
   "metadata": {},
   "source": [
    "Start with a single tree $\\hat{f_1}$. "
   ]
  },
  {
   "cell_type": "markdown",
   "id": "certified-bargain",
   "metadata": {},
   "source": [
    "Then, build a new tree to improve on the prediction of $\\hat{f_1}$ by fitting the residuals\n",
    "$$\n",
    "y_i-\\hat{f_1}(x_i).\n",
    "$$\n",
    "We get a new model $\\hat{f_2}$ which we add to the old model:\n",
    "$$\n",
    "\\hat{f_1}+\\lambda \\hat{f_2}\n",
    "$$"
   ]
  },
  {
   "cell_type": "markdown",
   "id": "unavailable-imaging",
   "metadata": {},
   "source": [
    "$\\lambda$ is a parameter called the learning rate. It's a small-ish number (0.1, 0.01, 0.001) that slows down the learning process allowing more trees to attack the residuals."
   ]
  },
  {
   "cell_type": "markdown",
   "id": "nominated-milwaukee",
   "metadata": {},
   "source": [
    "Each small tree is a *weak learner* but they combine into a strong learner."
   ]
  },
  {
   "cell_type": "markdown",
   "id": "unlikely-liverpool",
   "metadata": {},
   "source": [
    "$$\n",
    "\\hat{f}(x) = \\sum_{i=1}^B\\lambda \\hat{f_i}(x)\n",
    "$$"
   ]
  },
  {
   "cell_type": "code",
   "execution_count": 101,
   "id": "respected-mounting",
   "metadata": {},
   "outputs": [],
   "source": [
    "from sklearn.ensemble import GradientBoostingRegressor"
   ]
  },
  {
   "cell_type": "markdown",
   "id": "2a87e1b4",
   "metadata": {},
   "source": [
    "Let's go back to the NBA salary data (our regression example)."
   ]
  },
  {
   "cell_type": "code",
   "execution_count": 102,
   "id": "2a115a92",
   "metadata": {},
   "outputs": [],
   "source": [
    "X=pdf.drop('logsalary',axis=1)\n",
    "y=pdf['logsalary']\n",
    "X_train, X_test, y_train, y_test = train_test_split(X,y,test_size=0.3, random_state=5)"
   ]
  },
  {
   "cell_type": "code",
   "execution_count": 103,
   "id": "infinite-classics",
   "metadata": {},
   "outputs": [],
   "source": [
    "breg = GradientBoostingRegressor(random_state=0,learning_rate=0.1,n_estimators=500,max_depth=2).fit(X_train,y_train)"
   ]
  },
  {
   "cell_type": "code",
   "execution_count": 104,
   "id": "exact-milton",
   "metadata": {},
   "outputs": [
    {
     "data": {
      "text/plain": [
       "0.7976215045963253"
      ]
     },
     "execution_count": 104,
     "metadata": {},
     "output_type": "execute_result"
    }
   ],
   "source": [
    "breg.score(X_test,y_test)"
   ]
  },
  {
   "cell_type": "markdown",
   "id": "rising-gathering",
   "metadata": {},
   "source": [
    "Tiny improvent over bagging and random forests in this case..."
   ]
  },
  {
   "cell_type": "markdown",
   "id": "empty-newman",
   "metadata": {},
   "source": [
    "One challenge in building a boosting model is that we have several parameters to choose. \n",
    "1. The number of trees.\n",
    "2. The max depth of each tree.\n",
    "3. The learning rate."
   ]
  },
  {
   "cell_type": "markdown",
   "id": "impressive-printing",
   "metadata": {},
   "source": [
    "```sklearn``` has a function to help cross validate over a grid of parameter values. WARNING: It can be slow!!!"
   ]
  },
  {
   "cell_type": "code",
   "execution_count": 105,
   "id": "optimum-airline",
   "metadata": {},
   "outputs": [],
   "source": [
    "from sklearn.model_selection import GridSearchCV"
   ]
  },
  {
   "cell_type": "code",
   "execution_count": 106,
   "id": "former-interpretation",
   "metadata": {},
   "outputs": [],
   "source": [
    "parameters = {'learning_rate':[0.1,0.01], 'n_estimators':[300,400,500],'max_depth':[2,3,4,5]}"
   ]
  },
  {
   "cell_type": "code",
   "execution_count": 107,
   "id": "promotional-orlando",
   "metadata": {},
   "outputs": [],
   "source": [
    "bmod = GradientBoostingRegressor(random_state=0)"
   ]
  },
  {
   "cell_type": "markdown",
   "id": "6f3a52b8",
   "metadata": {},
   "source": [
    "Might want to stretch legs after running the next cell!"
   ]
  },
  {
   "cell_type": "code",
   "execution_count": 108,
   "id": "aerial-reply",
   "metadata": {},
   "outputs": [
    {
     "data": {
      "text/plain": [
       "GridSearchCV(estimator=GradientBoostingRegressor(random_state=0),\n",
       "             param_grid={'learning_rate': [0.1, 0.01],\n",
       "                         'max_depth': [2, 3, 4, 5],\n",
       "                         'n_estimators': [300, 400, 500]})"
      ]
     },
     "execution_count": 108,
     "metadata": {},
     "output_type": "execute_result"
    }
   ],
   "source": [
    "boost_regr = GridSearchCV(bmod, parameters)\n",
    "boost_regr.fit(X_train, y_train)"
   ]
  },
  {
   "cell_type": "markdown",
   "id": "alpha-chemistry",
   "metadata": {},
   "source": [
    "Lot's of info in here-- we can pull it all into a data frame..."
   ]
  },
  {
   "cell_type": "code",
   "execution_count": 109,
   "id": "ruled-maker",
   "metadata": {},
   "outputs": [],
   "source": [
    "df=pd.DataFrame.from_dict(boost_regr.cv_results_)"
   ]
  },
  {
   "cell_type": "markdown",
   "id": "drawn-nomination",
   "metadata": {},
   "source": [
    "... and pull out the parameter values corresponding to the best CV score. "
   ]
  },
  {
   "cell_type": "code",
   "execution_count": 110,
   "id": "genuine-conservation",
   "metadata": {},
   "outputs": [
    {
     "data": {
      "text/html": [
       "<div>\n",
       "<style scoped>\n",
       "    .dataframe tbody tr th:only-of-type {\n",
       "        vertical-align: middle;\n",
       "    }\n",
       "\n",
       "    .dataframe tbody tr th {\n",
       "        vertical-align: top;\n",
       "    }\n",
       "\n",
       "    .dataframe thead th {\n",
       "        text-align: right;\n",
       "    }\n",
       "</style>\n",
       "<table border=\"1\" class=\"dataframe\">\n",
       "  <thead>\n",
       "    <tr style=\"text-align: right;\">\n",
       "      <th></th>\n",
       "      <th>mean_fit_time</th>\n",
       "      <th>std_fit_time</th>\n",
       "      <th>mean_score_time</th>\n",
       "      <th>std_score_time</th>\n",
       "      <th>param_learning_rate</th>\n",
       "      <th>param_max_depth</th>\n",
       "      <th>param_n_estimators</th>\n",
       "      <th>params</th>\n",
       "      <th>split0_test_score</th>\n",
       "      <th>split1_test_score</th>\n",
       "      <th>split2_test_score</th>\n",
       "      <th>split3_test_score</th>\n",
       "      <th>split4_test_score</th>\n",
       "      <th>mean_test_score</th>\n",
       "      <th>std_test_score</th>\n",
       "      <th>rank_test_score</th>\n",
       "    </tr>\n",
       "  </thead>\n",
       "  <tbody>\n",
       "    <tr>\n",
       "      <th>0</th>\n",
       "      <td>0.468535</td>\n",
       "      <td>0.006325</td>\n",
       "      <td>0.002152</td>\n",
       "      <td>0.000225</td>\n",
       "      <td>0.1</td>\n",
       "      <td>2</td>\n",
       "      <td>300</td>\n",
       "      <td>{'learning_rate': 0.1, 'max_depth': 2, 'n_esti...</td>\n",
       "      <td>0.763947</td>\n",
       "      <td>0.813919</td>\n",
       "      <td>0.837942</td>\n",
       "      <td>0.730548</td>\n",
       "      <td>0.769824</td>\n",
       "      <td>0.783236</td>\n",
       "      <td>0.038111</td>\n",
       "      <td>11</td>\n",
       "    </tr>\n",
       "    <tr>\n",
       "      <th>1</th>\n",
       "      <td>0.631059</td>\n",
       "      <td>0.009240</td>\n",
       "      <td>0.002240</td>\n",
       "      <td>0.000043</td>\n",
       "      <td>0.1</td>\n",
       "      <td>2</td>\n",
       "      <td>400</td>\n",
       "      <td>{'learning_rate': 0.1, 'max_depth': 2, 'n_esti...</td>\n",
       "      <td>0.762717</td>\n",
       "      <td>0.812461</td>\n",
       "      <td>0.838303</td>\n",
       "      <td>0.726874</td>\n",
       "      <td>0.757509</td>\n",
       "      <td>0.779573</td>\n",
       "      <td>0.040197</td>\n",
       "      <td>13</td>\n",
       "    </tr>\n",
       "    <tr>\n",
       "      <th>2</th>\n",
       "      <td>0.782325</td>\n",
       "      <td>0.009779</td>\n",
       "      <td>0.002502</td>\n",
       "      <td>0.000067</td>\n",
       "      <td>0.1</td>\n",
       "      <td>2</td>\n",
       "      <td>500</td>\n",
       "      <td>{'learning_rate': 0.1, 'max_depth': 2, 'n_esti...</td>\n",
       "      <td>0.758568</td>\n",
       "      <td>0.811151</td>\n",
       "      <td>0.837169</td>\n",
       "      <td>0.724618</td>\n",
       "      <td>0.752813</td>\n",
       "      <td>0.776864</td>\n",
       "      <td>0.041122</td>\n",
       "      <td>15</td>\n",
       "    </tr>\n",
       "    <tr>\n",
       "      <th>3</th>\n",
       "      <td>0.673772</td>\n",
       "      <td>0.002936</td>\n",
       "      <td>0.002337</td>\n",
       "      <td>0.000067</td>\n",
       "      <td>0.1</td>\n",
       "      <td>3</td>\n",
       "      <td>300</td>\n",
       "      <td>{'learning_rate': 0.1, 'max_depth': 3, 'n_esti...</td>\n",
       "      <td>0.750941</td>\n",
       "      <td>0.821028</td>\n",
       "      <td>0.834468</td>\n",
       "      <td>0.731632</td>\n",
       "      <td>0.753607</td>\n",
       "      <td>0.778335</td>\n",
       "      <td>0.041272</td>\n",
       "      <td>14</td>\n",
       "    </tr>\n",
       "    <tr>\n",
       "      <th>4</th>\n",
       "      <td>0.918265</td>\n",
       "      <td>0.016135</td>\n",
       "      <td>0.002858</td>\n",
       "      <td>0.000320</td>\n",
       "      <td>0.1</td>\n",
       "      <td>3</td>\n",
       "      <td>400</td>\n",
       "      <td>{'learning_rate': 0.1, 'max_depth': 3, 'n_esti...</td>\n",
       "      <td>0.745495</td>\n",
       "      <td>0.814634</td>\n",
       "      <td>0.828732</td>\n",
       "      <td>0.730877</td>\n",
       "      <td>0.748806</td>\n",
       "      <td>0.773709</td>\n",
       "      <td>0.039883</td>\n",
       "      <td>16</td>\n",
       "    </tr>\n",
       "  </tbody>\n",
       "</table>\n",
       "</div>"
      ],
      "text/plain": [
       "   mean_fit_time  std_fit_time  mean_score_time  std_score_time  \\\n",
       "0       0.468535      0.006325         0.002152        0.000225   \n",
       "1       0.631059      0.009240         0.002240        0.000043   \n",
       "2       0.782325      0.009779         0.002502        0.000067   \n",
       "3       0.673772      0.002936         0.002337        0.000067   \n",
       "4       0.918265      0.016135         0.002858        0.000320   \n",
       "\n",
       "  param_learning_rate param_max_depth param_n_estimators  \\\n",
       "0                 0.1               2                300   \n",
       "1                 0.1               2                400   \n",
       "2                 0.1               2                500   \n",
       "3                 0.1               3                300   \n",
       "4                 0.1               3                400   \n",
       "\n",
       "                                              params  split0_test_score  \\\n",
       "0  {'learning_rate': 0.1, 'max_depth': 2, 'n_esti...           0.763947   \n",
       "1  {'learning_rate': 0.1, 'max_depth': 2, 'n_esti...           0.762717   \n",
       "2  {'learning_rate': 0.1, 'max_depth': 2, 'n_esti...           0.758568   \n",
       "3  {'learning_rate': 0.1, 'max_depth': 3, 'n_esti...           0.750941   \n",
       "4  {'learning_rate': 0.1, 'max_depth': 3, 'n_esti...           0.745495   \n",
       "\n",
       "   split1_test_score  split2_test_score  split3_test_score  split4_test_score  \\\n",
       "0           0.813919           0.837942           0.730548           0.769824   \n",
       "1           0.812461           0.838303           0.726874           0.757509   \n",
       "2           0.811151           0.837169           0.724618           0.752813   \n",
       "3           0.821028           0.834468           0.731632           0.753607   \n",
       "4           0.814634           0.828732           0.730877           0.748806   \n",
       "\n",
       "   mean_test_score  std_test_score  rank_test_score  \n",
       "0         0.783236        0.038111               11  \n",
       "1         0.779573        0.040197               13  \n",
       "2         0.776864        0.041122               15  \n",
       "3         0.778335        0.041272               14  \n",
       "4         0.773709        0.039883               16  "
      ]
     },
     "execution_count": 110,
     "metadata": {},
     "output_type": "execute_result"
    }
   ],
   "source": [
    "df.head()"
   ]
  },
  {
   "cell_type": "code",
   "execution_count": 111,
   "id": "sophisticated-airplane",
   "metadata": {},
   "outputs": [
    {
     "data": {
      "text/html": [
       "<div>\n",
       "<style scoped>\n",
       "    .dataframe tbody tr th:only-of-type {\n",
       "        vertical-align: middle;\n",
       "    }\n",
       "\n",
       "    .dataframe tbody tr th {\n",
       "        vertical-align: top;\n",
       "    }\n",
       "\n",
       "    .dataframe thead th {\n",
       "        text-align: right;\n",
       "    }\n",
       "</style>\n",
       "<table border=\"1\" class=\"dataframe\">\n",
       "  <thead>\n",
       "    <tr style=\"text-align: right;\">\n",
       "      <th></th>\n",
       "      <th>mean_fit_time</th>\n",
       "      <th>std_fit_time</th>\n",
       "      <th>mean_score_time</th>\n",
       "      <th>std_score_time</th>\n",
       "      <th>param_learning_rate</th>\n",
       "      <th>param_max_depth</th>\n",
       "      <th>param_n_estimators</th>\n",
       "      <th>params</th>\n",
       "      <th>split0_test_score</th>\n",
       "      <th>split1_test_score</th>\n",
       "      <th>split2_test_score</th>\n",
       "      <th>split3_test_score</th>\n",
       "      <th>split4_test_score</th>\n",
       "      <th>mean_test_score</th>\n",
       "      <th>std_test_score</th>\n",
       "      <th>rank_test_score</th>\n",
       "    </tr>\n",
       "  </thead>\n",
       "  <tbody>\n",
       "    <tr>\n",
       "      <th>19</th>\n",
       "      <td>1.18325</td>\n",
       "      <td>0.007956</td>\n",
       "      <td>0.003767</td>\n",
       "      <td>0.000044</td>\n",
       "      <td>0.01</td>\n",
       "      <td>4</td>\n",
       "      <td>400</td>\n",
       "      <td>{'learning_rate': 0.01, 'max_depth': 4, 'n_est...</td>\n",
       "      <td>0.767725</td>\n",
       "      <td>0.828391</td>\n",
       "      <td>0.843972</td>\n",
       "      <td>0.750272</td>\n",
       "      <td>0.784375</td>\n",
       "      <td>0.794947</td>\n",
       "      <td>0.035695</td>\n",
       "      <td>1</td>\n",
       "    </tr>\n",
       "  </tbody>\n",
       "</table>\n",
       "</div>"
      ],
      "text/plain": [
       "    mean_fit_time  std_fit_time  mean_score_time  std_score_time  \\\n",
       "19        1.18325      0.007956         0.003767        0.000044   \n",
       "\n",
       "   param_learning_rate param_max_depth param_n_estimators  \\\n",
       "19                0.01               4                400   \n",
       "\n",
       "                                               params  split0_test_score  \\\n",
       "19  {'learning_rate': 0.01, 'max_depth': 4, 'n_est...           0.767725   \n",
       "\n",
       "    split1_test_score  split2_test_score  split3_test_score  \\\n",
       "19           0.828391           0.843972           0.750272   \n",
       "\n",
       "    split4_test_score  mean_test_score  std_test_score  rank_test_score  \n",
       "19           0.784375         0.794947        0.035695                1  "
      ]
     },
     "execution_count": 111,
     "metadata": {},
     "output_type": "execute_result"
    }
   ],
   "source": [
    "df[df['mean_test_score']==df['mean_test_score'].max()]"
   ]
  },
  {
   "cell_type": "code",
   "execution_count": 112,
   "id": "eligible-seattle",
   "metadata": {},
   "outputs": [],
   "source": [
    "best_breg = GradientBoostingRegressor(random_state=0,learning_rate=0.01,n_estimators=400,max_depth=4).fit(X_train,y_train)"
   ]
  },
  {
   "cell_type": "code",
   "execution_count": 113,
   "id": "accessory-receipt",
   "metadata": {},
   "outputs": [
    {
     "data": {
      "text/plain": [
       "0.799"
      ]
     },
     "execution_count": 113,
     "metadata": {},
     "output_type": "execute_result"
    }
   ],
   "source": [
    "np.round(best_breg.score(X_test,y_test),3)"
   ]
  },
  {
   "cell_type": "markdown",
   "id": "heated-finland",
   "metadata": {},
   "source": [
    "Very slightly better still. Bagging, RF, boosting are all very similar and outperform Linear Regression / Ridge Regression."
   ]
  },
  {
   "cell_type": "markdown",
   "id": "contrary-supplement",
   "metadata": {},
   "source": [
    "All of our tree based methods can be used for classification too."
   ]
  },
  {
   "cell_type": "markdown",
   "id": "creative-minutes",
   "metadata": {},
   "source": [
    "#### Recall Decision Tree Classifiers"
   ]
  },
  {
   "cell_type": "markdown",
   "id": "straight-present",
   "metadata": {},
   "source": [
    "Essentially, we need a definition of error in a rectangular region to replace RSS. We will assign all points in $R_m$ to the most common class in $R_m$. So, it would seem natural to use the fraction of observations *not* in that most common class (classes $1,2,\\ldots, n$) "
   ]
  },
  {
   "cell_type": "markdown",
   "id": "first-narrative",
   "metadata": {},
   "source": [
    "$$\n",
    "1-\\max_{k}(\\hat{p}_{mk})\n",
    "$$"
   ]
  },
  {
   "cell_type": "markdown",
   "id": "uniform-slide",
   "metadata": {},
   "source": [
    "This turns out to be not quite sensitive enough to decide cuts. Rather we use the Gini-index:"
   ]
  },
  {
   "cell_type": "markdown",
   "id": "tamil-kentucky",
   "metadata": {},
   "source": [
    "$$\n",
    "G=\\sum_{k} \\hat{p}_{mk}(1-\\hat{p}_{mk})\n",
    "$$\n"
   ]
  },
  {
   "cell_type": "markdown",
   "id": "ongoing-dakota",
   "metadata": {},
   "source": [
    "G is small when all class probabilities are near $0$ or $1$."
   ]
  },
  {
   "cell_type": "markdown",
   "id": "occupational-announcement",
   "metadata": {},
   "source": [
    "Plot the two values when there are 2 classes: "
   ]
  },
  {
   "cell_type": "code",
   "execution_count": 114,
   "id": "individual-christopher",
   "metadata": {},
   "outputs": [],
   "source": [
    "xvals=np.linspace(0,1,100)\n",
    "yvals1=xvals*(1-xvals)+(1-xvals)*(xvals)\n",
    "yvals2= 1-np.maximum(xvals,1-xvals)"
   ]
  },
  {
   "cell_type": "code",
   "execution_count": 115,
   "id": "greater-muscle",
   "metadata": {},
   "outputs": [
    {
     "data": {
      "image/png": "[encoded data removed]",
      "text/plain": [
       "<Figure size 576x288 with 1 Axes>"
      ]
     },
     "metadata": {
      "needs_background": "light"
     },
     "output_type": "display_data"
    }
   ],
   "source": [
    "plt.figure(figsize=(8,4))\n",
    "plt.plot(xvals,yvals1)\n",
    "plt.plot(xvals,yvals2)\n",
    "plt.show()"
   ]
  },
  {
   "cell_type": "markdown",
   "id": "irish-blank",
   "metadata": {},
   "source": [
    "G grows more rapidly as $p$ deviates form 0 or 1: more sensitive to impurity. "
   ]
  },
  {
   "cell_type": "code",
   "execution_count": 116,
   "id": "tribal-pregnancy",
   "metadata": {},
   "outputs": [
    {
     "data": {
      "text/html": [
       "<div>\n",
       "<style scoped>\n",
       "    .dataframe tbody tr th:only-of-type {\n",
       "        vertical-align: middle;\n",
       "    }\n",
       "\n",
       "    .dataframe tbody tr th {\n",
       "        vertical-align: top;\n",
       "    }\n",
       "\n",
       "    .dataframe thead th {\n",
       "        text-align: right;\n",
       "    }\n",
       "</style>\n",
       "<table border=\"1\" class=\"dataframe\">\n",
       "  <thead>\n",
       "    <tr style=\"text-align: right;\">\n",
       "      <th></th>\n",
       "      <th>Pregnancies</th>\n",
       "      <th>Glucose</th>\n",
       "      <th>BloodPressure</th>\n",
       "      <th>SkinThickness</th>\n",
       "      <th>Insulin</th>\n",
       "      <th>BMI</th>\n",
       "      <th>DiabetesPedigreeFunction</th>\n",
       "      <th>Age</th>\n",
       "      <th>Outcome</th>\n",
       "    </tr>\n",
       "  </thead>\n",
       "  <tbody>\n",
       "    <tr>\n",
       "      <th>0</th>\n",
       "      <td>6</td>\n",
       "      <td>148</td>\n",
       "      <td>72</td>\n",
       "      <td>35</td>\n",
       "      <td>0</td>\n",
       "      <td>33.6</td>\n",
       "      <td>0.627</td>\n",
       "      <td>50</td>\n",
       "      <td>1</td>\n",
       "    </tr>\n",
       "    <tr>\n",
       "      <th>1</th>\n",
       "      <td>1</td>\n",
       "      <td>85</td>\n",
       "      <td>66</td>\n",
       "      <td>29</td>\n",
       "      <td>0</td>\n",
       "      <td>26.6</td>\n",
       "      <td>0.351</td>\n",
       "      <td>31</td>\n",
       "      <td>0</td>\n",
       "    </tr>\n",
       "    <tr>\n",
       "      <th>2</th>\n",
       "      <td>8</td>\n",
       "      <td>183</td>\n",
       "      <td>64</td>\n",
       "      <td>0</td>\n",
       "      <td>0</td>\n",
       "      <td>23.3</td>\n",
       "      <td>0.672</td>\n",
       "      <td>32</td>\n",
       "      <td>1</td>\n",
       "    </tr>\n",
       "    <tr>\n",
       "      <th>3</th>\n",
       "      <td>1</td>\n",
       "      <td>89</td>\n",
       "      <td>66</td>\n",
       "      <td>23</td>\n",
       "      <td>94</td>\n",
       "      <td>28.1</td>\n",
       "      <td>0.167</td>\n",
       "      <td>21</td>\n",
       "      <td>0</td>\n",
       "    </tr>\n",
       "    <tr>\n",
       "      <th>4</th>\n",
       "      <td>0</td>\n",
       "      <td>137</td>\n",
       "      <td>40</td>\n",
       "      <td>35</td>\n",
       "      <td>168</td>\n",
       "      <td>43.1</td>\n",
       "      <td>2.288</td>\n",
       "      <td>33</td>\n",
       "      <td>1</td>\n",
       "    </tr>\n",
       "  </tbody>\n",
       "</table>\n",
       "</div>"
      ],
      "text/plain": [
       "   Pregnancies  Glucose  BloodPressure  SkinThickness  Insulin   BMI  \\\n",
       "0            6      148             72             35        0  33.6   \n",
       "1            1       85             66             29        0  26.6   \n",
       "2            8      183             64              0        0  23.3   \n",
       "3            1       89             66             23       94  28.1   \n",
       "4            0      137             40             35      168  43.1   \n",
       "\n",
       "   DiabetesPedigreeFunction  Age  Outcome  \n",
       "0                     0.627   50        1  \n",
       "1                     0.351   31        0  \n",
       "2                     0.672   32        1  \n",
       "3                     0.167   21        0  \n",
       "4                     2.288   33        1  "
      ]
     },
     "execution_count": 116,
     "metadata": {},
     "output_type": "execute_result"
    }
   ],
   "source": [
    "db=pd.read_csv('diabetes.csv')\n",
    "db.head()"
   ]
  },
  {
   "cell_type": "code",
   "execution_count": 117,
   "id": "academic-inside",
   "metadata": {},
   "outputs": [],
   "source": [
    "from sklearn.ensemble import BaggingClassifier\n",
    "from sklearn.ensemble import RandomForestClassifier\n",
    "from sklearn.ensemble import GradientBoostingClassifier\n",
    "from sklearn.tree import DecisionTreeClassifier"
   ]
  },
  {
   "cell_type": "code",
   "execution_count": 118,
   "id": "hollywood-specific",
   "metadata": {},
   "outputs": [],
   "source": [
    "Xd=db.drop('Outcome',axis=1)\n",
    "yd=db['Outcome']"
   ]
  },
  {
   "cell_type": "code",
   "execution_count": 119,
   "id": "empty-playing",
   "metadata": {},
   "outputs": [],
   "source": [
    "Xd_train, Xd_test, yd_train, yd_test = train_test_split(Xd,yd,test_size=0.3, random_state=5)"
   ]
  },
  {
   "cell_type": "code",
   "execution_count": 120,
   "id": "expired-welding",
   "metadata": {},
   "outputs": [],
   "source": [
    "clf = BaggingClassifier(base_estimator=DecisionTreeClassifier(),n_estimators=400,random_state=0).fit(Xd_train, yd_train)"
   ]
  },
  {
   "cell_type": "code",
   "execution_count": 121,
   "id": "american-marshall",
   "metadata": {},
   "outputs": [],
   "source": [
    "from sklearn.metrics import accuracy_score"
   ]
  },
  {
   "cell_type": "code",
   "execution_count": 122,
   "id": "biblical-survey",
   "metadata": {},
   "outputs": [
    {
     "data": {
      "text/plain": [
       "0.7792207792207793"
      ]
     },
     "execution_count": 122,
     "metadata": {},
     "output_type": "execute_result"
    }
   ],
   "source": [
    "accuracy_score(clf.predict(Xd_test),yd_test)"
   ]
  },
  {
   "cell_type": "code",
   "execution_count": 123,
   "id": "august-disposal",
   "metadata": {},
   "outputs": [],
   "source": [
    "rfclf = RandomForestClassifier(n_estimators=400, max_features='sqrt',random_state=0).fit(Xd_train,yd_train)"
   ]
  },
  {
   "cell_type": "markdown",
   "id": "internal-fishing",
   "metadata": {},
   "source": [
    "Can do slightly better with max_depth=2"
   ]
  },
  {
   "cell_type": "code",
   "execution_count": 124,
   "id": "fundamental-outreach",
   "metadata": {},
   "outputs": [
    {
     "data": {
      "text/plain": [
       "0.7835497835497836"
      ]
     },
     "execution_count": 124,
     "metadata": {},
     "output_type": "execute_result"
    }
   ],
   "source": [
    "accuracy_score(rfclf.predict(Xd_test),yd_test)"
   ]
  },
  {
   "cell_type": "code",
   "execution_count": 125,
   "id": "patient-trunk",
   "metadata": {},
   "outputs": [],
   "source": [
    "bst_clf = GradientBoostingClassifier(n_estimators=600, learning_rate=0.01,max_depth=1, random_state=0).fit(Xd_train, yd_train)"
   ]
  },
  {
   "cell_type": "code",
   "execution_count": 126,
   "id": "adequate-crystal",
   "metadata": {},
   "outputs": [
    {
     "data": {
      "text/plain": [
       "0.8008658008658008"
      ]
     },
     "execution_count": 126,
     "metadata": {},
     "output_type": "execute_result"
    }
   ],
   "source": [
    "accuracy_score(bst_clf.predict(Xd_test),yd_test)"
   ]
  },
  {
   "cell_type": "code",
   "execution_count": 127,
   "id": "tough-minority",
   "metadata": {},
   "outputs": [],
   "source": [
    "single_tree_clf = DecisionTreeClassifier(random_state=0)\n",
    "path = single_tree_clf.cost_complexity_pruning_path(Xd_train, yd_train)\n",
    "ccp_alphas, impurities = path.ccp_alphas, path.impurities"
   ]
  },
  {
   "cell_type": "code",
   "execution_count": 128,
   "id": "selected-welsh",
   "metadata": {},
   "outputs": [],
   "source": [
    "cvres=[]\n",
    "for a in ccp_alphas:\n",
    "    st_clf = DecisionTreeClassifier(random_state=0, ccp_alpha= a)\n",
    "    cvclf = cross_validate(st_clf, Xd_train, yd_train, cv=5, scoring='accuracy')\n",
    "    cvres.append(cvclf['test_score'].mean())"
   ]
  },
  {
   "cell_type": "code",
   "execution_count": 129,
   "id": "laden-fever",
   "metadata": {},
   "outputs": [
    {
     "data": {
      "text/plain": [
       "47"
      ]
     },
     "execution_count": 129,
     "metadata": {},
     "output_type": "execute_result"
    }
   ],
   "source": [
    "np.argmax(cvres)"
   ]
  },
  {
   "cell_type": "code",
   "execution_count": 130,
   "id": "published-mission",
   "metadata": {},
   "outputs": [],
   "source": [
    "al=ccp_alphas[np.argmax(cvres)]"
   ]
  },
  {
   "cell_type": "code",
   "execution_count": 131,
   "id": "balanced-milton",
   "metadata": {},
   "outputs": [],
   "source": [
    "our_clf = DecisionTreeClassifier(random_state=0, ccp_alpha=al).fit(Xd_train,yd_train)"
   ]
  },
  {
   "cell_type": "code",
   "execution_count": 132,
   "id": "realistic-marketplace",
   "metadata": {},
   "outputs": [
    {
     "data": {
      "text/plain": [
       "0.7359307359307359"
      ]
     },
     "execution_count": 132,
     "metadata": {},
     "output_type": "execute_result"
    }
   ],
   "source": [
    "accuracy_score(our_clf.predict(Xd_test),yd_test)"
   ]
  },
  {
   "cell_type": "markdown",
   "id": "fundamental-point",
   "metadata": {},
   "source": [
    "Bagging improves on a single tree. Boosting and RF both improve on bagging."
   ]
  },
  {
   "cell_type": "markdown",
   "id": "impossible-atmosphere",
   "metadata": {},
   "source": [
    "Oh yeah-- maybe we should draw a picture of the decision boundary when there are two features since we've done that before for non-tree based methods..."
   ]
  },
  {
   "cell_type": "code",
   "execution_count": 133,
   "id": "sophisticated-restriction",
   "metadata": {},
   "outputs": [
    {
     "data": {
      "text/html": [
       "<div>\n",
       "<style scoped>\n",
       "    .dataframe tbody tr th:only-of-type {\n",
       "        vertical-align: middle;\n",
       "    }\n",
       "\n",
       "    .dataframe tbody tr th {\n",
       "        vertical-align: top;\n",
       "    }\n",
       "\n",
       "    .dataframe thead th {\n",
       "        text-align: right;\n",
       "    }\n",
       "</style>\n",
       "<table border=\"1\" class=\"dataframe\">\n",
       "  <thead>\n",
       "    <tr style=\"text-align: right;\">\n",
       "      <th></th>\n",
       "      <th>feat1</th>\n",
       "      <th>feat2</th>\n",
       "      <th>Class</th>\n",
       "    </tr>\n",
       "  </thead>\n",
       "  <tbody>\n",
       "    <tr>\n",
       "      <th>0</th>\n",
       "      <td>0.409860</td>\n",
       "      <td>0.030967</td>\n",
       "      <td>1</td>\n",
       "    </tr>\n",
       "    <tr>\n",
       "      <th>1</th>\n",
       "      <td>0.903431</td>\n",
       "      <td>-0.555821</td>\n",
       "      <td>1</td>\n",
       "    </tr>\n",
       "    <tr>\n",
       "      <th>2</th>\n",
       "      <td>0.914180</td>\n",
       "      <td>0.574279</td>\n",
       "      <td>0</td>\n",
       "    </tr>\n",
       "    <tr>\n",
       "      <th>3</th>\n",
       "      <td>0.447570</td>\n",
       "      <td>0.520823</td>\n",
       "      <td>0</td>\n",
       "    </tr>\n",
       "    <tr>\n",
       "      <th>4</th>\n",
       "      <td>2.109126</td>\n",
       "      <td>0.026856</td>\n",
       "      <td>1</td>\n",
       "    </tr>\n",
       "  </tbody>\n",
       "</table>\n",
       "</div>"
      ],
      "text/plain": [
       "      feat1     feat2  Class\n",
       "0  0.409860  0.030967      1\n",
       "1  0.903431 -0.555821      1\n",
       "2  0.914180  0.574279      0\n",
       "3  0.447570  0.520823      0\n",
       "4  2.109126  0.026856      1"
      ]
     },
     "execution_count": 133,
     "metadata": {},
     "output_type": "execute_result"
    }
   ],
   "source": [
    "np.random.seed(1)\n",
    "mX,my = datasets.make_moons(n_samples=500)\n",
    "jig=np.random.normal(0,.2,size=[500,2])\n",
    "\n",
    "mdf=pd.DataFrame(mX+jig,columns=['feat1','feat2'])\n",
    "mdf['Class']=my\n",
    "mdf.head()"
   ]
  },
  {
   "cell_type": "code",
   "execution_count": 134,
   "id": "oriented-zimbabwe",
   "metadata": {},
   "outputs": [],
   "source": [
    "Xn_train, Xn_test, yn_train, yn_test = train_test_split(mdf[['feat1','feat2']], mdf['Class'], test_size=0.3, random_state=5)\n",
    "nclf = GradientBoostingClassifier(n_estimators=600, learning_rate=0.01,max_depth=2, random_state=0).fit(Xn_train, yn_train)"
   ]
  },
  {
   "cell_type": "code",
   "execution_count": 135,
   "id": "unnecessary-somerset",
   "metadata": {},
   "outputs": [],
   "source": [
    "xx, yy = np.meshgrid(np.linspace(-2, 3, 500), np.linspace(-1.5, 2, 500))\n",
    "X_grid = np.c_[xx.ravel(), yy.ravel()]"
   ]
  },
  {
   "cell_type": "code",
   "execution_count": 136,
   "id": "seven-coach",
   "metadata": {},
   "outputs": [
    {
     "name": "stderr",
     "output_type": "stream",
     "text": [
      "/home/hamstersnail/miniconda3/lib/python3.9/site-packages/sklearn/base.py:445: UserWarning: X does not have valid feature names, but GradientBoostingClassifier was fitted with feature names\n",
      "  warnings.warn(\n"
     ]
    },
    {
     "data": {
      "text/plain": [
       "<Figure size 576x432 with 0 Axes>"
      ]
     },
     "metadata": {},
     "output_type": "display_data"
    },
    {
     "data": {
      "image/png": "[encoded data removed]",
      "text/plain": [
       "<Figure size 720x475.2 with 1 Axes>"
      ]
     },
     "metadata": {
      "needs_background": "light"
     },
     "output_type": "display_data"
    }
   ],
   "source": [
    "plt.figure(figsize=(8,6))\n",
    "zz_nn = nclf.predict_proba(X_grid)[:,1].reshape(xx.shape)\n",
    "f, ax = plt.subplots(figsize=(10, 6.6))\n",
    "sns.scatterplot(x='feat1',y='feat2',hue='Class',style='Class',data=mdf)\n",
    "plt.contourf(xx, yy, zz_nn > 0.5, alpha=0.2)\n",
    "plt.show()"
   ]
  },
  {
   "cell_type": "markdown",
   "id": "composed-brush",
   "metadata": {},
   "source": [
    "Of course, there's not really that much room to shine with only two features..."
   ]
  },
  {
   "cell_type": "markdown",
   "id": "involved-bunch",
   "metadata": {},
   "source": [
    "Here's another example. We have 10 features which are all independent $N(0,1)$ observations. If the sum of the 10 exceeds 9.34, then class =1, else class = -1."
   ]
  },
  {
   "cell_type": "code",
   "execution_count": 137,
   "id": "acceptable-europe",
   "metadata": {},
   "outputs": [],
   "source": [
    "from sklearn.datasets import make_hastie_10_2\n",
    "Xh, yh = make_hastie_10_2(random_state=0)"
   ]
  },
  {
   "cell_type": "code",
   "execution_count": 138,
   "id": "willing-wayne",
   "metadata": {},
   "outputs": [
    {
     "data": {
      "text/plain": [
       "(12000, 10)"
      ]
     },
     "execution_count": 138,
     "metadata": {},
     "output_type": "execute_result"
    }
   ],
   "source": [
    "Xh.shape"
   ]
  },
  {
   "cell_type": "code",
   "execution_count": 139,
   "id": "brief-pendant",
   "metadata": {},
   "outputs": [
    {
     "data": {
      "text/plain": [
       "array([ 1., -1.,  1., -1.,  1., -1., -1., -1.,  1., -1.])"
      ]
     },
     "execution_count": 139,
     "metadata": {},
     "output_type": "execute_result"
    }
   ],
   "source": [
    "yh[0:10]"
   ]
  },
  {
   "cell_type": "markdown",
   "id": "otherwise-spyware",
   "metadata": {},
   "source": [
    "Plotting column 3 versus column 7 colored by class... don't see much there!"
   ]
  },
  {
   "cell_type": "code",
   "execution_count": 140,
   "id": "unlikely-buffalo",
   "metadata": {},
   "outputs": [
    {
     "data": {
      "image/png": "[encoded data removed]",
      "text/plain": [
       "<Figure size 576x432 with 1 Axes>"
      ]
     },
     "metadata": {
      "needs_background": "light"
     },
     "output_type": "display_data"
    }
   ],
   "source": [
    "plt.figure(figsize=(8,6))\n",
    "plt.scatter(Xh[:,3], Xh[:,7], marker=\"+\",linewidths=1,c=yh, cmap=plt.cm.coolwarm)\n",
    "plt.show()"
   ]
  },
  {
   "cell_type": "code",
   "execution_count": 141,
   "id": "related-singapore",
   "metadata": {},
   "outputs": [],
   "source": [
    "Xh_train, Xh_test, yh_train, yh_test = train_test_split(Xh,yh,test_size=0.3, random_state=5)"
   ]
  },
  {
   "cell_type": "code",
   "execution_count": 142,
   "id": "liquid-latter",
   "metadata": {},
   "outputs": [],
   "source": [
    "rfh_clf = RandomForestClassifier(n_estimators=600,max_depth=2, oob_score=True,max_features='sqrt',random_state=0).fit(Xh_train,yh_train)"
   ]
  },
  {
   "cell_type": "code",
   "execution_count": 143,
   "id": "irish-protection",
   "metadata": {},
   "outputs": [
    {
     "data": {
      "text/plain": [
       "0.7375"
      ]
     },
     "execution_count": 143,
     "metadata": {},
     "output_type": "execute_result"
    }
   ],
   "source": [
    "accuracy_score(rfh_clf.predict(Xh_test),yh_test)"
   ]
  },
  {
   "cell_type": "markdown",
   "id": "framed-blink",
   "metadata": {},
   "source": [
    "Since random forest classifier is built on bootstrapoping it can give OOB score also:"
   ]
  },
  {
   "cell_type": "code",
   "execution_count": 144,
   "id": "commercial-female",
   "metadata": {},
   "outputs": [
    {
     "data": {
      "text/plain": [
       "0.7295238095238096"
      ]
     },
     "execution_count": 144,
     "metadata": {},
     "output_type": "execute_result"
    }
   ],
   "source": [
    "rfh_clf.oob_score_"
   ]
  },
  {
   "cell_type": "code",
   "execution_count": 145,
   "id": "attached-pipeline",
   "metadata": {},
   "outputs": [],
   "source": [
    "bst_clf = GradientBoostingClassifier(n_estimators=600, learning_rate=0.01,max_depth=2, random_state=0).fit(Xh_train, yh_train)"
   ]
  },
  {
   "cell_type": "code",
   "execution_count": 146,
   "id": "greenhouse-brick",
   "metadata": {},
   "outputs": [
    {
     "data": {
      "text/plain": [
       "0.8677777777777778"
      ]
     },
     "execution_count": 146,
     "metadata": {},
     "output_type": "execute_result"
    }
   ],
   "source": [
    "accuracy_score(bst_clf.predict(Xh_test),yh_test)"
   ]
  },
  {
   "cell_type": "code",
   "execution_count": 147,
   "id": "focal-balance",
   "metadata": {},
   "outputs": [],
   "source": [
    "from sklearn.linear_model import LogisticRegression"
   ]
  },
  {
   "cell_type": "code",
   "execution_count": 148,
   "id": "lesser-intersection",
   "metadata": {},
   "outputs": [],
   "source": [
    "lm = LogisticRegression(random_state=0).fit(Xh_train, yh_train)"
   ]
  },
  {
   "cell_type": "code",
   "execution_count": 149,
   "id": "modified-lindsay",
   "metadata": {},
   "outputs": [
    {
     "data": {
      "text/plain": [
       "0.5316666666666666"
      ]
     },
     "execution_count": 149,
     "metadata": {},
     "output_type": "execute_result"
    }
   ],
   "source": [
    "accuracy_score(lm.predict(Xh_test),yh_test)"
   ]
  },
  {
   "cell_type": "code",
   "execution_count": 150,
   "id": "deadly-estonia",
   "metadata": {},
   "outputs": [],
   "source": [
    "fsh=pd.read_csv('BigFish.csv')"
   ]
  },
  {
   "cell_type": "code",
   "execution_count": 151,
   "id": "right-knife",
   "metadata": {},
   "outputs": [
    {
     "data": {
      "text/plain": [
       "(159, 7)"
      ]
     },
     "execution_count": 151,
     "metadata": {},
     "output_type": "execute_result"
    }
   ],
   "source": [
    "fsh.shape"
   ]
  },
  {
   "cell_type": "code",
   "execution_count": 152,
   "id": "concrete-sample",
   "metadata": {},
   "outputs": [
    {
     "data": {
      "text/html": [
       "<div>\n",
       "<style scoped>\n",
       "    .dataframe tbody tr th:only-of-type {\n",
       "        vertical-align: middle;\n",
       "    }\n",
       "\n",
       "    .dataframe tbody tr th {\n",
       "        vertical-align: top;\n",
       "    }\n",
       "\n",
       "    .dataframe thead th {\n",
       "        text-align: right;\n",
       "    }\n",
       "</style>\n",
       "<table border=\"1\" class=\"dataframe\">\n",
       "  <thead>\n",
       "    <tr style=\"text-align: right;\">\n",
       "      <th></th>\n",
       "      <th>Species</th>\n",
       "      <th>Weight</th>\n",
       "      <th>Length1</th>\n",
       "      <th>Length2</th>\n",
       "      <th>Length3</th>\n",
       "      <th>Height</th>\n",
       "      <th>Width</th>\n",
       "    </tr>\n",
       "  </thead>\n",
       "  <tbody>\n",
       "    <tr>\n",
       "      <th>0</th>\n",
       "      <td>Bream</td>\n",
       "      <td>242.0</td>\n",
       "      <td>23.2</td>\n",
       "      <td>25.4</td>\n",
       "      <td>30.0</td>\n",
       "      <td>11.5200</td>\n",
       "      <td>4.0200</td>\n",
       "    </tr>\n",
       "    <tr>\n",
       "      <th>1</th>\n",
       "      <td>Bream</td>\n",
       "      <td>290.0</td>\n",
       "      <td>24.0</td>\n",
       "      <td>26.3</td>\n",
       "      <td>31.2</td>\n",
       "      <td>12.4800</td>\n",
       "      <td>4.3056</td>\n",
       "    </tr>\n",
       "    <tr>\n",
       "      <th>2</th>\n",
       "      <td>Bream</td>\n",
       "      <td>340.0</td>\n",
       "      <td>23.9</td>\n",
       "      <td>26.5</td>\n",
       "      <td>31.1</td>\n",
       "      <td>12.3778</td>\n",
       "      <td>4.6961</td>\n",
       "    </tr>\n",
       "    <tr>\n",
       "      <th>3</th>\n",
       "      <td>Bream</td>\n",
       "      <td>363.0</td>\n",
       "      <td>26.3</td>\n",
       "      <td>29.0</td>\n",
       "      <td>33.5</td>\n",
       "      <td>12.7300</td>\n",
       "      <td>4.4555</td>\n",
       "    </tr>\n",
       "    <tr>\n",
       "      <th>4</th>\n",
       "      <td>Bream</td>\n",
       "      <td>430.0</td>\n",
       "      <td>26.5</td>\n",
       "      <td>29.0</td>\n",
       "      <td>34.0</td>\n",
       "      <td>12.4440</td>\n",
       "      <td>5.1340</td>\n",
       "    </tr>\n",
       "  </tbody>\n",
       "</table>\n",
       "</div>"
      ],
      "text/plain": [
       "  Species  Weight  Length1  Length2  Length3   Height   Width\n",
       "0   Bream   242.0     23.2     25.4     30.0  11.5200  4.0200\n",
       "1   Bream   290.0     24.0     26.3     31.2  12.4800  4.3056\n",
       "2   Bream   340.0     23.9     26.5     31.1  12.3778  4.6961\n",
       "3   Bream   363.0     26.3     29.0     33.5  12.7300  4.4555\n",
       "4   Bream   430.0     26.5     29.0     34.0  12.4440  5.1340"
      ]
     },
     "execution_count": 152,
     "metadata": {},
     "output_type": "execute_result"
    }
   ],
   "source": [
    "fsh.head()"
   ]
  },
  {
   "cell_type": "code",
   "execution_count": 153,
   "id": "vietnamese-major",
   "metadata": {},
   "outputs": [],
   "source": [
    "fsh=pd.get_dummies(fsh)"
   ]
  },
  {
   "cell_type": "code",
   "execution_count": 154,
   "id": "caroline-glasgow",
   "metadata": {},
   "outputs": [
    {
     "data": {
      "text/html": [
       "<div>\n",
       "<style scoped>\n",
       "    .dataframe tbody tr th:only-of-type {\n",
       "        vertical-align: middle;\n",
       "    }\n",
       "\n",
       "    .dataframe tbody tr th {\n",
       "        vertical-align: top;\n",
       "    }\n",
       "\n",
       "    .dataframe thead th {\n",
       "        text-align: right;\n",
       "    }\n",
       "</style>\n",
       "<table border=\"1\" class=\"dataframe\">\n",
       "  <thead>\n",
       "    <tr style=\"text-align: right;\">\n",
       "      <th></th>\n",
       "      <th>Weight</th>\n",
       "      <th>Length1</th>\n",
       "      <th>Length2</th>\n",
       "      <th>Length3</th>\n",
       "      <th>Height</th>\n",
       "      <th>Width</th>\n",
       "      <th>Species_Bream</th>\n",
       "      <th>Species_Parkki</th>\n",
       "      <th>Species_Perch</th>\n",
       "      <th>Species_Pike</th>\n",
       "      <th>Species_Roach</th>\n",
       "      <th>Species_Smelt</th>\n",
       "      <th>Species_Whitefish</th>\n",
       "    </tr>\n",
       "  </thead>\n",
       "  <tbody>\n",
       "    <tr>\n",
       "      <th>0</th>\n",
       "      <td>242.0</td>\n",
       "      <td>23.2</td>\n",
       "      <td>25.4</td>\n",
       "      <td>30.0</td>\n",
       "      <td>11.5200</td>\n",
       "      <td>4.0200</td>\n",
       "      <td>1</td>\n",
       "      <td>0</td>\n",
       "      <td>0</td>\n",
       "      <td>0</td>\n",
       "      <td>0</td>\n",
       "      <td>0</td>\n",
       "      <td>0</td>\n",
       "    </tr>\n",
       "    <tr>\n",
       "      <th>1</th>\n",
       "      <td>290.0</td>\n",
       "      <td>24.0</td>\n",
       "      <td>26.3</td>\n",
       "      <td>31.2</td>\n",
       "      <td>12.4800</td>\n",
       "      <td>4.3056</td>\n",
       "      <td>1</td>\n",
       "      <td>0</td>\n",
       "      <td>0</td>\n",
       "      <td>0</td>\n",
       "      <td>0</td>\n",
       "      <td>0</td>\n",
       "      <td>0</td>\n",
       "    </tr>\n",
       "    <tr>\n",
       "      <th>2</th>\n",
       "      <td>340.0</td>\n",
       "      <td>23.9</td>\n",
       "      <td>26.5</td>\n",
       "      <td>31.1</td>\n",
       "      <td>12.3778</td>\n",
       "      <td>4.6961</td>\n",
       "      <td>1</td>\n",
       "      <td>0</td>\n",
       "      <td>0</td>\n",
       "      <td>0</td>\n",
       "      <td>0</td>\n",
       "      <td>0</td>\n",
       "      <td>0</td>\n",
       "    </tr>\n",
       "    <tr>\n",
       "      <th>3</th>\n",
       "      <td>363.0</td>\n",
       "      <td>26.3</td>\n",
       "      <td>29.0</td>\n",
       "      <td>33.5</td>\n",
       "      <td>12.7300</td>\n",
       "      <td>4.4555</td>\n",
       "      <td>1</td>\n",
       "      <td>0</td>\n",
       "      <td>0</td>\n",
       "      <td>0</td>\n",
       "      <td>0</td>\n",
       "      <td>0</td>\n",
       "      <td>0</td>\n",
       "    </tr>\n",
       "    <tr>\n",
       "      <th>4</th>\n",
       "      <td>430.0</td>\n",
       "      <td>26.5</td>\n",
       "      <td>29.0</td>\n",
       "      <td>34.0</td>\n",
       "      <td>12.4440</td>\n",
       "      <td>5.1340</td>\n",
       "      <td>1</td>\n",
       "      <td>0</td>\n",
       "      <td>0</td>\n",
       "      <td>0</td>\n",
       "      <td>0</td>\n",
       "      <td>0</td>\n",
       "      <td>0</td>\n",
       "    </tr>\n",
       "  </tbody>\n",
       "</table>\n",
       "</div>"
      ],
      "text/plain": [
       "   Weight  Length1  Length2  Length3   Height   Width  Species_Bream  \\\n",
       "0   242.0     23.2     25.4     30.0  11.5200  4.0200              1   \n",
       "1   290.0     24.0     26.3     31.2  12.4800  4.3056              1   \n",
       "2   340.0     23.9     26.5     31.1  12.3778  4.6961              1   \n",
       "3   363.0     26.3     29.0     33.5  12.7300  4.4555              1   \n",
       "4   430.0     26.5     29.0     34.0  12.4440  5.1340              1   \n",
       "\n",
       "   Species_Parkki  Species_Perch  Species_Pike  Species_Roach  Species_Smelt  \\\n",
       "0               0              0             0              0              0   \n",
       "1               0              0             0              0              0   \n",
       "2               0              0             0              0              0   \n",
       "3               0              0             0              0              0   \n",
       "4               0              0             0              0              0   \n",
       "\n",
       "   Species_Whitefish  \n",
       "0                  0  \n",
       "1                  0  \n",
       "2                  0  \n",
       "3                  0  \n",
       "4                  0  "
      ]
     },
     "execution_count": 154,
     "metadata": {},
     "output_type": "execute_result"
    }
   ],
   "source": [
    "fsh.head()"
   ]
  },
  {
   "cell_type": "code",
   "execution_count": 155,
   "id": "sharing-boards",
   "metadata": {},
   "outputs": [],
   "source": [
    "Xf=fsh.drop('Weight',axis=1)\n",
    "yf=fsh['Weight']"
   ]
  },
  {
   "cell_type": "code",
   "execution_count": 156,
   "id": "registered-farming",
   "metadata": {},
   "outputs": [],
   "source": [
    "Xf_train, Xf_test, yf_train, yf_test = train_test_split(Xf,yf,test_size=0.3, random_state=5)"
   ]
  },
  {
   "cell_type": "code",
   "execution_count": 157,
   "id": "finnish-sodium",
   "metadata": {},
   "outputs": [],
   "source": [
    "rf_fsh = RandomForestRegressor(n_estimators=200,max_features='sqrt',random_state=0).fit(Xf_train,yf_train)"
   ]
  },
  {
   "cell_type": "code",
   "execution_count": 158,
   "id": "tutorial-championship",
   "metadata": {},
   "outputs": [
    {
     "data": {
      "text/plain": [
       "0.9767773367425386"
      ]
     },
     "execution_count": 158,
     "metadata": {},
     "output_type": "execute_result"
    }
   ],
   "source": [
    "rf_fsh.score(Xf_test,yf_test)"
   ]
  },
  {
   "cell_type": "markdown",
   "id": "joined-attack",
   "metadata": {},
   "source": [
    "(Ridge regression gets r^2=.875 ish)"
   ]
  },
  {
   "cell_type": "code",
   "execution_count": 159,
   "id": "auburn-value",
   "metadata": {},
   "outputs": [
    {
     "data": {
      "text/plain": [
       "(-1.0, 12.0)"
      ]
     },
     "execution_count": 159,
     "metadata": {},
     "output_type": "execute_result"
    },
    {
     "data": {
      "image/png": "[encoded data removed]",
      "text/plain": [
       "<Figure size 432x288 with 1 Axes>"
      ]
     },
     "metadata": {
      "needs_background": "light"
     },
     "output_type": "display_data"
    }
   ],
   "source": [
    "nfeat=Xf.shape[1]\n",
    "plt.barh(np.arange(nfeat),rf_fsh.feature_importances_,align='center')\n",
    "plt.yticks(np.arange(nfeat),list(Xf.columns))\n",
    "plt.ylim(-1,nfeat)"
   ]
  },
  {
   "cell_type": "markdown",
   "id": "common-albert",
   "metadata": {},
   "source": [
    "## Sandbox"
   ]
  },
  {
   "cell_type": "markdown",
   "id": "greatest-prize",
   "metadata": {},
   "source": [
    "* Breast Cancer data: Try knn and tree-based classifiers\n",
    "* Boston housing: try tree based regressors for MEDV\n",
    "* Carseats define a Class on Sales where CLass = 1 if Sales > 8 and 0 otherwise. Compare tree-based classifiers to knn.\n",
    "* Carseats II: Perform tree-based regression on Sales.\n",
    "* Try tree-based classifiers on the two moons (arcs) dataset and the circular HW dataset\n",
    "* Try predicting Target in the ```classify_me.csv``` file "
   ]
  },
  {
   "cell_type": "code",
   "execution_count": 160,
   "id": "crazy-translation",
   "metadata": {},
   "outputs": [],
   "source": [
    "from sklearn import datasets"
   ]
  },
  {
   "cell_type": "code",
   "execution_count": 161,
   "id": "previous-irish",
   "metadata": {},
   "outputs": [
    {
     "ename": "NameError",
     "evalue": "name 'sklearn' is not defined",
     "output_type": "error",
     "traceback": [
      "\u001b[0;31m---------------------------------------------------------------------------\u001b[0m",
      "\u001b[0;31mNameError\u001b[0m                                 Traceback (most recent call last)",
      "\u001b[0;32m<ipython-input-161-0472dba8d097>\u001b[0m in \u001b[0;36m<module>\u001b[0;34m\u001b[0m\n\u001b[0;32m----> 1\u001b[0;31m \u001b[0mbcd\u001b[0m\u001b[0;34m,\u001b[0m\u001b[0mycd\u001b[0m\u001b[0;34m=\u001b[0m\u001b[0msklearn\u001b[0m\u001b[0;34m.\u001b[0m\u001b[0mdatasets\u001b[0m\u001b[0;34m.\u001b[0m\u001b[0mload_breast_cancer\u001b[0m\u001b[0;34m(\u001b[0m\u001b[0mreturn_X_y\u001b[0m\u001b[0;34m=\u001b[0m\u001b[0;32mTrue\u001b[0m\u001b[0;34m,\u001b[0m \u001b[0mas_frame\u001b[0m\u001b[0;34m=\u001b[0m\u001b[0;32mTrue\u001b[0m\u001b[0;34m)\u001b[0m\u001b[0;34m\u001b[0m\u001b[0;34m\u001b[0m\u001b[0m\n\u001b[0m\u001b[1;32m      2\u001b[0m \u001b[0mbcd\u001b[0m\u001b[0;34m.\u001b[0m\u001b[0mhead\u001b[0m\u001b[0;34m(\u001b[0m\u001b[0;34m)\u001b[0m\u001b[0;34m\u001b[0m\u001b[0;34m\u001b[0m\u001b[0m\n",
      "\u001b[0;31mNameError\u001b[0m: name 'sklearn' is not defined"
     ]
    }
   ],
   "source": [
    "bcd,ycd=sklearn.datasets.load_breast_cancer(return_X_y=True, as_frame=True)\n",
    "bcd.head()"
   ]
  },
  {
   "cell_type": "code",
   "execution_count": null,
   "id": "instructional-cliff",
   "metadata": {},
   "outputs": [],
   "source": [
    "bcd.shape"
   ]
  },
  {
   "cell_type": "code",
   "execution_count": null,
   "id": "sticky-trinity",
   "metadata": {},
   "outputs": [],
   "source": [
    "ycd.head()"
   ]
  },
  {
   "cell_type": "code",
   "execution_count": null,
   "id": "pursuant-first",
   "metadata": {},
   "outputs": [],
   "source": [
    "Xbos,ybos=datasets.load_boston(return_X_y=True)"
   ]
  },
  {
   "cell_type": "code",
   "execution_count": null,
   "id": "starting-conference",
   "metadata": {},
   "outputs": [],
   "source": []
  }
 ],
 "metadata": {
  "kernelspec": {
   "display_name": "Python 3",
   "language": "python",
   "name": "python3"
  },
  "language_info": {
   "codemirror_mode": {
    "name": "ipython",
    "version": 3
   },
   "file_extension": ".py",
   "mimetype": "text/x-python",
   "name": "python",
   "nbconvert_exporter": "python",
   "pygments_lexer": "ipython3",
   "version": "3.9.5"
  }
 },
 "nbformat": 4,
 "nbformat_minor": 5
}
