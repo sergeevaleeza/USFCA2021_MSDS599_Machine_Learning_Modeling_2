{
 "cells": [
  {
   "cell_type": "markdown",
   "id": "b3ad355c",
   "metadata": {},
   "source": [
    "Leeza Sergeeva\n",
    "Homework 3\n",
    "4/11/2022"
   ]
  },
  {
   "cell_type": "code",
   "execution_count": 1,
   "id": "5e9b3d5f",
   "metadata": {},
   "outputs": [],
   "source": [
    "import pandas as pd\n",
    "import numpy as np\n",
    "import matplotlib.pyplot as plt\n",
    "import seaborn as sns"
   ]
  },
  {
   "cell_type": "code",
   "execution_count": 2,
   "id": "c8e7d64d",
   "metadata": {},
   "outputs": [],
   "source": [
    "from sklearn.model_selection import cross_validate\n",
    "from sklearn.model_selection import train_test_split\n",
    "from sklearn.metrics import mean_squared_error\n",
    "from sklearn import datasets\n",
    "from sklearn.metrics import accuracy_score\n",
    "from sklearn.neighbors import KNeighborsClassifier\n",
    "from sklearn.preprocessing import StandardScaler\n",
    "from sklearn.linear_model import LogisticRegression\n",
    "from sklearn.metrics import accuracy_score"
   ]
  },
  {
   "cell_type": "code",
   "execution_count": 3,
   "id": "0bb36f29",
   "metadata": {},
   "outputs": [],
   "source": [
    "from sklearn.model_selection import cross_validate\n",
    "from sklearn.model_selection import train_test_split\n",
    "from sklearn.metrics import mean_squared_error\n",
    "from sklearn import datasets\n",
    "from sklearn.metrics import accuracy_score"
   ]
  },
  {
   "cell_type": "code",
   "execution_count": 4,
   "id": "99cec18e",
   "metadata": {},
   "outputs": [],
   "source": [
    "from sklearn import tree\n",
    "from sklearn.tree import DecisionTreeRegressor\n",
    "from sklearn.tree import DecisionTreeClassifier\n",
    "from sklearn.tree import export_text"
   ]
  },
  {
   "cell_type": "markdown",
   "id": "fa23f27a",
   "metadata": {},
   "source": [
    "In the folder with Monday's notebook is a file called classify_me.csv. The column 'Target' gives the class labels."
   ]
  },
  {
   "cell_type": "code",
   "execution_count": 5,
   "id": "ebbabae2",
   "metadata": {},
   "outputs": [
    {
     "data": {
      "text/html": [
       "<div>\n",
       "<style scoped>\n",
       "    .dataframe tbody tr th:only-of-type {\n",
       "        vertical-align: middle;\n",
       "    }\n",
       "\n",
       "    .dataframe tbody tr th {\n",
       "        vertical-align: top;\n",
       "    }\n",
       "\n",
       "    .dataframe thead th {\n",
       "        text-align: right;\n",
       "    }\n",
       "</style>\n",
       "<table border=\"1\" class=\"dataframe\">\n",
       "  <thead>\n",
       "    <tr style=\"text-align: right;\">\n",
       "      <th></th>\n",
       "      <th>Unnamed: 0</th>\n",
       "      <th>A</th>\n",
       "      <th>B</th>\n",
       "      <th>C</th>\n",
       "      <th>D</th>\n",
       "      <th>E</th>\n",
       "      <th>F</th>\n",
       "      <th>G</th>\n",
       "      <th>H</th>\n",
       "      <th>I</th>\n",
       "      <th>J</th>\n",
       "      <th>Target</th>\n",
       "    </tr>\n",
       "  </thead>\n",
       "  <tbody>\n",
       "    <tr>\n",
       "      <th>0</th>\n",
       "      <td>0</td>\n",
       "      <td>0.150333</td>\n",
       "      <td>-1.468600</td>\n",
       "      <td>0.420842</td>\n",
       "      <td>-0.878333</td>\n",
       "      <td>-1.348358</td>\n",
       "      <td>0.686323</td>\n",
       "      <td>-0.663374</td>\n",
       "      <td>-2.301067</td>\n",
       "      <td>1.302455</td>\n",
       "      <td>0.320666</td>\n",
       "      <td>2</td>\n",
       "    </tr>\n",
       "    <tr>\n",
       "      <th>1</th>\n",
       "      <td>1</td>\n",
       "      <td>-1.632086</td>\n",
       "      <td>-0.705800</td>\n",
       "      <td>0.336495</td>\n",
       "      <td>0.024062</td>\n",
       "      <td>-0.493619</td>\n",
       "      <td>-1.534829</td>\n",
       "      <td>-0.024577</td>\n",
       "      <td>-0.296786</td>\n",
       "      <td>0.320047</td>\n",
       "      <td>0.506105</td>\n",
       "      <td>1</td>\n",
       "    </tr>\n",
       "    <tr>\n",
       "      <th>2</th>\n",
       "      <td>2</td>\n",
       "      <td>-1.285627</td>\n",
       "      <td>1.381077</td>\n",
       "      <td>-0.385668</td>\n",
       "      <td>1.446167</td>\n",
       "      <td>-0.348163</td>\n",
       "      <td>-2.255813</td>\n",
       "      <td>0.272703</td>\n",
       "      <td>-0.964729</td>\n",
       "      <td>-1.515589</td>\n",
       "      <td>0.454248</td>\n",
       "      <td>2</td>\n",
       "    </tr>\n",
       "    <tr>\n",
       "      <th>3</th>\n",
       "      <td>3</td>\n",
       "      <td>-0.012135</td>\n",
       "      <td>-0.729971</td>\n",
       "      <td>-1.132579</td>\n",
       "      <td>1.076787</td>\n",
       "      <td>1.235348</td>\n",
       "      <td>1.234472</td>\n",
       "      <td>-1.809369</td>\n",
       "      <td>0.735971</td>\n",
       "      <td>-1.349093</td>\n",
       "      <td>-0.061655</td>\n",
       "      <td>0</td>\n",
       "    </tr>\n",
       "    <tr>\n",
       "      <th>4</th>\n",
       "      <td>4</td>\n",
       "      <td>-1.303877</td>\n",
       "      <td>0.930213</td>\n",
       "      <td>0.801927</td>\n",
       "      <td>-1.750493</td>\n",
       "      <td>0.846840</td>\n",
       "      <td>-0.258996</td>\n",
       "      <td>-0.507816</td>\n",
       "      <td>0.560169</td>\n",
       "      <td>0.583438</td>\n",
       "      <td>-0.472208</td>\n",
       "      <td>0</td>\n",
       "    </tr>\n",
       "  </tbody>\n",
       "</table>\n",
       "</div>"
      ],
      "text/plain": [
       "   Unnamed: 0         A         B         C         D         E         F  \\\n",
       "0           0  0.150333 -1.468600  0.420842 -0.878333 -1.348358  0.686323   \n",
       "1           1 -1.632086 -0.705800  0.336495  0.024062 -0.493619 -1.534829   \n",
       "2           2 -1.285627  1.381077 -0.385668  1.446167 -0.348163 -2.255813   \n",
       "3           3 -0.012135 -0.729971 -1.132579  1.076787  1.235348  1.234472   \n",
       "4           4 -1.303877  0.930213  0.801927 -1.750493  0.846840 -0.258996   \n",
       "\n",
       "          G         H         I         J  Target  \n",
       "0 -0.663374 -2.301067  1.302455  0.320666       2  \n",
       "1 -0.024577 -0.296786  0.320047  0.506105       1  \n",
       "2  0.272703 -0.964729 -1.515589  0.454248       2  \n",
       "3 -1.809369  0.735971 -1.349093 -0.061655       0  \n",
       "4 -0.507816  0.560169  0.583438 -0.472208       0  "
      ]
     },
     "execution_count": 5,
     "metadata": {},
     "output_type": "execute_result"
    }
   ],
   "source": [
    "classify_me=pd.read_csv('classify_me.csv')\n",
    "classify_me.head()"
   ]
  },
  {
   "cell_type": "markdown",
   "id": "ae2a5082",
   "metadata": {},
   "source": [
    "1. Read in this file. How many classes are there? How many features are there? Are there any missing entries? "
   ]
  },
  {
   "cell_type": "code",
   "execution_count": 6,
   "id": "99d2b5bb",
   "metadata": {},
   "outputs": [
    {
     "data": {
      "text/plain": [
       "array([2, 1, 0])"
      ]
     },
     "execution_count": 6,
     "metadata": {},
     "output_type": "execute_result"
    }
   ],
   "source": [
    "# check how many unique classes in dataset\n",
    "classify_me.Target.unique()"
   ]
  },
  {
   "cell_type": "code",
   "execution_count": 7,
   "id": "18689fe6",
   "metadata": {},
   "outputs": [
    {
     "data": {
      "text/plain": [
       "Unnamed: 0    0\n",
       "A             0\n",
       "B             0\n",
       "C             0\n",
       "D             0\n",
       "E             0\n",
       "F             0\n",
       "G             0\n",
       "H             0\n",
       "I             0\n",
       "J             0\n",
       "Target        0\n",
       "dtype: int64"
      ]
     },
     "execution_count": 7,
     "metadata": {},
     "output_type": "execute_result"
    }
   ],
   "source": [
    "# check for missing values\n",
    "classify_me.isna().sum()"
   ]
  },
  {
   "cell_type": "code",
   "execution_count": 8,
   "id": "0b35e804",
   "metadata": {},
   "outputs": [
    {
     "data": {
      "text/plain": [
       "Unnamed: 0      int64\n",
       "A             float64\n",
       "B             float64\n",
       "C             float64\n",
       "D             float64\n",
       "E             float64\n",
       "F             float64\n",
       "G             float64\n",
       "H             float64\n",
       "I             float64\n",
       "J             float64\n",
       "Target          int64\n",
       "dtype: object"
      ]
     },
     "execution_count": 8,
     "metadata": {},
     "output_type": "execute_result"
    }
   ],
   "source": [
    "# check for categorical data\n",
    "classify_me.dtypes"
   ]
  },
  {
   "cell_type": "code",
   "execution_count": 9,
   "id": "f7bbffe6",
   "metadata": {},
   "outputs": [
    {
     "data": {
      "text/plain": [
       "Index(['Unnamed: 0', 'A', 'B', 'C', 'D', 'E', 'F', 'G', 'H', 'I', 'J',\n",
       "       'Target'],\n",
       "      dtype='object')"
      ]
     },
     "execution_count": 9,
     "metadata": {},
     "output_type": "execute_result"
    }
   ],
   "source": [
    "classify_me.columns"
   ]
  },
  {
   "cell_type": "markdown",
   "id": "64e3e558",
   "metadata": {},
   "source": [
    "2. Split into training and test sets (30% test set). Use random_state=5 so your splits are reproducible. "
   ]
  },
  {
   "cell_type": "code",
   "execution_count": 10,
   "id": "88263d6c",
   "metadata": {},
   "outputs": [],
   "source": [
    "X=classify_me.drop(['Unnamed: 0','Target'],axis=1)\n",
    "y=classify_me['Target']"
   ]
  },
  {
   "cell_type": "code",
   "execution_count": 11,
   "id": "5cd75eca",
   "metadata": {},
   "outputs": [],
   "source": [
    "X_train, X_test, y_train, y_test = train_test_split(X,y,test_size=0.3, random_state=5)"
   ]
  },
  {
   "cell_type": "markdown",
   "id": "053efc08",
   "metadata": {},
   "source": [
    "3. Use all the features to build a classifier on the training set. Try bagging, random forest, boosting, and k-nearest neighbors. For knn, cross validate the number of neighbors you use. In your random forest implementation, build the trees deep -- that is, do not set a value for max_depth. For bagging and random forest,  cross validate the number of trees you use (given by the n_estimators parameter). For your boosting model, validate all of the parameters: n_estimators, learning_rate, and max_depth. In all three models, set random_state=5 so the results are reproducible.  "
   ]
  },
  {
   "cell_type": "markdown",
   "id": "fe59376e",
   "metadata": {},
   "source": [
    "K-nearest neighbors"
   ]
  },
  {
   "cell_type": "code",
   "execution_count": 12,
   "id": "1e0eee42",
   "metadata": {},
   "outputs": [],
   "source": [
    "# Specify the model method including the number of neighbors to use. Then, fit on the training data.\n",
    "clf = KNeighborsClassifier(n_neighbors=1)\n",
    "nb1=clf.fit(X_train,y_train)"
   ]
  },
  {
   "cell_type": "code",
   "execution_count": 13,
   "id": "970c30b0",
   "metadata": {},
   "outputs": [
    {
     "data": {
      "text/plain": [
       "0.48"
      ]
     },
     "execution_count": 13,
     "metadata": {},
     "output_type": "execute_result"
    }
   ],
   "source": [
    "accuracy_score(nb1.predict(X_test),y_test)"
   ]
  },
  {
   "cell_type": "code",
   "execution_count": 14,
   "id": "0f71532f",
   "metadata": {},
   "outputs": [
    {
     "data": {
      "text/plain": [
       "1.0"
      ]
     },
     "execution_count": 14,
     "metadata": {},
     "output_type": "execute_result"
    }
   ],
   "source": [
    "accuracy_score(nb1.predict(X_train),y_train)"
   ]
  },
  {
   "cell_type": "markdown",
   "id": "34f70d99",
   "metadata": {},
   "source": [
    "Cross-validation"
   ]
  },
  {
   "cell_type": "code",
   "execution_count": 15,
   "id": "5eb9e322",
   "metadata": {},
   "outputs": [],
   "source": [
    "#Create a list to store the results\n",
    "cvres=[]\n",
    "# Run through various values for k: use 5-fold cross validation, score with accuracy\n",
    "for i in range(1,100):\n",
    "    clf = KNeighborsClassifier(n_neighbors=i)\n",
    "    nn = cross_validate(clf, X_train, y_train, cv=5, scoring='accuracy')\n",
    "    #The test score gives an list of the accuracy on each of the five the test-folds\n",
    "    cvres.append(nn['test_score'].mean())"
   ]
  },
  {
   "cell_type": "code",
   "execution_count": 16,
   "id": "f105b2bd",
   "metadata": {},
   "outputs": [
    {
     "data": {
      "image/png": "[encoded data removed]",
      "text/plain": [
       "<Figure size 432x288 with 1 Axes>"
      ]
     },
     "metadata": {
      "needs_background": "light"
     },
     "output_type": "display_data"
    }
   ],
   "source": [
    "plt.plot(list(range(1,20)),cvres[0:19],linewidth=2.5)\n",
    "plt.xlabel('neighbors')\n",
    "plt.ylabel('Acc')\n",
    "plt.show()"
   ]
  },
  {
   "cell_type": "code",
   "execution_count": 17,
   "id": "6fa7eee3",
   "metadata": {},
   "outputs": [
    {
     "data": {
      "text/plain": [
       "array([0.37857143, 0.37857143, 0.37857143, 0.37142857, 0.37142857])"
      ]
     },
     "execution_count": 17,
     "metadata": {},
     "output_type": "execute_result"
    }
   ],
   "source": [
    "nn['test_score']"
   ]
  },
  {
   "cell_type": "code",
   "execution_count": 18,
   "id": "24e5748c",
   "metadata": {},
   "outputs": [
    {
     "data": {
      "text/plain": [
       "1"
      ]
     },
     "execution_count": 18,
     "metadata": {},
     "output_type": "execute_result"
    }
   ],
   "source": [
    "np.argmax(cvres)"
   ]
  },
  {
   "cell_type": "code",
   "execution_count": 19,
   "id": "eef7f6a0",
   "metadata": {},
   "outputs": [
    {
     "name": "stdout",
     "output_type": "stream",
     "text": [
      "Looks like best results when  𝑘 = 2\n"
     ]
    }
   ],
   "source": [
    "best_k = np.argmax(cvres)+1\n",
    "print(\"Looks like best results when  𝑘 =\", best_k)"
   ]
  },
  {
   "cell_type": "code",
   "execution_count": 20,
   "id": "7b35dac9",
   "metadata": {},
   "outputs": [],
   "source": [
    "mod_best = KNeighborsClassifier(n_neighbors=best_k)\n",
    "nb_best=mod_best.fit(X_train,y_train)"
   ]
  },
  {
   "cell_type": "code",
   "execution_count": 21,
   "id": "f4df0fcf",
   "metadata": {},
   "outputs": [
    {
     "data": {
      "text/plain": [
       "0.47"
      ]
     },
     "execution_count": 21,
     "metadata": {},
     "output_type": "execute_result"
    }
   ],
   "source": [
    "np.round(accuracy_score(nb_best.predict(X_test),y_test),3)"
   ]
  },
  {
   "cell_type": "code",
   "execution_count": 22,
   "id": "4eccf8ec",
   "metadata": {},
   "outputs": [
    {
     "data": {
      "text/plain": [
       "0.487"
      ]
     },
     "execution_count": 22,
     "metadata": {},
     "output_type": "execute_result"
    }
   ],
   "source": [
    "mod_best = KNeighborsClassifier(n_neighbors=4)\n",
    "nb_best=mod_best.fit(X_train,y_train)\n",
    "np.round(accuracy_score(nb_best.predict(X_test),y_test),3)"
   ]
  },
  {
   "cell_type": "markdown",
   "id": "278d8dfd",
   "metadata": {},
   "source": [
    "Actually the model performs where nearest K is 4. Since there are two peaks on the graph."
   ]
  },
  {
   "cell_type": "markdown",
   "id": "3fa7f49b",
   "metadata": {},
   "source": [
    "Bagging"
   ]
  },
  {
   "cell_type": "code",
   "execution_count": 23,
   "id": "9d938278",
   "metadata": {},
   "outputs": [],
   "source": [
    "from sklearn.ensemble import BaggingRegressor"
   ]
  },
  {
   "cell_type": "code",
   "execution_count": 24,
   "id": "7732d1a4",
   "metadata": {},
   "outputs": [],
   "source": [
    "regr = BaggingRegressor(base_estimator=DecisionTreeRegressor(),n_estimators=100,oob_score=True,random_state=5).fit(X_train, y_train)"
   ]
  },
  {
   "cell_type": "code",
   "execution_count": 25,
   "id": "d9d93a18",
   "metadata": {},
   "outputs": [
    {
     "name": "stdout",
     "output_type": "stream",
     "text": [
      "R^2 is 0.05489832087847857 : : MSE is 0.5747373333333333\n"
     ]
    }
   ],
   "source": [
    "print(\"R^2 is {}\".format(regr.score(X_test,y_test)),\":\",\":\", \"MSE is {}\".format(mean_squared_error(regr.predict(X_test),y_test)))"
   ]
  },
  {
   "cell_type": "code",
   "execution_count": 26,
   "id": "84d9d12a",
   "metadata": {},
   "outputs": [
    {
     "data": {
      "text/plain": [
       "0.12093478247929679"
      ]
     },
     "execution_count": 26,
     "metadata": {},
     "output_type": "execute_result"
    }
   ],
   "source": [
    "regr.oob_score_"
   ]
  },
  {
   "cell_type": "code",
   "execution_count": 27,
   "id": "c61e9e2f",
   "metadata": {},
   "outputs": [],
   "source": [
    "num_trees=np.linspace(50,2000,10, endpoint=False)"
   ]
  },
  {
   "cell_type": "code",
   "execution_count": 28,
   "id": "b625079d",
   "metadata": {},
   "outputs": [],
   "source": [
    "oob_res=[]\n",
    "for trs in num_trees:\n",
    "    res = BaggingRegressor(base_estimator=DecisionTreeRegressor(),n_estimators=int(trs),oob_score=True,random_state=5).fit(X_train, y_train)\n",
    "    oob_res.append(res.oob_score_)"
   ]
  },
  {
   "cell_type": "code",
   "execution_count": 29,
   "id": "7508f421",
   "metadata": {},
   "outputs": [
    {
     "data": {
      "text/plain": [
       "[<matplotlib.lines.Line2D at 0x7fc8cb2e6190>]"
      ]
     },
     "execution_count": 29,
     "metadata": {},
     "output_type": "execute_result"
    },
    {
     "data": {
      "image/png": "[encoded data removed]",
      "text/plain": [
       "<Figure size 432x288 with 1 Axes>"
      ]
     },
     "metadata": {
      "needs_background": "light"
     },
     "output_type": "display_data"
    }
   ],
   "source": [
    "plt.plot(num_trees,oob_res)"
   ]
  },
  {
   "cell_type": "code",
   "execution_count": 30,
   "id": "ae3ed599",
   "metadata": {},
   "outputs": [
    {
     "data": {
      "text/plain": [
       "635.0"
      ]
     },
     "execution_count": 30,
     "metadata": {},
     "output_type": "execute_result"
    }
   ],
   "source": [
    "num_trees[np.argmax(oob_res)]"
   ]
  },
  {
   "cell_type": "code",
   "execution_count": 31,
   "id": "216c5872",
   "metadata": {},
   "outputs": [],
   "source": [
    "opt_trs=int(num_trees[np.argmax(oob_res)])"
   ]
  },
  {
   "cell_type": "code",
   "execution_count": 32,
   "id": "79101f9a",
   "metadata": {},
   "outputs": [],
   "source": [
    "regr = BaggingRegressor(base_estimator=DecisionTreeRegressor(),n_estimators=opt_trs,random_state=5).fit(X_train, y_train)"
   ]
  },
  {
   "cell_type": "code",
   "execution_count": 33,
   "id": "56ce9643",
   "metadata": {},
   "outputs": [
    {
     "data": {
      "text/plain": [
       "0.068"
      ]
     },
     "execution_count": 33,
     "metadata": {},
     "output_type": "execute_result"
    }
   ],
   "source": [
    "np.round(regr.score(X_test,y_test),3)"
   ]
  },
  {
   "cell_type": "markdown",
   "id": "482a8b0b",
   "metadata": {},
   "source": [
    "Random forest"
   ]
  },
  {
   "cell_type": "code",
   "execution_count": 34,
   "id": "d5fe4f30",
   "metadata": {},
   "outputs": [],
   "source": [
    "from sklearn.ensemble import RandomForestRegressor"
   ]
  },
  {
   "cell_type": "code",
   "execution_count": 76,
   "id": "dbb0b184",
   "metadata": {},
   "outputs": [],
   "source": [
    "rf = RandomForestRegressor(n_estimators=300,max_features='sqrt',random_state=5).fit(X_train,y_train)"
   ]
  },
  {
   "cell_type": "code",
   "execution_count": 77,
   "id": "bfc833ef",
   "metadata": {},
   "outputs": [
    {
     "data": {
      "text/plain": [
       "0.09467480343254608"
      ]
     },
     "execution_count": 77,
     "metadata": {},
     "output_type": "execute_result"
    }
   ],
   "source": [
    "rf.score(X_test,y_test)"
   ]
  },
  {
   "cell_type": "code",
   "execution_count": 78,
   "id": "1a129fc3",
   "metadata": {},
   "outputs": [
    {
     "data": {
      "image/png": "[encoded data removed]",
      "text/plain": [
       "<Figure size 576x432 with 1 Axes>"
      ]
     },
     "metadata": {
      "needs_background": "light"
     },
     "output_type": "display_data"
    }
   ],
   "source": [
    "plt.figure(figsize=(8,6))\n",
    "nfeat=X.shape[1]\n",
    "plt.barh(np.arange(nfeat),rf.feature_importances_,align='center')\n",
    "plt.yticks(np.arange(nfeat),list(X.columns))\n",
    "plt.ylim(-1,nfeat)\n",
    "plt.show()"
   ]
  },
  {
   "cell_type": "code",
   "execution_count": 79,
   "id": "5d48e13a",
   "metadata": {},
   "outputs": [],
   "source": [
    "from sklearn.ensemble import RandomForestClassifier"
   ]
  },
  {
   "cell_type": "code",
   "execution_count": 92,
   "id": "4661fabd",
   "metadata": {},
   "outputs": [],
   "source": [
    "rfc = RandomForestClassifier(n_estimators=300,max_features='sqrt',random_state=5).fit(X_train,y_train)"
   ]
  },
  {
   "cell_type": "code",
   "execution_count": 93,
   "id": "d230f23d",
   "metadata": {},
   "outputs": [
    {
     "data": {
      "text/plain": [
       "0.6433333333333333"
      ]
     },
     "execution_count": 93,
     "metadata": {},
     "output_type": "execute_result"
    }
   ],
   "source": [
    "accuracy_score(rfc.predict(X_test),y_test)"
   ]
  },
  {
   "cell_type": "code",
   "execution_count": 86,
   "id": "19fea821",
   "metadata": {},
   "outputs": [
    {
     "data": {
      "image/png": "[encoded data removed]",
      "text/plain": [
       "<Figure size 576x432 with 1 Axes>"
      ]
     },
     "metadata": {
      "needs_background": "light"
     },
     "output_type": "display_data"
    }
   ],
   "source": [
    "plt.figure(figsize=(8,6))\n",
    "nfeat=X.shape[1]\n",
    "plt.barh(np.arange(nfeat),rfc.feature_importances_,align='center')\n",
    "plt.yticks(np.arange(nfeat),list(X.columns))\n",
    "plt.ylim(-1,nfeat)\n",
    "plt.show()"
   ]
  },
  {
   "cell_type": "markdown",
   "id": "ce18080a",
   "metadata": {},
   "source": [
    "Boosting"
   ]
  },
  {
   "cell_type": "code",
   "execution_count": 42,
   "id": "8816570b",
   "metadata": {},
   "outputs": [],
   "source": [
    "from sklearn.ensemble import GradientBoostingRegressor"
   ]
  },
  {
   "cell_type": "code",
   "execution_count": 43,
   "id": "751bc6d1",
   "metadata": {},
   "outputs": [],
   "source": [
    "breg = GradientBoostingRegressor(random_state=5,learning_rate=0.1,n_estimators=500,max_depth=2).fit(X_train,y_train)"
   ]
  },
  {
   "cell_type": "code",
   "execution_count": 44,
   "id": "b5097385",
   "metadata": {},
   "outputs": [
    {
     "data": {
      "text/plain": [
       "-0.08315514608199659"
      ]
     },
     "execution_count": 44,
     "metadata": {},
     "output_type": "execute_result"
    }
   ],
   "source": [
    "breg.score(X_test,y_test)"
   ]
  },
  {
   "cell_type": "code",
   "execution_count": 45,
   "id": "3bca9f07",
   "metadata": {},
   "outputs": [],
   "source": [
    "from sklearn.model_selection import GridSearchCV"
   ]
  },
  {
   "cell_type": "code",
   "execution_count": 46,
   "id": "37472b22",
   "metadata": {},
   "outputs": [],
   "source": [
    "parameters = {'learning_rate':[0.1,0.01], 'n_estimators':[200,300,400,500,600],'max_depth':[1,2,3,4,5]}"
   ]
  },
  {
   "cell_type": "code",
   "execution_count": 47,
   "id": "17735c5e",
   "metadata": {},
   "outputs": [],
   "source": [
    "bmod = GradientBoostingRegressor(random_state=5)"
   ]
  },
  {
   "cell_type": "code",
   "execution_count": 48,
   "id": "41d76e88",
   "metadata": {},
   "outputs": [
    {
     "data": {
      "text/plain": [
       "GridSearchCV(estimator=GradientBoostingRegressor(random_state=5),\n",
       "             param_grid={'learning_rate': [0.1, 0.01],\n",
       "                         'max_depth': [1, 2, 3, 4, 5],\n",
       "                         'n_estimators': [200, 300, 400, 500, 600]})"
      ]
     },
     "execution_count": 48,
     "metadata": {},
     "output_type": "execute_result"
    }
   ],
   "source": [
    "boost_regr = GridSearchCV(bmod, parameters)\n",
    "boost_regr.fit(X_train, y_train)"
   ]
  },
  {
   "cell_type": "code",
   "execution_count": 49,
   "id": "3e14b707",
   "metadata": {},
   "outputs": [],
   "source": [
    "df=pd.DataFrame.from_dict(boost_regr.cv_results_)"
   ]
  },
  {
   "cell_type": "code",
   "execution_count": 50,
   "id": "38993a1a",
   "metadata": {},
   "outputs": [
    {
     "data": {
      "text/html": [
       "<div>\n",
       "<style scoped>\n",
       "    .dataframe tbody tr th:only-of-type {\n",
       "        vertical-align: middle;\n",
       "    }\n",
       "\n",
       "    .dataframe tbody tr th {\n",
       "        vertical-align: top;\n",
       "    }\n",
       "\n",
       "    .dataframe thead th {\n",
       "        text-align: right;\n",
       "    }\n",
       "</style>\n",
       "<table border=\"1\" class=\"dataframe\">\n",
       "  <thead>\n",
       "    <tr style=\"text-align: right;\">\n",
       "      <th></th>\n",
       "      <th>mean_fit_time</th>\n",
       "      <th>std_fit_time</th>\n",
       "      <th>mean_score_time</th>\n",
       "      <th>std_score_time</th>\n",
       "      <th>param_learning_rate</th>\n",
       "      <th>param_max_depth</th>\n",
       "      <th>param_n_estimators</th>\n",
       "      <th>params</th>\n",
       "      <th>split0_test_score</th>\n",
       "      <th>split1_test_score</th>\n",
       "      <th>split2_test_score</th>\n",
       "      <th>split3_test_score</th>\n",
       "      <th>split4_test_score</th>\n",
       "      <th>mean_test_score</th>\n",
       "      <th>std_test_score</th>\n",
       "      <th>rank_test_score</th>\n",
       "    </tr>\n",
       "  </thead>\n",
       "  <tbody>\n",
       "    <tr>\n",
       "      <th>0</th>\n",
       "      <td>0.116060</td>\n",
       "      <td>0.008968</td>\n",
       "      <td>0.001498</td>\n",
       "      <td>0.000323</td>\n",
       "      <td>0.1</td>\n",
       "      <td>1</td>\n",
       "      <td>200</td>\n",
       "      <td>{'learning_rate': 0.1, 'max_depth': 1, 'n_esti...</td>\n",
       "      <td>0.179390</td>\n",
       "      <td>0.197224</td>\n",
       "      <td>0.087274</td>\n",
       "      <td>0.146557</td>\n",
       "      <td>0.188220</td>\n",
       "      <td>0.159733</td>\n",
       "      <td>0.040068</td>\n",
       "      <td>6</td>\n",
       "    </tr>\n",
       "    <tr>\n",
       "      <th>1</th>\n",
       "      <td>0.161034</td>\n",
       "      <td>0.005419</td>\n",
       "      <td>0.001482</td>\n",
       "      <td>0.000076</td>\n",
       "      <td>0.1</td>\n",
       "      <td>1</td>\n",
       "      <td>300</td>\n",
       "      <td>{'learning_rate': 0.1, 'max_depth': 1, 'n_esti...</td>\n",
       "      <td>0.197611</td>\n",
       "      <td>0.209943</td>\n",
       "      <td>0.098536</td>\n",
       "      <td>0.139246</td>\n",
       "      <td>0.190157</td>\n",
       "      <td>0.167098</td>\n",
       "      <td>0.041893</td>\n",
       "      <td>1</td>\n",
       "    </tr>\n",
       "    <tr>\n",
       "      <th>2</th>\n",
       "      <td>0.221815</td>\n",
       "      <td>0.006814</td>\n",
       "      <td>0.001620</td>\n",
       "      <td>0.000186</td>\n",
       "      <td>0.1</td>\n",
       "      <td>1</td>\n",
       "      <td>400</td>\n",
       "      <td>{'learning_rate': 0.1, 'max_depth': 1, 'n_esti...</td>\n",
       "      <td>0.211062</td>\n",
       "      <td>0.205375</td>\n",
       "      <td>0.101248</td>\n",
       "      <td>0.124255</td>\n",
       "      <td>0.191282</td>\n",
       "      <td>0.166644</td>\n",
       "      <td>0.045064</td>\n",
       "      <td>2</td>\n",
       "    </tr>\n",
       "    <tr>\n",
       "      <th>3</th>\n",
       "      <td>0.290907</td>\n",
       "      <td>0.015715</td>\n",
       "      <td>0.001763</td>\n",
       "      <td>0.000324</td>\n",
       "      <td>0.1</td>\n",
       "      <td>1</td>\n",
       "      <td>500</td>\n",
       "      <td>{'learning_rate': 0.1, 'max_depth': 1, 'n_esti...</td>\n",
       "      <td>0.213440</td>\n",
       "      <td>0.202974</td>\n",
       "      <td>0.103959</td>\n",
       "      <td>0.111813</td>\n",
       "      <td>0.181623</td>\n",
       "      <td>0.162762</td>\n",
       "      <td>0.046032</td>\n",
       "      <td>3</td>\n",
       "    </tr>\n",
       "    <tr>\n",
       "      <th>4</th>\n",
       "      <td>0.345305</td>\n",
       "      <td>0.019881</td>\n",
       "      <td>0.001705</td>\n",
       "      <td>0.000173</td>\n",
       "      <td>0.1</td>\n",
       "      <td>1</td>\n",
       "      <td>600</td>\n",
       "      <td>{'learning_rate': 0.1, 'max_depth': 1, 'n_esti...</td>\n",
       "      <td>0.212789</td>\n",
       "      <td>0.203965</td>\n",
       "      <td>0.107911</td>\n",
       "      <td>0.112444</td>\n",
       "      <td>0.175668</td>\n",
       "      <td>0.162556</td>\n",
       "      <td>0.044513</td>\n",
       "      <td>4</td>\n",
       "    </tr>\n",
       "  </tbody>\n",
       "</table>\n",
       "</div>"
      ],
      "text/plain": [
       "   mean_fit_time  std_fit_time  mean_score_time  std_score_time  \\\n",
       "0       0.116060      0.008968         0.001498        0.000323   \n",
       "1       0.161034      0.005419         0.001482        0.000076   \n",
       "2       0.221815      0.006814         0.001620        0.000186   \n",
       "3       0.290907      0.015715         0.001763        0.000324   \n",
       "4       0.345305      0.019881         0.001705        0.000173   \n",
       "\n",
       "  param_learning_rate param_max_depth param_n_estimators  \\\n",
       "0                 0.1               1                200   \n",
       "1                 0.1               1                300   \n",
       "2                 0.1               1                400   \n",
       "3                 0.1               1                500   \n",
       "4                 0.1               1                600   \n",
       "\n",
       "                                              params  split0_test_score  \\\n",
       "0  {'learning_rate': 0.1, 'max_depth': 1, 'n_esti...           0.179390   \n",
       "1  {'learning_rate': 0.1, 'max_depth': 1, 'n_esti...           0.197611   \n",
       "2  {'learning_rate': 0.1, 'max_depth': 1, 'n_esti...           0.211062   \n",
       "3  {'learning_rate': 0.1, 'max_depth': 1, 'n_esti...           0.213440   \n",
       "4  {'learning_rate': 0.1, 'max_depth': 1, 'n_esti...           0.212789   \n",
       "\n",
       "   split1_test_score  split2_test_score  split3_test_score  split4_test_score  \\\n",
       "0           0.197224           0.087274           0.146557           0.188220   \n",
       "1           0.209943           0.098536           0.139246           0.190157   \n",
       "2           0.205375           0.101248           0.124255           0.191282   \n",
       "3           0.202974           0.103959           0.111813           0.181623   \n",
       "4           0.203965           0.107911           0.112444           0.175668   \n",
       "\n",
       "   mean_test_score  std_test_score  rank_test_score  \n",
       "0         0.159733        0.040068                6  \n",
       "1         0.167098        0.041893                1  \n",
       "2         0.166644        0.045064                2  \n",
       "3         0.162762        0.046032                3  \n",
       "4         0.162556        0.044513                4  "
      ]
     },
     "execution_count": 50,
     "metadata": {},
     "output_type": "execute_result"
    }
   ],
   "source": [
    "df.head()"
   ]
  },
  {
   "cell_type": "code",
   "execution_count": 51,
   "id": "5c358134",
   "metadata": {},
   "outputs": [
    {
     "data": {
      "text/html": [
       "<div>\n",
       "<style scoped>\n",
       "    .dataframe tbody tr th:only-of-type {\n",
       "        vertical-align: middle;\n",
       "    }\n",
       "\n",
       "    .dataframe tbody tr th {\n",
       "        vertical-align: top;\n",
       "    }\n",
       "\n",
       "    .dataframe thead th {\n",
       "        text-align: right;\n",
       "    }\n",
       "</style>\n",
       "<table border=\"1\" class=\"dataframe\">\n",
       "  <thead>\n",
       "    <tr style=\"text-align: right;\">\n",
       "      <th></th>\n",
       "      <th>mean_fit_time</th>\n",
       "      <th>std_fit_time</th>\n",
       "      <th>mean_score_time</th>\n",
       "      <th>std_score_time</th>\n",
       "      <th>param_learning_rate</th>\n",
       "      <th>param_max_depth</th>\n",
       "      <th>param_n_estimators</th>\n",
       "      <th>params</th>\n",
       "      <th>split0_test_score</th>\n",
       "      <th>split1_test_score</th>\n",
       "      <th>split2_test_score</th>\n",
       "      <th>split3_test_score</th>\n",
       "      <th>split4_test_score</th>\n",
       "      <th>mean_test_score</th>\n",
       "      <th>std_test_score</th>\n",
       "      <th>rank_test_score</th>\n",
       "    </tr>\n",
       "  </thead>\n",
       "  <tbody>\n",
       "    <tr>\n",
       "      <th>1</th>\n",
       "      <td>0.161034</td>\n",
       "      <td>0.005419</td>\n",
       "      <td>0.001482</td>\n",
       "      <td>0.000076</td>\n",
       "      <td>0.1</td>\n",
       "      <td>1</td>\n",
       "      <td>300</td>\n",
       "      <td>{'learning_rate': 0.1, 'max_depth': 1, 'n_esti...</td>\n",
       "      <td>0.197611</td>\n",
       "      <td>0.209943</td>\n",
       "      <td>0.098536</td>\n",
       "      <td>0.139246</td>\n",
       "      <td>0.190157</td>\n",
       "      <td>0.167098</td>\n",
       "      <td>0.041893</td>\n",
       "      <td>1</td>\n",
       "    </tr>\n",
       "  </tbody>\n",
       "</table>\n",
       "</div>"
      ],
      "text/plain": [
       "   mean_fit_time  std_fit_time  mean_score_time  std_score_time  \\\n",
       "1       0.161034      0.005419         0.001482        0.000076   \n",
       "\n",
       "  param_learning_rate param_max_depth param_n_estimators  \\\n",
       "1                 0.1               1                300   \n",
       "\n",
       "                                              params  split0_test_score  \\\n",
       "1  {'learning_rate': 0.1, 'max_depth': 1, 'n_esti...           0.197611   \n",
       "\n",
       "   split1_test_score  split2_test_score  split3_test_score  split4_test_score  \\\n",
       "1           0.209943           0.098536           0.139246           0.190157   \n",
       "\n",
       "   mean_test_score  std_test_score  rank_test_score  \n",
       "1         0.167098        0.041893                1  "
      ]
     },
     "execution_count": 51,
     "metadata": {},
     "output_type": "execute_result"
    }
   ],
   "source": [
    "df[df['mean_test_score']==df['mean_test_score'].max()]"
   ]
  },
  {
   "cell_type": "code",
   "execution_count": 52,
   "id": "95cdbbd4",
   "metadata": {},
   "outputs": [],
   "source": [
    "best_breg = GradientBoostingRegressor(random_state=5,learning_rate=0.1,n_estimators=300,max_depth=1).fit(X_train,y_train)"
   ]
  },
  {
   "cell_type": "code",
   "execution_count": 53,
   "id": "ade0f76c",
   "metadata": {},
   "outputs": [
    {
     "data": {
      "text/plain": [
       "0.126"
      ]
     },
     "execution_count": 53,
     "metadata": {},
     "output_type": "execute_result"
    }
   ],
   "source": [
    "np.round(best_breg.score(X_test,y_test),3)"
   ]
  },
  {
   "cell_type": "markdown",
   "id": "231b46d1",
   "metadata": {},
   "source": [
    "Bagging Classifier, Random Forest Classifier, Gradient Boosting Classifier, Decision Tree Classifier "
   ]
  },
  {
   "cell_type": "code",
   "execution_count": 54,
   "id": "4ac6f452",
   "metadata": {},
   "outputs": [],
   "source": [
    "from sklearn.ensemble import BaggingClassifier\n",
    "from sklearn.ensemble import RandomForestClassifier\n",
    "from sklearn.ensemble import GradientBoostingClassifier\n",
    "from sklearn.tree import DecisionTreeClassifier"
   ]
  },
  {
   "cell_type": "code",
   "execution_count": 55,
   "id": "f780de0e",
   "metadata": {},
   "outputs": [
    {
     "data": {
      "text/plain": [
       "0.62"
      ]
     },
     "execution_count": 55,
     "metadata": {},
     "output_type": "execute_result"
    }
   ],
   "source": [
    "clf = BaggingClassifier(base_estimator=DecisionTreeClassifier(),n_estimators=300,random_state=0).fit(X_train, y_train)\n",
    "accuracy_score(clf.predict(X_test),y_test)"
   ]
  },
  {
   "cell_type": "code",
   "execution_count": 56,
   "id": "68cfd2d2",
   "metadata": {},
   "outputs": [
    {
     "data": {
      "text/plain": [
       "0.6433333333333333"
      ]
     },
     "execution_count": 56,
     "metadata": {},
     "output_type": "execute_result"
    }
   ],
   "source": [
    "rfclf = RandomForestClassifier(n_estimators=300, max_features='sqrt',random_state=5).fit(X_train,y_train)\n",
    "accuracy_score(rfclf.predict(X_test),y_test)"
   ]
  },
  {
   "cell_type": "code",
   "execution_count": 57,
   "id": "bce06414",
   "metadata": {},
   "outputs": [
    {
     "data": {
      "text/plain": [
       "0.72"
      ]
     },
     "execution_count": 57,
     "metadata": {},
     "output_type": "execute_result"
    }
   ],
   "source": [
    "bst_clf = GradientBoostingClassifier(n_estimators=300, learning_rate=0.1,max_depth=1, random_state=5).fit(X_train, y_train)\n",
    "accuracy_score(bst_clf.predict(X_test),y_test)"
   ]
  },
  {
   "cell_type": "code",
   "execution_count": 58,
   "id": "9d2b193b",
   "metadata": {},
   "outputs": [],
   "source": [
    "single_tree_clf = DecisionTreeClassifier(random_state=5)\n",
    "path = single_tree_clf.cost_complexity_pruning_path(X_train, y_train)\n",
    "ccp_alphas, impurities = path.ccp_alphas, path.impurities"
   ]
  },
  {
   "cell_type": "code",
   "execution_count": 59,
   "id": "ec588c91",
   "metadata": {},
   "outputs": [],
   "source": [
    "cvres=[]\n",
    "for a in ccp_alphas:\n",
    "    st_clf = DecisionTreeClassifier(random_state=5, ccp_alpha= a)\n",
    "    cvclf = cross_validate(st_clf, X_train, y_train, cv=5, scoring='accuracy')\n",
    "    cvres.append(cvclf['test_score'].mean())"
   ]
  },
  {
   "cell_type": "code",
   "execution_count": 60,
   "id": "0ecb55a3",
   "metadata": {},
   "outputs": [],
   "source": [
    "al=ccp_alphas[np.argmax(cvres)]"
   ]
  },
  {
   "cell_type": "code",
   "execution_count": 61,
   "id": "1bbbbefd",
   "metadata": {},
   "outputs": [
    {
     "data": {
      "text/plain": [
       "0.5"
      ]
     },
     "execution_count": 61,
     "metadata": {},
     "output_type": "execute_result"
    }
   ],
   "source": [
    "our_clf = DecisionTreeClassifier(random_state=5, ccp_alpha=al).fit(X_train,y_train)\n",
    "accuracy_score(our_clf.predict(X_test),y_test)"
   ]
  },
  {
   "cell_type": "code",
   "execution_count": 62,
   "id": "0ceb3a11",
   "metadata": {},
   "outputs": [
    {
     "data": {
      "text/plain": [
       "0.72"
      ]
     },
     "execution_count": 62,
     "metadata": {},
     "output_type": "execute_result"
    }
   ],
   "source": [
    "nclf = GradientBoostingClassifier(n_estimators=300, learning_rate=0.1,max_depth=1, random_state=5).fit(X_train, y_train)\n",
    "accuracy_score(nclf.predict(X_test),y_test)"
   ]
  },
  {
   "cell_type": "code",
   "execution_count": 63,
   "id": "3f848349",
   "metadata": {},
   "outputs": [
    {
     "name": "stderr",
     "output_type": "stream",
     "text": [
      "/home/hamstersnail/miniconda3/lib/python3.9/site-packages/sklearn/base.py:445: UserWarning: X does not have valid feature names, but RandomForestClassifier was fitted with feature names\n",
      "  warnings.warn(\n"
     ]
    },
    {
     "data": {
      "text/plain": [
       "0.44333333333333336"
      ]
     },
     "execution_count": 63,
     "metadata": {},
     "output_type": "execute_result"
    }
   ],
   "source": [
    "rfh_clf = RandomForestClassifier(n_estimators=300,max_depth=1, oob_score=True,max_features='sqrt',random_state=0).fit(X_train,y_train)\n",
    "accuracy_score(rfh_clf.predict(X_test),y_test)"
   ]
  },
  {
   "cell_type": "code",
   "execution_count": 64,
   "id": "84bab24b",
   "metadata": {},
   "outputs": [
    {
     "data": {
      "text/plain": [
       "0.44857142857142857"
      ]
     },
     "execution_count": 64,
     "metadata": {},
     "output_type": "execute_result"
    }
   ],
   "source": [
    "rfh_clf.oob_score_"
   ]
  },
  {
   "cell_type": "code",
   "execution_count": 65,
   "id": "077879ac",
   "metadata": {},
   "outputs": [
    {
     "data": {
      "text/plain": [
       "0.72"
      ]
     },
     "execution_count": 65,
     "metadata": {},
     "output_type": "execute_result"
    }
   ],
   "source": [
    "bst_clf = GradientBoostingClassifier(n_estimators=300, learning_rate=0.1,max_depth=1, random_state=0).fit(X_train, y_train)\n",
    "accuracy_score(bst_clf.predict(X_test),y_test)"
   ]
  },
  {
   "cell_type": "code",
   "execution_count": 66,
   "id": "74adc81b",
   "metadata": {},
   "outputs": [
    {
     "data": {
      "text/plain": [
       "0.4166666666666667"
      ]
     },
     "execution_count": 66,
     "metadata": {},
     "output_type": "execute_result"
    }
   ],
   "source": [
    "lm = LogisticRegression(random_state=5).fit(X_train, y_train)\n",
    "accuracy_score(lm.predict(X_test),y_test)"
   ]
  },
  {
   "cell_type": "markdown",
   "id": "7a1d17e2",
   "metadata": {},
   "source": [
    "4. Comment on which model gives the best results on the test set.  For the best model, comment on feature importances (if relevant). "
   ]
  },
  {
   "cell_type": "markdown",
   "id": "07bfb7e5",
   "metadata": {},
   "source": [
    "* bagging -> accuracy score = 0.62\n",
    "* random forest -> accuracy score = 0.64\n",
    "* gradient boosting -> accuracy score = 0.72 with parameters random_state=5,learning_rate=0.1,n_estimators=300,max_depth=1\n",
    "* k-nearest neighbors -> accuracy score = 0.487; value k=4\n",
    "\n",
    "Gradient boosting classifier is the best model for this data set."
   ]
  }
 ],
 "metadata": {
  "kernelspec": {
   "display_name": "Python 3",
   "language": "python",
   "name": "python3"
  },
  "language_info": {
   "codemirror_mode": {
    "name": "ipython",
    "version": 3
   },
   "file_extension": ".py",
   "mimetype": "text/x-python",
   "name": "python",
   "nbconvert_exporter": "python",
   "pygments_lexer": "ipython3",
   "version": "3.9.5"
  }
 },
 "nbformat": 4,
 "nbformat_minor": 5
}
