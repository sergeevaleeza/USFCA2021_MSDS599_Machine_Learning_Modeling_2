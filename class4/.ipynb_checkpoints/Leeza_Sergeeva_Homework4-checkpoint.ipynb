{
 "cells": [
  {
   "cell_type": "markdown",
   "id": "a0a88d5b",
   "metadata": {},
   "source": [
    "* Leeza Sergeeva\n",
    "* Homework 4\n",
    "* 4/18/2022"
   ]
  },
  {
   "cell_type": "code",
   "execution_count": 1,
   "id": "29bcc250",
   "metadata": {},
   "outputs": [],
   "source": [
    "import pandas as pd\n",
    "import numpy as np\n",
    "import matplotlib.pyplot as plt"
   ]
  },
  {
   "cell_type": "code",
   "execution_count": 2,
   "id": "6f6a54a6",
   "metadata": {},
   "outputs": [],
   "source": [
    "from sklearn.model_selection import cross_validate\n",
    "from sklearn.model_selection import train_test_split\n",
    "from sklearn.metrics import mean_squared_error\n",
    "from sklearn import datasets\n",
    "from sklearn.metrics import accuracy_score\n",
    "from sklearn import tree\n",
    "from sklearn.tree import DecisionTreeClassifier\n",
    "from sklearn.tree import DecisionTreeClassifier\n",
    "from sklearn.ensemble import RandomForestClassifier\n",
    "from sklearn.ensemble import GradientBoostingClassifier\n",
    "from sklearn.ensemble import BaggingClassifier\n",
    "from sklearn.linear_model import LogisticRegression\n",
    "from sklearn.ensemble import GradientBoostingRegressor\n",
    "\n",
    "import sklearn.metrics\n",
    "from sklearn.metrics import classification_report\n",
    "from sklearn.metrics import precision_recall_curve"
   ]
  },
  {
   "cell_type": "markdown",
   "id": "c01ddc31",
   "metadata": {},
   "source": [
    "Build a classifier to predict the Target column using the other 20 features. "
   ]
  },
  {
   "cell_type": "code",
   "execution_count": 3,
   "id": "84d5d278",
   "metadata": {},
   "outputs": [
    {
     "data": {
      "text/html": [
       "<div>\n",
       "<style scoped>\n",
       "    .dataframe tbody tr th:only-of-type {\n",
       "        vertical-align: middle;\n",
       "    }\n",
       "\n",
       "    .dataframe tbody tr th {\n",
       "        vertical-align: top;\n",
       "    }\n",
       "\n",
       "    .dataframe thead th {\n",
       "        text-align: right;\n",
       "    }\n",
       "</style>\n",
       "<table border=\"1\" class=\"dataframe\">\n",
       "  <thead>\n",
       "    <tr style=\"text-align: right;\">\n",
       "      <th></th>\n",
       "      <th>A</th>\n",
       "      <th>B</th>\n",
       "      <th>C</th>\n",
       "      <th>D</th>\n",
       "      <th>E</th>\n",
       "      <th>F</th>\n",
       "      <th>G</th>\n",
       "      <th>H</th>\n",
       "      <th>I</th>\n",
       "      <th>J</th>\n",
       "      <th>...</th>\n",
       "      <th>L</th>\n",
       "      <th>M</th>\n",
       "      <th>N</th>\n",
       "      <th>O</th>\n",
       "      <th>P</th>\n",
       "      <th>Q</th>\n",
       "      <th>R</th>\n",
       "      <th>S</th>\n",
       "      <th>T</th>\n",
       "      <th>Target</th>\n",
       "    </tr>\n",
       "  </thead>\n",
       "  <tbody>\n",
       "    <tr>\n",
       "      <th>0</th>\n",
       "      <td>2.868690</td>\n",
       "      <td>-0.106937</td>\n",
       "      <td>1.065444</td>\n",
       "      <td>0.749917</td>\n",
       "      <td>2.138981</td>\n",
       "      <td>-0.267874</td>\n",
       "      <td>-4.287288</td>\n",
       "      <td>-0.003229</td>\n",
       "      <td>0.102618</td>\n",
       "      <td>-1.594098</td>\n",
       "      <td>...</td>\n",
       "      <td>-0.031744</td>\n",
       "      <td>-1.836612</td>\n",
       "      <td>2.508588</td>\n",
       "      <td>2.123112</td>\n",
       "      <td>-1.599241</td>\n",
       "      <td>0.944821</td>\n",
       "      <td>0.330276</td>\n",
       "      <td>1.017247</td>\n",
       "      <td>-0.440207</td>\n",
       "      <td>0</td>\n",
       "    </tr>\n",
       "    <tr>\n",
       "      <th>1</th>\n",
       "      <td>-1.463642</td>\n",
       "      <td>-1.291157</td>\n",
       "      <td>-1.464761</td>\n",
       "      <td>1.287344</td>\n",
       "      <td>-1.994637</td>\n",
       "      <td>0.831797</td>\n",
       "      <td>0.130555</td>\n",
       "      <td>-0.555585</td>\n",
       "      <td>-1.746450</td>\n",
       "      <td>0.320191</td>\n",
       "      <td>...</td>\n",
       "      <td>-0.948864</td>\n",
       "      <td>0.497305</td>\n",
       "      <td>2.651037</td>\n",
       "      <td>1.722998</td>\n",
       "      <td>0.290210</td>\n",
       "      <td>-1.278545</td>\n",
       "      <td>0.488835</td>\n",
       "      <td>1.577497</td>\n",
       "      <td>-1.097335</td>\n",
       "      <td>1</td>\n",
       "    </tr>\n",
       "    <tr>\n",
       "      <th>2</th>\n",
       "      <td>-2.208983</td>\n",
       "      <td>1.112905</td>\n",
       "      <td>1.484842</td>\n",
       "      <td>1.455104</td>\n",
       "      <td>-0.380712</td>\n",
       "      <td>-0.465900</td>\n",
       "      <td>3.464477</td>\n",
       "      <td>1.561576</td>\n",
       "      <td>-0.972615</td>\n",
       "      <td>2.646365</td>\n",
       "      <td>...</td>\n",
       "      <td>0.571619</td>\n",
       "      <td>-0.573899</td>\n",
       "      <td>-4.393691</td>\n",
       "      <td>-3.936344</td>\n",
       "      <td>5.499447</td>\n",
       "      <td>0.874778</td>\n",
       "      <td>-0.858103</td>\n",
       "      <td>-1.040617</td>\n",
       "      <td>-2.759917</td>\n",
       "      <td>0</td>\n",
       "    </tr>\n",
       "    <tr>\n",
       "      <th>3</th>\n",
       "      <td>1.757493</td>\n",
       "      <td>-0.194035</td>\n",
       "      <td>-1.502209</td>\n",
       "      <td>-1.227620</td>\n",
       "      <td>-1.629453</td>\n",
       "      <td>2.192913</td>\n",
       "      <td>-0.774430</td>\n",
       "      <td>-1.284792</td>\n",
       "      <td>0.433154</td>\n",
       "      <td>2.233775</td>\n",
       "      <td>...</td>\n",
       "      <td>0.089484</td>\n",
       "      <td>-2.290146</td>\n",
       "      <td>-2.274138</td>\n",
       "      <td>-3.454273</td>\n",
       "      <td>-0.904307</td>\n",
       "      <td>0.459121</td>\n",
       "      <td>-0.043155</td>\n",
       "      <td>-2.129675</td>\n",
       "      <td>-0.559314</td>\n",
       "      <td>0</td>\n",
       "    </tr>\n",
       "    <tr>\n",
       "      <th>4</th>\n",
       "      <td>-0.621503</td>\n",
       "      <td>-1.709654</td>\n",
       "      <td>-2.155096</td>\n",
       "      <td>-1.982270</td>\n",
       "      <td>-1.205284</td>\n",
       "      <td>-0.285097</td>\n",
       "      <td>-1.279000</td>\n",
       "      <td>-3.831940</td>\n",
       "      <td>-1.205034</td>\n",
       "      <td>-4.213100</td>\n",
       "      <td>...</td>\n",
       "      <td>0.808936</td>\n",
       "      <td>0.647993</td>\n",
       "      <td>4.629954</td>\n",
       "      <td>3.860843</td>\n",
       "      <td>-1.288296</td>\n",
       "      <td>0.992935</td>\n",
       "      <td>1.069965</td>\n",
       "      <td>3.676966</td>\n",
       "      <td>1.005724</td>\n",
       "      <td>0</td>\n",
       "    </tr>\n",
       "  </tbody>\n",
       "</table>\n",
       "<p>5 rows × 21 columns</p>\n",
       "</div>"
      ],
      "text/plain": [
       "          A         B         C         D         E         F         G  \\\n",
       "0  2.868690 -0.106937  1.065444  0.749917  2.138981 -0.267874 -4.287288   \n",
       "1 -1.463642 -1.291157 -1.464761  1.287344 -1.994637  0.831797  0.130555   \n",
       "2 -2.208983  1.112905  1.484842  1.455104 -0.380712 -0.465900  3.464477   \n",
       "3  1.757493 -0.194035 -1.502209 -1.227620 -1.629453  2.192913 -0.774430   \n",
       "4 -0.621503 -1.709654 -2.155096 -1.982270 -1.205284 -0.285097 -1.279000   \n",
       "\n",
       "          H         I         J  ...         L         M         N         O  \\\n",
       "0 -0.003229  0.102618 -1.594098  ... -0.031744 -1.836612  2.508588  2.123112   \n",
       "1 -0.555585 -1.746450  0.320191  ... -0.948864  0.497305  2.651037  1.722998   \n",
       "2  1.561576 -0.972615  2.646365  ...  0.571619 -0.573899 -4.393691 -3.936344   \n",
       "3 -1.284792  0.433154  2.233775  ...  0.089484 -2.290146 -2.274138 -3.454273   \n",
       "4 -3.831940 -1.205034 -4.213100  ...  0.808936  0.647993  4.629954  3.860843   \n",
       "\n",
       "          P         Q         R         S         T  Target  \n",
       "0 -1.599241  0.944821  0.330276  1.017247 -0.440207       0  \n",
       "1  0.290210 -1.278545  0.488835  1.577497 -1.097335       1  \n",
       "2  5.499447  0.874778 -0.858103 -1.040617 -2.759917       0  \n",
       "3 -0.904307  0.459121 -0.043155 -2.129675 -0.559314       0  \n",
       "4 -1.288296  0.992935  1.069965  3.676966  1.005724       0  \n",
       "\n",
       "[5 rows x 21 columns]"
      ]
     },
     "execution_count": 3,
     "metadata": {},
     "output_type": "execute_result"
    }
   ],
   "source": [
    "imb=pd.read_csv('classify_imb.csv')\n",
    "imb.head()"
   ]
  },
  {
   "cell_type": "code",
   "execution_count": 4,
   "id": "885cc8c9",
   "metadata": {},
   "outputs": [],
   "source": [
    "X=imb.drop('Target',axis=1)\n",
    "y=imb['Target']"
   ]
  },
  {
   "cell_type": "markdown",
   "id": "8754faf1",
   "metadata": {},
   "source": [
    "When you split your data into training and test sets, set random_state = 5. (2 points)"
   ]
  },
  {
   "cell_type": "code",
   "execution_count": 5,
   "id": "fa6dd5a5",
   "metadata": {},
   "outputs": [],
   "source": [
    "X_train, X_test, y_train, y_test = train_test_split(X,y,test_size=0.3, random_state=5)"
   ]
  },
  {
   "cell_type": "markdown",
   "id": "a62c063a",
   "metadata": {},
   "source": [
    "Try a random forest (use random_state = 5 and 400 trees), a boosting classifier (use n_estimators = 300, learning rate =0.1, and max_depth =3), and a logistic regression classifier. (9 points: 3 for each classifier)"
   ]
  },
  {
   "cell_type": "markdown",
   "id": "247e95bd",
   "metadata": {},
   "source": [
    "Random forest (use random_state = 5 and 400 trees)"
   ]
  },
  {
   "cell_type": "code",
   "execution_count": 6,
   "id": "43b97c0d",
   "metadata": {},
   "outputs": [],
   "source": [
    "rf = RandomForestClassifier(n_estimators=400,random_state=5).fit(X_train,y_train)"
   ]
  },
  {
   "cell_type": "code",
   "execution_count": 7,
   "id": "026205ea",
   "metadata": {},
   "outputs": [
    {
     "name": "stdout",
     "output_type": "stream",
     "text": [
      "R^2: 0.777\n",
      "Precision: 0.811\n",
      "Recall: 0.430\n",
      "Accuracy: 0.777\n"
     ]
    }
   ],
   "source": [
    "print('R^2: %.3f' % rf.score(X_test,y_test))\n",
    "print('Precision: %.3f' % sklearn.metrics.precision_score(y_test, rf.predict(X_test)))\n",
    "print('Recall: %.3f' % sklearn.metrics.recall_score(y_test, rf.predict(X_test)))\n",
    "print('Accuracy: %.3f' % sklearn.metrics.accuracy_score(y_test, rf.predict(X_test)))"
   ]
  },
  {
   "cell_type": "code",
   "execution_count": 8,
   "id": "aa596e1e",
   "metadata": {},
   "outputs": [],
   "source": [
    "precision, recall, thresholds = precision_recall_curve(y_test,rf.predict_proba(X_test)[:,1])"
   ]
  },
  {
   "cell_type": "code",
   "execution_count": 9,
   "id": "7f63af76",
   "metadata": {},
   "outputs": [
    {
     "data": {
      "text/plain": [
       "0.8225"
      ]
     },
     "execution_count": 9,
     "metadata": {},
     "output_type": "execute_result"
    }
   ],
   "source": [
    "max(thresholds)"
   ]
  },
  {
   "cell_type": "code",
   "execution_count": 10,
   "id": "96ecebac",
   "metadata": {},
   "outputs": [],
   "source": [
    "pt=np.argmin(np.abs(thresholds-0.5))"
   ]
  },
  {
   "cell_type": "code",
   "execution_count": 11,
   "id": "351850be",
   "metadata": {},
   "outputs": [
    {
     "data": {
      "image/png": "[encoded data removed]",
      "text/plain": [
       "<Figure size 576x432 with 1 Axes>"
      ]
     },
     "metadata": {
      "needs_background": "light"
     },
     "output_type": "display_data"
    }
   ],
   "source": [
    "plt.figure(figsize=(8,6))\n",
    "plt.plot(precision,recall,label='rf')\n",
    "plt.plot(precision[pt],recall[pt],'^',c='k',markersize=10)\n",
    "plt.xlabel('Precision')\n",
    "plt.ylabel('Recall')\n",
    "plt.show()"
   ]
  },
  {
   "cell_type": "markdown",
   "id": "828cf5b0",
   "metadata": {},
   "source": [
    "Boosting classifier (use n_estimators = 300, learning rate =0.1, and max_depth =3)"
   ]
  },
  {
   "cell_type": "code",
   "execution_count": 12,
   "id": "ebc0de5e",
   "metadata": {},
   "outputs": [],
   "source": [
    "breg = GradientBoostingClassifier(random_state=5,learning_rate=0.1,n_estimators=300,max_depth=3).fit(X_train,y_train)"
   ]
  },
  {
   "cell_type": "code",
   "execution_count": 13,
   "id": "aed7d849",
   "metadata": {},
   "outputs": [
    {
     "name": "stdout",
     "output_type": "stream",
     "text": [
      "R^2: 0.757\n",
      "Precision: 0.708\n",
      "Recall: 0.460\n",
      "Accuracy: 0.757\n"
     ]
    }
   ],
   "source": [
    "print('R^2: %.3f' % breg.score(X_test,y_test))\n",
    "print('Precision: %.3f' % sklearn.metrics.precision_score(y_test, breg.predict(X_test)))\n",
    "print('Recall: %.3f' % sklearn.metrics.recall_score(y_test, breg.predict(X_test)))\n",
    "print('Accuracy: %.3f' % sklearn.metrics.accuracy_score(y_test, breg.predict(X_test)))"
   ]
  },
  {
   "cell_type": "code",
   "execution_count": 14,
   "id": "396127fa",
   "metadata": {},
   "outputs": [],
   "source": [
    "precision, recall, thresholds = precision_recall_curve(y_test,breg.predict_proba(X_test)[:,1])"
   ]
  },
  {
   "cell_type": "code",
   "execution_count": 15,
   "id": "5752cbbe",
   "metadata": {},
   "outputs": [
    {
     "data": {
      "text/plain": [
       "0.9957247071539471"
      ]
     },
     "execution_count": 15,
     "metadata": {},
     "output_type": "execute_result"
    }
   ],
   "source": [
    "max(thresholds)"
   ]
  },
  {
   "cell_type": "code",
   "execution_count": 16,
   "id": "f827fef7",
   "metadata": {},
   "outputs": [],
   "source": [
    "pt=np.argmin(np.abs(thresholds-0.5))"
   ]
  },
  {
   "cell_type": "code",
   "execution_count": 17,
   "id": "83f5f29b",
   "metadata": {},
   "outputs": [
    {
     "data": {
      "image/png": "[encoded data removed]",
      "text/plain": [
       "<Figure size 576x432 with 1 Axes>"
      ]
     },
     "metadata": {
      "needs_background": "light"
     },
     "output_type": "display_data"
    }
   ],
   "source": [
    "plt.figure(figsize=(8,6))\n",
    "plt.plot(precision,recall,label='rf')\n",
    "plt.plot(precision[pt],recall[pt],'^',c='k',markersize=10)\n",
    "plt.xlabel('Precision')\n",
    "plt.ylabel('Recall')\n",
    "plt.show()"
   ]
  },
  {
   "cell_type": "markdown",
   "id": "90d32370",
   "metadata": {},
   "source": [
    "Logistic regression classifier"
   ]
  },
  {
   "cell_type": "code",
   "execution_count": 18,
   "id": "489bf2f5",
   "metadata": {},
   "outputs": [],
   "source": [
    "logreg=LogisticRegression(random_state=5).fit(X_train,y_train)"
   ]
  },
  {
   "cell_type": "code",
   "execution_count": 19,
   "id": "632f489b",
   "metadata": {},
   "outputs": [
    {
     "name": "stdout",
     "output_type": "stream",
     "text": [
      "R^2: 0.683\n",
      "Precision: 0.647\n",
      "Recall: 0.110\n",
      "Accuracy: 0.683\n"
     ]
    }
   ],
   "source": [
    "print('R^2: %.3f' % logreg.score(X_test,y_test))\n",
    "print('Precision: %.3f' % sklearn.metrics.precision_score(y_test, logreg.predict(X_test)))\n",
    "print('Recall: %.3f' % sklearn.metrics.recall_score(y_test, logreg.predict(X_test)))\n",
    "print('Accuracy: %.3f' % sklearn.metrics.accuracy_score(y_test, logreg.predict(X_test)))"
   ]
  },
  {
   "cell_type": "code",
   "execution_count": 20,
   "id": "cfab14bb",
   "metadata": {},
   "outputs": [],
   "source": [
    "precision, recall, thresholds = precision_recall_curve(y_test,logreg.predict_proba(X_test)[:,1])"
   ]
  },
  {
   "cell_type": "code",
   "execution_count": 21,
   "id": "8bb66dbe",
   "metadata": {},
   "outputs": [
    {
     "data": {
      "text/plain": [
       "0.8199986028226883"
      ]
     },
     "execution_count": 21,
     "metadata": {},
     "output_type": "execute_result"
    }
   ],
   "source": [
    "max(thresholds)"
   ]
  },
  {
   "cell_type": "code",
   "execution_count": 22,
   "id": "fbb9187b",
   "metadata": {},
   "outputs": [],
   "source": [
    "pt=np.argmin(np.abs(thresholds-0.5))"
   ]
  },
  {
   "cell_type": "code",
   "execution_count": 23,
   "id": "5ffb325d",
   "metadata": {},
   "outputs": [
    {
     "data": {
      "image/png": "[encoded data removed]",
      "text/plain": [
       "<Figure size 576x432 with 1 Axes>"
      ]
     },
     "metadata": {
      "needs_background": "light"
     },
     "output_type": "display_data"
    }
   ],
   "source": [
    "plt.figure(figsize=(8,6))\n",
    "plt.plot(precision,recall,label='rf')\n",
    "plt.plot(precision[pt],recall[pt],'^',c='k',markersize=10)\n",
    "plt.xlabel('Precision')\n",
    "plt.ylabel('Recall')\n",
    "plt.show()"
   ]
  },
  {
   "cell_type": "code",
   "execution_count": 24,
   "id": "f2e60408",
   "metadata": {},
   "outputs": [],
   "source": [
    "# note to self: R^2 value represents mean Accuracy on test data for given model"
   ]
  },
  {
   "cell_type": "markdown",
   "id": "ed168d5c",
   "metadata": {},
   "source": [
    "Which is best? How can you tell? (6 points)"
   ]
  },
  {
   "cell_type": "markdown",
   "id": "110f877c",
   "metadata": {},
   "source": [
    "* Out of all three models Random Forest Classifier (RFC) performed better than Logistic Regression Classifier (LRC) or Gradient Boosting Classifier (GBC).\n",
    "* RFC has the highest precision percentage to predict Targets = 1, comapred to other two models. However GBC model performed very well on the same data. \n",
    "* F1-scores that provide feedback on the relationship between precision and recall for tested data using RFC and BGC models performed equally well on identifying Target = 1. RFC_F1_scpre(0) = 0.85, RFC_F1_scpre(1) = 0.56, while GBC_F1_scpre(0) = 0.83, GBC_F1_scpre(1) = 0.56. \n",
    "* RFC has highest R^2 = 0.777"
   ]
  },
  {
   "cell_type": "markdown",
   "id": "19ad6042",
   "metadata": {},
   "source": [
    "Comment on the precision, recall, and accuracy of your model. (3 points)"
   ]
  },
  {
   "cell_type": "markdown",
   "id": "80306937",
   "metadata": {},
   "source": [
    "Random Forest Classifier (RFC)"
   ]
  },
  {
   "cell_type": "code",
   "execution_count": 25,
   "id": "b431bb2d",
   "metadata": {},
   "outputs": [
    {
     "name": "stdout",
     "output_type": "stream",
     "text": [
      "              precision    recall  f1-score   support\n",
      "\n",
      "           0       0.77      0.95      0.85       200\n",
      "           1       0.81      0.43      0.56       100\n",
      "\n",
      "    accuracy                           0.78       300\n",
      "   macro avg       0.79      0.69      0.71       300\n",
      "weighted avg       0.78      0.78      0.75       300\n",
      "\n"
     ]
    }
   ],
   "source": [
    "print(classification_report(y_test,rf.predict(X_test)))"
   ]
  },
  {
   "cell_type": "markdown",
   "id": "ff5ed1be",
   "metadata": {},
   "source": [
    "* RFC model was able to identify 77% of True Negatives and 81% of True Positives from all correct predictions made using the test data.\n",
    "* RFC model was able to correctly recall 95% of True Negatives and 43% of True Positives using actual correct values in the test data.\n",
    "* RFC model has an accuracy of 78% to predict the ratio of true positives and true negatives out of all predictions made."
   ]
  },
  {
   "cell_type": "markdown",
   "id": "8cbdd7b1",
   "metadata": {},
   "source": [
    "Gradient Boosting Classifier (GBC)"
   ]
  },
  {
   "cell_type": "code",
   "execution_count": 26,
   "id": "01f6ca12",
   "metadata": {},
   "outputs": [
    {
     "name": "stdout",
     "output_type": "stream",
     "text": [
      "              precision    recall  f1-score   support\n",
      "\n",
      "           0       0.77      0.91      0.83       200\n",
      "           1       0.71      0.46      0.56       100\n",
      "\n",
      "    accuracy                           0.76       300\n",
      "   macro avg       0.74      0.68      0.69       300\n",
      "weighted avg       0.75      0.76      0.74       300\n",
      "\n"
     ]
    }
   ],
   "source": [
    "print(classification_report(y_test,breg.predict(X_test)))"
   ]
  },
  {
   "cell_type": "markdown",
   "id": "c6c3c147",
   "metadata": {},
   "source": [
    "* GBC model was able to identify 77% of True Negatives and 71% of True Positives from all correct predictions made using the test data.\n",
    "* GBC model was able to correctly recall 91% of True Negatives and 46% of True Positives using actual correct values in the test data.\n",
    "* GBC model has an accuracy of 76% to predict the ratio of true positives and true negatives out of all predictions made."
   ]
  },
  {
   "cell_type": "markdown",
   "id": "2874dcf8",
   "metadata": {},
   "source": [
    "Logistic Regression Classifier (LRC)"
   ]
  },
  {
   "cell_type": "code",
   "execution_count": 27,
   "id": "ddd854a5",
   "metadata": {},
   "outputs": [
    {
     "name": "stdout",
     "output_type": "stream",
     "text": [
      "              precision    recall  f1-score   support\n",
      "\n",
      "           0       0.69      0.97      0.80       200\n",
      "           1       0.65      0.11      0.19       100\n",
      "\n",
      "    accuracy                           0.68       300\n",
      "   macro avg       0.67      0.54      0.50       300\n",
      "weighted avg       0.67      0.68      0.60       300\n",
      "\n"
     ]
    }
   ],
   "source": [
    "print(classification_report(y_test,logreg.predict(X_test)))"
   ]
  },
  {
   "cell_type": "markdown",
   "id": "fe07ced7",
   "metadata": {},
   "source": [
    "* LRC model was able to identify 69% of True Negatives and 65% of True Positives from all correct predictions made using the test data.\n",
    "* LRC model was able to correctly recall 97% of True Negatives and 11% of True Positives using actual correct values in the test data.\n",
    "* LRC model has an accuracy of 68% to predict the ratio of true positives and true negatives out of all predictions made."
   ]
  }
 ],
 "metadata": {
  "kernelspec": {
   "display_name": "Python 3",
   "language": "python",
   "name": "python3"
  },
  "language_info": {
   "codemirror_mode": {
    "name": "ipython",
    "version": 3
   },
   "file_extension": ".py",
   "mimetype": "text/x-python",
   "name": "python",
   "nbconvert_exporter": "python",
   "pygments_lexer": "ipython3",
   "version": "3.9.5"
  }
 },
 "nbformat": 4,
 "nbformat_minor": 5
}
