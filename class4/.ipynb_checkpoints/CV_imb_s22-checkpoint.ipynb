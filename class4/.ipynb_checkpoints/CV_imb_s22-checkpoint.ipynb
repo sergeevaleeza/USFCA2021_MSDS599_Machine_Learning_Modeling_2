{
 "cells": [
  {
   "cell_type": "markdown",
   "id": "398065f3",
   "metadata": {},
   "source": [
    "# More Classification, Metrics, and Class Imbalances"
   ]
  },
  {
   "cell_type": "code",
   "execution_count": 1,
   "id": "occupational-entry",
   "metadata": {},
   "outputs": [],
   "source": [
    "import pandas as pd\n",
    "import numpy as np\n",
    "import matplotlib.pyplot as plt"
   ]
  },
  {
   "cell_type": "code",
   "execution_count": 2,
   "id": "a3074c11",
   "metadata": {},
   "outputs": [],
   "source": [
    "from sklearn.model_selection import cross_validate\n",
    "from sklearn.model_selection import train_test_split\n",
    "from sklearn.metrics import mean_squared_error\n",
    "from sklearn import datasets\n",
    "from sklearn.metrics import accuracy_score\n",
    "from sklearn import tree\n",
    "from sklearn.tree import DecisionTreeClassifier\n",
    "from sklearn.tree import DecisionTreeClassifier\n",
    "from sklearn.ensemble import RandomForestClassifier\n",
    "from sklearn.ensemble import GradientBoostingClassifier\n",
    "from sklearn.ensemble import BaggingClassifier\n",
    "from sklearn.linear_model import LogisticRegression"
   ]
  },
  {
   "cell_type": "code",
   "execution_count": 3,
   "id": "a85efb1a",
   "metadata": {},
   "outputs": [
    {
     "data": {
      "text/html": [
       "<div>\n",
       "<style scoped>\n",
       "    .dataframe tbody tr th:only-of-type {\n",
       "        vertical-align: middle;\n",
       "    }\n",
       "\n",
       "    .dataframe tbody tr th {\n",
       "        vertical-align: top;\n",
       "    }\n",
       "\n",
       "    .dataframe thead th {\n",
       "        text-align: right;\n",
       "    }\n",
       "</style>\n",
       "<table border=\"1\" class=\"dataframe\">\n",
       "  <thead>\n",
       "    <tr style=\"text-align: right;\">\n",
       "      <th></th>\n",
       "      <th>A</th>\n",
       "      <th>B</th>\n",
       "      <th>C</th>\n",
       "      <th>D</th>\n",
       "      <th>E</th>\n",
       "      <th>Target</th>\n",
       "    </tr>\n",
       "  </thead>\n",
       "  <tbody>\n",
       "    <tr>\n",
       "      <th>0</th>\n",
       "      <td>-0.138680</td>\n",
       "      <td>0.537996</td>\n",
       "      <td>0.030868</td>\n",
       "      <td>-0.749413</td>\n",
       "      <td>-1.255079</td>\n",
       "      <td>0</td>\n",
       "    </tr>\n",
       "    <tr>\n",
       "      <th>1</th>\n",
       "      <td>1.153143</td>\n",
       "      <td>0.909027</td>\n",
       "      <td>-0.866711</td>\n",
       "      <td>-1.727731</td>\n",
       "      <td>-0.579336</td>\n",
       "      <td>0</td>\n",
       "    </tr>\n",
       "    <tr>\n",
       "      <th>2</th>\n",
       "      <td>1.609316</td>\n",
       "      <td>-1.935142</td>\n",
       "      <td>0.861705</td>\n",
       "      <td>0.349423</td>\n",
       "      <td>-1.135398</td>\n",
       "      <td>0</td>\n",
       "    </tr>\n",
       "    <tr>\n",
       "      <th>3</th>\n",
       "      <td>1.176314</td>\n",
       "      <td>1.524320</td>\n",
       "      <td>-0.137904</td>\n",
       "      <td>0.816670</td>\n",
       "      <td>0.663997</td>\n",
       "      <td>0</td>\n",
       "    </tr>\n",
       "    <tr>\n",
       "      <th>4</th>\n",
       "      <td>-0.245852</td>\n",
       "      <td>-0.158138</td>\n",
       "      <td>1.167393</td>\n",
       "      <td>-1.378489</td>\n",
       "      <td>0.679757</td>\n",
       "      <td>0</td>\n",
       "    </tr>\n",
       "  </tbody>\n",
       "</table>\n",
       "</div>"
      ],
      "text/plain": [
       "          A         B         C         D         E  Target\n",
       "0 -0.138680  0.537996  0.030868 -0.749413 -1.255079       0\n",
       "1  1.153143  0.909027 -0.866711 -1.727731 -0.579336       0\n",
       "2  1.609316 -1.935142  0.861705  0.349423 -1.135398       0\n",
       "3  1.176314  1.524320 -0.137904  0.816670  0.663997       0\n",
       "4 -0.245852 -0.158138  1.167393 -1.378489  0.679757       0"
      ]
     },
     "execution_count": 3,
     "metadata": {},
     "output_type": "execute_result"
    }
   ],
   "source": [
    "toy=pd.read_csv('toy_imb.csv')\n",
    "toy.head()"
   ]
  },
  {
   "cell_type": "markdown",
   "id": "07aa7481",
   "metadata": {},
   "source": [
    "Like MakeHastie but with a higher value so that fewer observations end up in positive class."
   ]
  },
  {
   "cell_type": "code",
   "execution_count": 4,
   "id": "de13c199",
   "metadata": {},
   "outputs": [],
   "source": [
    "#def target(row):\n",
    "#    if row['A']**2+row['B']**2+row['C']**2+row['D']**2+row['E']**2>9:\n",
    "#        return 1\n",
    "#    else:\n",
    "#        return 0\n",
    "#toy['Target']=toy.apply(target,axis=1)\n",
    "#toy.to_csv('toy_imb.csv',index=0)"
   ]
  },
  {
   "cell_type": "code",
   "execution_count": 5,
   "id": "5de64238",
   "metadata": {},
   "outputs": [
    {
     "data": {
      "text/plain": [
       "1000"
      ]
     },
     "execution_count": 5,
     "metadata": {},
     "output_type": "execute_result"
    }
   ],
   "source": [
    "len(toy)"
   ]
  },
  {
   "cell_type": "code",
   "execution_count": 6,
   "id": "52ca1377",
   "metadata": {},
   "outputs": [
    {
     "data": {
      "text/plain": [
       "0.117"
      ]
     },
     "execution_count": 6,
     "metadata": {},
     "output_type": "execute_result"
    }
   ],
   "source": [
    "toy['Target'].sum()/len(toy)"
   ]
  },
  {
   "cell_type": "markdown",
   "id": "28c9ee5d",
   "metadata": {},
   "source": [
    "This dataset has a significant class imbalance. The positive class (1) is only around 11% of the observation. This presents a challenge in identifying a good classifier. "
   ]
  },
  {
   "cell_type": "code",
   "execution_count": 7,
   "id": "a8ad7f6f",
   "metadata": {},
   "outputs": [
    {
     "data": {
      "text/plain": [
       "<AxesSubplot:>"
      ]
     },
     "execution_count": 7,
     "metadata": {},
     "output_type": "execute_result"
    },
    {
     "data": {
      "image/png": "[encoded data removed]",
      "text/plain": [
       "<Figure size 432x288 with 1 Axes>"
      ]
     },
     "metadata": {
      "needs_background": "light"
     },
     "output_type": "display_data"
    }
   ],
   "source": [
    "toy.Target.hist()"
   ]
  },
  {
   "cell_type": "code",
   "execution_count": 8,
   "id": "270acbc6",
   "metadata": {},
   "outputs": [],
   "source": [
    "X=toy.drop('Target',axis=1)\n",
    "y=toy['Target']"
   ]
  },
  {
   "cell_type": "code",
   "execution_count": 9,
   "id": "293e4205",
   "metadata": {},
   "outputs": [],
   "source": [
    "X_train, X_test, y_train, y_test = train_test_split(X,y,test_size=0.3, random_state=5)"
   ]
  },
  {
   "cell_type": "code",
   "execution_count": 10,
   "id": "f74e0a57",
   "metadata": {},
   "outputs": [
    {
     "name": "stdout",
     "output_type": "stream",
     "text": [
      "0.11571428571428571 : 0.12\n"
     ]
    }
   ],
   "source": [
    "print(sum(y_train)/len(y_train),\":\",sum(y_test)/len(y_test))"
   ]
  },
  {
   "cell_type": "markdown",
   "id": "73466942",
   "metadata": {},
   "source": [
    "## Let's try a few classifiers"
   ]
  },
  {
   "cell_type": "code",
   "execution_count": 11,
   "id": "c0e574f1",
   "metadata": {},
   "outputs": [],
   "source": [
    "logreg=LogisticRegression().fit(X_train,y_train)"
   ]
  },
  {
   "cell_type": "markdown",
   "id": "7f64dd21",
   "metadata": {},
   "source": [
    "Note: Some folks have been getting a convergence error in their logistic regression models in sklearn: If so a good idea is to scale the data using ```StandardScaler```"
   ]
  },
  {
   "cell_type": "code",
   "execution_count": 12,
   "id": "cbd490fa",
   "metadata": {},
   "outputs": [
    {
     "data": {
      "text/plain": [
       "0.88"
      ]
     },
     "execution_count": 12,
     "metadata": {},
     "output_type": "execute_result"
    }
   ],
   "source": [
    "logreg.score(X_test,y_test)"
   ]
  },
  {
   "cell_type": "code",
   "execution_count": 13,
   "id": "26d94929",
   "metadata": {},
   "outputs": [],
   "source": [
    "from sklearn.dummy import DummyClassifier"
   ]
  },
  {
   "cell_type": "code",
   "execution_count": 14,
   "id": "c39988ff",
   "metadata": {},
   "outputs": [],
   "source": [
    "dum_maj=DummyClassifier(strategy='most_frequent').fit(X_train,y_train)"
   ]
  },
  {
   "cell_type": "code",
   "execution_count": 15,
   "id": "69dbf2ed",
   "metadata": {},
   "outputs": [
    {
     "data": {
      "text/plain": [
       "0.88"
      ]
     },
     "execution_count": 15,
     "metadata": {},
     "output_type": "execute_result"
    }
   ],
   "source": [
    "dum_maj.score(X_test,y_test)"
   ]
  },
  {
   "cell_type": "markdown",
   "id": "616df717",
   "metadata": {},
   "source": [
    "So Logistic Regression and Dummy Classifier have 88% accuracy. How do we feel about that?"
   ]
  },
  {
   "cell_type": "markdown",
   "id": "7464a0ef",
   "metadata": {},
   "source": [
    "Let's also build a simple depth 4 decision tree classifier:"
   ]
  },
  {
   "cell_type": "code",
   "execution_count": 16,
   "id": "632dfc59",
   "metadata": {},
   "outputs": [],
   "source": [
    "Tclf = DecisionTreeClassifier(max_depth=4,random_state=0).fit(X_train,y_train)"
   ]
  },
  {
   "cell_type": "code",
   "execution_count": 17,
   "id": "6081dc0c",
   "metadata": {},
   "outputs": [
    {
     "data": {
      "text/plain": [
       "0.89"
      ]
     },
     "execution_count": 17,
     "metadata": {},
     "output_type": "execute_result"
    }
   ],
   "source": [
    "Tclf.score(X_test,y_test)"
   ]
  },
  {
   "cell_type": "markdown",
   "id": "6755517b",
   "metadata": {},
   "source": [
    "Confusion matrix (cross-tabulated True vs Predicted) for the **Logistic Regression Classifier**:"
   ]
  },
  {
   "cell_type": "code",
   "execution_count": 18,
   "id": "9ffef889",
   "metadata": {},
   "outputs": [
    {
     "data": {
      "text/html": [
       "<div>\n",
       "<style scoped>\n",
       "    .dataframe tbody tr th:only-of-type {\n",
       "        vertical-align: middle;\n",
       "    }\n",
       "\n",
       "    .dataframe tbody tr th {\n",
       "        vertical-align: top;\n",
       "    }\n",
       "\n",
       "    .dataframe thead th {\n",
       "        text-align: right;\n",
       "    }\n",
       "</style>\n",
       "<table border=\"1\" class=\"dataframe\">\n",
       "  <thead>\n",
       "    <tr style=\"text-align: right;\">\n",
       "      <th>col_0</th>\n",
       "      <th>0</th>\n",
       "    </tr>\n",
       "    <tr>\n",
       "      <th>Target</th>\n",
       "      <th></th>\n",
       "    </tr>\n",
       "  </thead>\n",
       "  <tbody>\n",
       "    <tr>\n",
       "      <th>0</th>\n",
       "      <td>264</td>\n",
       "    </tr>\n",
       "    <tr>\n",
       "      <th>1</th>\n",
       "      <td>36</td>\n",
       "    </tr>\n",
       "  </tbody>\n",
       "</table>\n",
       "</div>"
      ],
      "text/plain": [
       "col_0     0\n",
       "Target     \n",
       "0       264\n",
       "1        36"
      ]
     },
     "execution_count": 18,
     "metadata": {},
     "output_type": "execute_result"
    }
   ],
   "source": [
    "pd.crosstab(y_test,logreg.predict(X_test))"
   ]
  },
  {
   "cell_type": "markdown",
   "id": "0140cf9b",
   "metadata": {},
   "source": [
    "Confusion matrix for the **Dummy Classifier**:"
   ]
  },
  {
   "cell_type": "code",
   "execution_count": 19,
   "id": "a924f3e7",
   "metadata": {},
   "outputs": [
    {
     "data": {
      "text/html": [
       "<div>\n",
       "<style scoped>\n",
       "    .dataframe tbody tr th:only-of-type {\n",
       "        vertical-align: middle;\n",
       "    }\n",
       "\n",
       "    .dataframe tbody tr th {\n",
       "        vertical-align: top;\n",
       "    }\n",
       "\n",
       "    .dataframe thead th {\n",
       "        text-align: right;\n",
       "    }\n",
       "</style>\n",
       "<table border=\"1\" class=\"dataframe\">\n",
       "  <thead>\n",
       "    <tr style=\"text-align: right;\">\n",
       "      <th>col_0</th>\n",
       "      <th>0</th>\n",
       "    </tr>\n",
       "    <tr>\n",
       "      <th>Target</th>\n",
       "      <th></th>\n",
       "    </tr>\n",
       "  </thead>\n",
       "  <tbody>\n",
       "    <tr>\n",
       "      <th>0</th>\n",
       "      <td>264</td>\n",
       "    </tr>\n",
       "    <tr>\n",
       "      <th>1</th>\n",
       "      <td>36</td>\n",
       "    </tr>\n",
       "  </tbody>\n",
       "</table>\n",
       "</div>"
      ],
      "text/plain": [
       "col_0     0\n",
       "Target     \n",
       "0       264\n",
       "1        36"
      ]
     },
     "execution_count": 19,
     "metadata": {},
     "output_type": "execute_result"
    }
   ],
   "source": [
    "pd.crosstab(y_test,dum_maj.predict(X_test))"
   ]
  },
  {
   "cell_type": "markdown",
   "id": "77785fe2",
   "metadata": {},
   "source": [
    "Confusion matrix for the **Tree Classifier**:"
   ]
  },
  {
   "cell_type": "code",
   "execution_count": 20,
   "id": "8ff3c424",
   "metadata": {},
   "outputs": [
    {
     "data": {
      "text/html": [
       "<div>\n",
       "<style scoped>\n",
       "    .dataframe tbody tr th:only-of-type {\n",
       "        vertical-align: middle;\n",
       "    }\n",
       "\n",
       "    .dataframe tbody tr th {\n",
       "        vertical-align: top;\n",
       "    }\n",
       "\n",
       "    .dataframe thead th {\n",
       "        text-align: right;\n",
       "    }\n",
       "</style>\n",
       "<table border=\"1\" class=\"dataframe\">\n",
       "  <thead>\n",
       "    <tr style=\"text-align: right;\">\n",
       "      <th>col_0</th>\n",
       "      <th>0</th>\n",
       "      <th>1</th>\n",
       "    </tr>\n",
       "    <tr>\n",
       "      <th>Target</th>\n",
       "      <th></th>\n",
       "      <th></th>\n",
       "    </tr>\n",
       "  </thead>\n",
       "  <tbody>\n",
       "    <tr>\n",
       "      <th>0</th>\n",
       "      <td>261</td>\n",
       "      <td>3</td>\n",
       "    </tr>\n",
       "    <tr>\n",
       "      <th>1</th>\n",
       "      <td>30</td>\n",
       "      <td>6</td>\n",
       "    </tr>\n",
       "  </tbody>\n",
       "</table>\n",
       "</div>"
      ],
      "text/plain": [
       "col_0     0  1\n",
       "Target        \n",
       "0       261  3\n",
       "1        30  6"
      ]
     },
     "execution_count": 20,
     "metadata": {},
     "output_type": "execute_result"
    }
   ],
   "source": [
    "pd.crosstab(y_test,Tclf.predict(X_test))"
   ]
  },
  {
   "cell_type": "markdown",
   "id": "45284fe6",
   "metadata": {},
   "source": [
    "So, the Logistic Regression classifier and the dummy classifier are just predicting 0 for all classes. The tree classifier seems like it represents small porogress, so..."
   ]
  },
  {
   "cell_type": "markdown",
   "id": "f2d229a2",
   "metadata": {},
   "source": [
    "Let's try a random forest classifier:"
   ]
  },
  {
   "cell_type": "code",
   "execution_count": 21,
   "id": "0fe14aae",
   "metadata": {},
   "outputs": [],
   "source": [
    "rf = RandomForestClassifier(n_estimators=400,max_features='sqrt',random_state=0).fit(X_train,y_train)"
   ]
  },
  {
   "cell_type": "code",
   "execution_count": 22,
   "id": "acbe00ee",
   "metadata": {},
   "outputs": [
    {
     "data": {
      "text/plain": [
       "0.9166666666666666"
      ]
     },
     "execution_count": 22,
     "metadata": {},
     "output_type": "execute_result"
    }
   ],
   "source": [
    "accuracy_score(rf.predict(X_test),y_test)"
   ]
  },
  {
   "cell_type": "markdown",
   "id": "930284e2",
   "metadata": {},
   "source": [
    "Confusion Matrix for the **Random Forest Classifier**:"
   ]
  },
  {
   "cell_type": "code",
   "execution_count": 23,
   "id": "26adce39",
   "metadata": {},
   "outputs": [
    {
     "data": {
      "text/html": [
       "<div>\n",
       "<style scoped>\n",
       "    .dataframe tbody tr th:only-of-type {\n",
       "        vertical-align: middle;\n",
       "    }\n",
       "\n",
       "    .dataframe tbody tr th {\n",
       "        vertical-align: top;\n",
       "    }\n",
       "\n",
       "    .dataframe thead th {\n",
       "        text-align: right;\n",
       "    }\n",
       "</style>\n",
       "<table border=\"1\" class=\"dataframe\">\n",
       "  <thead>\n",
       "    <tr style=\"text-align: right;\">\n",
       "      <th>col_0</th>\n",
       "      <th>0</th>\n",
       "      <th>1</th>\n",
       "    </tr>\n",
       "    <tr>\n",
       "      <th>Target</th>\n",
       "      <th></th>\n",
       "      <th></th>\n",
       "    </tr>\n",
       "  </thead>\n",
       "  <tbody>\n",
       "    <tr>\n",
       "      <th>0</th>\n",
       "      <td>257</td>\n",
       "      <td>7</td>\n",
       "    </tr>\n",
       "    <tr>\n",
       "      <th>1</th>\n",
       "      <td>18</td>\n",
       "      <td>18</td>\n",
       "    </tr>\n",
       "  </tbody>\n",
       "</table>\n",
       "</div>"
      ],
      "text/plain": [
       "col_0     0   1\n",
       "Target         \n",
       "0       257   7\n",
       "1        18  18"
      ]
     },
     "execution_count": 23,
     "metadata": {},
     "output_type": "execute_result"
    }
   ],
   "source": [
    "pd.crosstab(y_test,rf.predict(X_test))"
   ]
  },
  {
   "cell_type": "markdown",
   "id": "341656ee",
   "metadata": {},
   "source": [
    "Can add row and column labels for readability:"
   ]
  },
  {
   "cell_type": "code",
   "execution_count": 24,
   "id": "adc6f7af",
   "metadata": {},
   "outputs": [
    {
     "data": {
      "text/html": [
       "<div>\n",
       "<style scoped>\n",
       "    .dataframe tbody tr th:only-of-type {\n",
       "        vertical-align: middle;\n",
       "    }\n",
       "\n",
       "    .dataframe tbody tr th {\n",
       "        vertical-align: top;\n",
       "    }\n",
       "\n",
       "    .dataframe thead th {\n",
       "        text-align: right;\n",
       "    }\n",
       "</style>\n",
       "<table border=\"1\" class=\"dataframe\">\n",
       "  <thead>\n",
       "    <tr style=\"text-align: right;\">\n",
       "      <th>Predicted</th>\n",
       "      <th>0</th>\n",
       "      <th>1</th>\n",
       "    </tr>\n",
       "    <tr>\n",
       "      <th>True</th>\n",
       "      <th></th>\n",
       "      <th></th>\n",
       "    </tr>\n",
       "  </thead>\n",
       "  <tbody>\n",
       "    <tr>\n",
       "      <th>0</th>\n",
       "      <td>257</td>\n",
       "      <td>7</td>\n",
       "    </tr>\n",
       "    <tr>\n",
       "      <th>1</th>\n",
       "      <td>18</td>\n",
       "      <td>18</td>\n",
       "    </tr>\n",
       "  </tbody>\n",
       "</table>\n",
       "</div>"
      ],
      "text/plain": [
       "Predicted    0   1\n",
       "True              \n",
       "0          257   7\n",
       "1           18  18"
      ]
     },
     "execution_count": 24,
     "metadata": {},
     "output_type": "execute_result"
    }
   ],
   "source": [
    "pd.crosstab(y_test,rf.predict(X_test),rownames=['True'], colnames=['Predicted'])"
   ]
  },
  {
   "cell_type": "markdown",
   "id": "7732250f",
   "metadata": {},
   "source": [
    "The tree based methods are at least predicting some 1 classes."
   ]
  },
  {
   "cell_type": "markdown",
   "id": "ba509593",
   "metadata": {},
   "source": [
    "Let's consider the cells in the cross tabulation of Actual Labels versus Model Predictions. Think of Class 1 as **POSITIVE** and Class 0 as **NEGATIVE**."
   ]
  },
  {
   "cell_type": "markdown",
   "id": "52a84319",
   "metadata": {},
   "source": [
    " \\\\\\  | Predicted 0 | Predicted 1\n",
    "---:|:---:| ---\n",
    "**Actual 0** | $TN$ | $FP$\n",
    "**Actual 1** | $FN$ | $TP$"
   ]
  },
  {
   "cell_type": "markdown",
   "id": "cd1e1179",
   "metadata": {},
   "source": [
    "(from our model perspective:)"
   ]
  },
  {
   "cell_type": "markdown",
   "id": "6429734c",
   "metadata": {},
   "source": [
    "* $TN$ = True Negative\n",
    "* $TP$ = True Positive\n",
    "* $FN$ = False Negative\n",
    "* $FP$ = False Positive"
   ]
  },
  {
   "cell_type": "markdown",
   "id": "c276a847",
   "metadata": {},
   "source": [
    "Thus far we've been using accuracy to assess classifiers. Accuracy is correct predictions over total observations:"
   ]
  },
  {
   "cell_type": "markdown",
   "id": "97852b01",
   "metadata": {},
   "source": [
    "$$\n",
    "\\text{Accuracy} = \\frac{TN+TP}{TN+FN+FP+TP}\n",
    "$$"
   ]
  },
  {
   "cell_type": "markdown",
   "id": "f5989324",
   "metadata": {},
   "source": [
    "In the test set above there are 300 observations:"
   ]
  },
  {
   "cell_type": "code",
   "execution_count": 25,
   "id": "ee402943",
   "metadata": {},
   "outputs": [
    {
     "data": {
      "text/plain": [
       "300"
      ]
     },
     "execution_count": 25,
     "metadata": {},
     "output_type": "execute_result"
    }
   ],
   "source": [
    "len(y_test)"
   ]
  },
  {
   "cell_type": "code",
   "execution_count": 26,
   "id": "03d55f00",
   "metadata": {},
   "outputs": [
    {
     "data": {
      "text/plain": [
       "36"
      ]
     },
     "execution_count": 26,
     "metadata": {},
     "output_type": "execute_result"
    }
   ],
   "source": [
    "sum(y_test)"
   ]
  },
  {
   "cell_type": "code",
   "execution_count": 27,
   "id": "ceaf5d72",
   "metadata": {},
   "outputs": [
    {
     "data": {
      "text/plain": [
       "0.12"
      ]
     },
     "execution_count": 27,
     "metadata": {},
     "output_type": "execute_result"
    }
   ],
   "source": [
    "sum(y_test)/len(y_test)"
   ]
  },
  {
   "cell_type": "markdown",
   "id": "26e20930",
   "metadata": {},
   "source": [
    "Only 12% are in Class 1. We can get a seemingly (misleadingly) \"*accurate*\" classifier by just predicting 0 all the time. Accuracy is 88%."
   ]
  },
  {
   "cell_type": "markdown",
   "id": "8fc4ecf1",
   "metadata": {},
   "source": [
    "Obviously, this is a useless classifier. Accuracy is a metric that works well when the classes are roughly balanced but fails to help us evaluate a classifier in the face of imbalanced data."
   ]
  },
  {
   "cell_type": "markdown",
   "id": "d3590621",
   "metadata": {},
   "source": [
    "We need alternative metrics to accuracy to see how/what the classifier is doing. Two important metrics are: ***Precision*** and ***Recall***."
   ]
  },
  {
   "cell_type": "markdown",
   "id": "ed8787d4",
   "metadata": {},
   "source": [
    "### Precision: What fraction of our *predicted* 1s are *actually* 1s? "
   ]
  },
  {
   "cell_type": "markdown",
   "id": "55254f28",
   "metadata": {},
   "source": [
    "$$\n",
    "\\text{Precision} = \\frac{TP}{TP+FP}\n",
    "$$"
   ]
  },
  {
   "cell_type": "markdown",
   "id": "3e4b289e",
   "metadata": {},
   "source": [
    "### Recall: What fraction of the *actual* 1s do we catch?"
   ]
  },
  {
   "cell_type": "markdown",
   "id": "70f38176",
   "metadata": {},
   "source": [
    "$$\n",
    "\\text{Recall}=\\frac{TP}{TP+FN}\n",
    "$$"
   ]
  },
  {
   "cell_type": "markdown",
   "id": "8740ab5f",
   "metadata": {},
   "source": [
    "High Precision: Good if we want to limit $FP$. If you get an automated notification that you tested +, we might not want to tell a lot of people who don't have the disease that they have it. OR: We work for a pharmaceutical company and we are going to run a clinical trial (experiment). It's expensive! We want to be sure the drug in fact works when we say it works. We want to limit the number of false positives: we say it works but it doesn't. "
   ]
  },
  {
   "cell_type": "markdown",
   "id": "0394c03d",
   "metadata": {},
   "source": [
    "High Recall: Good metric if we want to limit $FN$. Example: Disease diagnosis. A $FN$ here mean that we are predicting \"No Disease\" when, in fact, the disease is present. This has obvious negative consequences for the patient. "
   ]
  },
  {
   "cell_type": "markdown",
   "id": "bf7785f4",
   "metadata": {},
   "source": [
    "Covid antibody test: 1 means ANTIBODIES PRESENT:\n",
    "* FP = we say you have antibodies but you dont.\n",
    "* FN = We say you don't have antibodies but you do."
   ]
  },
  {
   "cell_type": "markdown",
   "id": "141ca3fb",
   "metadata": {},
   "source": [
    "* Precision: fraction of people we claim to have antibodies who actually do.\n",
    "* Recall: fraction of people truly having antibodies that we say have them."
   ]
  },
  {
   "cell_type": "markdown",
   "id": "6c99b0c7",
   "metadata": {},
   "source": [
    " There's a new blood test that screens for several cancers using cell-free DNA and does not require FDA approval. Cost is around $1000. "
   ]
  },
  {
   "cell_type": "markdown",
   "id": "34bbc375",
   "metadata": {},
   "source": [
    "* FP : Test says Cancer but patient really does not have cancer.\n",
    "* FN : Test says NO Cancer but patrient really *does* haver cancer."
   ]
  },
  {
   "cell_type": "markdown",
   "id": "6d87a59f",
   "metadata": {},
   "source": [
    "Trade off: The more you tune up the tests ability to detect the disease (reduce the FNs) you will increase the number of FPs."
   ]
  },
  {
   "cell_type": "markdown",
   "id": "9ee1aa22",
   "metadata": {},
   "source": [
    "Aside: Suppose a test\n",
    "* gives a correct + result 99% of time \n",
    "* gives a correct - result 99% of time \n",
    "* The disease has a 1% prevalence in the populaiton "
   ]
  },
  {
   "cell_type": "markdown",
   "id": "76956fdf",
   "metadata": {},
   "source": [
    "What is the probability that a person has the disease given a positive test result?"
   ]
  },
  {
   "cell_type": "markdown",
   "id": "1cf08759",
   "metadata": {},
   "source": [
    "$$P(\\text{Have} | +) = \\frac{P(\\text{Have and }+)}{(P(\\text{Have and }+)+P(\\text{Don't Have and }+)}$$"
   ]
  },
  {
   "cell_type": "markdown",
   "id": "fd3c7ad3",
   "metadata": {},
   "source": [
    "<img src=\"Bayes.png\">"
   ]
  },
  {
   "cell_type": "markdown",
   "id": "4aee3310",
   "metadata": {},
   "source": [
    "Precision: The fraction of True Positives out of all positive tests (True Pos + False Pos) "
   ]
  },
  {
   "cell_type": "code",
   "execution_count": 28,
   "id": "fc4bf497",
   "metadata": {},
   "outputs": [],
   "source": [
    "#.01*(.99)/(.01*.99+.99*.01)\n",
    "#image next commented out"
   ]
  },
  {
   "cell_type": "markdown",
   "id": "68c20025",
   "metadata": {},
   "source": [
    "<!--<img src=\"Comp.png\">-->"
   ]
  },
  {
   "cell_type": "code",
   "execution_count": 29,
   "id": "1bc0d961",
   "metadata": {},
   "outputs": [],
   "source": [
    "from sklearn.metrics import classification_report"
   ]
  },
  {
   "cell_type": "markdown",
   "id": "a1464edb",
   "metadata": {},
   "source": [
    "Back to evaluating the classifiers we built above."
   ]
  },
  {
   "cell_type": "markdown",
   "id": "459ae0a0",
   "metadata": {},
   "source": [
    "Start with the tree classifier:"
   ]
  },
  {
   "cell_type": "code",
   "execution_count": 30,
   "id": "237189a8",
   "metadata": {},
   "outputs": [
    {
     "data": {
      "text/html": [
       "<div>\n",
       "<style scoped>\n",
       "    .dataframe tbody tr th:only-of-type {\n",
       "        vertical-align: middle;\n",
       "    }\n",
       "\n",
       "    .dataframe tbody tr th {\n",
       "        vertical-align: top;\n",
       "    }\n",
       "\n",
       "    .dataframe thead th {\n",
       "        text-align: right;\n",
       "    }\n",
       "</style>\n",
       "<table border=\"1\" class=\"dataframe\">\n",
       "  <thead>\n",
       "    <tr style=\"text-align: right;\">\n",
       "      <th>Predicted</th>\n",
       "      <th>0</th>\n",
       "      <th>1</th>\n",
       "    </tr>\n",
       "    <tr>\n",
       "      <th>True</th>\n",
       "      <th></th>\n",
       "      <th></th>\n",
       "    </tr>\n",
       "  </thead>\n",
       "  <tbody>\n",
       "    <tr>\n",
       "      <th>0</th>\n",
       "      <td>261</td>\n",
       "      <td>3</td>\n",
       "    </tr>\n",
       "    <tr>\n",
       "      <th>1</th>\n",
       "      <td>30</td>\n",
       "      <td>6</td>\n",
       "    </tr>\n",
       "  </tbody>\n",
       "</table>\n",
       "</div>"
      ],
      "text/plain": [
       "Predicted    0  1\n",
       "True             \n",
       "0          261  3\n",
       "1           30  6"
      ]
     },
     "execution_count": 30,
     "metadata": {},
     "output_type": "execute_result"
    }
   ],
   "source": [
    "pd.crosstab(y_test,Tclf.predict(X_test),rownames=[\"True\"],colnames=['Predicted'])"
   ]
  },
  {
   "cell_type": "code",
   "execution_count": 31,
   "id": "e7f3b871",
   "metadata": {},
   "outputs": [
    {
     "name": "stdout",
     "output_type": "stream",
     "text": [
      "              precision    recall  f1-score   support\n",
      "\n",
      "           0       0.90      0.99      0.94       264\n",
      "           1       0.67      0.17      0.27        36\n",
      "\n",
      "    accuracy                           0.89       300\n",
      "   macro avg       0.78      0.58      0.60       300\n",
      "weighted avg       0.87      0.89      0.86       300\n",
      "\n"
     ]
    }
   ],
   "source": [
    "print(classification_report(y_test,Tclf.predict(X_test)))"
   ]
  },
  {
   "cell_type": "markdown",
   "id": "11b1261f",
   "metadata": {},
   "source": [
    "Precision (class 1): TP/(TP+FP); Recall (class 1): TP /(TP+FN)"
   ]
  },
  {
   "cell_type": "code",
   "execution_count": 32,
   "id": "bd84e97b",
   "metadata": {},
   "outputs": [
    {
     "name": "stdout",
     "output_type": "stream",
     "text": [
      "0.67 : 0.17\n"
     ]
    }
   ],
   "source": [
    "print(np.round(6/(6+3),2),\":\",np.round(6/(6+30),2))"
   ]
  },
  {
   "cell_type": "markdown",
   "id": "591b835e",
   "metadata": {},
   "source": [
    "For the Random Forest:"
   ]
  },
  {
   "cell_type": "code",
   "execution_count": 33,
   "id": "162bde81",
   "metadata": {},
   "outputs": [
    {
     "name": "stdout",
     "output_type": "stream",
     "text": [
      "              precision    recall  f1-score   support\n",
      "\n",
      "           0       0.93      0.97      0.95       264\n",
      "           1       0.72      0.50      0.59        36\n",
      "\n",
      "    accuracy                           0.92       300\n",
      "   macro avg       0.83      0.74      0.77       300\n",
      "weighted avg       0.91      0.92      0.91       300\n",
      "\n"
     ]
    }
   ],
   "source": [
    "print(classification_report(y_test,rf.predict(X_test)))"
   ]
  },
  {
   "cell_type": "markdown",
   "id": "3dd378c6",
   "metadata": {},
   "source": [
    "For the logistic regression classifier:"
   ]
  },
  {
   "cell_type": "code",
   "execution_count": 34,
   "id": "e6c16f1e",
   "metadata": {},
   "outputs": [
    {
     "data": {
      "text/html": [
       "<div>\n",
       "<style scoped>\n",
       "    .dataframe tbody tr th:only-of-type {\n",
       "        vertical-align: middle;\n",
       "    }\n",
       "\n",
       "    .dataframe tbody tr th {\n",
       "        vertical-align: top;\n",
       "    }\n",
       "\n",
       "    .dataframe thead th {\n",
       "        text-align: right;\n",
       "    }\n",
       "</style>\n",
       "<table border=\"1\" class=\"dataframe\">\n",
       "  <thead>\n",
       "    <tr style=\"text-align: right;\">\n",
       "      <th>Predicted</th>\n",
       "      <th>0</th>\n",
       "    </tr>\n",
       "    <tr>\n",
       "      <th>True</th>\n",
       "      <th></th>\n",
       "    </tr>\n",
       "  </thead>\n",
       "  <tbody>\n",
       "    <tr>\n",
       "      <th>0</th>\n",
       "      <td>264</td>\n",
       "    </tr>\n",
       "    <tr>\n",
       "      <th>1</th>\n",
       "      <td>36</td>\n",
       "    </tr>\n",
       "  </tbody>\n",
       "</table>\n",
       "</div>"
      ],
      "text/plain": [
       "Predicted    0\n",
       "True          \n",
       "0          264\n",
       "1           36"
      ]
     },
     "execution_count": 34,
     "metadata": {},
     "output_type": "execute_result"
    }
   ],
   "source": [
    "pd.crosstab(y_test,logreg.predict(X_test),rownames=[\"True\"],colnames=['Predicted'])"
   ]
  },
  {
   "cell_type": "code",
   "execution_count": 35,
   "id": "0c9db06a",
   "metadata": {},
   "outputs": [
    {
     "name": "stdout",
     "output_type": "stream",
     "text": [
      "              precision    recall  f1-score   support\n",
      "\n",
      "           0       0.88      1.00      0.94       264\n",
      "           1       0.00      0.00      0.00        36\n",
      "\n",
      "    accuracy                           0.88       300\n",
      "   macro avg       0.44      0.50      0.47       300\n",
      "weighted avg       0.77      0.88      0.82       300\n",
      "\n"
     ]
    },
    {
     "name": "stderr",
     "output_type": "stream",
     "text": [
      "/home/hamstersnail/miniconda3/lib/python3.9/site-packages/sklearn/metrics/_classification.py:1308: UndefinedMetricWarning: Precision and F-score are ill-defined and being set to 0.0 in labels with no predicted samples. Use `zero_division` parameter to control this behavior.\n",
      "  _warn_prf(average, modifier, msg_start, len(result))\n",
      "/home/hamstersnail/miniconda3/lib/python3.9/site-packages/sklearn/metrics/_classification.py:1308: UndefinedMetricWarning: Precision and F-score are ill-defined and being set to 0.0 in labels with no predicted samples. Use `zero_division` parameter to control this behavior.\n",
      "  _warn_prf(average, modifier, msg_start, len(result))\n",
      "/home/hamstersnail/miniconda3/lib/python3.9/site-packages/sklearn/metrics/_classification.py:1308: UndefinedMetricWarning: Precision and F-score are ill-defined and being set to 0.0 in labels with no predicted samples. Use `zero_division` parameter to control this behavior.\n",
      "  _warn_prf(average, modifier, msg_start, len(result))\n"
     ]
    }
   ],
   "source": [
    "print(classification_report(y_test,logreg.predict(X_test)))"
   ]
  },
  {
   "cell_type": "markdown",
   "id": "a1beba35",
   "metadata": {},
   "source": [
    "Errors thrown because we are dividing by 0 : TP=FP=0"
   ]
  },
  {
   "cell_type": "markdown",
   "id": "f261f386",
   "metadata": {},
   "source": [
    "### F1 score"
   ]
  },
  {
   "cell_type": "code",
   "execution_count": 36,
   "id": "1cc5b8cb",
   "metadata": {},
   "outputs": [],
   "source": [
    "from sklearn.metrics import f1_score"
   ]
  },
  {
   "cell_type": "code",
   "execution_count": 37,
   "id": "356db8cc",
   "metadata": {},
   "outputs": [
    {
     "data": {
      "text/plain": [
       "0.5901639344262295"
      ]
     },
     "execution_count": 37,
     "metadata": {},
     "output_type": "execute_result"
    }
   ],
   "source": [
    "f1_score(y_test,rf.predict(X_test))"
   ]
  },
  {
   "cell_type": "markdown",
   "id": "97f7a552",
   "metadata": {},
   "source": [
    "f1-score is an average of precision and recall (heavily influenced by the smaller of the two). "
   ]
  },
  {
   "cell_type": "markdown",
   "id": "632f3a25",
   "metadata": {},
   "source": [
    "f1 is the harmonic mean of P and R:\n",
    "$$\n",
    "\\left(\\frac{P^{-1}+R^{-1}}{2}\\right)^{-1} = \\frac{2PR}{P+R}\n",
    "$$"
   ]
  },
  {
   "cell_type": "markdown",
   "id": "9e846304",
   "metadata": {},
   "source": [
    "(Why?) Aside: Suppose a car travels distance of 100 miles at 30 mph and 100 back at 70 mph. What's the average speed?"
   ]
  },
  {
   "cell_type": "markdown",
   "id": "80a2dba8",
   "metadata": {},
   "source": [
    "Not 50:"
   ]
  },
  {
   "cell_type": "markdown",
   "id": "5d9567dc",
   "metadata": {},
   "source": [
    "$$\n",
    "\\frac{distance}{time} = \\frac{200}{\\frac{100}{30}+\\frac{100}{70}} =42\n",
    "$$"
   ]
  },
  {
   "cell_type": "markdown",
   "id": "e6ead0d4",
   "metadata": {},
   "source": [
    "$$\n",
    "\\frac{2d}{ \\frac{d}{s_1} + \\frac{d}{s_2} } = \\frac{2}{\\frac{1}{s_1}+\\frac{1}{s_2}} = \\left(\\frac{s_1^{-1}+s_2^{-1}}{2}\\right)^{-1}\n",
    "$$"
   ]
  },
  {
   "cell_type": "markdown",
   "id": "b3d63966",
   "metadata": {},
   "source": [
    "f1-score is between 0 and 1, but won't be high (close to 1) unless both precision and recall are high."
   ]
  },
  {
   "cell_type": "markdown",
   "id": "a2ad0502",
   "metadata": {},
   "source": [
    "One last reminder: Remember that logistic regression predicts the probability of an observation belonging to class 1. We can use a threshold other than 0.5 to increase the number of class 1 predictions:"
   ]
  },
  {
   "cell_type": "code",
   "execution_count": 38,
   "id": "8ccbf783",
   "metadata": {},
   "outputs": [
    {
     "data": {
      "text/plain": [
       "array([[0.85720527, 0.14279473],\n",
       "       [0.89870153, 0.10129847],\n",
       "       [0.92133599, 0.07866401],\n",
       "       [0.83273605, 0.16726395],\n",
       "       [0.91643961, 0.08356039],\n",
       "       [0.88651245, 0.11348755],\n",
       "       [0.85480562, 0.14519438],\n",
       "       [0.86449747, 0.13550253],\n",
       "       [0.83468391, 0.16531609],\n",
       "       [0.89353077, 0.10646923]])"
      ]
     },
     "execution_count": 38,
     "metadata": {},
     "output_type": "execute_result"
    }
   ],
   "source": [
    "logreg.predict_proba(X_test)[0:10]"
   ]
  },
  {
   "cell_type": "code",
   "execution_count": 39,
   "id": "e35c3115",
   "metadata": {},
   "outputs": [
    {
     "data": {
      "text/plain": [
       "array([0, 0, 0, 0, 0, 0, 0, 0, 0, 0])"
      ]
     },
     "execution_count": 39,
     "metadata": {},
     "output_type": "execute_result"
    }
   ],
   "source": [
    "logreg.predict(X_test)[0:10]"
   ]
  },
  {
   "cell_type": "code",
   "execution_count": 40,
   "id": "dec7bd70",
   "metadata": {},
   "outputs": [],
   "source": [
    "new_lr_pred = logreg.predict_proba(X_test)[:,1] >.2"
   ]
  },
  {
   "cell_type": "code",
   "execution_count": 41,
   "id": "f24b65be",
   "metadata": {},
   "outputs": [
    {
     "data": {
      "text/plain": [
       "0.2608695652173913"
      ]
     },
     "execution_count": 41,
     "metadata": {},
     "output_type": "execute_result"
    }
   ],
   "source": [
    "f1_score(y_test,new_lr_pred)"
   ]
  },
  {
   "cell_type": "code",
   "execution_count": 42,
   "id": "35032c06",
   "metadata": {},
   "outputs": [
    {
     "name": "stdout",
     "output_type": "stream",
     "text": [
      "              precision    recall  f1-score   support\n",
      "\n",
      "           0       0.90      0.98      0.94       264\n",
      "           1       0.60      0.17      0.26        36\n",
      "\n",
      "    accuracy                           0.89       300\n",
      "   macro avg       0.75      0.58      0.60       300\n",
      "weighted avg       0.86      0.89      0.86       300\n",
      "\n"
     ]
    }
   ],
   "source": [
    "print(classification_report(y_test,new_lr_pred))"
   ]
  },
  {
   "cell_type": "code",
   "execution_count": 43,
   "id": "92c286c0",
   "metadata": {},
   "outputs": [
    {
     "data": {
      "text/html": [
       "<div>\n",
       "<style scoped>\n",
       "    .dataframe tbody tr th:only-of-type {\n",
       "        vertical-align: middle;\n",
       "    }\n",
       "\n",
       "    .dataframe tbody tr th {\n",
       "        vertical-align: top;\n",
       "    }\n",
       "\n",
       "    .dataframe thead th {\n",
       "        text-align: right;\n",
       "    }\n",
       "</style>\n",
       "<table border=\"1\" class=\"dataframe\">\n",
       "  <thead>\n",
       "    <tr style=\"text-align: right;\">\n",
       "      <th>Predicted</th>\n",
       "      <th>False</th>\n",
       "      <th>True</th>\n",
       "    </tr>\n",
       "    <tr>\n",
       "      <th>Target</th>\n",
       "      <th></th>\n",
       "      <th></th>\n",
       "    </tr>\n",
       "  </thead>\n",
       "  <tbody>\n",
       "    <tr>\n",
       "      <th>0</th>\n",
       "      <td>260</td>\n",
       "      <td>4</td>\n",
       "    </tr>\n",
       "    <tr>\n",
       "      <th>1</th>\n",
       "      <td>30</td>\n",
       "      <td>6</td>\n",
       "    </tr>\n",
       "  </tbody>\n",
       "</table>\n",
       "</div>"
      ],
      "text/plain": [
       "Predicted  False  True\n",
       "Target                \n",
       "0            260     4\n",
       "1             30     6"
      ]
     },
     "execution_count": 43,
     "metadata": {},
     "output_type": "execute_result"
    }
   ],
   "source": [
    "pd.crosstab(y_test,new_lr_pred,colnames=['Predicted'])"
   ]
  },
  {
   "cell_type": "markdown",
   "id": "9dd48a1f",
   "metadata": {},
   "source": [
    "Actually, the random forest has a **predict probability** functionality too."
   ]
  },
  {
   "cell_type": "code",
   "execution_count": 44,
   "id": "59204e1f",
   "metadata": {},
   "outputs": [
    {
     "data": {
      "text/plain": [
       "array([[0.985 , 0.015 ],\n",
       "       [0.9975, 0.0025],\n",
       "       [0.9   , 0.1   ],\n",
       "       [0.88  , 0.12  ],\n",
       "       [0.9475, 0.0525],\n",
       "       [1.    , 0.    ],\n",
       "       [0.9375, 0.0625],\n",
       "       [1.    , 0.    ],\n",
       "       [0.965 , 0.035 ],\n",
       "       [0.4125, 0.5875]])"
      ]
     },
     "execution_count": 44,
     "metadata": {},
     "output_type": "execute_result"
    }
   ],
   "source": [
    "rf.predict_proba(X_test)[0:10]"
   ]
  },
  {
   "cell_type": "code",
   "execution_count": 45,
   "id": "a8da7eca",
   "metadata": {},
   "outputs": [],
   "source": [
    "new_rf_pred=rf.predict_proba(X_test)[:,1]>.4"
   ]
  },
  {
   "cell_type": "code",
   "execution_count": 46,
   "id": "4e89eba8",
   "metadata": {},
   "outputs": [
    {
     "data": {
      "text/plain": [
       "0.5757575757575758"
      ]
     },
     "execution_count": 46,
     "metadata": {},
     "output_type": "execute_result"
    }
   ],
   "source": [
    "f1_score(y_test,new_rf_pred)"
   ]
  },
  {
   "cell_type": "code",
   "execution_count": 47,
   "id": "8face201",
   "metadata": {},
   "outputs": [
    {
     "data": {
      "text/plain": [
       "0.5901639344262295"
      ]
     },
     "execution_count": 47,
     "metadata": {},
     "output_type": "execute_result"
    }
   ],
   "source": [
    "f1_score(y_test,rf.predict(X_test))"
   ]
  },
  {
   "cell_type": "code",
   "execution_count": 48,
   "id": "be8c5be0",
   "metadata": {},
   "outputs": [
    {
     "data": {
      "text/html": [
       "<div>\n",
       "<style scoped>\n",
       "    .dataframe tbody tr th:only-of-type {\n",
       "        vertical-align: middle;\n",
       "    }\n",
       "\n",
       "    .dataframe tbody tr th {\n",
       "        vertical-align: top;\n",
       "    }\n",
       "\n",
       "    .dataframe thead th {\n",
       "        text-align: right;\n",
       "    }\n",
       "</style>\n",
       "<table border=\"1\" class=\"dataframe\">\n",
       "  <thead>\n",
       "    <tr style=\"text-align: right;\">\n",
       "      <th>col_0</th>\n",
       "      <th>False</th>\n",
       "      <th>True</th>\n",
       "    </tr>\n",
       "    <tr>\n",
       "      <th>Target</th>\n",
       "      <th></th>\n",
       "      <th></th>\n",
       "    </tr>\n",
       "  </thead>\n",
       "  <tbody>\n",
       "    <tr>\n",
       "      <th>0</th>\n",
       "      <td>253</td>\n",
       "      <td>11</td>\n",
       "    </tr>\n",
       "    <tr>\n",
       "      <th>1</th>\n",
       "      <td>17</td>\n",
       "      <td>19</td>\n",
       "    </tr>\n",
       "  </tbody>\n",
       "</table>\n",
       "</div>"
      ],
      "text/plain": [
       "col_0   False  True\n",
       "Target             \n",
       "0         253    11\n",
       "1          17    19"
      ]
     },
     "execution_count": 48,
     "metadata": {},
     "output_type": "execute_result"
    }
   ],
   "source": [
    "pd.crosstab(y_test,new_rf_pred)"
   ]
  },
  {
   "cell_type": "code",
   "execution_count": 49,
   "id": "d9f150d0",
   "metadata": {},
   "outputs": [
    {
     "data": {
      "text/html": [
       "<div>\n",
       "<style scoped>\n",
       "    .dataframe tbody tr th:only-of-type {\n",
       "        vertical-align: middle;\n",
       "    }\n",
       "\n",
       "    .dataframe tbody tr th {\n",
       "        vertical-align: top;\n",
       "    }\n",
       "\n",
       "    .dataframe thead th {\n",
       "        text-align: right;\n",
       "    }\n",
       "</style>\n",
       "<table border=\"1\" class=\"dataframe\">\n",
       "  <thead>\n",
       "    <tr style=\"text-align: right;\">\n",
       "      <th>col_0</th>\n",
       "      <th>0</th>\n",
       "      <th>1</th>\n",
       "    </tr>\n",
       "    <tr>\n",
       "      <th>Target</th>\n",
       "      <th></th>\n",
       "      <th></th>\n",
       "    </tr>\n",
       "  </thead>\n",
       "  <tbody>\n",
       "    <tr>\n",
       "      <th>0</th>\n",
       "      <td>257</td>\n",
       "      <td>7</td>\n",
       "    </tr>\n",
       "    <tr>\n",
       "      <th>1</th>\n",
       "      <td>18</td>\n",
       "      <td>18</td>\n",
       "    </tr>\n",
       "  </tbody>\n",
       "</table>\n",
       "</div>"
      ],
      "text/plain": [
       "col_0     0   1\n",
       "Target         \n",
       "0       257   7\n",
       "1        18  18"
      ]
     },
     "execution_count": 49,
     "metadata": {},
     "output_type": "execute_result"
    }
   ],
   "source": [
    "pd.crosstab(y_test,rf.predict(X_test))"
   ]
  },
  {
   "cell_type": "code",
   "execution_count": 50,
   "id": "3ec7df6b",
   "metadata": {},
   "outputs": [
    {
     "name": "stdout",
     "output_type": "stream",
     "text": [
      "              precision    recall  f1-score   support\n",
      "\n",
      "           0       0.94      0.96      0.95       264\n",
      "           1       0.63      0.53      0.58        36\n",
      "\n",
      "    accuracy                           0.91       300\n",
      "   macro avg       0.79      0.74      0.76       300\n",
      "weighted avg       0.90      0.91      0.90       300\n",
      "\n"
     ]
    }
   ],
   "source": [
    "print(classification_report(y_test,new_rf_pred))"
   ]
  },
  {
   "cell_type": "markdown",
   "id": "9b15ba74",
   "metadata": {},
   "source": [
    "P: tp/(tp+fp); R: tp/tp+fn"
   ]
  },
  {
   "cell_type": "code",
   "execution_count": 51,
   "id": "bc91d069",
   "metadata": {},
   "outputs": [
    {
     "name": "stdout",
     "output_type": "stream",
     "text": [
      "rf 0.72 0.5 : newrf 0.6333333333333333 0.5277777777777778\n"
     ]
    }
   ],
   "source": [
    "print(\"rf\",18/25,18/(2*18),\":\",\"newrf\",19/(19+11),19/(19+17))"
   ]
  },
  {
   "cell_type": "markdown",
   "id": "8af6df81",
   "metadata": {},
   "source": [
    "How about a Boosting Classifier"
   ]
  },
  {
   "cell_type": "code",
   "execution_count": 52,
   "id": "67f391ac",
   "metadata": {},
   "outputs": [],
   "source": [
    "bclf = GradientBoostingClassifier(n_estimators=600,max_depth=3,learning_rate=0.1,random_state=0).fit(X_train,y_train)"
   ]
  },
  {
   "cell_type": "code",
   "execution_count": 53,
   "id": "546f11e5",
   "metadata": {},
   "outputs": [
    {
     "data": {
      "text/plain": [
       "0.9133333333333333"
      ]
     },
     "execution_count": 53,
     "metadata": {},
     "output_type": "execute_result"
    }
   ],
   "source": [
    "accuracy_score(bclf.predict(X_test),y_test)"
   ]
  },
  {
   "cell_type": "code",
   "execution_count": 54,
   "id": "12a753fd",
   "metadata": {},
   "outputs": [
    {
     "data": {
      "text/html": [
       "<div>\n",
       "<style scoped>\n",
       "    .dataframe tbody tr th:only-of-type {\n",
       "        vertical-align: middle;\n",
       "    }\n",
       "\n",
       "    .dataframe tbody tr th {\n",
       "        vertical-align: top;\n",
       "    }\n",
       "\n",
       "    .dataframe thead th {\n",
       "        text-align: right;\n",
       "    }\n",
       "</style>\n",
       "<table border=\"1\" class=\"dataframe\">\n",
       "  <thead>\n",
       "    <tr style=\"text-align: right;\">\n",
       "      <th>Predicted</th>\n",
       "      <th>0</th>\n",
       "      <th>1</th>\n",
       "    </tr>\n",
       "    <tr>\n",
       "      <th>Actual</th>\n",
       "      <th></th>\n",
       "      <th></th>\n",
       "    </tr>\n",
       "  </thead>\n",
       "  <tbody>\n",
       "    <tr>\n",
       "      <th>0</th>\n",
       "      <td>256</td>\n",
       "      <td>8</td>\n",
       "    </tr>\n",
       "    <tr>\n",
       "      <th>1</th>\n",
       "      <td>18</td>\n",
       "      <td>18</td>\n",
       "    </tr>\n",
       "  </tbody>\n",
       "</table>\n",
       "</div>"
      ],
      "text/plain": [
       "Predicted    0   1\n",
       "Actual            \n",
       "0          256   8\n",
       "1           18  18"
      ]
     },
     "execution_count": 54,
     "metadata": {},
     "output_type": "execute_result"
    }
   ],
   "source": [
    "pd.crosstab(y_test,bclf.predict(X_test),rownames=[\"Actual\"],colnames=[\"Predicted\"])"
   ]
  },
  {
   "cell_type": "code",
   "execution_count": 55,
   "id": "9fd5d48d",
   "metadata": {},
   "outputs": [
    {
     "data": {
      "text/plain": [
       "0.5806451612903226"
      ]
     },
     "execution_count": 55,
     "metadata": {},
     "output_type": "execute_result"
    }
   ],
   "source": [
    "f1_score(y_test,bclf.predict(X_test))"
   ]
  },
  {
   "cell_type": "markdown",
   "id": "f15ae8a8",
   "metadata": {},
   "source": [
    "Ever so slighty worse than our RF classifier."
   ]
  },
  {
   "cell_type": "code",
   "execution_count": 56,
   "id": "60f4794b",
   "metadata": {},
   "outputs": [
    {
     "name": "stdout",
     "output_type": "stream",
     "text": [
      "              precision    recall  f1-score   support\n",
      "\n",
      "           0       0.93      0.97      0.95       264\n",
      "           1       0.69      0.50      0.58        36\n",
      "\n",
      "    accuracy                           0.91       300\n",
      "   macro avg       0.81      0.73      0.77       300\n",
      "weighted avg       0.91      0.91      0.91       300\n",
      "\n"
     ]
    }
   ],
   "source": [
    "print(classification_report(y_test,bclf.predict(X_test)))"
   ]
  },
  {
   "cell_type": "code",
   "execution_count": 57,
   "id": "b1060d2f",
   "metadata": {},
   "outputs": [
    {
     "name": "stdout",
     "output_type": "stream",
     "text": [
      "              precision    recall  f1-score   support\n",
      "\n",
      "           0       0.93      0.97      0.95       264\n",
      "           1       0.72      0.50      0.59        36\n",
      "\n",
      "    accuracy                           0.92       300\n",
      "   macro avg       0.83      0.74      0.77       300\n",
      "weighted avg       0.91      0.92      0.91       300\n",
      "\n"
     ]
    }
   ],
   "source": [
    "print(classification_report(y_test,rf.predict(X_test)))"
   ]
  },
  {
   "cell_type": "markdown",
   "id": "7ba5b781",
   "metadata": {},
   "source": [
    "### One more example"
   ]
  },
  {
   "cell_type": "code",
   "execution_count": 58,
   "id": "4a482e1e",
   "metadata": {},
   "outputs": [],
   "source": [
    "from sklearn.datasets import load_digits"
   ]
  },
  {
   "cell_type": "code",
   "execution_count": 59,
   "id": "4dc938c5",
   "metadata": {},
   "outputs": [
    {
     "data": {
      "image/png": "[encoded data removed]",
      "text/plain": [
       "<Figure size 720x288 with 4 Axes>"
      ]
     },
     "metadata": {
      "needs_background": "light"
     },
     "output_type": "display_data"
    }
   ],
   "source": [
    "digits = datasets.load_digits()\n",
    "fig, axes = plt.subplots(nrows=1, ncols=4, figsize=(10, 4))\n",
    "for ax, image in zip(axes, digits.images):\n",
    "    ax.set_axis_off()\n",
    "    ax.imshow(image, cmap=plt.cm.gray_r,interpolation='nearest')"
   ]
  },
  {
   "cell_type": "markdown",
   "id": "d9bccaa6",
   "metadata": {},
   "source": [
    "Each image is an 8 by 8 array of pixel values-- digitized hand-written digits. Larger number = darker. Max=16."
   ]
  },
  {
   "cell_type": "code",
   "execution_count": 60,
   "id": "4ff93ad7",
   "metadata": {},
   "outputs": [
    {
     "data": {
      "text/plain": [
       "array([[ 0.,  0.,  5., 13.,  9.,  1.,  0.,  0.],\n",
       "       [ 0.,  0., 13., 15., 10., 15.,  5.,  0.],\n",
       "       [ 0.,  3., 15.,  2.,  0., 11.,  8.,  0.],\n",
       "       [ 0.,  4., 12.,  0.,  0.,  8.,  8.,  0.],\n",
       "       [ 0.,  5.,  8.,  0.,  0.,  9.,  8.,  0.],\n",
       "       [ 0.,  4., 11.,  0.,  1., 12.,  7.,  0.],\n",
       "       [ 0.,  2., 14.,  5., 10., 12.,  0.,  0.],\n",
       "       [ 0.,  0.,  6., 13., 10.,  0.,  0.,  0.]])"
      ]
     },
     "execution_count": 60,
     "metadata": {},
     "output_type": "execute_result"
    }
   ],
   "source": [
    "digits.images[0]"
   ]
  },
  {
   "cell_type": "markdown",
   "id": "760b9ed9",
   "metadata": {},
   "source": [
    "We can flatten it into a row of 64 column values (features) and try to build a model."
   ]
  },
  {
   "cell_type": "code",
   "execution_count": 61,
   "id": "3f052589",
   "metadata": {},
   "outputs": [],
   "source": [
    "ddf=pd.DataFrame(digits.data,columns=digits.feature_names)"
   ]
  },
  {
   "cell_type": "code",
   "execution_count": 62,
   "id": "5496e550",
   "metadata": {},
   "outputs": [],
   "source": [
    "y=pd.DataFrame(digits.target,columns=['Target'])"
   ]
  },
  {
   "cell_type": "code",
   "execution_count": 63,
   "id": "3d60f13d",
   "metadata": {},
   "outputs": [
    {
     "data": {
      "text/html": [
       "<div>\n",
       "<style scoped>\n",
       "    .dataframe tbody tr th:only-of-type {\n",
       "        vertical-align: middle;\n",
       "    }\n",
       "\n",
       "    .dataframe tbody tr th {\n",
       "        vertical-align: top;\n",
       "    }\n",
       "\n",
       "    .dataframe thead th {\n",
       "        text-align: right;\n",
       "    }\n",
       "</style>\n",
       "<table border=\"1\" class=\"dataframe\">\n",
       "  <thead>\n",
       "    <tr style=\"text-align: right;\">\n",
       "      <th></th>\n",
       "      <th>pixel_0_0</th>\n",
       "      <th>pixel_0_1</th>\n",
       "      <th>pixel_0_2</th>\n",
       "      <th>pixel_0_3</th>\n",
       "      <th>pixel_0_4</th>\n",
       "      <th>pixel_0_5</th>\n",
       "      <th>pixel_0_6</th>\n",
       "      <th>pixel_0_7</th>\n",
       "      <th>pixel_1_0</th>\n",
       "      <th>pixel_1_1</th>\n",
       "      <th>...</th>\n",
       "      <th>pixel_6_6</th>\n",
       "      <th>pixel_6_7</th>\n",
       "      <th>pixel_7_0</th>\n",
       "      <th>pixel_7_1</th>\n",
       "      <th>pixel_7_2</th>\n",
       "      <th>pixel_7_3</th>\n",
       "      <th>pixel_7_4</th>\n",
       "      <th>pixel_7_5</th>\n",
       "      <th>pixel_7_6</th>\n",
       "      <th>pixel_7_7</th>\n",
       "    </tr>\n",
       "  </thead>\n",
       "  <tbody>\n",
       "    <tr>\n",
       "      <th>0</th>\n",
       "      <td>0.0</td>\n",
       "      <td>0.0</td>\n",
       "      <td>5.0</td>\n",
       "      <td>13.0</td>\n",
       "      <td>9.0</td>\n",
       "      <td>1.0</td>\n",
       "      <td>0.0</td>\n",
       "      <td>0.0</td>\n",
       "      <td>0.0</td>\n",
       "      <td>0.0</td>\n",
       "      <td>...</td>\n",
       "      <td>0.0</td>\n",
       "      <td>0.0</td>\n",
       "      <td>0.0</td>\n",
       "      <td>0.0</td>\n",
       "      <td>6.0</td>\n",
       "      <td>13.0</td>\n",
       "      <td>10.0</td>\n",
       "      <td>0.0</td>\n",
       "      <td>0.0</td>\n",
       "      <td>0.0</td>\n",
       "    </tr>\n",
       "    <tr>\n",
       "      <th>1</th>\n",
       "      <td>0.0</td>\n",
       "      <td>0.0</td>\n",
       "      <td>0.0</td>\n",
       "      <td>12.0</td>\n",
       "      <td>13.0</td>\n",
       "      <td>5.0</td>\n",
       "      <td>0.0</td>\n",
       "      <td>0.0</td>\n",
       "      <td>0.0</td>\n",
       "      <td>0.0</td>\n",
       "      <td>...</td>\n",
       "      <td>0.0</td>\n",
       "      <td>0.0</td>\n",
       "      <td>0.0</td>\n",
       "      <td>0.0</td>\n",
       "      <td>0.0</td>\n",
       "      <td>11.0</td>\n",
       "      <td>16.0</td>\n",
       "      <td>10.0</td>\n",
       "      <td>0.0</td>\n",
       "      <td>0.0</td>\n",
       "    </tr>\n",
       "    <tr>\n",
       "      <th>2</th>\n",
       "      <td>0.0</td>\n",
       "      <td>0.0</td>\n",
       "      <td>0.0</td>\n",
       "      <td>4.0</td>\n",
       "      <td>15.0</td>\n",
       "      <td>12.0</td>\n",
       "      <td>0.0</td>\n",
       "      <td>0.0</td>\n",
       "      <td>0.0</td>\n",
       "      <td>0.0</td>\n",
       "      <td>...</td>\n",
       "      <td>5.0</td>\n",
       "      <td>0.0</td>\n",
       "      <td>0.0</td>\n",
       "      <td>0.0</td>\n",
       "      <td>0.0</td>\n",
       "      <td>3.0</td>\n",
       "      <td>11.0</td>\n",
       "      <td>16.0</td>\n",
       "      <td>9.0</td>\n",
       "      <td>0.0</td>\n",
       "    </tr>\n",
       "    <tr>\n",
       "      <th>3</th>\n",
       "      <td>0.0</td>\n",
       "      <td>0.0</td>\n",
       "      <td>7.0</td>\n",
       "      <td>15.0</td>\n",
       "      <td>13.0</td>\n",
       "      <td>1.0</td>\n",
       "      <td>0.0</td>\n",
       "      <td>0.0</td>\n",
       "      <td>0.0</td>\n",
       "      <td>8.0</td>\n",
       "      <td>...</td>\n",
       "      <td>9.0</td>\n",
       "      <td>0.0</td>\n",
       "      <td>0.0</td>\n",
       "      <td>0.0</td>\n",
       "      <td>7.0</td>\n",
       "      <td>13.0</td>\n",
       "      <td>13.0</td>\n",
       "      <td>9.0</td>\n",
       "      <td>0.0</td>\n",
       "      <td>0.0</td>\n",
       "    </tr>\n",
       "    <tr>\n",
       "      <th>4</th>\n",
       "      <td>0.0</td>\n",
       "      <td>0.0</td>\n",
       "      <td>0.0</td>\n",
       "      <td>1.0</td>\n",
       "      <td>11.0</td>\n",
       "      <td>0.0</td>\n",
       "      <td>0.0</td>\n",
       "      <td>0.0</td>\n",
       "      <td>0.0</td>\n",
       "      <td>0.0</td>\n",
       "      <td>...</td>\n",
       "      <td>0.0</td>\n",
       "      <td>0.0</td>\n",
       "      <td>0.0</td>\n",
       "      <td>0.0</td>\n",
       "      <td>0.0</td>\n",
       "      <td>2.0</td>\n",
       "      <td>16.0</td>\n",
       "      <td>4.0</td>\n",
       "      <td>0.0</td>\n",
       "      <td>0.0</td>\n",
       "    </tr>\n",
       "  </tbody>\n",
       "</table>\n",
       "<p>5 rows × 64 columns</p>\n",
       "</div>"
      ],
      "text/plain": [
       "   pixel_0_0  pixel_0_1  pixel_0_2  pixel_0_3  pixel_0_4  pixel_0_5  \\\n",
       "0        0.0        0.0        5.0       13.0        9.0        1.0   \n",
       "1        0.0        0.0        0.0       12.0       13.0        5.0   \n",
       "2        0.0        0.0        0.0        4.0       15.0       12.0   \n",
       "3        0.0        0.0        7.0       15.0       13.0        1.0   \n",
       "4        0.0        0.0        0.0        1.0       11.0        0.0   \n",
       "\n",
       "   pixel_0_6  pixel_0_7  pixel_1_0  pixel_1_1  ...  pixel_6_6  pixel_6_7  \\\n",
       "0        0.0        0.0        0.0        0.0  ...        0.0        0.0   \n",
       "1        0.0        0.0        0.0        0.0  ...        0.0        0.0   \n",
       "2        0.0        0.0        0.0        0.0  ...        5.0        0.0   \n",
       "3        0.0        0.0        0.0        8.0  ...        9.0        0.0   \n",
       "4        0.0        0.0        0.0        0.0  ...        0.0        0.0   \n",
       "\n",
       "   pixel_7_0  pixel_7_1  pixel_7_2  pixel_7_3  pixel_7_4  pixel_7_5  \\\n",
       "0        0.0        0.0        6.0       13.0       10.0        0.0   \n",
       "1        0.0        0.0        0.0       11.0       16.0       10.0   \n",
       "2        0.0        0.0        0.0        3.0       11.0       16.0   \n",
       "3        0.0        0.0        7.0       13.0       13.0        9.0   \n",
       "4        0.0        0.0        0.0        2.0       16.0        4.0   \n",
       "\n",
       "   pixel_7_6  pixel_7_7  \n",
       "0        0.0        0.0  \n",
       "1        0.0        0.0  \n",
       "2        9.0        0.0  \n",
       "3        0.0        0.0  \n",
       "4        0.0        0.0  \n",
       "\n",
       "[5 rows x 64 columns]"
      ]
     },
     "execution_count": 63,
     "metadata": {},
     "output_type": "execute_result"
    }
   ],
   "source": [
    "ddf.head()"
   ]
  },
  {
   "cell_type": "markdown",
   "id": "8257b322",
   "metadata": {},
   "source": [
    "Column name is pixes_row_column"
   ]
  },
  {
   "cell_type": "code",
   "execution_count": 64,
   "id": "9b6dee8e",
   "metadata": {},
   "outputs": [
    {
     "data": {
      "text/html": [
       "<div>\n",
       "<style scoped>\n",
       "    .dataframe tbody tr th:only-of-type {\n",
       "        vertical-align: middle;\n",
       "    }\n",
       "\n",
       "    .dataframe tbody tr th {\n",
       "        vertical-align: top;\n",
       "    }\n",
       "\n",
       "    .dataframe thead th {\n",
       "        text-align: right;\n",
       "    }\n",
       "</style>\n",
       "<table border=\"1\" class=\"dataframe\">\n",
       "  <thead>\n",
       "    <tr style=\"text-align: right;\">\n",
       "      <th></th>\n",
       "      <th>Target</th>\n",
       "    </tr>\n",
       "  </thead>\n",
       "  <tbody>\n",
       "    <tr>\n",
       "      <th>0</th>\n",
       "      <td>0</td>\n",
       "    </tr>\n",
       "    <tr>\n",
       "      <th>1</th>\n",
       "      <td>1</td>\n",
       "    </tr>\n",
       "    <tr>\n",
       "      <th>2</th>\n",
       "      <td>2</td>\n",
       "    </tr>\n",
       "    <tr>\n",
       "      <th>3</th>\n",
       "      <td>3</td>\n",
       "    </tr>\n",
       "    <tr>\n",
       "      <th>4</th>\n",
       "      <td>4</td>\n",
       "    </tr>\n",
       "  </tbody>\n",
       "</table>\n",
       "</div>"
      ],
      "text/plain": [
       "   Target\n",
       "0       0\n",
       "1       1\n",
       "2       2\n",
       "3       3\n",
       "4       4"
      ]
     },
     "execution_count": 64,
     "metadata": {},
     "output_type": "execute_result"
    }
   ],
   "source": [
    "y.head()"
   ]
  },
  {
   "cell_type": "code",
   "execution_count": 65,
   "id": "4f81726f",
   "metadata": {},
   "outputs": [
    {
     "data": {
      "text/plain": [
       "(1797, 64)"
      ]
     },
     "execution_count": 65,
     "metadata": {},
     "output_type": "execute_result"
    }
   ],
   "source": [
    "ddf.shape"
   ]
  },
  {
   "cell_type": "code",
   "execution_count": 66,
   "id": "65e9681d",
   "metadata": {},
   "outputs": [
    {
     "data": {
      "text/plain": [
       "(1797, 1)"
      ]
     },
     "execution_count": 66,
     "metadata": {},
     "output_type": "execute_result"
    }
   ],
   "source": [
    "y.shape"
   ]
  },
  {
   "cell_type": "markdown",
   "id": "a9c235aa",
   "metadata": {},
   "source": [
    "This could be a 10 class classification problem but we'll make it binary (and imbalanced)."
   ]
  },
  {
   "cell_type": "code",
   "execution_count": 67,
   "id": "b5a52635",
   "metadata": {},
   "outputs": [],
   "source": [
    "def biny(x):\n",
    "    if x==9:\n",
    "        return 1\n",
    "    else:\n",
    "        return 0"
   ]
  },
  {
   "cell_type": "code",
   "execution_count": 68,
   "id": "1fc8028b",
   "metadata": {},
   "outputs": [],
   "source": [
    "by=y['Target'].apply(biny)"
   ]
  },
  {
   "cell_type": "code",
   "execution_count": 69,
   "id": "adf3cbd9",
   "metadata": {},
   "outputs": [
    {
     "data": {
      "text/plain": [
       "0     0\n",
       "1     0\n",
       "2     0\n",
       "3     0\n",
       "4     0\n",
       "5     0\n",
       "6     0\n",
       "7     0\n",
       "8     0\n",
       "9     1\n",
       "10    0\n",
       "11    0\n",
       "12    0\n",
       "13    0\n",
       "14    0\n",
       "15    0\n",
       "16    0\n",
       "17    0\n",
       "18    0\n",
       "19    1\n",
       "20    0\n",
       "Name: Target, dtype: int64"
      ]
     },
     "execution_count": 69,
     "metadata": {},
     "output_type": "execute_result"
    }
   ],
   "source": [
    "by[0:21]"
   ]
  },
  {
   "cell_type": "code",
   "execution_count": 70,
   "id": "ad7e2d18",
   "metadata": {},
   "outputs": [
    {
     "data": {
      "text/plain": [
       "array([[ 0.,  0.,  6., 14.,  4.,  0.,  0.,  0.],\n",
       "       [ 0.,  0., 11., 16., 10.,  0.,  0.,  0.],\n",
       "       [ 0.,  0.,  8., 14., 16.,  2.,  0.,  0.],\n",
       "       [ 0.,  0.,  1., 12., 12., 11.,  0.,  0.],\n",
       "       [ 0.,  0.,  0.,  0.,  0., 11.,  3.,  0.],\n",
       "       [ 0.,  0.,  0.,  0.,  0.,  5., 11.,  0.],\n",
       "       [ 0.,  0.,  1.,  4.,  4.,  7., 16.,  2.],\n",
       "       [ 0.,  0.,  7., 16., 16., 13., 11.,  1.]])"
      ]
     },
     "execution_count": 70,
     "metadata": {},
     "output_type": "execute_result"
    }
   ],
   "source": [
    "digits.images[19]"
   ]
  },
  {
   "cell_type": "code",
   "execution_count": 71,
   "id": "01536b0c",
   "metadata": {},
   "outputs": [
    {
     "data": {
      "image/png": "[encoded data removed]",
      "text/plain": [
       "<Figure size 720x288 with 1 Axes>"
      ]
     },
     "metadata": {
      "needs_background": "light"
     },
     "output_type": "display_data"
    }
   ],
   "source": [
    "fig, ax = plt.subplots(figsize=(10,4))\n",
    "ax.imshow(digits.images[19], cmap=plt.cm.gray_r,interpolation='nearest')\n",
    "plt.show()"
   ]
  },
  {
   "cell_type": "code",
   "execution_count": 72,
   "id": "8effa6ab",
   "metadata": {},
   "outputs": [
    {
     "data": {
      "text/plain": [
       "0.1001669449081803"
      ]
     },
     "execution_count": 72,
     "metadata": {},
     "output_type": "execute_result"
    }
   ],
   "source": [
    "by.sum()/len(by)"
   ]
  },
  {
   "cell_type": "markdown",
   "id": "b89558b0",
   "metadata": {},
   "source": [
    "Train-Test split"
   ]
  },
  {
   "cell_type": "code",
   "execution_count": 73,
   "id": "00957f7f",
   "metadata": {},
   "outputs": [],
   "source": [
    "Xd_train, Xd_test, yd_train, yd_test = train_test_split(ddf,by,random_state=0)"
   ]
  },
  {
   "cell_type": "code",
   "execution_count": 74,
   "id": "6ac4ca9a",
   "metadata": {},
   "outputs": [
    {
     "data": {
      "text/plain": [
       "(450,)"
      ]
     },
     "execution_count": 74,
     "metadata": {},
     "output_type": "execute_result"
    }
   ],
   "source": [
    "yd_test.shape"
   ]
  },
  {
   "cell_type": "markdown",
   "id": "c0a3b772",
   "metadata": {},
   "source": [
    "Reminder that accuracy won't help:"
   ]
  },
  {
   "cell_type": "code",
   "execution_count": 75,
   "id": "77e59f4b",
   "metadata": {},
   "outputs": [],
   "source": [
    "ddum=DummyClassifier(strategy='most_frequent').fit(Xd_train,yd_train)"
   ]
  },
  {
   "cell_type": "code",
   "execution_count": 76,
   "id": "88efdb79",
   "metadata": {},
   "outputs": [
    {
     "data": {
      "text/plain": [
       "0.8955555555555555"
      ]
     },
     "execution_count": 76,
     "metadata": {},
     "output_type": "execute_result"
    }
   ],
   "source": [
    "ddum.score(Xd_test,yd_test)"
   ]
  },
  {
   "cell_type": "code",
   "execution_count": 77,
   "id": "4a058dd6",
   "metadata": {},
   "outputs": [
    {
     "data": {
      "text/plain": [
       "0.0"
      ]
     },
     "execution_count": 77,
     "metadata": {},
     "output_type": "execute_result"
    }
   ],
   "source": [
    "f1_score(yd_test,ddum.predict(Xd_test))"
   ]
  },
  {
   "cell_type": "code",
   "execution_count": 78,
   "id": "51877247",
   "metadata": {},
   "outputs": [
    {
     "name": "stderr",
     "output_type": "stream",
     "text": [
      "/home/hamstersnail/miniconda3/lib/python3.9/site-packages/sklearn/linear_model/_logistic.py:814: ConvergenceWarning: lbfgs failed to converge (status=1):\n",
      "STOP: TOTAL NO. of ITERATIONS REACHED LIMIT.\n",
      "\n",
      "Increase the number of iterations (max_iter) or scale the data as shown in:\n",
      "    https://scikit-learn.org/stable/modules/preprocessing.html\n",
      "Please also refer to the documentation for alternative solver options:\n",
      "    https://scikit-learn.org/stable/modules/linear_model.html#logistic-regression\n",
      "  n_iter_i = _check_optimize_result(\n"
     ]
    }
   ],
   "source": [
    "dlr=LogisticRegression().fit(Xd_train,yd_train)"
   ]
  },
  {
   "cell_type": "markdown",
   "id": "88954be9",
   "metadata": {},
   "source": [
    "(This error goes away if we scale the data)"
   ]
  },
  {
   "cell_type": "code",
   "execution_count": 79,
   "id": "7c812643",
   "metadata": {},
   "outputs": [],
   "source": [
    "from sklearn.preprocessing import StandardScaler"
   ]
  },
  {
   "cell_type": "code",
   "execution_count": 80,
   "id": "109f9888",
   "metadata": {},
   "outputs": [],
   "source": [
    "scaler = StandardScaler()\n",
    "Xd_train_scaled = scaler.fit_transform(Xd_train)\n",
    "Xd_test_scaled = scaler.fit_transform(Xd_test)"
   ]
  },
  {
   "cell_type": "code",
   "execution_count": 81,
   "id": "4d8705e6",
   "metadata": {},
   "outputs": [],
   "source": [
    "scaled_dlr=LogisticRegression().fit(Xd_train_scaled,yd_train)"
   ]
  },
  {
   "cell_type": "markdown",
   "id": "b3a4c5e4",
   "metadata": {},
   "source": [
    "Simple decision tree classifier:"
   ]
  },
  {
   "cell_type": "code",
   "execution_count": 82,
   "id": "c65aadda",
   "metadata": {},
   "outputs": [],
   "source": [
    "dclf=DecisionTreeClassifier(max_depth=4).fit(Xd_train,yd_train)"
   ]
  },
  {
   "cell_type": "code",
   "execution_count": 83,
   "id": "fdc0801c",
   "metadata": {},
   "outputs": [
    {
     "data": {
      "text/plain": [
       "0.9466666666666667"
      ]
     },
     "execution_count": 83,
     "metadata": {},
     "output_type": "execute_result"
    }
   ],
   "source": [
    "dclf.score(Xd_test,yd_test)"
   ]
  },
  {
   "cell_type": "code",
   "execution_count": 84,
   "id": "ada993ae",
   "metadata": {},
   "outputs": [
    {
     "data": {
      "text/plain": [
       "0.9755555555555555"
      ]
     },
     "execution_count": 84,
     "metadata": {},
     "output_type": "execute_result"
    }
   ],
   "source": [
    "dlr.score(Xd_test,yd_test)"
   ]
  },
  {
   "cell_type": "code",
   "execution_count": 85,
   "id": "7c00af7e",
   "metadata": {},
   "outputs": [
    {
     "data": {
      "text/plain": [
       "0.9822222222222222"
      ]
     },
     "execution_count": 85,
     "metadata": {},
     "output_type": "execute_result"
    }
   ],
   "source": [
    "scaled_dlr.score(Xd_test_scaled,yd_test)"
   ]
  },
  {
   "cell_type": "code",
   "execution_count": 86,
   "id": "05e1beee",
   "metadata": {},
   "outputs": [
    {
     "data": {
      "text/plain": [
       "0.8791208791208791"
      ]
     },
     "execution_count": 86,
     "metadata": {},
     "output_type": "execute_result"
    }
   ],
   "source": [
    "f1_score(yd_test,dlr.predict(Xd_test))"
   ]
  },
  {
   "cell_type": "code",
   "execution_count": 87,
   "id": "3141eed3",
   "metadata": {},
   "outputs": [
    {
     "data": {
      "text/plain": [
       "0.9069767441860465"
      ]
     },
     "execution_count": 87,
     "metadata": {},
     "output_type": "execute_result"
    }
   ],
   "source": [
    "f1_score(yd_test,scaled_dlr.predict(Xd_test_scaled))"
   ]
  },
  {
   "cell_type": "code",
   "execution_count": 88,
   "id": "e5c98b28",
   "metadata": {},
   "outputs": [
    {
     "name": "stdout",
     "output_type": "stream",
     "text": [
      "              precision    recall  f1-score   support\n",
      "\n",
      "           0       0.98      1.00      0.99       403\n",
      "           1       1.00      0.83      0.91        47\n",
      "\n",
      "    accuracy                           0.98       450\n",
      "   macro avg       0.99      0.91      0.95       450\n",
      "weighted avg       0.98      0.98      0.98       450\n",
      "\n"
     ]
    }
   ],
   "source": [
    "print(classification_report(yd_test,scaled_dlr.predict(Xd_test_scaled)))"
   ]
  },
  {
   "cell_type": "code",
   "execution_count": 89,
   "id": "caa2c51e",
   "metadata": {},
   "outputs": [
    {
     "data": {
      "text/html": [
       "<div>\n",
       "<style scoped>\n",
       "    .dataframe tbody tr th:only-of-type {\n",
       "        vertical-align: middle;\n",
       "    }\n",
       "\n",
       "    .dataframe tbody tr th {\n",
       "        vertical-align: top;\n",
       "    }\n",
       "\n",
       "    .dataframe thead th {\n",
       "        text-align: right;\n",
       "    }\n",
       "</style>\n",
       "<table border=\"1\" class=\"dataframe\">\n",
       "  <thead>\n",
       "    <tr style=\"text-align: right;\">\n",
       "      <th>Predicted</th>\n",
       "      <th>0</th>\n",
       "      <th>1</th>\n",
       "    </tr>\n",
       "    <tr>\n",
       "      <th>Target</th>\n",
       "      <th></th>\n",
       "      <th></th>\n",
       "    </tr>\n",
       "  </thead>\n",
       "  <tbody>\n",
       "    <tr>\n",
       "      <th>0</th>\n",
       "      <td>403</td>\n",
       "      <td>0</td>\n",
       "    </tr>\n",
       "    <tr>\n",
       "      <th>1</th>\n",
       "      <td>8</td>\n",
       "      <td>39</td>\n",
       "    </tr>\n",
       "  </tbody>\n",
       "</table>\n",
       "</div>"
      ],
      "text/plain": [
       "Predicted    0   1\n",
       "Target            \n",
       "0          403   0\n",
       "1            8  39"
      ]
     },
     "execution_count": 89,
     "metadata": {},
     "output_type": "execute_result"
    }
   ],
   "source": [
    "pd.crosstab(yd_test,scaled_dlr.predict(Xd_test_scaled),colnames=[\"Predicted\"])"
   ]
  },
  {
   "cell_type": "markdown",
   "id": "07aab933",
   "metadata": {},
   "source": [
    "Unscaled logistic regression:"
   ]
  },
  {
   "cell_type": "code",
   "execution_count": 90,
   "id": "fb16c043",
   "metadata": {},
   "outputs": [
    {
     "data": {
      "text/html": [
       "<div>\n",
       "<style scoped>\n",
       "    .dataframe tbody tr th:only-of-type {\n",
       "        vertical-align: middle;\n",
       "    }\n",
       "\n",
       "    .dataframe tbody tr th {\n",
       "        vertical-align: top;\n",
       "    }\n",
       "\n",
       "    .dataframe thead th {\n",
       "        text-align: right;\n",
       "    }\n",
       "</style>\n",
       "<table border=\"1\" class=\"dataframe\">\n",
       "  <thead>\n",
       "    <tr style=\"text-align: right;\">\n",
       "      <th>Predicted</th>\n",
       "      <th>0</th>\n",
       "      <th>1</th>\n",
       "    </tr>\n",
       "    <tr>\n",
       "      <th>Target</th>\n",
       "      <th></th>\n",
       "      <th></th>\n",
       "    </tr>\n",
       "  </thead>\n",
       "  <tbody>\n",
       "    <tr>\n",
       "      <th>0</th>\n",
       "      <td>399</td>\n",
       "      <td>4</td>\n",
       "    </tr>\n",
       "    <tr>\n",
       "      <th>1</th>\n",
       "      <td>7</td>\n",
       "      <td>40</td>\n",
       "    </tr>\n",
       "  </tbody>\n",
       "</table>\n",
       "</div>"
      ],
      "text/plain": [
       "Predicted    0   1\n",
       "Target            \n",
       "0          399   4\n",
       "1            7  40"
      ]
     },
     "execution_count": 90,
     "metadata": {},
     "output_type": "execute_result"
    }
   ],
   "source": [
    "pd.crosstab(yd_test,dlr.predict(Xd_test),colnames=['Predicted'])"
   ]
  },
  {
   "cell_type": "markdown",
   "id": "60e18e0e",
   "metadata": {},
   "source": [
    "Simple decision tree classifier:"
   ]
  },
  {
   "cell_type": "code",
   "execution_count": 91,
   "id": "f6cb9541",
   "metadata": {},
   "outputs": [
    {
     "data": {
      "text/plain": [
       "0.7073170731707318"
      ]
     },
     "execution_count": 91,
     "metadata": {},
     "output_type": "execute_result"
    }
   ],
   "source": [
    "f1_score(yd_test,dclf.predict(Xd_test))"
   ]
  },
  {
   "cell_type": "code",
   "execution_count": 92,
   "id": "5bb2a7d0",
   "metadata": {},
   "outputs": [
    {
     "data": {
      "text/html": [
       "<div>\n",
       "<style scoped>\n",
       "    .dataframe tbody tr th:only-of-type {\n",
       "        vertical-align: middle;\n",
       "    }\n",
       "\n",
       "    .dataframe tbody tr th {\n",
       "        vertical-align: top;\n",
       "    }\n",
       "\n",
       "    .dataframe thead th {\n",
       "        text-align: right;\n",
       "    }\n",
       "</style>\n",
       "<table border=\"1\" class=\"dataframe\">\n",
       "  <thead>\n",
       "    <tr style=\"text-align: right;\">\n",
       "      <th>col_0</th>\n",
       "      <th>0</th>\n",
       "      <th>1</th>\n",
       "    </tr>\n",
       "    <tr>\n",
       "      <th>Target</th>\n",
       "      <th></th>\n",
       "      <th></th>\n",
       "    </tr>\n",
       "  </thead>\n",
       "  <tbody>\n",
       "    <tr>\n",
       "      <th>0</th>\n",
       "      <td>397</td>\n",
       "      <td>6</td>\n",
       "    </tr>\n",
       "    <tr>\n",
       "      <th>1</th>\n",
       "      <td>18</td>\n",
       "      <td>29</td>\n",
       "    </tr>\n",
       "  </tbody>\n",
       "</table>\n",
       "</div>"
      ],
      "text/plain": [
       "col_0     0   1\n",
       "Target         \n",
       "0       397   6\n",
       "1        18  29"
      ]
     },
     "execution_count": 92,
     "metadata": {},
     "output_type": "execute_result"
    }
   ],
   "source": [
    "pd.crosstab(yd_test,dclf.predict(Xd_test))"
   ]
  },
  {
   "cell_type": "code",
   "execution_count": 93,
   "id": "5e772544",
   "metadata": {},
   "outputs": [
    {
     "name": "stdout",
     "output_type": "stream",
     "text": [
      "              precision    recall  f1-score   support\n",
      "\n",
      "           0       0.96      0.99      0.97       403\n",
      "           1       0.83      0.62      0.71        47\n",
      "\n",
      "    accuracy                           0.95       450\n",
      "   macro avg       0.89      0.80      0.84       450\n",
      "weighted avg       0.94      0.95      0.94       450\n",
      "\n"
     ]
    }
   ],
   "source": [
    "print(classification_report(yd_test,dclf.predict(Xd_test)))"
   ]
  },
  {
   "cell_type": "markdown",
   "id": "18609373",
   "metadata": {},
   "source": [
    "Let's build a Random Forest:"
   ]
  },
  {
   "cell_type": "code",
   "execution_count": 94,
   "id": "550a1257",
   "metadata": {},
   "outputs": [],
   "source": [
    "digit_rf = RandomForestClassifier(n_estimators=400,max_features='sqrt',random_state=0).fit(Xd_train,yd_train)"
   ]
  },
  {
   "cell_type": "code",
   "execution_count": 95,
   "id": "a7f320d1",
   "metadata": {},
   "outputs": [
    {
     "name": "stdout",
     "output_type": "stream",
     "text": [
      "              precision    recall  f1-score   support\n",
      "\n",
      "           0       0.97      1.00      0.99       403\n",
      "           1       1.00      0.74      0.85        47\n",
      "\n",
      "    accuracy                           0.97       450\n",
      "   macro avg       0.99      0.87      0.92       450\n",
      "weighted avg       0.97      0.97      0.97       450\n",
      "\n"
     ]
    }
   ],
   "source": [
    "print(classification_report(yd_test,digit_rf.predict(Xd_test)))"
   ]
  },
  {
   "cell_type": "code",
   "execution_count": 96,
   "id": "54d20c58",
   "metadata": {},
   "outputs": [
    {
     "data": {
      "text/html": [
       "<div>\n",
       "<style scoped>\n",
       "    .dataframe tbody tr th:only-of-type {\n",
       "        vertical-align: middle;\n",
       "    }\n",
       "\n",
       "    .dataframe tbody tr th {\n",
       "        vertical-align: top;\n",
       "    }\n",
       "\n",
       "    .dataframe thead th {\n",
       "        text-align: right;\n",
       "    }\n",
       "</style>\n",
       "<table border=\"1\" class=\"dataframe\">\n",
       "  <thead>\n",
       "    <tr style=\"text-align: right;\">\n",
       "      <th>col_0</th>\n",
       "      <th>0</th>\n",
       "      <th>1</th>\n",
       "    </tr>\n",
       "    <tr>\n",
       "      <th>Target</th>\n",
       "      <th></th>\n",
       "      <th></th>\n",
       "    </tr>\n",
       "  </thead>\n",
       "  <tbody>\n",
       "    <tr>\n",
       "      <th>0</th>\n",
       "      <td>403</td>\n",
       "      <td>0</td>\n",
       "    </tr>\n",
       "    <tr>\n",
       "      <th>1</th>\n",
       "      <td>12</td>\n",
       "      <td>35</td>\n",
       "    </tr>\n",
       "  </tbody>\n",
       "</table>\n",
       "</div>"
      ],
      "text/plain": [
       "col_0     0   1\n",
       "Target         \n",
       "0       403   0\n",
       "1        12  35"
      ]
     },
     "execution_count": 96,
     "metadata": {},
     "output_type": "execute_result"
    }
   ],
   "source": [
    "pd.crosstab(yd_test,digit_rf.predict(Xd_test))"
   ]
  },
  {
   "cell_type": "markdown",
   "id": "9abd1e82",
   "metadata": {},
   "source": [
    "Boosting classifier:"
   ]
  },
  {
   "cell_type": "code",
   "execution_count": 97,
   "id": "7604af50",
   "metadata": {},
   "outputs": [],
   "source": [
    "digit_boost = GradientBoostingClassifier(n_estimators=400, learning_rate=0.1,max_depth=2, random_state=0).fit(Xd_train, yd_train)"
   ]
  },
  {
   "cell_type": "code",
   "execution_count": 98,
   "id": "cb0b8e73",
   "metadata": {},
   "outputs": [
    {
     "data": {
      "text/html": [
       "<div>\n",
       "<style scoped>\n",
       "    .dataframe tbody tr th:only-of-type {\n",
       "        vertical-align: middle;\n",
       "    }\n",
       "\n",
       "    .dataframe tbody tr th {\n",
       "        vertical-align: top;\n",
       "    }\n",
       "\n",
       "    .dataframe thead th {\n",
       "        text-align: right;\n",
       "    }\n",
       "</style>\n",
       "<table border=\"1\" class=\"dataframe\">\n",
       "  <thead>\n",
       "    <tr style=\"text-align: right;\">\n",
       "      <th>col_0</th>\n",
       "      <th>0</th>\n",
       "      <th>1</th>\n",
       "    </tr>\n",
       "    <tr>\n",
       "      <th>Target</th>\n",
       "      <th></th>\n",
       "      <th></th>\n",
       "    </tr>\n",
       "  </thead>\n",
       "  <tbody>\n",
       "    <tr>\n",
       "      <th>0</th>\n",
       "      <td>403</td>\n",
       "      <td>0</td>\n",
       "    </tr>\n",
       "    <tr>\n",
       "      <th>1</th>\n",
       "      <td>6</td>\n",
       "      <td>41</td>\n",
       "    </tr>\n",
       "  </tbody>\n",
       "</table>\n",
       "</div>"
      ],
      "text/plain": [
       "col_0     0   1\n",
       "Target         \n",
       "0       403   0\n",
       "1         6  41"
      ]
     },
     "execution_count": 98,
     "metadata": {},
     "output_type": "execute_result"
    }
   ],
   "source": [
    "pd.crosstab(yd_test,digit_boost.predict(Xd_test))"
   ]
  },
  {
   "cell_type": "code",
   "execution_count": 99,
   "id": "3b4c6f0a",
   "metadata": {},
   "outputs": [
    {
     "name": "stdout",
     "output_type": "stream",
     "text": [
      "              precision    recall  f1-score   support\n",
      "\n",
      "           0       0.99      1.00      0.99       403\n",
      "           1       1.00      0.87      0.93        47\n",
      "\n",
      "    accuracy                           0.99       450\n",
      "   macro avg       0.99      0.94      0.96       450\n",
      "weighted avg       0.99      0.99      0.99       450\n",
      "\n"
     ]
    }
   ],
   "source": [
    "print(classification_report(yd_test,digit_boost.predict(Xd_test)))"
   ]
  },
  {
   "cell_type": "markdown",
   "id": "a84d36d8",
   "metadata": {},
   "source": [
    "Both (scaled) logistic regression and boosting did very well. Boosting is the best."
   ]
  },
  {
   "cell_type": "markdown",
   "id": "92c2f448",
   "metadata": {},
   "source": [
    "We can look at a few of the images we \"missed\" on."
   ]
  },
  {
   "cell_type": "code",
   "execution_count": 100,
   "id": "d36bf000",
   "metadata": {},
   "outputs": [],
   "source": [
    "misses=np.where(yd_test!=digit_boost.predict(Xd_test))[0]"
   ]
  },
  {
   "cell_type": "code",
   "execution_count": 101,
   "id": "5b5f24aa",
   "metadata": {},
   "outputs": [
    {
     "data": {
      "text/plain": [
       "array([ 90, 115, 130, 211, 312, 429])"
      ]
     },
     "execution_count": 101,
     "metadata": {},
     "output_type": "execute_result"
    }
   ],
   "source": [
    "misses"
   ]
  },
  {
   "cell_type": "markdown",
   "id": "5f90ad0a",
   "metadata": {},
   "source": [
    "All of these were, in fact, 9s, but we predicted NOT."
   ]
  },
  {
   "cell_type": "code",
   "execution_count": 102,
   "id": "2968eed1",
   "metadata": {},
   "outputs": [
    {
     "data": {
      "text/plain": [
       "1412    1\n",
       "361     1\n",
       "37      1\n",
       "19      1\n",
       "1582    1\n",
       "1186    1\n",
       "Name: Target, dtype: int64"
      ]
     },
     "execution_count": 102,
     "metadata": {},
     "output_type": "execute_result"
    }
   ],
   "source": [
    "yd_test.iloc[[90,115,130,211, 312, 429]]"
   ]
  },
  {
   "cell_type": "code",
   "execution_count": 103,
   "id": "d3707828",
   "metadata": {},
   "outputs": [
    {
     "data": {
      "text/plain": [
       "array([0, 0, 0, 0, 0, 0])"
      ]
     },
     "execution_count": 103,
     "metadata": {},
     "output_type": "execute_result"
    }
   ],
   "source": [
    "digit_boost.predict(Xd_test)[[90,115,130,211, 312, 429]]"
   ]
  },
  {
   "cell_type": "markdown",
   "id": "c2a766f9",
   "metadata": {},
   "source": [
    "Let's look at 211:"
   ]
  },
  {
   "cell_type": "code",
   "execution_count": 104,
   "id": "2dc171cd",
   "metadata": {},
   "outputs": [
    {
     "data": {
      "image/png": "[encoded data removed]",
      "text/plain": [
       "<Figure size 720x288 with 1 Axes>"
      ]
     },
     "metadata": {
      "needs_background": "light"
     },
     "output_type": "display_data"
    }
   ],
   "source": [
    "fig, ax = plt.subplots(figsize=(10,4))\n",
    "ax.imshow(Xd_test.iloc[211].values.reshape(8,8), cmap=plt.cm.gray_r,interpolation='nearest')\n",
    "plt.show()"
   ]
  },
  {
   "cell_type": "markdown",
   "id": "c7b18a9a",
   "metadata": {},
   "source": [
    "Does that look nine-y?"
   ]
  },
  {
   "cell_type": "code",
   "execution_count": 105,
   "id": "14c6852f",
   "metadata": {},
   "outputs": [
    {
     "data": {
      "image/png": "[encoded data removed]",
      "text/plain": [
       "<Figure size 720x288 with 1 Axes>"
      ]
     },
     "metadata": {
      "needs_background": "light"
     },
     "output_type": "display_data"
    }
   ],
   "source": [
    "fig, ax = plt.subplots(figsize=(10,4))\n",
    "ax.imshow(Xd_test.iloc[130].values.reshape(8,8), cmap=plt.cm.gray_r,interpolation='nearest')\n",
    "plt.show()"
   ]
  },
  {
   "cell_type": "code",
   "execution_count": 106,
   "id": "073b4a37",
   "metadata": {},
   "outputs": [
    {
     "data": {
      "image/png": "[encoded data removed]",
      "text/plain": [
       "<Figure size 720x288 with 1 Axes>"
      ]
     },
     "metadata": {
      "needs_background": "light"
     },
     "output_type": "display_data"
    }
   ],
   "source": [
    "fig, ax = plt.subplots(figsize=(10,4))\n",
    "ax.imshow(Xd_test.iloc[115].values.reshape(8,8), cmap=plt.cm.gray_r,interpolation='nearest')\n",
    "plt.show()"
   ]
  },
  {
   "cell_type": "markdown",
   "id": "a5b2d3f0",
   "metadata": {},
   "source": [
    "### IMB learn"
   ]
  },
  {
   "cell_type": "markdown",
   "id": "4453939b",
   "metadata": {},
   "source": [
    "First, from the terminal run conda:"
   ]
  },
  {
   "cell_type": "markdown",
   "id": "5bcd2667",
   "metadata": {},
   "source": [
    "```conda install -c conda-forge imbalanced-learn```"
   ]
  },
  {
   "cell_type": "markdown",
   "id": "16d7d242",
   "metadata": {},
   "source": [
    "```imblearn``` should be available in colab."
   ]
  },
  {
   "cell_type": "code",
   "execution_count": 107,
   "id": "fbd66728",
   "metadata": {},
   "outputs": [
    {
     "ename": "ModuleNotFoundError",
     "evalue": "No module named 'imblearn'",
     "output_type": "error",
     "traceback": [
      "\u001b[0;31m---------------------------------------------------------------------------\u001b[0m",
      "\u001b[0;31mModuleNotFoundError\u001b[0m                       Traceback (most recent call last)",
      "\u001b[0;32m<ipython-input-107-f327d60d7013>\u001b[0m in \u001b[0;36m<module>\u001b[0;34m\u001b[0m\n\u001b[0;32m----> 1\u001b[0;31m \u001b[0;32mimport\u001b[0m \u001b[0mimblearn\u001b[0m\u001b[0;34m\u001b[0m\u001b[0;34m\u001b[0m\u001b[0m\n\u001b[0m",
      "\u001b[0;31mModuleNotFoundError\u001b[0m: No module named 'imblearn'"
     ]
    }
   ],
   "source": [
    "import imblearn"
   ]
  },
  {
   "cell_type": "code",
   "execution_count": null,
   "id": "2138f897",
   "metadata": {},
   "outputs": [],
   "source": [
    "from imblearn.over_sampling import SMOTE"
   ]
  },
  {
   "cell_type": "markdown",
   "id": "da37e218",
   "metadata": {},
   "source": [
    "Let's go back to our original imbalanced toy data set:"
   ]
  },
  {
   "cell_type": "code",
   "execution_count": null,
   "id": "6b981fe4",
   "metadata": {},
   "outputs": [],
   "source": [
    "toy.head()"
   ]
  },
  {
   "cell_type": "code",
   "execution_count": null,
   "id": "3fc276dc",
   "metadata": {},
   "outputs": [],
   "source": [
    "print(toy.shape,toy['Target'].sum()/len(toy))"
   ]
  },
  {
   "cell_type": "code",
   "execution_count": null,
   "id": "74170791",
   "metadata": {},
   "outputs": [],
   "source": [
    "oversample = SMOTE()\n",
    "Xs, ys = oversample.fit_resample(X_train, y_train)"
   ]
  },
  {
   "cell_type": "code",
   "execution_count": null,
   "id": "4dac23d9",
   "metadata": {},
   "outputs": [],
   "source": [
    "np.sum(ys)/len(ys)"
   ]
  },
  {
   "cell_type": "markdown",
   "id": "c5bd518b",
   "metadata": {},
   "source": [
    "Smote creates synthetic positive class observations to make classes balanced. It uses a *knn* approach: Create a new observation on the line between $x$ and one of its 3 nearest neighbors."
   ]
  },
  {
   "cell_type": "code",
   "execution_count": null,
   "id": "a9e36625",
   "metadata": {},
   "outputs": [],
   "source": [
    "print(X_train.shape, Xs.shape)"
   ]
  },
  {
   "cell_type": "code",
   "execution_count": null,
   "id": "a9d78a95",
   "metadata": {},
   "outputs": [],
   "source": [
    "rfs = RandomForestClassifier(n_estimators=400,max_features='sqrt',random_state=0).fit(Xs,ys)"
   ]
  },
  {
   "cell_type": "code",
   "execution_count": null,
   "id": "184d25e3",
   "metadata": {},
   "outputs": [],
   "source": [
    "f1_score(y_test,rfs.predict(X_test))"
   ]
  },
  {
   "cell_type": "code",
   "execution_count": null,
   "id": "46c26f76",
   "metadata": {},
   "outputs": [],
   "source": [
    "bs_clf = GradientBoostingClassifier(n_estimators=600,max_depth=3,learning_rate=0.1,random_state=0).fit(Xs,ys)"
   ]
  },
  {
   "cell_type": "code",
   "execution_count": null,
   "id": "9cce0fa6",
   "metadata": {},
   "outputs": [],
   "source": [
    "f1_score(y_test,bs_clf.predict(X_test))"
   ]
  },
  {
   "cell_type": "markdown",
   "id": "224ade68",
   "metadata": {},
   "source": [
    "Considerable improvement"
   ]
  },
  {
   "cell_type": "code",
   "execution_count": null,
   "id": "91ac6757",
   "metadata": {},
   "outputs": [],
   "source": [
    "pd.crosstab(y_test,bs_clf.predict(X_test))"
   ]
  },
  {
   "cell_type": "code",
   "execution_count": null,
   "id": "7b611103",
   "metadata": {},
   "outputs": [],
   "source": [
    "print(classification_report(y_test,bs_clf.predict(X_test)))"
   ]
  },
  {
   "cell_type": "code",
   "execution_count": null,
   "id": "dcc8ea0c",
   "metadata": {},
   "outputs": [],
   "source": [
    "bs_clf_no_os = GradientBoostingClassifier(n_estimators=600,max_depth=3,learning_rate=0.1,random_state=0).fit(X_train,y_train)"
   ]
  },
  {
   "cell_type": "code",
   "execution_count": null,
   "id": "cb99a1ca",
   "metadata": {},
   "outputs": [],
   "source": [
    "f1_score(y_test,bs_clf_no_os.predict(X_test))"
   ]
  },
  {
   "cell_type": "markdown",
   "id": "b22111f9",
   "metadata": {},
   "source": [
    "Oversampling gave improvement over a similar model w/o OS."
   ]
  },
  {
   "cell_type": "code",
   "execution_count": null,
   "id": "0a832675",
   "metadata": {},
   "outputs": [],
   "source": [
    "pd.crosstab(y_test,bs_clf_no_os.predict(X_test))"
   ]
  },
  {
   "cell_type": "code",
   "execution_count": null,
   "id": "54d04e6d",
   "metadata": {},
   "outputs": [],
   "source": [
    "print(classification_report(y_test,bs_clf_no_os.predict(X_test)))"
   ]
  },
  {
   "cell_type": "markdown",
   "id": "ec7b576c",
   "metadata": {},
   "source": [
    "### A real dataset with serious class imbalance"
   ]
  },
  {
   "cell_type": "markdown",
   "id": "786db2f3",
   "metadata": {},
   "source": [
    "Kinda big too so proceed with caution..."
   ]
  },
  {
   "cell_type": "code",
   "execution_count": null,
   "id": "parallel-equity",
   "metadata": {},
   "outputs": [],
   "source": [
    "cc=pd.read_csv('creditcard.csv')"
   ]
  },
  {
   "cell_type": "code",
   "execution_count": null,
   "id": "announced-respect",
   "metadata": {},
   "outputs": [],
   "source": [
    "cc.shape"
   ]
  },
  {
   "cell_type": "code",
   "execution_count": null,
   "id": "independent-athens",
   "metadata": {
    "scrolled": true
   },
   "outputs": [],
   "source": [
    "cc.columns"
   ]
  },
  {
   "cell_type": "code",
   "execution_count": null,
   "id": "f51e99ed",
   "metadata": {},
   "outputs": [],
   "source": [
    "cc.head()"
   ]
  },
  {
   "cell_type": "code",
   "execution_count": null,
   "id": "handled-enlargement",
   "metadata": {},
   "outputs": [],
   "source": [
    "cc.Class.sum()"
   ]
  },
  {
   "cell_type": "code",
   "execution_count": null,
   "id": "nearby-driving",
   "metadata": {},
   "outputs": [],
   "source": [
    "cc.Class.sum()/cc.shape[0]"
   ]
  },
  {
   "cell_type": "code",
   "execution_count": null,
   "id": "secret-anniversary",
   "metadata": {},
   "outputs": [],
   "source": [
    "np.round(cc.describe(),2)"
   ]
  },
  {
   "cell_type": "code",
   "execution_count": null,
   "id": "embedded-johnson",
   "metadata": {},
   "outputs": [],
   "source": [
    "Xc=cc.drop('Class',axis=1)\n",
    "yc=cc['Class']"
   ]
  },
  {
   "cell_type": "code",
   "execution_count": null,
   "id": "surgical-nashville",
   "metadata": {},
   "outputs": [],
   "source": [
    "Xc=Xc.drop('Time',axis=1)"
   ]
  },
  {
   "cell_type": "code",
   "execution_count": null,
   "id": "coordinate-qualification",
   "metadata": {},
   "outputs": [],
   "source": [
    "Xc_train, Xc_test, yc_train, yc_test = train_test_split(Xc,yc,test_size=0.4, random_state=10)"
   ]
  },
  {
   "cell_type": "code",
   "execution_count": null,
   "id": "becoming-crime",
   "metadata": {},
   "outputs": [],
   "source": [
    "yc_test.sum()"
   ]
  },
  {
   "cell_type": "code",
   "execution_count": null,
   "id": "attached-diagnosis",
   "metadata": {},
   "outputs": [],
   "source": [
    "yc_train.sum()"
   ]
  },
  {
   "cell_type": "code",
   "execution_count": null,
   "id": "ee8f8b6f",
   "metadata": {},
   "outputs": [],
   "source": [
    "#num_trees=[10,20]"
   ]
  },
  {
   "cell_type": "code",
   "execution_count": null,
   "id": "7e3c3cc1",
   "metadata": {},
   "outputs": [],
   "source": [
    "Xc_train.shape"
   ]
  },
  {
   "cell_type": "code",
   "execution_count": null,
   "id": "b55d1b46",
   "metadata": {},
   "outputs": [],
   "source": [
    "scaler=StandardScaler()\n",
    "Xc_train_scaled=scaler.fit_transform(Xc_train)\n",
    "Xc_test_scaled=scaler.fit_transform(Xc_test)"
   ]
  },
  {
   "cell_type": "code",
   "execution_count": null,
   "id": "26c40512",
   "metadata": {},
   "outputs": [],
   "source": [
    "lrc=LogisticRegression().fit(Xc_train_scaled,yc_train)"
   ]
  },
  {
   "cell_type": "code",
   "execution_count": null,
   "id": "a39b5518",
   "metadata": {},
   "outputs": [],
   "source": [
    "f1_score(yc_test,lrc.predict(Xc_test_scaled))"
   ]
  },
  {
   "cell_type": "code",
   "execution_count": null,
   "id": "e12d78be",
   "metadata": {},
   "outputs": [],
   "source": [
    "unsc_lrc=LogisticRegression().fit(Xc_train,yc_train)"
   ]
  },
  {
   "cell_type": "code",
   "execution_count": null,
   "id": "715bff1f",
   "metadata": {},
   "outputs": [],
   "source": [
    "dtc=DecisionTreeClassifier(max_depth=4,random_state=0).fit(Xc_train,yc_train)"
   ]
  },
  {
   "cell_type": "code",
   "execution_count": null,
   "id": "8ac7f11d",
   "metadata": {},
   "outputs": [],
   "source": [
    "f1_score(yc_test,dtc.predict(Xc_test))"
   ]
  },
  {
   "cell_type": "code",
   "execution_count": null,
   "id": "76abb6c1",
   "metadata": {},
   "outputs": [],
   "source": [
    "dtcbig=DecisionTreeClassifier(random_state=0).fit(Xc_train,yc_train)"
   ]
  },
  {
   "cell_type": "code",
   "execution_count": null,
   "id": "0466a600",
   "metadata": {},
   "outputs": [],
   "source": [
    "f1_score(yc_test,dtcbig.predict(Xc_test))"
   ]
  },
  {
   "cell_type": "code",
   "execution_count": null,
   "id": "d0befcff",
   "metadata": {},
   "outputs": [],
   "source": [
    "##### Warning: Below takes crazy long! Be careful!!!\n",
    "#If you did want to validate some paraeter choices like number of trees or max-depth etc."
   ]
  },
  {
   "cell_type": "markdown",
   "id": "ffc93586",
   "metadata": {},
   "source": [
    "```tqdm``` around the iterator will give a progress bar to show progress through the loop."
   ]
  },
  {
   "cell_type": "code",
   "execution_count": null,
   "id": "f146f07b",
   "metadata": {},
   "outputs": [],
   "source": [
    "#from tqdm import tqdm\n",
    "#cvres=[]\n",
    "#for num in tqdm(num_trees):\n",
    "#    rf_cv_clf = RandomForestClassifier(n_estimators = num, max_features='sqrt',max_depth=4,random_state=0)\n",
    "#    cvclf = cross_validate(rf_cv_clf, Xc_train, yc_train, cv=5, scoring='f1')\n",
    "#    cvres.append(cvclf['test_score'].mean())"
   ]
  },
  {
   "cell_type": "code",
   "execution_count": null,
   "id": "c0ddd7fe",
   "metadata": {},
   "outputs": [],
   "source": [
    "rfc=RandomForestClassifier(n_estimators = 150, max_features='sqrt',max_depth=4,random_state=0).fit(Xc_train,yc_train)"
   ]
  },
  {
   "cell_type": "code",
   "execution_count": null,
   "id": "86ebec07",
   "metadata": {},
   "outputs": [],
   "source": [
    "f1_score(yc_test,rfc.predict(Xc_test))"
   ]
  },
  {
   "cell_type": "code",
   "execution_count": null,
   "id": "6b9a6d6a",
   "metadata": {},
   "outputs": [],
   "source": [
    "print(classification_report(yc_test,rfc.predict(Xc_test)))"
   ]
  },
  {
   "cell_type": "markdown",
   "id": "cd73e57a",
   "metadata": {},
   "source": [
    "* FP: we say FRAUD and it's not \n",
    "* FN: we say NO FRAUD and it is fraud"
   ]
  },
  {
   "cell_type": "code",
   "execution_count": null,
   "id": "812bce59",
   "metadata": {},
   "outputs": [],
   "source": [
    "pd.crosstab(yc_test,rfc.predict(Xc_test),colnames=[\"Prediction\"])"
   ]
  },
  {
   "cell_type": "markdown",
   "id": "84992eca",
   "metadata": {},
   "source": [
    "Possible that we'd prefer to identify a few more of the False Negatives."
   ]
  },
  {
   "cell_type": "code",
   "execution_count": null,
   "id": "cf133dbb",
   "metadata": {},
   "outputs": [],
   "source": [
    "new_rfc_pred = rfc.predict_proba(Xc_test)[:,1] > .25"
   ]
  },
  {
   "cell_type": "code",
   "execution_count": null,
   "id": "4fa90c98",
   "metadata": {},
   "outputs": [],
   "source": [
    "pd.crosstab(yc_test,new_rfc_pred,colnames=[\"Predicted\"])"
   ]
  },
  {
   "cell_type": "code",
   "execution_count": null,
   "id": "396a3983",
   "metadata": {},
   "outputs": [],
   "source": [
    "f1_score(yc_test,new_rfc_pred)"
   ]
  },
  {
   "cell_type": "markdown",
   "id": "d9a8ed16",
   "metadata": {},
   "source": [
    "That actually *improved* the f1 score."
   ]
  },
  {
   "cell_type": "markdown",
   "id": "5e8af6a1",
   "metadata": {},
   "source": [
    "We can look at the performance of the classifier for various values of the prediction threshold all at once using precision recall curves."
   ]
  },
  {
   "cell_type": "code",
   "execution_count": null,
   "id": "eea83e1c",
   "metadata": {},
   "outputs": [],
   "source": [
    "from sklearn.metrics import precision_recall_curve"
   ]
  },
  {
   "cell_type": "code",
   "execution_count": null,
   "id": "442a916f",
   "metadata": {},
   "outputs": [],
   "source": [
    "precision, recall, thresholds = precision_recall_curve(yc_test,rfc.predict_proba(Xc_test)[:,1])"
   ]
  },
  {
   "cell_type": "code",
   "execution_count": null,
   "id": "d860ed1f",
   "metadata": {},
   "outputs": [],
   "source": [
    "plt.figure(figsize=(8,6))\n",
    "plt.plot(precision,recall,label='rf')\n",
    "plt.xlabel('Precision')\n",
    "plt.ylabel('Recall')\n",
    "plt.legend(['rf'],loc='best')\n",
    "plt.show()"
   ]
  },
  {
   "cell_type": "markdown",
   "id": "674ab41c",
   "metadata": {},
   "source": [
    "Each point on the curve gives Precision and Recall for a particular threshold value."
   ]
  },
  {
   "cell_type": "markdown",
   "id": "ce50280b",
   "metadata": {},
   "source": [
    "One way to get high Recall (identify lots of true 1s) is to predict lots of 1s. "
   ]
  },
  {
   "cell_type": "markdown",
   "id": "84a081db",
   "metadata": {},
   "source": [
    "What's wrong with that? Lot's of false positives, i.e., low precision."
   ]
  },
  {
   "cell_type": "code",
   "execution_count": null,
   "id": "76f39aae",
   "metadata": {},
   "outputs": [],
   "source": [
    "max(thresholds)"
   ]
  },
  {
   "cell_type": "markdown",
   "id": "d03b63dc",
   "metadata": {},
   "source": [
    "Let's pick a threshold close to 0.5:"
   ]
  },
  {
   "cell_type": "code",
   "execution_count": null,
   "id": "415925b3",
   "metadata": {},
   "outputs": [],
   "source": [
    "pt=np.argmin(np.abs(thresholds-0.5))"
   ]
  },
  {
   "cell_type": "code",
   "execution_count": null,
   "id": "c35a9de6",
   "metadata": {},
   "outputs": [],
   "source": [
    "print(pt,\":\",thresholds[pt])"
   ]
  },
  {
   "cell_type": "markdown",
   "id": "6b13abbb",
   "metadata": {},
   "source": [
    "P and R at that point:"
   ]
  },
  {
   "cell_type": "code",
   "execution_count": null,
   "id": "4ea79ddb",
   "metadata": {},
   "outputs": [],
   "source": [
    "print(np.round(precision[pt],3),np.round(recall[pt],3))"
   ]
  },
  {
   "cell_type": "code",
   "execution_count": null,
   "id": "a6e07828",
   "metadata": {},
   "outputs": [],
   "source": [
    "plt.figure(figsize=(8,6))\n",
    "plt.plot(precision,recall,label='rf')\n",
    "plt.plot(precision[pt],recall[pt],'^',c='k',markersize=10)\n",
    "plt.xlabel('Precision')\n",
    "plt.ylabel('Recall')\n",
    "plt.show()"
   ]
  },
  {
   "cell_type": "markdown",
   "id": "2d979d8b",
   "metadata": {},
   "source": [
    "Let's choose a lower threshold... so make it easier to predict Class = 1"
   ]
  },
  {
   "cell_type": "markdown",
   "id": "0245a3d7",
   "metadata": {},
   "source": [
    "What would we expect in terms of FP, FN?"
   ]
  },
  {
   "cell_type": "code",
   "execution_count": null,
   "id": "489d1aff",
   "metadata": {},
   "outputs": [],
   "source": [
    "newpt=np.argmin(np.abs(thresholds-0.25))"
   ]
  },
  {
   "cell_type": "code",
   "execution_count": null,
   "id": "1820db77",
   "metadata": {},
   "outputs": [],
   "source": [
    "plt.figure(figsize=(8,6))\n",
    "plt.plot(precision,recall,label='rf')\n",
    "plt.plot(precision[pt],recall[pt],'^',c='k',markersize=10)\n",
    "plt.plot(precision[newpt],recall[newpt],'o',c='b',markersize=10)\n",
    "plt.xlabel('Precision')\n",
    "plt.ylabel('Recall')\n",
    "plt.show()"
   ]
  },
  {
   "cell_type": "code",
   "execution_count": null,
   "id": "45ab7f15",
   "metadata": {},
   "outputs": [],
   "source": [
    "print(np.round(precision[newpt],3),\":\",np.round(recall[newpt],3))"
   ]
  },
  {
   "cell_type": "code",
   "execution_count": null,
   "id": "270f6c9f",
   "metadata": {},
   "outputs": [],
   "source": [
    "from scipy.stats import hmean"
   ]
  },
  {
   "cell_type": "code",
   "execution_count": null,
   "id": "a5f5c86b",
   "metadata": {},
   "outputs": [],
   "source": [
    "hmean([precision[newpt],recall[newpt]])"
   ]
  },
  {
   "cell_type": "code",
   "execution_count": null,
   "id": "ca12b6a6",
   "metadata": {},
   "outputs": [],
   "source": [
    "hmean([precision[pt],recall[pt]])"
   ]
  },
  {
   "cell_type": "markdown",
   "id": "23771397",
   "metadata": {},
   "source": [
    "The ROC curve is another window into (basically) the same idea. It plots Recall against the FP rate."
   ]
  },
  {
   "cell_type": "code",
   "execution_count": null,
   "id": "a143913d",
   "metadata": {},
   "outputs": [],
   "source": [
    "from sklearn.metrics import roc_curve"
   ]
  },
  {
   "cell_type": "code",
   "execution_count": null,
   "id": "37cb29dc",
   "metadata": {},
   "outputs": [],
   "source": [
    "fpr, tpr, thresholds = roc_curve(yc_test,rfc.predict_proba(Xc_test)[:,1])"
   ]
  },
  {
   "cell_type": "code",
   "execution_count": null,
   "id": "19e32338",
   "metadata": {},
   "outputs": [],
   "source": [
    "pt=np.argmin(np.abs(thresholds-0.5))\n",
    "newpt=np.argmin(np.abs(thresholds-0.25))\n",
    "thirdpt=np.argmin(np.abs(thresholds-0.0001))"
   ]
  },
  {
   "cell_type": "code",
   "execution_count": null,
   "id": "7e377973",
   "metadata": {},
   "outputs": [],
   "source": [
    "plt.figure(figsize=(8,6))\n",
    "plt.plot(fpr,tpr,label='rf')\n",
    "plt.plot(fpr[pt],tpr[pt],'^',c='k',markersize=10)\n",
    "plt.plot(fpr[newpt],tpr[newpt],'o',c='b',markersize=10)\n",
    "plt.plot(fpr[thirdpt],tpr[thirdpt],'*',c='r',markersize=10)\n",
    "plt.xlabel('FPR')\n",
    "plt.ylabel('TPR (Recall)')\n",
    "plt.show()"
   ]
  },
  {
   "cell_type": "markdown",
   "id": "e2d9a3d1",
   "metadata": {},
   "source": [
    "As we increase Recall (our ability to identify true 1s we pay the price of more FP)"
   ]
  },
  {
   "cell_type": "markdown",
   "id": "2afa9497",
   "metadata": {},
   "source": [
    "An overall metric of teh quality of the classifier is Area Under the ROC Curve (AUC). A good classifier will have a ROC curve that stays close to the y-axis and have high recall without increasing the FP rate (much)... so AUC close to 1."
   ]
  },
  {
   "cell_type": "code",
   "execution_count": null,
   "id": "431dee30",
   "metadata": {},
   "outputs": [],
   "source": [
    "from sklearn.metrics import average_precision_score, roc_auc_score"
   ]
  },
  {
   "cell_type": "code",
   "execution_count": null,
   "id": "b565aa4f",
   "metadata": {},
   "outputs": [],
   "source": [
    "roc_auc_score(yc_test,rfc.predict_proba(Xc_test)[:,1])"
   ]
  },
  {
   "cell_type": "markdown",
   "id": "12932856",
   "metadata": {},
   "source": [
    "Avg precision score: Avg Precision at each threshold, weighted by increase in Recall over previous threshold"
   ]
  },
  {
   "cell_type": "code",
   "execution_count": null,
   "id": "2308e5e0",
   "metadata": {},
   "outputs": [],
   "source": [
    "average_precision_score(yc_test,rfc.predict_proba(Xc_test)[:,1])"
   ]
  },
  {
   "cell_type": "markdown",
   "id": "2edf9af8",
   "metadata": {},
   "source": [
    "Compare RF to LR"
   ]
  },
  {
   "cell_type": "code",
   "execution_count": null,
   "id": "7d37c114",
   "metadata": {},
   "outputs": [],
   "source": [
    "lrfpr, lrtpr, lrthresholds = roc_curve(yc_test,lrc.predict_proba(Xc_test_scaled)[:,1])"
   ]
  },
  {
   "cell_type": "code",
   "execution_count": null,
   "id": "7d939e87",
   "metadata": {},
   "outputs": [],
   "source": [
    "plt.figure(figsize=(8,6))\n",
    "plt.plot(fpr,tpr,label='rf')\n",
    "plt.plot(lrfpr,lrtpr,label='lr')\n",
    "plt.plot(fpr[pt],tpr[pt],'^',c='k',markersize=10)\n",
    "plt.plot(fpr[newpt],tpr[newpt],'o',c='b',markersize=10)\n",
    "plt.plot(fpr[thirdpt],tpr[thirdpt],'*',c='r',markersize=10)\n",
    "plt.xlabel('FPR')\n",
    "plt.ylabel('TPR (Recall)')\n",
    "plt.legend(['rf','lr'],loc='best')\n",
    "plt.show()"
   ]
  },
  {
   "cell_type": "code",
   "execution_count": null,
   "id": "ecff697d",
   "metadata": {},
   "outputs": [],
   "source": [
    "lr_precision, lr_recall, thresholds = precision_recall_curve(yc_test,lrc.predict_proba(Xc_test_scaled)[:,1])"
   ]
  },
  {
   "cell_type": "code",
   "execution_count": null,
   "id": "e7b8e400",
   "metadata": {},
   "outputs": [],
   "source": [
    "plt.figure(figsize=(8,6))\n",
    "plt.plot(precision,recall,label='rf')\n",
    "plt.plot(lr_precision,lr_recall,label='lr')\n",
    "plt.xlabel('Precision')\n",
    "plt.ylabel('Recall')\n",
    "plt.legend(loc='best')\n",
    "plt.show()"
   ]
  },
  {
   "cell_type": "markdown",
   "id": "96ce0f2b",
   "metadata": {},
   "source": [
    "## Sandbox"
   ]
  },
  {
   "cell_type": "markdown",
   "id": "c812dac4",
   "metadata": {},
   "source": [
    "##### CreditCard dataset:"
   ]
  },
  {
   "cell_type": "code",
   "execution_count": null,
   "id": "ebc7ab70",
   "metadata": {},
   "outputs": [],
   "source": [
    "cc.shape"
   ]
  },
  {
   "cell_type": "markdown",
   "id": "1b582a98",
   "metadata": {},
   "source": [
    "* Try a boosting model and see how it does. Validation will take a long time so maybe try 150 trees, learning rate of 0.1, and max depth = 3.\n",
    "* What seems to be an optimal threshold value to use in the scaled logistic regression model? How are you evaluating what optimal means?\n",
    "* Also try knn and SMOTE on the credit card data."
   ]
  },
  {
   "cell_type": "markdown",
   "id": "cf395a07",
   "metadata": {},
   "source": [
    "Another (usually worse approach) is downsampling: Make cc smaller but keep all the 1s: (usually worse because we're throwing information away)"
   ]
  },
  {
   "cell_type": "code",
   "execution_count": null,
   "id": "5cbe22ce",
   "metadata": {},
   "outputs": [],
   "source": [
    "cc1=cc[cc['Class']==1]\n",
    "cc0=cc[cc['Class']==0]"
   ]
  },
  {
   "cell_type": "code",
   "execution_count": null,
   "id": "be5b0222",
   "metadata": {},
   "outputs": [],
   "source": [
    "ccs=cc0.sample(frac=.1)"
   ]
  },
  {
   "cell_type": "code",
   "execution_count": null,
   "id": "8160157b",
   "metadata": {},
   "outputs": [],
   "source": [
    "ccs.shape"
   ]
  },
  {
   "cell_type": "code",
   "execution_count": null,
   "id": "765ea2e6",
   "metadata": {},
   "outputs": [],
   "source": [
    "new_cc=pd.concat([ccs,cc1])\n",
    "new_cc.shape"
   ]
  },
  {
   "cell_type": "code",
   "execution_count": null,
   "id": "92f71c70",
   "metadata": {},
   "outputs": [],
   "source": [
    "new_cc['Class'].sum()/new_cc.shape[0]"
   ]
  },
  {
   "cell_type": "markdown",
   "id": "4a0050c8",
   "metadata": {},
   "source": [
    "Class imbalance now closer to 1.7%"
   ]
  },
  {
   "cell_type": "code",
   "execution_count": null,
   "id": "f091cab1",
   "metadata": {},
   "outputs": [],
   "source": [
    "new_cc.reset_index(inplace=True,drop=True)"
   ]
  },
  {
   "cell_type": "code",
   "execution_count": null,
   "id": "c664bc29",
   "metadata": {},
   "outputs": [],
   "source": [
    "new_cc.head()"
   ]
  },
  {
   "cell_type": "markdown",
   "id": "f18b6acc",
   "metadata": {},
   "source": [
    "#### Digits"
   ]
  },
  {
   "cell_type": "markdown",
   "id": "6fc763ba",
   "metadata": {},
   "source": [
    "Above we treated the digits data as a binary classification problem: 9 or Other. Now try leaving it as a full 10 Class problem. That is, try to correctly classify each digit as 0,1,2,3,4,5,6,7,8, or 9. Use logistic regression, random forest, boosting, knn. What does the classification report look like in thuis case? "
   ]
  },
  {
   "cell_type": "markdown",
   "id": "0888df30",
   "metadata": {},
   "source": [
    "#### Another synthetioc dataset:"
   ]
  },
  {
   "cell_type": "markdown",
   "id": "f1a7618b",
   "metadata": {},
   "source": [
    "Play around with this and see how well you can do with classification."
   ]
  },
  {
   "cell_type": "code",
   "execution_count": null,
   "id": "469753f2",
   "metadata": {},
   "outputs": [],
   "source": [
    "from sklearn import datasets"
   ]
  },
  {
   "cell_type": "code",
   "execution_count": null,
   "id": "e6219036",
   "metadata": {},
   "outputs": [],
   "source": [
    "X,y=datasets.make_classification(n_samples=1000, n_features=20, n_informative=7, n_redundant=5, n_classes=2, n_clusters_per_class=2, weights=[0.94,0.6], flip_y=0.07, class_sep=1.1, hypercube=False, shift=0.0, scale=1.0, shuffle=True, random_state=10)"
   ]
  },
  {
   "cell_type": "code",
   "execution_count": null,
   "id": "e3839281",
   "metadata": {},
   "outputs": [],
   "source": [
    "fr=pd.DataFrame(X)"
   ]
  },
  {
   "cell_type": "code",
   "execution_count": null,
   "id": "98ec1e6c",
   "metadata": {},
   "outputs": [],
   "source": [
    "fr.head()"
   ]
  },
  {
   "cell_type": "code",
   "execution_count": null,
   "id": "52673ee1",
   "metadata": {},
   "outputs": [],
   "source": [
    "y[0:10]"
   ]
  }
 ],
 "metadata": {
  "kernelspec": {
   "display_name": "Python 3",
   "language": "python",
   "name": "python3"
  },
  "language_info": {
   "codemirror_mode": {
    "name": "ipython",
    "version": 3
   },
   "file_extension": ".py",
   "mimetype": "text/x-python",
   "name": "python",
   "nbconvert_exporter": "python",
   "pygments_lexer": "ipython3",
   "version": "3.9.5"
  }
 },
 "nbformat": 4,
 "nbformat_minor": 5
}
