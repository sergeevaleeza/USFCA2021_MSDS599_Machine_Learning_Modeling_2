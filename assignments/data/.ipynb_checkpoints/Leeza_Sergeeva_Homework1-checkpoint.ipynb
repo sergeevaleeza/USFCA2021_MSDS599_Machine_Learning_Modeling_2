{
 "cells": [
  {
   "cell_type": "markdown",
   "id": "5cf1addc",
   "metadata": {},
   "source": [
    "Leeza Sergeeva\n",
    "3/28/2022\n",
    "Homework 1"
   ]
  },
  {
   "cell_type": "code",
   "execution_count": 1,
   "id": "2bc081de",
   "metadata": {},
   "outputs": [],
   "source": [
    "import pandas as pd\n",
    "import numpy as np\n",
    "import matplotlib.pyplot as plt\n",
    "from statsmodels.formula.api import ols\n",
    "import seaborn as sns"
   ]
  },
  {
   "cell_type": "markdown",
   "id": "2c7ebcdf",
   "metadata": {},
   "source": [
    "Use the examples in the notebook from class to do the following:\n",
    "\n",
    "1. Fit a logistic regression classifier. How accurate is your model at predicting the correct class? Is the model underfitting or overfitting the data? Explain."
   ]
  },
  {
   "cell_type": "code",
   "execution_count": null,
   "id": "ad2e39c6",
   "metadata": {},
   "outputs": [],
   "source": [
    "mar=pd.read_csv('data/.csv')\n",
    "mar.head()"
   ]
  },
  {
   "cell_type": "markdown",
   "id": "cdcfd919",
   "metadata": {},
   "source": [
    "2. Use cross validation to fit logistic regression models whose decision boundaries are polynomial, with degrees 1,2,3,4, and 5. Which model would you choose based on the cross validation scores (i.e., the average model accuracy over the 5 folds)?\n",
    "(In 1 and 2, be sure to evaluate your models on test data that the classifier hasn't seen!)"
   ]
  },
  {
   "cell_type": "code",
   "execution_count": null,
   "id": "99537bc8",
   "metadata": {},
   "outputs": [],
   "source": []
  },
  {
   "cell_type": "markdown",
   "id": "0bed1de7",
   "metadata": {},
   "source": [
    "3. Do you think your classifier could be significantly improved by a more flexible method? Why or why not?"
   ]
  },
  {
   "cell_type": "code",
   "execution_count": null,
   "id": "74f81308",
   "metadata": {},
   "outputs": [],
   "source": []
  }
 ],
 "metadata": {
  "kernelspec": {
   "display_name": "Python 3",
   "language": "python",
   "name": "python3"
  },
  "language_info": {
   "codemirror_mode": {
    "name": "ipython",
    "version": 3
   },
   "file_extension": ".py",
   "mimetype": "text/x-python",
   "name": "python",
   "nbconvert_exporter": "python",
   "pygments_lexer": "ipython3",
   "version": "3.9.5"
  }
 },
 "nbformat": 4,
 "nbformat_minor": 5
}
